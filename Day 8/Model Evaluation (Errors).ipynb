{
 "cells": [
  {
   "cell_type": "code",
   "execution_count": 18,
   "metadata": {},
   "outputs": [],
   "source": [
    "import pandas as pd\n",
    "import numpy as np \n",
    "import matplotlib.pyplot as plt \n",
    "import seaborn as sns \n"
   ]
  },
  {
   "cell_type": "code",
   "execution_count": 19,
   "metadata": {},
   "outputs": [
    {
     "data": {
      "text/html": [
       "<div>\n",
       "<style scoped>\n",
       "    .dataframe tbody tr th:only-of-type {\n",
       "        vertical-align: middle;\n",
       "    }\n",
       "\n",
       "    .dataframe tbody tr th {\n",
       "        vertical-align: top;\n",
       "    }\n",
       "\n",
       "    .dataframe thead th {\n",
       "        text-align: right;\n",
       "    }\n",
       "</style>\n",
       "<table border=\"1\" class=\"dataframe\">\n",
       "  <thead>\n",
       "    <tr style=\"text-align: right;\">\n",
       "      <th></th>\n",
       "      <th>tv</th>\n",
       "      <th>radio</th>\n",
       "      <th>newspaper</th>\n",
       "      <th>sales</th>\n",
       "    </tr>\n",
       "  </thead>\n",
       "  <tbody>\n",
       "    <tr>\n",
       "      <th>0</th>\n",
       "      <td>230.1</td>\n",
       "      <td>37.8</td>\n",
       "      <td>69.2</td>\n",
       "      <td>22.1</td>\n",
       "    </tr>\n",
       "    <tr>\n",
       "      <th>1</th>\n",
       "      <td>44.5</td>\n",
       "      <td>39.3</td>\n",
       "      <td>45.1</td>\n",
       "      <td>10.4</td>\n",
       "    </tr>\n",
       "    <tr>\n",
       "      <th>2</th>\n",
       "      <td>17.2</td>\n",
       "      <td>45.9</td>\n",
       "      <td>69.3</td>\n",
       "      <td>9.3</td>\n",
       "    </tr>\n",
       "    <tr>\n",
       "      <th>3</th>\n",
       "      <td>151.5</td>\n",
       "      <td>41.3</td>\n",
       "      <td>58.5</td>\n",
       "      <td>18.5</td>\n",
       "    </tr>\n",
       "    <tr>\n",
       "      <th>4</th>\n",
       "      <td>180.8</td>\n",
       "      <td>10.8</td>\n",
       "      <td>58.4</td>\n",
       "      <td>12.9</td>\n",
       "    </tr>\n",
       "    <tr>\n",
       "      <th>...</th>\n",
       "      <td>...</td>\n",
       "      <td>...</td>\n",
       "      <td>...</td>\n",
       "      <td>...</td>\n",
       "    </tr>\n",
       "    <tr>\n",
       "      <th>195</th>\n",
       "      <td>38.2</td>\n",
       "      <td>3.7</td>\n",
       "      <td>13.8</td>\n",
       "      <td>7.6</td>\n",
       "    </tr>\n",
       "    <tr>\n",
       "      <th>196</th>\n",
       "      <td>94.2</td>\n",
       "      <td>4.9</td>\n",
       "      <td>8.1</td>\n",
       "      <td>9.7</td>\n",
       "    </tr>\n",
       "    <tr>\n",
       "      <th>197</th>\n",
       "      <td>177.0</td>\n",
       "      <td>9.3</td>\n",
       "      <td>6.4</td>\n",
       "      <td>12.8</td>\n",
       "    </tr>\n",
       "    <tr>\n",
       "      <th>198</th>\n",
       "      <td>283.6</td>\n",
       "      <td>42.0</td>\n",
       "      <td>66.2</td>\n",
       "      <td>25.5</td>\n",
       "    </tr>\n",
       "    <tr>\n",
       "      <th>199</th>\n",
       "      <td>232.1</td>\n",
       "      <td>8.6</td>\n",
       "      <td>8.7</td>\n",
       "      <td>13.4</td>\n",
       "    </tr>\n",
       "  </tbody>\n",
       "</table>\n",
       "<p>200 rows × 4 columns</p>\n",
       "</div>"
      ],
      "text/plain": [
       "        tv  radio  newspaper  sales\n",
       "0    230.1   37.8       69.2   22.1\n",
       "1     44.5   39.3       45.1   10.4\n",
       "2     17.2   45.9       69.3    9.3\n",
       "3    151.5   41.3       58.5   18.5\n",
       "4    180.8   10.8       58.4   12.9\n",
       "..     ...    ...        ...    ...\n",
       "195   38.2    3.7       13.8    7.6\n",
       "196   94.2    4.9        8.1    9.7\n",
       "197  177.0    9.3        6.4   12.8\n",
       "198  283.6   42.0       66.2   25.5\n",
       "199  232.1    8.6        8.7   13.4\n",
       "\n",
       "[200 rows x 4 columns]"
      ]
     },
     "execution_count": 19,
     "metadata": {},
     "output_type": "execute_result"
    }
   ],
   "source": [
    "dataset =pd.read_csv(r\"D:\\DBDA\\Adavance Stats\\Day 8\\advertising-sales.csv\")\n",
    "dataset"
   ]
  },
  {
   "cell_type": "code",
   "execution_count": 20,
   "metadata": {},
   "outputs": [],
   "source": [
    "x=dataset[['tv','radio','newspaper']]\n",
    "y =dataset['sales']"
   ]
  },
  {
   "cell_type": "code",
   "execution_count": 21,
   "metadata": {},
   "outputs": [],
   "source": [
    "from sklearn.model_selection import train_test_split\n",
    "x_train,x_test,y_train,y_test =train_test_split(x,y,test_size=0.3,random_state=0)\n",
    "\n"
   ]
  },
  {
   "cell_type": "code",
   "execution_count": 22,
   "metadata": {},
   "outputs": [
    {
     "data": {
      "text/html": [
       "<style>#sk-container-id-2 {color: black;}#sk-container-id-2 pre{padding: 0;}#sk-container-id-2 div.sk-toggleable {background-color: white;}#sk-container-id-2 label.sk-toggleable__label {cursor: pointer;display: block;width: 100%;margin-bottom: 0;padding: 0.3em;box-sizing: border-box;text-align: center;}#sk-container-id-2 label.sk-toggleable__label-arrow:before {content: \"▸\";float: left;margin-right: 0.25em;color: #696969;}#sk-container-id-2 label.sk-toggleable__label-arrow:hover:before {color: black;}#sk-container-id-2 div.sk-estimator:hover label.sk-toggleable__label-arrow:before {color: black;}#sk-container-id-2 div.sk-toggleable__content {max-height: 0;max-width: 0;overflow: hidden;text-align: left;background-color: #f0f8ff;}#sk-container-id-2 div.sk-toggleable__content pre {margin: 0.2em;color: black;border-radius: 0.25em;background-color: #f0f8ff;}#sk-container-id-2 input.sk-toggleable__control:checked~div.sk-toggleable__content {max-height: 200px;max-width: 100%;overflow: auto;}#sk-container-id-2 input.sk-toggleable__control:checked~label.sk-toggleable__label-arrow:before {content: \"▾\";}#sk-container-id-2 div.sk-estimator input.sk-toggleable__control:checked~label.sk-toggleable__label {background-color: #d4ebff;}#sk-container-id-2 div.sk-label input.sk-toggleable__control:checked~label.sk-toggleable__label {background-color: #d4ebff;}#sk-container-id-2 input.sk-hidden--visually {border: 0;clip: rect(1px 1px 1px 1px);clip: rect(1px, 1px, 1px, 1px);height: 1px;margin: -1px;overflow: hidden;padding: 0;position: absolute;width: 1px;}#sk-container-id-2 div.sk-estimator {font-family: monospace;background-color: #f0f8ff;border: 1px dotted black;border-radius: 0.25em;box-sizing: border-box;margin-bottom: 0.5em;}#sk-container-id-2 div.sk-estimator:hover {background-color: #d4ebff;}#sk-container-id-2 div.sk-parallel-item::after {content: \"\";width: 100%;border-bottom: 1px solid gray;flex-grow: 1;}#sk-container-id-2 div.sk-label:hover label.sk-toggleable__label {background-color: #d4ebff;}#sk-container-id-2 div.sk-serial::before {content: \"\";position: absolute;border-left: 1px solid gray;box-sizing: border-box;top: 0;bottom: 0;left: 50%;z-index: 0;}#sk-container-id-2 div.sk-serial {display: flex;flex-direction: column;align-items: center;background-color: white;padding-right: 0.2em;padding-left: 0.2em;position: relative;}#sk-container-id-2 div.sk-item {position: relative;z-index: 1;}#sk-container-id-2 div.sk-parallel {display: flex;align-items: stretch;justify-content: center;background-color: white;position: relative;}#sk-container-id-2 div.sk-item::before, #sk-container-id-2 div.sk-parallel-item::before {content: \"\";position: absolute;border-left: 1px solid gray;box-sizing: border-box;top: 0;bottom: 0;left: 50%;z-index: -1;}#sk-container-id-2 div.sk-parallel-item {display: flex;flex-direction: column;z-index: 1;position: relative;background-color: white;}#sk-container-id-2 div.sk-parallel-item:first-child::after {align-self: flex-end;width: 50%;}#sk-container-id-2 div.sk-parallel-item:last-child::after {align-self: flex-start;width: 50%;}#sk-container-id-2 div.sk-parallel-item:only-child::after {width: 0;}#sk-container-id-2 div.sk-dashed-wrapped {border: 1px dashed gray;margin: 0 0.4em 0.5em 0.4em;box-sizing: border-box;padding-bottom: 0.4em;background-color: white;}#sk-container-id-2 div.sk-label label {font-family: monospace;font-weight: bold;display: inline-block;line-height: 1.2em;}#sk-container-id-2 div.sk-label-container {text-align: center;}#sk-container-id-2 div.sk-container {/* jupyter's `normalize.less` sets `[hidden] { display: none; }` but bootstrap.min.css set `[hidden] { display: none !important; }` so we also need the `!important` here to be able to override the default hidden behavior on the sphinx rendered scikit-learn.org. See: https://github.com/scikit-learn/scikit-learn/issues/21755 */display: inline-block !important;position: relative;}#sk-container-id-2 div.sk-text-repr-fallback {display: none;}</style><div id=\"sk-container-id-2\" class=\"sk-top-container\"><div class=\"sk-text-repr-fallback\"><pre>LinearRegression()</pre><b>In a Jupyter environment, please rerun this cell to show the HTML representation or trust the notebook. <br />On GitHub, the HTML representation is unable to render, please try loading this page with nbviewer.org.</b></div><div class=\"sk-container\" hidden><div class=\"sk-item\"><div class=\"sk-estimator sk-toggleable\"><input class=\"sk-toggleable__control sk-hidden--visually\" id=\"sk-estimator-id-2\" type=\"checkbox\" checked><label for=\"sk-estimator-id-2\" class=\"sk-toggleable__label sk-toggleable__label-arrow\">LinearRegression</label><div class=\"sk-toggleable__content\"><pre>LinearRegression()</pre></div></div></div></div></div>"
      ],
      "text/plain": [
       "LinearRegression()"
      ]
     },
     "execution_count": 22,
     "metadata": {},
     "output_type": "execute_result"
    }
   ],
   "source": [
    "from sklearn.linear_model import LinearRegression\n",
    "mlr = LinearRegression()\n",
    "mlr.fit(x_train,y_train)\n"
   ]
  },
  {
   "cell_type": "code",
   "execution_count": 23,
   "metadata": {},
   "outputs": [
    {
     "name": "stdout",
     "output_type": "stream",
     "text": [
      "MLR intercept 2.880255286331323\n",
      " MLR Coeff  [0.04391531 0.20027962 0.00184368]\n"
     ]
    }
   ],
   "source": [
    "# intercept and coefficient\n",
    "print(\"MLR intercept\",mlr.intercept_)\n",
    "print(\" MLR Coeff \",mlr.coef_)"
   ]
  },
  {
   "cell_type": "code",
   "execution_count": 24,
   "metadata": {},
   "outputs": [
    {
     "name": "stdout",
     "output_type": "stream",
     "text": [
      "Prediction for the test set :[10.05866652  7.43318827  6.95305695 24.16874598 11.98172029  6.54464708\n",
      " 13.19426793 14.90240334 11.07675294 16.25061663 23.0081158   9.12072148\n",
      " 10.29342297 15.3709661  11.62396513 12.1057432  18.55030805 10.85810888\n",
      " 16.13879856 17.20281404 24.25469939  9.43869821 15.13419408 12.41283844\n",
      "  5.66973859 15.23876681 12.1878762  20.95164149 13.22671807  9.20954724\n",
      " 13.39812727 21.61944517 18.05938674 21.14798547  6.73582996  6.16799717\n",
      "  7.98042607 13.09083488 14.86214078  6.23597127 12.35246911  9.19452235\n",
      " 15.04717679 16.23039254 17.17240889 13.3341216   3.68035786 12.53946851\n",
      " 15.93674769  8.67881357 10.62459997 19.5646526  18.3472282  15.24662975\n",
      " 10.04846378  8.17344188 21.49061088 14.137309   16.29760212  8.90502274]\n"
     ]
    }
   ],
   "source": [
    "#prediction of test set\n",
    "y_pred_mlr =mlr.predict(x_test)\n",
    "\n",
    "#predicted values\n",
    "print(\"Prediction for the test set :{}\".format(y_pred_mlr))"
   ]
  },
  {
   "cell_type": "code",
   "execution_count": 25,
   "metadata": {},
   "outputs": [
    {
     "name": "stdout",
     "output_type": "stream",
     "text": [
      "     Actual Value  Predicted value\n",
      "18           11.3        10.058667\n",
      "170           8.4         7.433188\n",
      "107           8.7         6.953057\n",
      "98           25.4        24.168746\n",
      "177          11.7        11.981720\n",
      "182           8.7         6.544647\n",
      "5             7.2        13.194268\n",
      "146          13.2        14.902403\n",
      "12            9.2        11.076753\n",
      "152          16.6        16.250617\n",
      "61           24.2        23.008116\n",
      "125          10.6         9.120721\n",
      "180          10.5        10.293423\n",
      "154          15.6        15.370966\n",
      "80           11.8        11.623965\n",
      "7            13.2        12.105743\n",
      "33           17.4        18.550308\n",
      "130           1.6        10.858109\n",
      "37           14.7        16.138799\n",
      "74           17.0        17.202814\n",
      "183          26.2        24.254699\n",
      "145          10.3         9.438698\n",
      "45           14.9        15.134194\n",
      "159          12.9        12.412838\n",
      "60            8.1         5.669739\n",
      "123          15.2        15.238767\n",
      "179          12.6        12.187876\n",
      "185          22.6        20.951641\n",
      "122          11.6        13.226718\n",
      "44            8.5         9.209547\n",
      "16           12.5        13.398127\n",
      "55           23.7        21.619445\n",
      "150          16.1        18.059387\n",
      "111          21.8        21.147985\n",
      "22            5.6         6.735830\n",
      "189           6.7         6.167997\n",
      "129           9.7         7.980426\n",
      "4            12.9        13.090835\n",
      "83           13.6        14.862141\n",
      "106           7.2         6.235971\n",
      "134          10.8        12.352469\n",
      "66            9.5         9.194522\n",
      "26           15.0        15.047177\n",
      "113          15.9        16.230393\n",
      "168          17.1        17.172409\n",
      "63           14.0        13.334122\n",
      "8             4.8         3.680358\n",
      "75            8.7        12.539469\n",
      "118          15.9        15.936748\n",
      "143          10.4         8.678814\n",
      "71           12.4        10.624600\n",
      "124          19.7        19.564653\n",
      "184          17.6        18.347228\n",
      "97           15.5        15.246630\n",
      "149          10.1        10.048464\n",
      "24            9.7         8.173442\n",
      "30           21.4        21.490611\n",
      "160          14.4        14.137309\n",
      "40           16.6        16.297602\n",
      "56            5.5         8.905023\n"
     ]
    }
   ],
   "source": [
    "# actual values and predicted values \n",
    "\n",
    "mlr_diff = pd.DataFrame({'Actual Value':y_test,'Predicted value':y_pred_mlr})\n",
    "\n",
    "print(mlr_diff)"
   ]
  },
  {
   "cell_type": "code",
   "execution_count": 26,
   "metadata": {},
   "outputs": [
    {
     "data": {
      "text/plain": [
       "'R squared : R square is a coeff of determination . It tells us how many points fall on the regression line.\\n The value of R square is 90.11 ,which indicates that 90.11% of the data fit the regression model. R sqyuared = Variance explained by the model /Total variance\\n\\n \\n Mean Absolute Error : Mean Absolute Error is the absolute differnce between the actual or true values and the predicted values.Thw lower the value , \\n the better is the models performance.\\n A mean absolute error 0means that your model is a perfect predictor of the o/ps The mean absolute error obtained fpor this is 1.227 , which is pretty good as it is close to 0\\n\\n\\n Mean Square Error : Mean square error is calculated by taking the average of the sqyuare of the differnece between  original and predicted values of the dataset.\\n   The lower the values,the better the models \\n performance .The mean square error obtained for this particular model is 2.636, which is pretty good.\\n\\nRoot MEan Square Error : Root Mean Square Error is the SD of the errors which occur when the prediction is made on a dataset. This is the same as Measn Squared Error , \\nbut the root of the value\\nis considered while determining the accuracy of the model. The lower the value ,the better is the models prediction(performance).The root mean square error obtained for \\nthis partoicular model is 1.623\\nwhich is pretty good.\\n\\n\\n\\n   '"
      ]
     },
     "execution_count": 26,
     "metadata": {},
     "output_type": "execute_result"
    }
   ],
   "source": [
    "# Model Evaluation\n",
    "\n",
    "\n",
    "\n",
    "\n",
    "\"\"\"R squared : R square is a coeff of determination . It tells us how many points fall on the regression line.\n",
    " The value of R square is 90.11 ,which indicates that 90.11% of the data fit the regression model. R sqyuared = Variance explained by the model /Total variance\n",
    "\n",
    " \n",
    " Mean Absolute Error : Mean Absolute Error is the absolute differnce between the actual or true values and the predicted values.Thw lower the value , \n",
    " the better is the models performance.\n",
    " A mean absolute error 0means that your model is a perfect predictor of the o/ps The mean absolute error obtained fpor this is 1.227 , which is pretty good as it is close to 0\n",
    "\n",
    "\n",
    " Mean Square Error : Mean square error is calculated by taking the average of the sqyuare of the differnece between  original and predicted values of the dataset.\n",
    "   The lower the values,the better the models \n",
    " performance .The mean square error obtained for this particular model is 2.636, which is pretty good.\n",
    "\n",
    "Root MEan Square Error : Root Mean Square Error is the SD of the errors which occur when the prediction is made on a dataset. This is the same as Measn Squared Error , \n",
    "but the root of the value\n",
    "is considered while determining the accuracy of the model. The lower the value ,the better is the models prediction(performance).The root mean square error obtained for \n",
    "this partoicular model is 1.623\n",
    "which is pretty good.\n",
    "\n",
    "\n",
    "\n",
    "   \"\"\""
   ]
  },
  {
   "cell_type": "code",
   "execution_count": 27,
   "metadata": {},
   "outputs": [
    {
     "name": "stdout",
     "output_type": "stream",
     "text": [
      "R Squared: 89.49\n",
      "Mean Absolute Error  1.2333759522850205\n",
      "Mean Squared Error  3.691394845698608\n",
      "Root Mean Squared Error  1.9213003007595164\n"
     ]
    }
   ],
   "source": [
    "from sklearn import metrics\n",
    "meanAbErr =metrics.mean_absolute_error(y_test,y_pred_mlr)\n",
    "\n",
    "meanSqErr =metrics.mean_squared_error(y_test,y_pred_mlr)\n",
    "\n",
    "rootMeanSqErr =np.sqrt(metrics.mean_squared_error(y_test,y_pred_mlr))\n",
    "\n",
    "print('R Squared: {:.2f}'.format(mlr.score(x,y)*100))\n",
    "print(\"Mean Absolute Error \",meanAbErr)\n",
    "print(\"Mean Squared Error \",meanSqErr)\n",
    "print(\"Root Mean Squared Error \",rootMeanSqErr)\n",
    "\n"
   ]
  },
  {
   "cell_type": "code",
   "execution_count": 28,
   "metadata": {},
   "outputs": [
    {
     "data": {
      "image/png": "[encoded data removed]",
      "text/plain": [
       "<Figure size 800x600 with 1 Axes>"
      ]
     },
     "metadata": {},
     "output_type": "display_data"
    }
   ],
   "source": [
    "# plotting actualvs predicted values\n",
    "\n",
    "plt.figure(figsize=(8,6))\n",
    "plt.scatter(y_test,y_pred_mlr,color=\"blue\")\n",
    "plt.xlabel(\"Actual Values\")\n",
    "plt.ylabel(\"Predicted values\")\n",
    "plt.title(\"Actual vs Predicted values (Multiple Linear Regression)\")\n",
    "plt.grid(True)\n",
    "plt.show()"
   ]
  },
  {
   "cell_type": "code",
   "execution_count": 29,
   "metadata": {},
   "outputs": [
    {
     "data": {
      "image/png": "[encoded data removed]",
      "text/plain": [
       "<Figure size 800x600 with 1 Axes>"
      ]
     },
     "metadata": {},
     "output_type": "display_data"
    }
   ],
   "source": [
    "residuals=y_test -y_pred_mlr\n",
    "plt.figure(figsize=(8,6))\n",
    "sns.histplot(residuals,bins=20,kde=True,color='green')\n",
    "plt.xlabel(\"Residual\")\n",
    "plt.ylabel(\"Frequency\")\n",
    "plt.title(\"Residual Distribution (Multiple Linear Regression)\")\n",
    "plt.grid(True)\n",
    "plt.show()"
   ]
  },
  {
   "cell_type": "code",
   "execution_count": 30,
   "metadata": {},
   "outputs": [
    {
     "data": {
      "text/plain": [
       "'Value of intercept is 4.3345 ,which shows that if we keep the money spent on TV ,Radio and Newspaper for advertisement as 0,\\nthe estimated average sales will be 4.3345 .\\nA single rupee increase in the money spent on TV for adbvertisement increses sales by 0.0538 , the money spent on Radio for advertisement increases sales by 0.1100 and the money \\nspent on the Newspaper for advert increses sales by 0.0062\\n '"
      ]
     },
     "execution_count": 30,
     "metadata": {},
     "output_type": "execute_result"
    }
   ],
   "source": [
    "# Output Interpretation\n",
    "\n",
    "\"\"\"Value of intercept is 4.3345 ,which shows that if we keep the money spent on TV ,Radio and Newspaper for advertisement as 0,\n",
    "the estimated average sales will be 4.3345 .\n",
    "A single rupee increase in the money spent on TV for adbvertisement increses sales by 0.0538 , the money spent on Radio for advertisement increases sales by 0.1100 and the money \n",
    "spent on the Newspaper for advert increses sales by 0.0062\n",
    " \"\"\"\n",
    "\n",
    "##################################################"
   ]
  },
  {
   "cell_type": "code",
   "execution_count": 31,
   "metadata": {},
   "outputs": [],
   "source": [
    "# Assignment "
   ]
  }
 ],
 "metadata": {
  "kernelspec": {
   "display_name": "Python 3",
   "language": "python",
   "name": "python3"
  },
  "language_info": {
   "codemirror_mode": {
    "name": "ipython",
    "version": 3
   },
   "file_extension": ".py",
   "mimetype": "text/x-python",
   "name": "python",
   "nbconvert_exporter": "python",
   "pygments_lexer": "ipython3",
   "version": "3.12.0"
  }
 },
 "nbformat": 4,
 "nbformat_minor": 2
}
