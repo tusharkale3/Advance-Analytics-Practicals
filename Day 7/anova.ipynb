{
 "cells": [
  {
   "cell_type": "code",
   "execution_count": 3,
   "metadata": {},
   "outputs": [
    {
     "name": "stdout",
     "output_type": "stream",
     "text": [
      "F-Statistic: 8.886649874055415\n",
      "P-Value: 0.004286725334093986\n",
      "Reject the null hypothesis: There are significant differences in the means\n"
     ]
    }
   ],
   "source": [
    "import numpy as np \n",
    "from scipy.stats import f_oneway\n",
    "\n",
    "method_A = [85, 88, 91, 78, 82]\n",
    "method_B = [75, 79, 80, 82, 78]\n",
    "method_C = [90, 85, 88, 92, 87]\n",
    "\n",
    "# Perform one-way ANOVA\n",
    "f_statistic, p_value = f_oneway(method_A, method_B, method_C)\n",
    "\n",
    "print(\"F-Statistic:\", f_statistic)\n",
    "print(\"P-Value:\", p_value)\n",
    "\n",
    "alpha = 0.05 # Significance level\n",
    "if p_value < alpha:\n",
    "    print(\"Reject the null hypothesis: There are significant differences in the means\")\n",
    "else :\n",
    "    print(\"Fail to  reject the null hypothesis. No significant differences in the means \")"
   ]
  }
 ],
 "metadata": {
  "kernelspec": {
   "display_name": "Python 3",
   "language": "python",
   "name": "python3"
  },
  "language_info": {
   "codemirror_mode": {
    "name": "ipython",
    "version": 3
   },
   "file_extension": ".py",
   "mimetype": "text/x-python",
   "name": "python",
   "nbconvert_exporter": "python",
   "pygments_lexer": "ipython3",
   "version": "3.12.0"
  }
 },
 "nbformat": 4,
 "nbformat_minor": 2
}
