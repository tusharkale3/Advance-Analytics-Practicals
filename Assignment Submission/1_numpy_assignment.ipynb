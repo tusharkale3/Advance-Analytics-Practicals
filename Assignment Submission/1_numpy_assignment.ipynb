{
 "cells": [
  {
   "cell_type": "code",
   "execution_count": 1,
   "metadata": {},
   "outputs": [],
   "source": [
    "import numpy as np"
   ]
  },
  {
   "cell_type": "code",
   "execution_count": 2,
   "metadata": {},
   "outputs": [
    {
     "name": "stdout",
     "output_type": "stream",
     "text": [
      "[92 67 44 55 40 90 45 86 66 38]\n"
     ]
    }
   ],
   "source": [
    "student_marks = np.random.randint(35,100,10)\n",
    "print(student_marks)"
   ]
  },
  {
   "cell_type": "code",
   "execution_count": 3,
   "metadata": {},
   "outputs": [
    {
     "name": "stdout",
     "output_type": "stream",
     "text": [
      "max marks: 92\n",
      "min: 38\n",
      "avg: 62.3\n"
     ]
    }
   ],
   "source": [
    "print(f\"max marks: {np.max(student_marks)}\")\n",
    "print(f\"min: {np.min(student_marks)}\")\n",
    "print(f\"avg: {np.mean(student_marks)}\")\n",
    "\n"
   ]
  },
  {
   "cell_type": "code",
   "execution_count": 4,
   "metadata": {},
   "outputs": [
    {
     "name": "stdout",
     "output_type": "stream",
     "text": [
      "IRCEK\n"
     ]
    }
   ],
   "source": [
    "import random\n",
    "import string\n",
    "print(''.join(random.choices(string.ascii_uppercase,k=5)))"
   ]
  },
  {
   "cell_type": "code",
   "execution_count": 5,
   "metadata": {},
   "outputs": [
    {
     "data": {
      "text/plain": [
       "array(['Utkarsh', 'Kartik', 'Pratik', 'Bhavesh', 'Gaurav', 'Hrithik',\n",
       "       'Aniket', 'Rushikesh', 'Shubham', 'Aditya'], dtype='<U9')"
      ]
     },
     "execution_count": 5,
     "metadata": {},
     "output_type": "execute_result"
    }
   ],
   "source": [
    "student_names = np.array([\"Utkarsh\",\"Kartik\",\"Pratik\",\"Bhavesh\",\"Gaurav\",\"Hrithik\",\"Aniket\",\"Rushikesh\",\"Shubham\",\"Aditya\"])\n",
    "student_names"
   ]
  },
  {
   "cell_type": "code",
   "execution_count": 6,
   "metadata": {},
   "outputs": [
    {
     "name": "stdout",
     "output_type": "stream",
     "text": [
      "['Utkarsh'] 92\n"
     ]
    }
   ],
   "source": [
    "condition = student_marks == np.max(student_marks)\n",
    "result = np.where(condition)\n",
    "print(student_names[result],np.max(student_marks))\n"
   ]
  },
  {
   "cell_type": "code",
   "execution_count": 7,
   "metadata": {},
   "outputs": [
    {
     "name": "stdout",
     "output_type": "stream",
     "text": [
      "['Aditya'] 38\n"
     ]
    }
   ],
   "source": [
    "condition = student_marks == np.min(student_marks)\n",
    "result = np.where(condition)\n",
    "print(student_names[result],np.min(student_marks))"
   ]
  },
  {
   "cell_type": "code",
   "execution_count": 9,
   "metadata": {},
   "outputs": [
    {
     "name": "stdout",
     "output_type": "stream",
     "text": [
      "(array([0, 1, 5, 7, 8], dtype=int64),)\n",
      "['Utkarsh' 'Kartik' 'Hrithik' 'Rushikesh' 'Shubham'] 62.3\n"
     ]
    }
   ],
   "source": [
    "condition = student_marks > np.mean(student_marks)\n",
    "result = np.where(condition)\n",
    "print(result)\n",
    "print(student_names[result],np.mean(student_marks))"
   ]
  },
  {
   "cell_type": "code",
   "execution_count": null,
   "metadata": {},
   "outputs": [],
   "source": []
  }
 ],
 "metadata": {
  "kernelspec": {
   "display_name": "base",
   "language": "python",
   "name": "python3"
  },
  "language_info": {
   "codemirror_mode": {
    "name": "ipython",
    "version": 3
   },
   "file_extension": ".py",
   "mimetype": "text/x-python",
   "name": "python",
   "nbconvert_exporter": "python",
   "pygments_lexer": "ipython3",
   "version": "3.11.5"
  }
 },
 "nbformat": 4,
 "nbformat_minor": 2
}
