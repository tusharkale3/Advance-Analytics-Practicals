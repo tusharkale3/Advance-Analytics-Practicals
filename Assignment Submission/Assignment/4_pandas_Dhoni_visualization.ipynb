{
 "cells": [
  {
   "cell_type": "code",
   "execution_count": 1,
   "metadata": {},
   "outputs": [
    {
     "data": {
      "text/html": [
       "<div>\n",
       "<style scoped>\n",
       "    .dataframe tbody tr th:only-of-type {\n",
       "        vertical-align: middle;\n",
       "    }\n",
       "\n",
       "    .dataframe tbody tr th {\n",
       "        vertical-align: top;\n",
       "    }\n",
       "\n",
       "    .dataframe thead th {\n",
       "        text-align: right;\n",
       "    }\n",
       "</style>\n",
       "<table border=\"1\" class=\"dataframe\">\n",
       "  <thead>\n",
       "    <tr style=\"text-align: right;\">\n",
       "      <th></th>\n",
       "      <th>score</th>\n",
       "      <th>runs_scored</th>\n",
       "      <th>balls_faced</th>\n",
       "      <th>strike_rate</th>\n",
       "      <th>fours</th>\n",
       "      <th>sixes</th>\n",
       "      <th>opposition</th>\n",
       "      <th>ground</th>\n",
       "      <th>date</th>\n",
       "      <th>odi_number</th>\n",
       "    </tr>\n",
       "  </thead>\n",
       "  <tbody>\n",
       "    <tr>\n",
       "      <th>0</th>\n",
       "      <td>0</td>\n",
       "      <td>0</td>\n",
       "      <td>1</td>\n",
       "      <td>0</td>\n",
       "      <td>0</td>\n",
       "      <td>0</td>\n",
       "      <td>v Bangladesh</td>\n",
       "      <td>Chattogram</td>\n",
       "      <td>23/12/2004</td>\n",
       "      <td>ODI # 2199</td>\n",
       "    </tr>\n",
       "    <tr>\n",
       "      <th>1</th>\n",
       "      <td>12</td>\n",
       "      <td>12</td>\n",
       "      <td>11</td>\n",
       "      <td>109.09</td>\n",
       "      <td>2</td>\n",
       "      <td>0</td>\n",
       "      <td>v Bangladesh</td>\n",
       "      <td>Dhaka</td>\n",
       "      <td>26/12/2004</td>\n",
       "      <td>ODI # 2201</td>\n",
       "    </tr>\n",
       "    <tr>\n",
       "      <th>2</th>\n",
       "      <td>7*</td>\n",
       "      <td>7</td>\n",
       "      <td>2</td>\n",
       "      <td>350</td>\n",
       "      <td>0</td>\n",
       "      <td>1</td>\n",
       "      <td>v Bangladesh</td>\n",
       "      <td>Dhaka</td>\n",
       "      <td>27/12/2004</td>\n",
       "      <td>ODI # 2202</td>\n",
       "    </tr>\n",
       "    <tr>\n",
       "      <th>3</th>\n",
       "      <td>3</td>\n",
       "      <td>3</td>\n",
       "      <td>7</td>\n",
       "      <td>42.85</td>\n",
       "      <td>0</td>\n",
       "      <td>0</td>\n",
       "      <td>v Pakistan</td>\n",
       "      <td>Kochi</td>\n",
       "      <td>02/04/2005</td>\n",
       "      <td>ODI # 2235</td>\n",
       "    </tr>\n",
       "    <tr>\n",
       "      <th>4</th>\n",
       "      <td>148</td>\n",
       "      <td>148</td>\n",
       "      <td>123</td>\n",
       "      <td>120.32</td>\n",
       "      <td>15</td>\n",
       "      <td>4</td>\n",
       "      <td>v Pakistan</td>\n",
       "      <td>Visakhapatnam</td>\n",
       "      <td>05/04/2005</td>\n",
       "      <td>ODI # 2236</td>\n",
       "    </tr>\n",
       "    <tr>\n",
       "      <th>...</th>\n",
       "      <td>...</td>\n",
       "      <td>...</td>\n",
       "      <td>...</td>\n",
       "      <td>...</td>\n",
       "      <td>...</td>\n",
       "      <td>...</td>\n",
       "      <td>...</td>\n",
       "      <td>...</td>\n",
       "      <td>...</td>\n",
       "      <td>...</td>\n",
       "    </tr>\n",
       "    <tr>\n",
       "      <th>345</th>\n",
       "      <td>56*</td>\n",
       "      <td>56</td>\n",
       "      <td>61</td>\n",
       "      <td>91.8</td>\n",
       "      <td>3</td>\n",
       "      <td>2</td>\n",
       "      <td>v West Indies</td>\n",
       "      <td>Manchester</td>\n",
       "      <td>27/06/2019</td>\n",
       "      <td>ODI # 4175</td>\n",
       "    </tr>\n",
       "    <tr>\n",
       "      <th>346</th>\n",
       "      <td>42*</td>\n",
       "      <td>42</td>\n",
       "      <td>31</td>\n",
       "      <td>135.48</td>\n",
       "      <td>4</td>\n",
       "      <td>1</td>\n",
       "      <td>v England</td>\n",
       "      <td>Birmingham</td>\n",
       "      <td>30/06/2019</td>\n",
       "      <td>ODI # 4179</td>\n",
       "    </tr>\n",
       "    <tr>\n",
       "      <th>347</th>\n",
       "      <td>35</td>\n",
       "      <td>35</td>\n",
       "      <td>33</td>\n",
       "      <td>106.06</td>\n",
       "      <td>4</td>\n",
       "      <td>0</td>\n",
       "      <td>v Bangladesh</td>\n",
       "      <td>Birmingham</td>\n",
       "      <td>02/07/2019</td>\n",
       "      <td>ODI # 4182</td>\n",
       "    </tr>\n",
       "    <tr>\n",
       "      <th>348</th>\n",
       "      <td>DNB</td>\n",
       "      <td>-</td>\n",
       "      <td>-</td>\n",
       "      <td>-</td>\n",
       "      <td>-</td>\n",
       "      <td>-</td>\n",
       "      <td>v Sri Lanka</td>\n",
       "      <td>Leeds</td>\n",
       "      <td>06/07/2019</td>\n",
       "      <td>ODI # 4187</td>\n",
       "    </tr>\n",
       "    <tr>\n",
       "      <th>349</th>\n",
       "      <td>50</td>\n",
       "      <td>50</td>\n",
       "      <td>72</td>\n",
       "      <td>69.44</td>\n",
       "      <td>1</td>\n",
       "      <td>1</td>\n",
       "      <td>v New Zealand</td>\n",
       "      <td>Manchester</td>\n",
       "      <td>09/07/2019</td>\n",
       "      <td>ODI # 4190</td>\n",
       "    </tr>\n",
       "  </tbody>\n",
       "</table>\n",
       "<p>350 rows × 10 columns</p>\n",
       "</div>"
      ],
      "text/plain": [
       "    score runs_scored balls_faced strike_rate fours sixes     opposition  \\\n",
       "0       0           0           1           0     0     0   v Bangladesh   \n",
       "1      12          12          11      109.09     2     0   v Bangladesh   \n",
       "2      7*           7           2         350     0     1   v Bangladesh   \n",
       "3       3           3           7       42.85     0     0     v Pakistan   \n",
       "4     148         148         123      120.32    15     4     v Pakistan   \n",
       "..    ...         ...         ...         ...   ...   ...            ...   \n",
       "345   56*          56          61        91.8     3     2  v West Indies   \n",
       "346   42*          42          31      135.48     4     1      v England   \n",
       "347    35          35          33      106.06     4     0   v Bangladesh   \n",
       "348   DNB           -           -           -     -     -    v Sri Lanka   \n",
       "349    50          50          72       69.44     1     1  v New Zealand   \n",
       "\n",
       "            ground        date  odi_number  \n",
       "0       Chattogram  23/12/2004  ODI # 2199  \n",
       "1            Dhaka  26/12/2004  ODI # 2201  \n",
       "2            Dhaka  27/12/2004  ODI # 2202  \n",
       "3            Kochi  02/04/2005  ODI # 2235  \n",
       "4    Visakhapatnam  05/04/2005  ODI # 2236  \n",
       "..             ...         ...         ...  \n",
       "345     Manchester  27/06/2019  ODI # 4175  \n",
       "346     Birmingham  30/06/2019  ODI # 4179  \n",
       "347     Birmingham  02/07/2019  ODI # 4182  \n",
       "348          Leeds  06/07/2019  ODI # 4187  \n",
       "349     Manchester  09/07/2019  ODI # 4190  \n",
       "\n",
       "[350 rows x 10 columns]"
      ]
     },
     "execution_count": 1,
     "metadata": {},
     "output_type": "execute_result"
    }
   ],
   "source": [
    "import pandas as pd\n",
    "import datetime as dt\n",
    "import numpy as np\n",
    "import seaborn as sn\n",
    "import plotly.express as px\n",
    "\n",
    "df=pd.read_csv(\"G:\\gb\\Advance Analytics\\Theory\\Day_1\\MS_Dhoni_ODI_record.csv\")\n",
    "df"
   ]
  },
  {
   "cell_type": "code",
   "execution_count": 2,
   "metadata": {},
   "outputs": [
    {
     "data": {
      "text/html": [
       "<div>\n",
       "<style scoped>\n",
       "    .dataframe tbody tr th:only-of-type {\n",
       "        vertical-align: middle;\n",
       "    }\n",
       "\n",
       "    .dataframe tbody tr th {\n",
       "        vertical-align: top;\n",
       "    }\n",
       "\n",
       "    .dataframe thead th {\n",
       "        text-align: right;\n",
       "    }\n",
       "</style>\n",
       "<table border=\"1\" class=\"dataframe\">\n",
       "  <thead>\n",
       "    <tr style=\"text-align: right;\">\n",
       "      <th></th>\n",
       "      <th>score</th>\n",
       "      <th>runs_scored</th>\n",
       "      <th>balls_faced</th>\n",
       "      <th>strike_rate</th>\n",
       "      <th>fours</th>\n",
       "      <th>sixes</th>\n",
       "      <th>opposition</th>\n",
       "      <th>ground</th>\n",
       "      <th>date</th>\n",
       "      <th>odi_number</th>\n",
       "    </tr>\n",
       "  </thead>\n",
       "  <tbody>\n",
       "    <tr>\n",
       "      <th>count</th>\n",
       "      <td>350</td>\n",
       "      <td>350</td>\n",
       "      <td>350</td>\n",
       "      <td>350</td>\n",
       "      <td>350</td>\n",
       "      <td>350</td>\n",
       "      <td>350</td>\n",
       "      <td>350</td>\n",
       "      <td>350</td>\n",
       "      <td>350</td>\n",
       "    </tr>\n",
       "    <tr>\n",
       "      <th>unique</th>\n",
       "      <td>133</td>\n",
       "      <td>91</td>\n",
       "      <td>97</td>\n",
       "      <td>232</td>\n",
       "      <td>16</td>\n",
       "      <td>9</td>\n",
       "      <td>17</td>\n",
       "      <td>80</td>\n",
       "      <td>350</td>\n",
       "      <td>350</td>\n",
       "    </tr>\n",
       "    <tr>\n",
       "      <th>top</th>\n",
       "      <td>DNB</td>\n",
       "      <td>-</td>\n",
       "      <td>-</td>\n",
       "      <td>-</td>\n",
       "      <td>0</td>\n",
       "      <td>0</td>\n",
       "      <td>v Sri Lanka</td>\n",
       "      <td>Dhaka</td>\n",
       "      <td>23/12/2004</td>\n",
       "      <td>ODI # 2199</td>\n",
       "    </tr>\n",
       "    <tr>\n",
       "      <th>freq</th>\n",
       "      <td>48</td>\n",
       "      <td>53</td>\n",
       "      <td>53</td>\n",
       "      <td>53</td>\n",
       "      <td>61</td>\n",
       "      <td>179</td>\n",
       "      <td>67</td>\n",
       "      <td>19</td>\n",
       "      <td>1</td>\n",
       "      <td>1</td>\n",
       "    </tr>\n",
       "  </tbody>\n",
       "</table>\n",
       "</div>"
      ],
      "text/plain": [
       "       score runs_scored balls_faced strike_rate fours sixes   opposition  \\\n",
       "count    350         350         350         350   350   350          350   \n",
       "unique   133          91          97         232    16     9           17   \n",
       "top      DNB           -           -           -     0     0  v Sri Lanka   \n",
       "freq      48          53          53          53    61   179           67   \n",
       "\n",
       "       ground        date  odi_number  \n",
       "count     350         350         350  \n",
       "unique     80         350         350  \n",
       "top     Dhaka  23/12/2004  ODI # 2199  \n",
       "freq       19           1           1  "
      ]
     },
     "execution_count": 2,
     "metadata": {},
     "output_type": "execute_result"
    }
   ],
   "source": [
    "df.describe()\n"
   ]
  },
  {
   "cell_type": "code",
   "execution_count": 3,
   "metadata": {},
   "outputs": [
    {
     "name": "stdout",
     "output_type": "stream",
     "text": [
      "<class 'pandas.core.frame.DataFrame'>\n",
      "RangeIndex: 350 entries, 0 to 349\n",
      "Data columns (total 10 columns):\n",
      " #   Column       Non-Null Count  Dtype \n",
      "---  ------       --------------  ----- \n",
      " 0   score        350 non-null    object\n",
      " 1   runs_scored  350 non-null    object\n",
      " 2   balls_faced  350 non-null    object\n",
      " 3   strike_rate  350 non-null    object\n",
      " 4   fours        350 non-null    object\n",
      " 5   sixes        350 non-null    object\n",
      " 6   opposition   350 non-null    object\n",
      " 7   ground       350 non-null    object\n",
      " 8   date         350 non-null    object\n",
      " 9   odi_number   350 non-null    object\n",
      "dtypes: object(10)\n",
      "memory usage: 27.5+ KB\n"
     ]
    }
   ],
   "source": [
    "df.info()"
   ]
  },
  {
   "cell_type": "code",
   "execution_count": 4,
   "metadata": {},
   "outputs": [
    {
     "data": {
      "text/plain": [
       "score          0\n",
       "runs_scored    0\n",
       "balls_faced    0\n",
       "strike_rate    0\n",
       "fours          0\n",
       "sixes          0\n",
       "opposition     0\n",
       "ground         0\n",
       "date           0\n",
       "odi_number     0\n",
       "dtype: int64"
      ]
     },
     "execution_count": 4,
     "metadata": {},
     "output_type": "execute_result"
    }
   ],
   "source": [
    "df.isna().sum()"
   ]
  },
  {
   "cell_type": "code",
   "execution_count": 5,
   "metadata": {},
   "outputs": [],
   "source": [
    "# df_new = df.loc[((df['score'] != 'DNB') & (df['score']!='TNDB')),'runs_scored':]\n",
    "# df_new"
   ]
  },
  {
   "cell_type": "code",
   "execution_count": 6,
   "metadata": {},
   "outputs": [],
   "source": [
    "#same as above command\n",
    "df1 = df[(df['score']!='DNB') & (df['score']!='TNDB') & (df['fours']!=\"-\") & (df['sixes']!=\"-\")]"
   ]
  },
  {
   "cell_type": "code",
   "execution_count": 7,
   "metadata": {},
   "outputs": [
    {
     "data": {
      "text/plain": [
       "ground\n",
       "Dhaka            16\n",
       "Colombo (RPS)    15\n",
       "Dambulla         15\n",
       "Mohali            9\n",
       "Port of Spain     8\n",
       "                 ..\n",
       "Bristol           1\n",
       "Lahore            1\n",
       "Basseterre        1\n",
       "Mumbai (BS)       1\n",
       "Multan            1\n",
       "Name: count, Length: 74, dtype: int64"
      ]
     },
     "execution_count": 7,
     "metadata": {},
     "output_type": "execute_result"
    }
   ],
   "source": [
    "ground_count = df1.value_counts(\"ground\")\n",
    "ground_count"
   ]
  },
  {
   "cell_type": "code",
   "execution_count": 8,
   "metadata": {},
   "outputs": [
    {
     "name": "stderr",
     "output_type": "stream",
     "text": [
      "C:\\Users\\dbda\\AppData\\Local\\Temp\\ipykernel_8\\306347047.py:1: SettingWithCopyWarning: \n",
      "A value is trying to be set on a copy of a slice from a DataFrame.\n",
      "Try using .loc[row_indexer,col_indexer] = value instead\n",
      "\n",
      "See the caveats in the documentation: https://pandas.pydata.org/pandas-docs/stable/user_guide/indexing.html#returning-a-view-versus-a-copy\n",
      "  df1['opposition'] = df1['opposition'].apply(lambda x:x[2:]) # removing \"v \" from v aus etc.\n"
     ]
    },
    {
     "data": {
      "text/plain": [
       "opposition\n",
       "Sri Lanka       53\n",
       "Australia       48\n",
       "England         44\n",
       "West Indies     33\n",
       "South Africa    32\n",
       "Pakistan        31\n",
       "New Zealand     26\n",
       "Bangladesh      17\n",
       "Africa XI        3\n",
       "Zimbabwe         3\n",
       "Afghanistan      2\n",
       "Hong Kong        2\n",
       "Bermuda          1\n",
       "Ireland          1\n",
       "Netherlands      1\n",
       "Name: count, dtype: int64"
      ]
     },
     "execution_count": 8,
     "metadata": {},
     "output_type": "execute_result"
    }
   ],
   "source": [
    "df1['opposition'] = df1['opposition'].apply(lambda x:x[2:]) # removing \"v \" from v aus etc.\n",
    "opposition_count = df1.value_counts(\"opposition\")\n",
    "opposition_count\n",
    "# top_5_played_against = df.nlargest(5,\"opposition\")\n",
    "# top_5_played_against"
   ]
  },
  {
   "cell_type": "code",
   "execution_count": 9,
   "metadata": {},
   "outputs": [
    {
     "name": "stdout",
     "output_type": "stream",
     "text": [
      "Total fours = 826\n",
      "Total sixes = 229\n"
     ]
    },
    {
     "name": "stderr",
     "output_type": "stream",
     "text": [
      "C:\\Users\\dbda\\AppData\\Local\\Temp\\ipykernel_8\\1033613154.py:1: SettingWithCopyWarning: \n",
      "A value is trying to be set on a copy of a slice from a DataFrame.\n",
      "Try using .loc[row_indexer,col_indexer] = value instead\n",
      "\n",
      "See the caveats in the documentation: https://pandas.pydata.org/pandas-docs/stable/user_guide/indexing.html#returning-a-view-versus-a-copy\n",
      "  df1['fours']=df1['fours'].astype(int)\n",
      "C:\\Users\\dbda\\AppData\\Local\\Temp\\ipykernel_8\\1033613154.py:2: SettingWithCopyWarning: \n",
      "A value is trying to be set on a copy of a slice from a DataFrame.\n",
      "Try using .loc[row_indexer,col_indexer] = value instead\n",
      "\n",
      "See the caveats in the documentation: https://pandas.pydata.org/pandas-docs/stable/user_guide/indexing.html#returning-a-view-versus-a-copy\n",
      "  df1['sixes']=df1['sixes'].astype(int)\n"
     ]
    }
   ],
   "source": [
    "df1['fours']=df1['fours'].astype(int)\n",
    "df1['sixes']=df1['sixes'].astype(int)\n",
    "total_fours = df1['fours'].sum()\n",
    "total_sixes = df1['sixes'].sum()\n",
    "print(f\"Total fours = {total_fours}\")\n",
    "print(f\"Total sixes = {total_sixes}\")"
   ]
  },
  {
   "cell_type": "code",
   "execution_count": 10,
   "metadata": {},
   "outputs": [
    {
     "name": "stderr",
     "output_type": "stream",
     "text": [
      "C:\\Users\\dbda\\AppData\\Local\\Temp\\ipykernel_8\\2098710073.py:1: SettingWithCopyWarning: \n",
      "A value is trying to be set on a copy of a slice from a DataFrame.\n",
      "Try using .loc[row_indexer,col_indexer] = value instead\n",
      "\n",
      "See the caveats in the documentation: https://pandas.pydata.org/pandas-docs/stable/user_guide/indexing.html#returning-a-view-versus-a-copy\n",
      "  df1['date']=pd.to_datetime(df1['date'],dayfirst=True)\n",
      "C:\\Users\\dbda\\AppData\\Local\\Temp\\ipykernel_8\\2098710073.py:2: SettingWithCopyWarning: \n",
      "A value is trying to be set on a copy of a slice from a DataFrame.\n",
      "Try using .loc[row_indexer,col_indexer] = value instead\n",
      "\n",
      "See the caveats in the documentation: https://pandas.pydata.org/pandas-docs/stable/user_guide/indexing.html#returning-a-view-versus-a-copy\n",
      "  df1['year']=df1['date'].dt.year.astype(int)\n"
     ]
    }
   ],
   "source": [
    "df1['date']=pd.to_datetime(df1['date'],dayfirst=True)\n",
    "df1['year']=df1['date'].dt.year.astype(int)"
   ]
  },
  {
   "cell_type": "code",
   "execution_count": 11,
   "metadata": {},
   "outputs": [
    {
     "data": {
      "text/html": [
       "<div>\n",
       "<style scoped>\n",
       "    .dataframe tbody tr th:only-of-type {\n",
       "        vertical-align: middle;\n",
       "    }\n",
       "\n",
       "    .dataframe tbody tr th {\n",
       "        vertical-align: top;\n",
       "    }\n",
       "\n",
       "    .dataframe thead th {\n",
       "        text-align: right;\n",
       "    }\n",
       "</style>\n",
       "<table border=\"1\" class=\"dataframe\">\n",
       "  <thead>\n",
       "    <tr style=\"text-align: right;\">\n",
       "      <th></th>\n",
       "      <th>score</th>\n",
       "      <th>runs_scored</th>\n",
       "      <th>balls_faced</th>\n",
       "      <th>strike_rate</th>\n",
       "      <th>fours</th>\n",
       "      <th>sixes</th>\n",
       "      <th>opposition</th>\n",
       "      <th>ground</th>\n",
       "      <th>date</th>\n",
       "      <th>odi_number</th>\n",
       "      <th>year</th>\n",
       "    </tr>\n",
       "  </thead>\n",
       "  <tbody>\n",
       "    <tr>\n",
       "      <th>0</th>\n",
       "      <td>0</td>\n",
       "      <td>0</td>\n",
       "      <td>1</td>\n",
       "      <td>0</td>\n",
       "      <td>0</td>\n",
       "      <td>0</td>\n",
       "      <td>Bangladesh</td>\n",
       "      <td>Chattogram</td>\n",
       "      <td>2004-12-23</td>\n",
       "      <td>ODI # 2199</td>\n",
       "      <td>2004</td>\n",
       "    </tr>\n",
       "    <tr>\n",
       "      <th>1</th>\n",
       "      <td>12</td>\n",
       "      <td>12</td>\n",
       "      <td>11</td>\n",
       "      <td>109.09</td>\n",
       "      <td>2</td>\n",
       "      <td>0</td>\n",
       "      <td>Bangladesh</td>\n",
       "      <td>Dhaka</td>\n",
       "      <td>2004-12-26</td>\n",
       "      <td>ODI # 2201</td>\n",
       "      <td>2004</td>\n",
       "    </tr>\n",
       "    <tr>\n",
       "      <th>2</th>\n",
       "      <td>7*</td>\n",
       "      <td>7</td>\n",
       "      <td>2</td>\n",
       "      <td>350</td>\n",
       "      <td>0</td>\n",
       "      <td>1</td>\n",
       "      <td>Bangladesh</td>\n",
       "      <td>Dhaka</td>\n",
       "      <td>2004-12-27</td>\n",
       "      <td>ODI # 2202</td>\n",
       "      <td>2004</td>\n",
       "    </tr>\n",
       "    <tr>\n",
       "      <th>3</th>\n",
       "      <td>3</td>\n",
       "      <td>3</td>\n",
       "      <td>7</td>\n",
       "      <td>42.85</td>\n",
       "      <td>0</td>\n",
       "      <td>0</td>\n",
       "      <td>Pakistan</td>\n",
       "      <td>Kochi</td>\n",
       "      <td>2005-04-02</td>\n",
       "      <td>ODI # 2235</td>\n",
       "      <td>2005</td>\n",
       "    </tr>\n",
       "    <tr>\n",
       "      <th>4</th>\n",
       "      <td>148</td>\n",
       "      <td>148</td>\n",
       "      <td>123</td>\n",
       "      <td>120.32</td>\n",
       "      <td>15</td>\n",
       "      <td>4</td>\n",
       "      <td>Pakistan</td>\n",
       "      <td>Visakhapatnam</td>\n",
       "      <td>2005-04-05</td>\n",
       "      <td>ODI # 2236</td>\n",
       "      <td>2005</td>\n",
       "    </tr>\n",
       "  </tbody>\n",
       "</table>\n",
       "</div>"
      ],
      "text/plain": [
       "  score runs_scored balls_faced strike_rate  fours  sixes  opposition  \\\n",
       "0     0           0           1           0      0      0  Bangladesh   \n",
       "1    12          12          11      109.09      2      0  Bangladesh   \n",
       "2    7*           7           2         350      0      1  Bangladesh   \n",
       "3     3           3           7       42.85      0      0    Pakistan   \n",
       "4   148         148         123      120.32     15      4    Pakistan   \n",
       "\n",
       "          ground       date  odi_number  year  \n",
       "0     Chattogram 2004-12-23  ODI # 2199  2004  \n",
       "1          Dhaka 2004-12-26  ODI # 2201  2004  \n",
       "2          Dhaka 2004-12-27  ODI # 2202  2004  \n",
       "3          Kochi 2005-04-02  ODI # 2235  2005  \n",
       "4  Visakhapatnam 2005-04-05  ODI # 2236  2005  "
      ]
     },
     "execution_count": 11,
     "metadata": {},
     "output_type": "execute_result"
    }
   ],
   "source": [
    "df1.head(5)"
   ]
  },
  {
   "cell_type": "code",
   "execution_count": 12,
   "metadata": {},
   "outputs": [
    {
     "name": "stderr",
     "output_type": "stream",
     "text": [
      "C:\\Users\\dbda\\AppData\\Local\\Temp\\ipykernel_8\\2330499308.py:1: SettingWithCopyWarning: \n",
      "A value is trying to be set on a copy of a slice from a DataFrame.\n",
      "Try using .loc[row_indexer,col_indexer] = value instead\n",
      "\n",
      "See the caveats in the documentation: https://pandas.pydata.org/pandas-docs/stable/user_guide/indexing.html#returning-a-view-versus-a-copy\n",
      "  df1['score']=df1['score'].apply(str)\n",
      "C:\\Users\\dbda\\AppData\\Local\\Temp\\ipykernel_8\\2330499308.py:2: SettingWithCopyWarning: \n",
      "A value is trying to be set on a copy of a slice from a DataFrame.\n",
      "Try using .loc[row_indexer,col_indexer] = value instead\n",
      "\n",
      "See the caveats in the documentation: https://pandas.pydata.org/pandas-docs/stable/user_guide/indexing.html#returning-a-view-versus-a-copy\n",
      "  df1['not_out']=np.where(df1['score'].str.endswith('*'),1,0)\n"
     ]
    },
    {
     "data": {
      "text/html": [
       "<div>\n",
       "<style scoped>\n",
       "    .dataframe tbody tr th:only-of-type {\n",
       "        vertical-align: middle;\n",
       "    }\n",
       "\n",
       "    .dataframe tbody tr th {\n",
       "        vertical-align: top;\n",
       "    }\n",
       "\n",
       "    .dataframe thead th {\n",
       "        text-align: right;\n",
       "    }\n",
       "</style>\n",
       "<table border=\"1\" class=\"dataframe\">\n",
       "  <thead>\n",
       "    <tr style=\"text-align: right;\">\n",
       "      <th></th>\n",
       "      <th>score</th>\n",
       "      <th>runs_scored</th>\n",
       "      <th>balls_faced</th>\n",
       "      <th>strike_rate</th>\n",
       "      <th>fours</th>\n",
       "      <th>sixes</th>\n",
       "      <th>opposition</th>\n",
       "      <th>ground</th>\n",
       "      <th>date</th>\n",
       "      <th>odi_number</th>\n",
       "      <th>year</th>\n",
       "      <th>not_out</th>\n",
       "    </tr>\n",
       "  </thead>\n",
       "  <tbody>\n",
       "    <tr>\n",
       "      <th>0</th>\n",
       "      <td>0</td>\n",
       "      <td>0</td>\n",
       "      <td>1</td>\n",
       "      <td>0</td>\n",
       "      <td>0</td>\n",
       "      <td>0</td>\n",
       "      <td>Bangladesh</td>\n",
       "      <td>Chattogram</td>\n",
       "      <td>2004-12-23</td>\n",
       "      <td>ODI # 2199</td>\n",
       "      <td>2004</td>\n",
       "      <td>0</td>\n",
       "    </tr>\n",
       "    <tr>\n",
       "      <th>1</th>\n",
       "      <td>12</td>\n",
       "      <td>12</td>\n",
       "      <td>11</td>\n",
       "      <td>109.09</td>\n",
       "      <td>2</td>\n",
       "      <td>0</td>\n",
       "      <td>Bangladesh</td>\n",
       "      <td>Dhaka</td>\n",
       "      <td>2004-12-26</td>\n",
       "      <td>ODI # 2201</td>\n",
       "      <td>2004</td>\n",
       "      <td>0</td>\n",
       "    </tr>\n",
       "    <tr>\n",
       "      <th>2</th>\n",
       "      <td>7*</td>\n",
       "      <td>7</td>\n",
       "      <td>2</td>\n",
       "      <td>350</td>\n",
       "      <td>0</td>\n",
       "      <td>1</td>\n",
       "      <td>Bangladesh</td>\n",
       "      <td>Dhaka</td>\n",
       "      <td>2004-12-27</td>\n",
       "      <td>ODI # 2202</td>\n",
       "      <td>2004</td>\n",
       "      <td>1</td>\n",
       "    </tr>\n",
       "    <tr>\n",
       "      <th>3</th>\n",
       "      <td>3</td>\n",
       "      <td>3</td>\n",
       "      <td>7</td>\n",
       "      <td>42.85</td>\n",
       "      <td>0</td>\n",
       "      <td>0</td>\n",
       "      <td>Pakistan</td>\n",
       "      <td>Kochi</td>\n",
       "      <td>2005-04-02</td>\n",
       "      <td>ODI # 2235</td>\n",
       "      <td>2005</td>\n",
       "      <td>0</td>\n",
       "    </tr>\n",
       "    <tr>\n",
       "      <th>4</th>\n",
       "      <td>148</td>\n",
       "      <td>148</td>\n",
       "      <td>123</td>\n",
       "      <td>120.32</td>\n",
       "      <td>15</td>\n",
       "      <td>4</td>\n",
       "      <td>Pakistan</td>\n",
       "      <td>Visakhapatnam</td>\n",
       "      <td>2005-04-05</td>\n",
       "      <td>ODI # 2236</td>\n",
       "      <td>2005</td>\n",
       "      <td>0</td>\n",
       "    </tr>\n",
       "    <tr>\n",
       "      <th>...</th>\n",
       "      <td>...</td>\n",
       "      <td>...</td>\n",
       "      <td>...</td>\n",
       "      <td>...</td>\n",
       "      <td>...</td>\n",
       "      <td>...</td>\n",
       "      <td>...</td>\n",
       "      <td>...</td>\n",
       "      <td>...</td>\n",
       "      <td>...</td>\n",
       "      <td>...</td>\n",
       "      <td>...</td>\n",
       "    </tr>\n",
       "    <tr>\n",
       "      <th>344</th>\n",
       "      <td>28</td>\n",
       "      <td>28</td>\n",
       "      <td>52</td>\n",
       "      <td>53.84</td>\n",
       "      <td>3</td>\n",
       "      <td>0</td>\n",
       "      <td>Afghanistan</td>\n",
       "      <td>Southampton</td>\n",
       "      <td>2019-06-22</td>\n",
       "      <td>ODI # 4169</td>\n",
       "      <td>2019</td>\n",
       "      <td>0</td>\n",
       "    </tr>\n",
       "    <tr>\n",
       "      <th>345</th>\n",
       "      <td>56*</td>\n",
       "      <td>56</td>\n",
       "      <td>61</td>\n",
       "      <td>91.8</td>\n",
       "      <td>3</td>\n",
       "      <td>2</td>\n",
       "      <td>West Indies</td>\n",
       "      <td>Manchester</td>\n",
       "      <td>2019-06-27</td>\n",
       "      <td>ODI # 4175</td>\n",
       "      <td>2019</td>\n",
       "      <td>1</td>\n",
       "    </tr>\n",
       "    <tr>\n",
       "      <th>346</th>\n",
       "      <td>42*</td>\n",
       "      <td>42</td>\n",
       "      <td>31</td>\n",
       "      <td>135.48</td>\n",
       "      <td>4</td>\n",
       "      <td>1</td>\n",
       "      <td>England</td>\n",
       "      <td>Birmingham</td>\n",
       "      <td>2019-06-30</td>\n",
       "      <td>ODI # 4179</td>\n",
       "      <td>2019</td>\n",
       "      <td>1</td>\n",
       "    </tr>\n",
       "    <tr>\n",
       "      <th>347</th>\n",
       "      <td>35</td>\n",
       "      <td>35</td>\n",
       "      <td>33</td>\n",
       "      <td>106.06</td>\n",
       "      <td>4</td>\n",
       "      <td>0</td>\n",
       "      <td>Bangladesh</td>\n",
       "      <td>Birmingham</td>\n",
       "      <td>2019-07-02</td>\n",
       "      <td>ODI # 4182</td>\n",
       "      <td>2019</td>\n",
       "      <td>0</td>\n",
       "    </tr>\n",
       "    <tr>\n",
       "      <th>349</th>\n",
       "      <td>50</td>\n",
       "      <td>50</td>\n",
       "      <td>72</td>\n",
       "      <td>69.44</td>\n",
       "      <td>1</td>\n",
       "      <td>1</td>\n",
       "      <td>New Zealand</td>\n",
       "      <td>Manchester</td>\n",
       "      <td>2019-07-09</td>\n",
       "      <td>ODI # 4190</td>\n",
       "      <td>2019</td>\n",
       "      <td>0</td>\n",
       "    </tr>\n",
       "  </tbody>\n",
       "</table>\n",
       "<p>297 rows × 12 columns</p>\n",
       "</div>"
      ],
      "text/plain": [
       "    score runs_scored balls_faced strike_rate  fours  sixes   opposition  \\\n",
       "0       0           0           1           0      0      0   Bangladesh   \n",
       "1      12          12          11      109.09      2      0   Bangladesh   \n",
       "2      7*           7           2         350      0      1   Bangladesh   \n",
       "3       3           3           7       42.85      0      0     Pakistan   \n",
       "4     148         148         123      120.32     15      4     Pakistan   \n",
       "..    ...         ...         ...         ...    ...    ...          ...   \n",
       "344    28          28          52       53.84      3      0  Afghanistan   \n",
       "345   56*          56          61        91.8      3      2  West Indies   \n",
       "346   42*          42          31      135.48      4      1      England   \n",
       "347    35          35          33      106.06      4      0   Bangladesh   \n",
       "349    50          50          72       69.44      1      1  New Zealand   \n",
       "\n",
       "            ground       date  odi_number  year  not_out  \n",
       "0       Chattogram 2004-12-23  ODI # 2199  2004        0  \n",
       "1            Dhaka 2004-12-26  ODI # 2201  2004        0  \n",
       "2            Dhaka 2004-12-27  ODI # 2202  2004        1  \n",
       "3            Kochi 2005-04-02  ODI # 2235  2005        0  \n",
       "4    Visakhapatnam 2005-04-05  ODI # 2236  2005        0  \n",
       "..             ...        ...         ...   ...      ...  \n",
       "344    Southampton 2019-06-22  ODI # 4169  2019        0  \n",
       "345     Manchester 2019-06-27  ODI # 4175  2019        1  \n",
       "346     Birmingham 2019-06-30  ODI # 4179  2019        1  \n",
       "347     Birmingham 2019-07-02  ODI # 4182  2019        0  \n",
       "349     Manchester 2019-07-09  ODI # 4190  2019        0  \n",
       "\n",
       "[297 rows x 12 columns]"
      ]
     },
     "execution_count": 12,
     "metadata": {},
     "output_type": "execute_result"
    }
   ],
   "source": [
    "df1['score']=df1['score'].apply(str)\n",
    "df1['not_out']=np.where(df1['score'].str.endswith('*'),1,0)\n",
    "df1"
   ]
  },
  {
   "cell_type": "code",
   "execution_count": 13,
   "metadata": {},
   "outputs": [
    {
     "data": {
      "text/plain": [
       "not_out\n",
       "0    213\n",
       "1     84\n",
       "Name: count, dtype: int64"
      ]
     },
     "execution_count": 13,
     "metadata": {},
     "output_type": "execute_result"
    }
   ],
   "source": [
    "total_not_outs = df1['not_out'].value_counts()\n",
    "total_not_outs"
   ]
  },
  {
   "cell_type": "code",
   "execution_count": 14,
   "metadata": {},
   "outputs": [
    {
     "name": "stderr",
     "output_type": "stream",
     "text": [
      "C:\\Users\\dbda\\AppData\\Local\\Temp\\ipykernel_8\\1598755508.py:1: SettingWithCopyWarning: \n",
      "A value is trying to be set on a copy of a slice from a DataFrame.\n",
      "Try using .loc[row_indexer,col_indexer] = value instead\n",
      "\n",
      "See the caveats in the documentation: https://pandas.pydata.org/pandas-docs/stable/user_guide/indexing.html#returning-a-view-versus-a-copy\n",
      "  df1['runs_scored'] = df1['runs_scored'].astype(int)\n"
     ]
    },
    {
     "data": {
      "text/plain": [
       "10773"
      ]
     },
     "execution_count": 14,
     "metadata": {},
     "output_type": "execute_result"
    }
   ],
   "source": [
    "df1['runs_scored'] = df1['runs_scored'].astype(int)\n",
    "total_runs =df1['runs_scored'].sum()\n",
    "total_runs"
   ]
  },
  {
   "cell_type": "code",
   "execution_count": 15,
   "metadata": {},
   "outputs": [
    {
     "data": {
      "text/plain": [
       "50.57746478873239"
      ]
     },
     "execution_count": 15,
     "metadata": {},
     "output_type": "execute_result"
    }
   ],
   "source": [
    "average = total_runs/total_not_outs[0]\n",
    "average"
   ]
  },
  {
   "cell_type": "code",
   "execution_count": 16,
   "metadata": {},
   "outputs": [
    {
     "name": "stderr",
     "output_type": "stream",
     "text": [
      "C:\\Users\\dbda\\AppData\\Local\\Temp\\ipykernel_8\\1899845997.py:1: SettingWithCopyWarning: \n",
      "A value is trying to be set on a copy of a slice from a DataFrame\n",
      "\n",
      "See the caveats in the documentation: https://pandas.pydata.org/pandas-docs/stable/user_guide/indexing.html#returning-a-view-versus-a-copy\n",
      "  df1.drop(columns='odi_number',inplace=True)\n"
     ]
    }
   ],
   "source": [
    "df1.drop(columns='odi_number',inplace=True)\n"
   ]
  },
  {
   "cell_type": "code",
   "execution_count": 17,
   "metadata": {},
   "outputs": [
    {
     "data": {
      "text/html": [
       "<div>\n",
       "<style scoped>\n",
       "    .dataframe tbody tr th:only-of-type {\n",
       "        vertical-align: middle;\n",
       "    }\n",
       "\n",
       "    .dataframe tbody tr th {\n",
       "        vertical-align: top;\n",
       "    }\n",
       "\n",
       "    .dataframe thead th {\n",
       "        text-align: right;\n",
       "    }\n",
       "</style>\n",
       "<table border=\"1\" class=\"dataframe\">\n",
       "  <thead>\n",
       "    <tr style=\"text-align: right;\">\n",
       "      <th></th>\n",
       "      <th>score</th>\n",
       "      <th>runs_scored</th>\n",
       "      <th>balls_faced</th>\n",
       "      <th>strike_rate</th>\n",
       "      <th>fours</th>\n",
       "      <th>sixes</th>\n",
       "      <th>opposition</th>\n",
       "      <th>ground</th>\n",
       "      <th>date</th>\n",
       "      <th>year</th>\n",
       "      <th>not_out</th>\n",
       "    </tr>\n",
       "  </thead>\n",
       "  <tbody>\n",
       "    <tr>\n",
       "      <th>0</th>\n",
       "      <td>0</td>\n",
       "      <td>0</td>\n",
       "      <td>1</td>\n",
       "      <td>0</td>\n",
       "      <td>0</td>\n",
       "      <td>0</td>\n",
       "      <td>Bangladesh</td>\n",
       "      <td>Chattogram</td>\n",
       "      <td>2004-12-23</td>\n",
       "      <td>2004</td>\n",
       "      <td>0</td>\n",
       "    </tr>\n",
       "    <tr>\n",
       "      <th>1</th>\n",
       "      <td>12</td>\n",
       "      <td>12</td>\n",
       "      <td>11</td>\n",
       "      <td>109.09</td>\n",
       "      <td>2</td>\n",
       "      <td>0</td>\n",
       "      <td>Bangladesh</td>\n",
       "      <td>Dhaka</td>\n",
       "      <td>2004-12-26</td>\n",
       "      <td>2004</td>\n",
       "      <td>0</td>\n",
       "    </tr>\n",
       "    <tr>\n",
       "      <th>2</th>\n",
       "      <td>7*</td>\n",
       "      <td>7</td>\n",
       "      <td>2</td>\n",
       "      <td>350</td>\n",
       "      <td>0</td>\n",
       "      <td>1</td>\n",
       "      <td>Bangladesh</td>\n",
       "      <td>Dhaka</td>\n",
       "      <td>2004-12-27</td>\n",
       "      <td>2004</td>\n",
       "      <td>1</td>\n",
       "    </tr>\n",
       "    <tr>\n",
       "      <th>3</th>\n",
       "      <td>3</td>\n",
       "      <td>3</td>\n",
       "      <td>7</td>\n",
       "      <td>42.85</td>\n",
       "      <td>0</td>\n",
       "      <td>0</td>\n",
       "      <td>Pakistan</td>\n",
       "      <td>Kochi</td>\n",
       "      <td>2005-04-02</td>\n",
       "      <td>2005</td>\n",
       "      <td>0</td>\n",
       "    </tr>\n",
       "    <tr>\n",
       "      <th>4</th>\n",
       "      <td>148</td>\n",
       "      <td>148</td>\n",
       "      <td>123</td>\n",
       "      <td>120.32</td>\n",
       "      <td>15</td>\n",
       "      <td>4</td>\n",
       "      <td>Pakistan</td>\n",
       "      <td>Visakhapatnam</td>\n",
       "      <td>2005-04-05</td>\n",
       "      <td>2005</td>\n",
       "      <td>0</td>\n",
       "    </tr>\n",
       "    <tr>\n",
       "      <th>...</th>\n",
       "      <td>...</td>\n",
       "      <td>...</td>\n",
       "      <td>...</td>\n",
       "      <td>...</td>\n",
       "      <td>...</td>\n",
       "      <td>...</td>\n",
       "      <td>...</td>\n",
       "      <td>...</td>\n",
       "      <td>...</td>\n",
       "      <td>...</td>\n",
       "      <td>...</td>\n",
       "    </tr>\n",
       "    <tr>\n",
       "      <th>344</th>\n",
       "      <td>28</td>\n",
       "      <td>28</td>\n",
       "      <td>52</td>\n",
       "      <td>53.84</td>\n",
       "      <td>3</td>\n",
       "      <td>0</td>\n",
       "      <td>Afghanistan</td>\n",
       "      <td>Southampton</td>\n",
       "      <td>2019-06-22</td>\n",
       "      <td>2019</td>\n",
       "      <td>0</td>\n",
       "    </tr>\n",
       "    <tr>\n",
       "      <th>345</th>\n",
       "      <td>56*</td>\n",
       "      <td>56</td>\n",
       "      <td>61</td>\n",
       "      <td>91.8</td>\n",
       "      <td>3</td>\n",
       "      <td>2</td>\n",
       "      <td>West Indies</td>\n",
       "      <td>Manchester</td>\n",
       "      <td>2019-06-27</td>\n",
       "      <td>2019</td>\n",
       "      <td>1</td>\n",
       "    </tr>\n",
       "    <tr>\n",
       "      <th>346</th>\n",
       "      <td>42*</td>\n",
       "      <td>42</td>\n",
       "      <td>31</td>\n",
       "      <td>135.48</td>\n",
       "      <td>4</td>\n",
       "      <td>1</td>\n",
       "      <td>England</td>\n",
       "      <td>Birmingham</td>\n",
       "      <td>2019-06-30</td>\n",
       "      <td>2019</td>\n",
       "      <td>1</td>\n",
       "    </tr>\n",
       "    <tr>\n",
       "      <th>347</th>\n",
       "      <td>35</td>\n",
       "      <td>35</td>\n",
       "      <td>33</td>\n",
       "      <td>106.06</td>\n",
       "      <td>4</td>\n",
       "      <td>0</td>\n",
       "      <td>Bangladesh</td>\n",
       "      <td>Birmingham</td>\n",
       "      <td>2019-07-02</td>\n",
       "      <td>2019</td>\n",
       "      <td>0</td>\n",
       "    </tr>\n",
       "    <tr>\n",
       "      <th>349</th>\n",
       "      <td>50</td>\n",
       "      <td>50</td>\n",
       "      <td>72</td>\n",
       "      <td>69.44</td>\n",
       "      <td>1</td>\n",
       "      <td>1</td>\n",
       "      <td>New Zealand</td>\n",
       "      <td>Manchester</td>\n",
       "      <td>2019-07-09</td>\n",
       "      <td>2019</td>\n",
       "      <td>0</td>\n",
       "    </tr>\n",
       "  </tbody>\n",
       "</table>\n",
       "<p>297 rows × 11 columns</p>\n",
       "</div>"
      ],
      "text/plain": [
       "    score  runs_scored balls_faced strike_rate  fours  sixes   opposition  \\\n",
       "0       0            0           1           0      0      0   Bangladesh   \n",
       "1      12           12          11      109.09      2      0   Bangladesh   \n",
       "2      7*            7           2         350      0      1   Bangladesh   \n",
       "3       3            3           7       42.85      0      0     Pakistan   \n",
       "4     148          148         123      120.32     15      4     Pakistan   \n",
       "..    ...          ...         ...         ...    ...    ...          ...   \n",
       "344    28           28          52       53.84      3      0  Afghanistan   \n",
       "345   56*           56          61        91.8      3      2  West Indies   \n",
       "346   42*           42          31      135.48      4      1      England   \n",
       "347    35           35          33      106.06      4      0   Bangladesh   \n",
       "349    50           50          72       69.44      1      1  New Zealand   \n",
       "\n",
       "            ground       date  year  not_out  \n",
       "0       Chattogram 2004-12-23  2004        0  \n",
       "1            Dhaka 2004-12-26  2004        0  \n",
       "2            Dhaka 2004-12-27  2004        1  \n",
       "3            Kochi 2005-04-02  2005        0  \n",
       "4    Visakhapatnam 2005-04-05  2005        0  \n",
       "..             ...        ...   ...      ...  \n",
       "344    Southampton 2019-06-22  2019        0  \n",
       "345     Manchester 2019-06-27  2019        1  \n",
       "346     Birmingham 2019-06-30  2019        1  \n",
       "347     Birmingham 2019-07-02  2019        0  \n",
       "349     Manchester 2019-07-09  2019        0  \n",
       "\n",
       "[297 rows x 11 columns]"
      ]
     },
     "execution_count": 17,
     "metadata": {},
     "output_type": "execute_result"
    }
   ],
   "source": [
    "df1"
   ]
  },
  {
   "cell_type": "code",
   "execution_count": 52,
   "metadata": {},
   "outputs": [
    {
     "data": {
      "text/plain": [
       "year\n",
       "2004      19\n",
       "2005     895\n",
       "2006     821\n",
       "2007    1103\n",
       "2008    1097\n",
       "2009    1198\n",
       "2010     600\n",
       "2011     764\n",
       "2012     524\n",
       "2013     753\n",
       "2014     418\n",
       "2015     640\n",
       "2016     278\n",
       "2017     788\n",
       "2018     275\n",
       "2019     600\n",
       "Name: runs_scored, dtype: int32"
      ]
     },
     "execution_count": 52,
     "metadata": {},
     "output_type": "execute_result"
    }
   ],
   "source": [
    "runs_per_year = df1.groupby('year')['runs_scored'].sum()\n",
    "runs_per_year\n"
   ]
  },
  {
   "cell_type": "code",
   "execution_count": 53,
   "metadata": {},
   "outputs": [
    {
     "data": {
      "text/plain": [
       "[2004,\n",
       " 2005,\n",
       " 2006,\n",
       " 2007,\n",
       " 2008,\n",
       " 2009,\n",
       " 2010,\n",
       " 2011,\n",
       " 2012,\n",
       " 2013,\n",
       " 2014,\n",
       " 2015,\n",
       " 2016,\n",
       " 2017,\n",
       " 2018,\n",
       " 2019]"
      ]
     },
     "execution_count": 53,
     "metadata": {},
     "output_type": "execute_result"
    }
   ],
   "source": [
    "g = df1.groupby('year')\n",
    "g\n",
    "x=[]\n",
    "for i,data in g:\n",
    "    x.append(i)\n",
    "x"
   ]
  },
  {
   "cell_type": "code",
   "execution_count": 54,
   "metadata": {},
   "outputs": [
    {
     "data": {
      "text/plain": [
       "<Axes: ylabel='runs_scored'>"
      ]
     },
     "execution_count": 54,
     "metadata": {},
     "output_type": "execute_result"
    },
    {
     "data": {
      "image/png": "[encoded data removed]",
      "text/plain": [
       "<Figure size 640x480 with 1 Axes>"
      ]
     },
     "metadata": {},
     "output_type": "display_data"
    }
   ],
   "source": [
    "sn.barplot(x=x,y=runs_per_year)"
   ]
  },
  {
   "cell_type": "code",
   "execution_count": 21,
   "metadata": {},
   "outputs": [
    {
     "name": "stdout",
     "output_type": "stream",
     "text": [
      "<class 'pandas.core.frame.DataFrame'>\n",
      "Index: 297 entries, 0 to 349\n",
      "Data columns (total 11 columns):\n",
      " #   Column       Non-Null Count  Dtype         \n",
      "---  ------       --------------  -----         \n",
      " 0   score        297 non-null    object        \n",
      " 1   runs_scored  297 non-null    int32         \n",
      " 2   balls_faced  297 non-null    object        \n",
      " 3   strike_rate  297 non-null    object        \n",
      " 4   fours        297 non-null    int32         \n",
      " 5   sixes        297 non-null    int32         \n",
      " 6   opposition   297 non-null    object        \n",
      " 7   ground       297 non-null    object        \n",
      " 8   date         297 non-null    datetime64[ns]\n",
      " 9   year         297 non-null    int32         \n",
      " 10  not_out      297 non-null    int32         \n",
      "dtypes: datetime64[ns](1), int32(5), object(5)\n",
      "memory usage: 22.0+ KB\n"
     ]
    }
   ],
   "source": [
    "df1.info()"
   ]
  },
  {
   "cell_type": "code",
   "execution_count": null,
   "metadata": {},
   "outputs": [],
   "source": [
    "df1[\"balls_faced\"] = df1[\"balls_faced\"].astype(int)\n",
    "df1[\"strike_rate\"] = df1[\"strike_rate\"].astype(float)\n"
   ]
  },
  {
   "cell_type": "code",
   "execution_count": 55,
   "metadata": {},
   "outputs": [
    {
     "data": {
      "application/vnd.plotly.v1+json": {
       "config": {
        "plotlyServerURL": "https://plot.ly"
       },
       "data": [
        {
         "alignmentgroup": "True",
         "hovertemplate": "x=%{x}<br>y=%{y}<extra></extra>",
         "legendgroup": "",
         "marker": {
          "color": "#636efa",
          "pattern": {
           "shape": ""
          }
         },
         "name": "",
         "offsetgroup": "",
         "orientation": "v",
         "showlegend": false,
         "textposition": "auto",
         "type": "bar",
         "x": [
          2004,
          2005,
          2006,
          2007,
          2008,
          2009,
          2010,
          2011,
          2012,
          2013,
          2014,
          2015,
          2016,
          2017,
          2018,
          2019
         ],
         "xaxis": "x",
         "y": [
          19,
          895,
          821,
          1103,
          1097,
          1198,
          600,
          764,
          524,
          753,
          418,
          640,
          278,
          788,
          275,
          600
         ],
         "yaxis": "y"
        }
       ],
       "layout": {
        "barmode": "relative",
        "legend": {
         "tracegroupgap": 0
        },
        "margin": {
         "t": 60
        },
        "template": {
         "data": {
          "bar": [
           {
            "error_x": {
             "color": "#2a3f5f"
            },
            "error_y": {
             "color": "#2a3f5f"
            },
            "marker": {
             "line": {
              "color": "#E5ECF6",
              "width": 0.5
             },
             "pattern": {
              "fillmode": "overlay",
              "size": 10,
              "solidity": 0.2
             }
            },
            "type": "bar"
           }
          ],
          "barpolar": [
           {
            "marker": {
             "line": {
              "color": "#E5ECF6",
              "width": 0.5
             },
             "pattern": {
              "fillmode": "overlay",
              "size": 10,
              "solidity": 0.2
             }
            },
            "type": "barpolar"
           }
          ],
          "carpet": [
           {
            "aaxis": {
             "endlinecolor": "#2a3f5f",
             "gridcolor": "white",
             "linecolor": "white",
             "minorgridcolor": "white",
             "startlinecolor": "#2a3f5f"
            },
            "baxis": {
             "endlinecolor": "#2a3f5f",
             "gridcolor": "white",
             "linecolor": "white",
             "minorgridcolor": "white",
             "startlinecolor": "#2a3f5f"
            },
            "type": "carpet"
           }
          ],
          "choropleth": [
           {
            "colorbar": {
             "outlinewidth": 0,
             "ticks": ""
            },
            "type": "choropleth"
           }
          ],
          "contour": [
           {
            "colorbar": {
             "outlinewidth": 0,
             "ticks": ""
            },
            "colorscale": [
             [
              0,
              "#0d0887"
             ],
             [
              0.1111111111111111,
              "#46039f"
             ],
             [
              0.2222222222222222,
              "#7201a8"
             ],
             [
              0.3333333333333333,
              "#9c179e"
             ],
             [
              0.4444444444444444,
              "#bd3786"
             ],
             [
              0.5555555555555556,
              "#d8576b"
             ],
             [
              0.6666666666666666,
              "#ed7953"
             ],
             [
              0.7777777777777778,
              "#fb9f3a"
             ],
             [
              0.8888888888888888,
              "#fdca26"
             ],
             [
              1,
              "#f0f921"
             ]
            ],
            "type": "contour"
           }
          ],
          "contourcarpet": [
           {
            "colorbar": {
             "outlinewidth": 0,
             "ticks": ""
            },
            "type": "contourcarpet"
           }
          ],
          "heatmap": [
           {
            "colorbar": {
             "outlinewidth": 0,
             "ticks": ""
            },
            "colorscale": [
             [
              0,
              "#0d0887"
             ],
             [
              0.1111111111111111,
              "#46039f"
             ],
             [
              0.2222222222222222,
              "#7201a8"
             ],
             [
              0.3333333333333333,
              "#9c179e"
             ],
             [
              0.4444444444444444,
              "#bd3786"
             ],
             [
              0.5555555555555556,
              "#d8576b"
             ],
             [
              0.6666666666666666,
              "#ed7953"
             ],
             [
              0.7777777777777778,
              "#fb9f3a"
             ],
             [
              0.8888888888888888,
              "#fdca26"
             ],
             [
              1,
              "#f0f921"
             ]
            ],
            "type": "heatmap"
           }
          ],
          "heatmapgl": [
           {
            "colorbar": {
             "outlinewidth": 0,
             "ticks": ""
            },
            "colorscale": [
             [
              0,
              "#0d0887"
             ],
             [
              0.1111111111111111,
              "#46039f"
             ],
             [
              0.2222222222222222,
              "#7201a8"
             ],
             [
              0.3333333333333333,
              "#9c179e"
             ],
             [
              0.4444444444444444,
              "#bd3786"
             ],
             [
              0.5555555555555556,
              "#d8576b"
             ],
             [
              0.6666666666666666,
              "#ed7953"
             ],
             [
              0.7777777777777778,
              "#fb9f3a"
             ],
             [
              0.8888888888888888,
              "#fdca26"
             ],
             [
              1,
              "#f0f921"
             ]
            ],
            "type": "heatmapgl"
           }
          ],
          "histogram": [
           {
            "marker": {
             "pattern": {
              "fillmode": "overlay",
              "size": 10,
              "solidity": 0.2
             }
            },
            "type": "histogram"
           }
          ],
          "histogram2d": [
           {
            "colorbar": {
             "outlinewidth": 0,
             "ticks": ""
            },
            "colorscale": [
             [
              0,
              "#0d0887"
             ],
             [
              0.1111111111111111,
              "#46039f"
             ],
             [
              0.2222222222222222,
              "#7201a8"
             ],
             [
              0.3333333333333333,
              "#9c179e"
             ],
             [
              0.4444444444444444,
              "#bd3786"
             ],
             [
              0.5555555555555556,
              "#d8576b"
             ],
             [
              0.6666666666666666,
              "#ed7953"
             ],
             [
              0.7777777777777778,
              "#fb9f3a"
             ],
             [
              0.8888888888888888,
              "#fdca26"
             ],
             [
              1,
              "#f0f921"
             ]
            ],
            "type": "histogram2d"
           }
          ],
          "histogram2dcontour": [
           {
            "colorbar": {
             "outlinewidth": 0,
             "ticks": ""
            },
            "colorscale": [
             [
              0,
              "#0d0887"
             ],
             [
              0.1111111111111111,
              "#46039f"
             ],
             [
              0.2222222222222222,
              "#7201a8"
             ],
             [
              0.3333333333333333,
              "#9c179e"
             ],
             [
              0.4444444444444444,
              "#bd3786"
             ],
             [
              0.5555555555555556,
              "#d8576b"
             ],
             [
              0.6666666666666666,
              "#ed7953"
             ],
             [
              0.7777777777777778,
              "#fb9f3a"
             ],
             [
              0.8888888888888888,
              "#fdca26"
             ],
             [
              1,
              "#f0f921"
             ]
            ],
            "type": "histogram2dcontour"
           }
          ],
          "mesh3d": [
           {
            "colorbar": {
             "outlinewidth": 0,
             "ticks": ""
            },
            "type": "mesh3d"
           }
          ],
          "parcoords": [
           {
            "line": {
             "colorbar": {
              "outlinewidth": 0,
              "ticks": ""
             }
            },
            "type": "parcoords"
           }
          ],
          "pie": [
           {
            "automargin": true,
            "type": "pie"
           }
          ],
          "scatter": [
           {
            "fillpattern": {
             "fillmode": "overlay",
             "size": 10,
             "solidity": 0.2
            },
            "type": "scatter"
           }
          ],
          "scatter3d": [
           {
            "line": {
             "colorbar": {
              "outlinewidth": 0,
              "ticks": ""
             }
            },
            "marker": {
             "colorbar": {
              "outlinewidth": 0,
              "ticks": ""
             }
            },
            "type": "scatter3d"
           }
          ],
          "scattercarpet": [
           {
            "marker": {
             "colorbar": {
              "outlinewidth": 0,
              "ticks": ""
             }
            },
            "type": "scattercarpet"
           }
          ],
          "scattergeo": [
           {
            "marker": {
             "colorbar": {
              "outlinewidth": 0,
              "ticks": ""
             }
            },
            "type": "scattergeo"
           }
          ],
          "scattergl": [
           {
            "marker": {
             "colorbar": {
              "outlinewidth": 0,
              "ticks": ""
             }
            },
            "type": "scattergl"
           }
          ],
          "scattermapbox": [
           {
            "marker": {
             "colorbar": {
              "outlinewidth": 0,
              "ticks": ""
             }
            },
            "type": "scattermapbox"
           }
          ],
          "scatterpolar": [
           {
            "marker": {
             "colorbar": {
              "outlinewidth": 0,
              "ticks": ""
             }
            },
            "type": "scatterpolar"
           }
          ],
          "scatterpolargl": [
           {
            "marker": {
             "colorbar": {
              "outlinewidth": 0,
              "ticks": ""
             }
            },
            "type": "scatterpolargl"
           }
          ],
          "scatterternary": [
           {
            "marker": {
             "colorbar": {
              "outlinewidth": 0,
              "ticks": ""
             }
            },
            "type": "scatterternary"
           }
          ],
          "surface": [
           {
            "colorbar": {
             "outlinewidth": 0,
             "ticks": ""
            },
            "colorscale": [
             [
              0,
              "#0d0887"
             ],
             [
              0.1111111111111111,
              "#46039f"
             ],
             [
              0.2222222222222222,
              "#7201a8"
             ],
             [
              0.3333333333333333,
              "#9c179e"
             ],
             [
              0.4444444444444444,
              "#bd3786"
             ],
             [
              0.5555555555555556,
              "#d8576b"
             ],
             [
              0.6666666666666666,
              "#ed7953"
             ],
             [
              0.7777777777777778,
              "#fb9f3a"
             ],
             [
              0.8888888888888888,
              "#fdca26"
             ],
             [
              1,
              "#f0f921"
             ]
            ],
            "type": "surface"
           }
          ],
          "table": [
           {
            "cells": {
             "fill": {
              "color": "#EBF0F8"
             },
             "line": {
              "color": "white"
             }
            },
            "header": {
             "fill": {
              "color": "#C8D4E3"
             },
             "line": {
              "color": "white"
             }
            },
            "type": "table"
           }
          ]
         },
         "layout": {
          "annotationdefaults": {
           "arrowcolor": "#2a3f5f",
           "arrowhead": 0,
           "arrowwidth": 1
          },
          "autotypenumbers": "strict",
          "coloraxis": {
           "colorbar": {
            "outlinewidth": 0,
            "ticks": ""
           }
          },
          "colorscale": {
           "diverging": [
            [
             0,
             "#8e0152"
            ],
            [
             0.1,
             "#c51b7d"
            ],
            [
             0.2,
             "#de77ae"
            ],
            [
             0.3,
             "#f1b6da"
            ],
            [
             0.4,
             "#fde0ef"
            ],
            [
             0.5,
             "#f7f7f7"
            ],
            [
             0.6,
             "#e6f5d0"
            ],
            [
             0.7,
             "#b8e186"
            ],
            [
             0.8,
             "#7fbc41"
            ],
            [
             0.9,
             "#4d9221"
            ],
            [
             1,
             "#276419"
            ]
           ],
           "sequential": [
            [
             0,
             "#0d0887"
            ],
            [
             0.1111111111111111,
             "#46039f"
            ],
            [
             0.2222222222222222,
             "#7201a8"
            ],
            [
             0.3333333333333333,
             "#9c179e"
            ],
            [
             0.4444444444444444,
             "#bd3786"
            ],
            [
             0.5555555555555556,
             "#d8576b"
            ],
            [
             0.6666666666666666,
             "#ed7953"
            ],
            [
             0.7777777777777778,
             "#fb9f3a"
            ],
            [
             0.8888888888888888,
             "#fdca26"
            ],
            [
             1,
             "#f0f921"
            ]
           ],
           "sequentialminus": [
            [
             0,
             "#0d0887"
            ],
            [
             0.1111111111111111,
             "#46039f"
            ],
            [
             0.2222222222222222,
             "#7201a8"
            ],
            [
             0.3333333333333333,
             "#9c179e"
            ],
            [
             0.4444444444444444,
             "#bd3786"
            ],
            [
             0.5555555555555556,
             "#d8576b"
            ],
            [
             0.6666666666666666,
             "#ed7953"
            ],
            [
             0.7777777777777778,
             "#fb9f3a"
            ],
            [
             0.8888888888888888,
             "#fdca26"
            ],
            [
             1,
             "#f0f921"
            ]
           ]
          },
          "colorway": [
           "#636efa",
           "#EF553B",
           "#00cc96",
           "#ab63fa",
           "#FFA15A",
           "#19d3f3",
           "#FF6692",
           "#B6E880",
           "#FF97FF",
           "#FECB52"
          ],
          "font": {
           "color": "#2a3f5f"
          },
          "geo": {
           "bgcolor": "white",
           "lakecolor": "white",
           "landcolor": "#E5ECF6",
           "showlakes": true,
           "showland": true,
           "subunitcolor": "white"
          },
          "hoverlabel": {
           "align": "left"
          },
          "hovermode": "closest",
          "mapbox": {
           "style": "light"
          },
          "paper_bgcolor": "white",
          "plot_bgcolor": "#E5ECF6",
          "polar": {
           "angularaxis": {
            "gridcolor": "white",
            "linecolor": "white",
            "ticks": ""
           },
           "bgcolor": "#E5ECF6",
           "radialaxis": {
            "gridcolor": "white",
            "linecolor": "white",
            "ticks": ""
           }
          },
          "scene": {
           "xaxis": {
            "backgroundcolor": "#E5ECF6",
            "gridcolor": "white",
            "gridwidth": 2,
            "linecolor": "white",
            "showbackground": true,
            "ticks": "",
            "zerolinecolor": "white"
           },
           "yaxis": {
            "backgroundcolor": "#E5ECF6",
            "gridcolor": "white",
            "gridwidth": 2,
            "linecolor": "white",
            "showbackground": true,
            "ticks": "",
            "zerolinecolor": "white"
           },
           "zaxis": {
            "backgroundcolor": "#E5ECF6",
            "gridcolor": "white",
            "gridwidth": 2,
            "linecolor": "white",
            "showbackground": true,
            "ticks": "",
            "zerolinecolor": "white"
           }
          },
          "shapedefaults": {
           "line": {
            "color": "#2a3f5f"
           }
          },
          "ternary": {
           "aaxis": {
            "gridcolor": "white",
            "linecolor": "white",
            "ticks": ""
           },
           "baxis": {
            "gridcolor": "white",
            "linecolor": "white",
            "ticks": ""
           },
           "bgcolor": "#E5ECF6",
           "caxis": {
            "gridcolor": "white",
            "linecolor": "white",
            "ticks": ""
           }
          },
          "title": {
           "x": 0.05
          },
          "xaxis": {
           "automargin": true,
           "gridcolor": "white",
           "linecolor": "white",
           "ticks": "",
           "title": {
            "standoff": 15
           },
           "zerolinecolor": "white",
           "zerolinewidth": 2
          },
          "yaxis": {
           "automargin": true,
           "gridcolor": "white",
           "linecolor": "white",
           "ticks": "",
           "title": {
            "standoff": 15
           },
           "zerolinecolor": "white",
           "zerolinewidth": 2
          }
         }
        },
        "xaxis": {
         "anchor": "y",
         "domain": [
          0,
          1
         ],
         "title": {
          "text": "x"
         }
        },
        "yaxis": {
         "anchor": "x",
         "domain": [
          0,
          1
         ],
         "title": {
          "text": "y"
         }
        }
       }
      }
     },
     "metadata": {},
     "output_type": "display_data"
    }
   ],
   "source": [
    "px.bar(x=x,y=runs_per_year)"
   ]
  },
  {
   "cell_type": "code",
   "execution_count": 57,
   "metadata": {},
   "outputs": [
    {
     "data": {
      "image/png": "[encoded data removed]",
      "text/plain": [
       "<Figure size 1000x600 with 1 Axes>"
      ]
     },
     "metadata": {},
     "output_type": "display_data"
    }
   ],
   "source": [
    "import matplotlib.pyplot as plt\n",
    "df_grouped = df1.groupby('year')['runs_scored'].sum().reset_index()\n",
    "plt.figure(figsize=(10,6))\n",
    "plt.bar(df_grouped['year'],df_grouped['runs_scored'],color = 'skyblue',edgecolor='black')\n",
    "plt.title('Histogram of runs scored by year')\n",
    "plt.show()"
   ]
  },
  {
   "cell_type": "code",
   "execution_count": 66,
   "metadata": {},
   "outputs": [
    {
     "data": {
      "image/png": "[encoded data removed]",
      "text/plain": [
       "<Figure size 1000x600 with 1 Axes>"
      ]
     },
     "metadata": {},
     "output_type": "display_data"
    }
   ],
   "source": [
    "plt.figure(figsize=(10,6))\n",
    "plt.plot(df_grouped['year'],df_grouped['runs_scored'],linestyle=\"-\",color='b')\n",
    "plt.title('Runs Scored Year-Wise')\n",
    "plt.grid(axis='y')\n",
    "plt.show()"
   ]
  },
  {
   "cell_type": "code",
   "execution_count": 65,
   "metadata": {},
   "outputs": [
    {
     "data": {
      "image/png": "[encoded data removed]",
      "text/plain": [
       "<Figure size 1000x600 with 1 Axes>"
      ]
     },
     "metadata": {},
     "output_type": "display_data"
    }
   ],
   "source": [
    "plt.figure(figsize=(10,6))\n",
    "plt.hist(df_grouped['runs_scored'],bins=10,color = 'skyblue',edgecolor='black')\n",
    "plt.title('Histogram of runs scored')\n",
    "plt.xlabel('Runs Scored')\n",
    "plt.ylabel('Frequency')\n",
    "plt.grid(axis='y')\n",
    "plt.show()"
   ]
  },
  {
   "cell_type": "code",
   "execution_count": 24,
   "metadata": {},
   "outputs": [
    {
     "name": "stdout",
     "output_type": "stream",
     "text": [
      "First match:  December 23, 2004\n",
      "Last match:  July 09, 2019\n"
     ]
    }
   ],
   "source": [
    "first_match_date = df1['date'].dt.date.min().strftime('%B %d, %Y')\n",
    "first_match_date\n",
    "print('First match: ',first_match_date)\n",
    "last_match_date = df1['date'].dt.date.max().strftime('%B %d, %Y')\n",
    "last_match_date\n",
    "print('Last match: ',last_match_date)"
   ]
  },
  {
   "cell_type": "code",
   "execution_count": 25,
   "metadata": {},
   "outputs": [
    {
     "name": "stdout",
     "output_type": "stream",
     "text": [
      "number of matches played: 350\n"
     ]
    }
   ],
   "source": [
    "number_of_matches = df.shape[0]\n",
    "print(f'number of matches played: {number_of_matches}')"
   ]
  },
  {
   "cell_type": "code",
   "execution_count": 26,
   "metadata": {},
   "outputs": [
    {
     "name": "stdout",
     "output_type": "stream",
     "text": [
      "Number of innings: 297\n"
     ]
    }
   ],
   "source": [
    "number_of_inns = df1.shape[0]\n",
    "print(f'Number of innings: {number_of_inns}')"
   ]
  },
  {
   "cell_type": "code",
   "execution_count": 27,
   "metadata": {},
   "outputs": [
    {
     "name": "stdout",
     "output_type": "stream",
     "text": [
      "Not outs:  84\n"
     ]
    }
   ],
   "source": [
    "not_outs = df1['not_out'].sum()\n",
    "print('Not outs: ',not_outs)"
   ]
  },
  {
   "cell_type": "code",
   "execution_count": 28,
   "metadata": {},
   "outputs": [
    {
     "name": "stdout",
     "output_type": "stream",
     "text": [
      "total runs scored:  10773\n"
     ]
    }
   ],
   "source": [
    "total_runs =df1['runs_scored'].sum()\n",
    "print(\"total runs scored: \",total_runs)"
   ]
  },
  {
   "cell_type": "code",
   "execution_count": 29,
   "metadata": {},
   "outputs": [
    {
     "name": "stdout",
     "output_type": "stream",
     "text": [
      "highest run scored:  183\n"
     ]
    }
   ],
   "source": [
    "highest_runs =df1['runs_scored'].max()\n",
    "print(\"highest run scored: \",highest_runs)"
   ]
  },
  {
   "cell_type": "code",
   "execution_count": 30,
   "metadata": {},
   "outputs": [
    {
     "name": "stdout",
     "output_type": "stream",
     "text": [
      "Career avergae: 50.5775\n"
     ]
    }
   ],
   "source": [
    "career_avg = (total_runs / (number_of_inns - not_outs))\n",
    "print('Career avergae: {:.4f}'.format(career_avg))"
   ]
  },
  {
   "cell_type": "code",
   "execution_count": 31,
   "metadata": {},
   "outputs": [
    {
     "name": "stdout",
     "output_type": "stream",
     "text": [
      "Total balls faced in career:  12303\n"
     ]
    }
   ],
   "source": [
    "balls_faced = df1['balls_faced'].sum()\n",
    "print(f\"Total balls faced in career: \",balls_faced)"
   ]
  },
  {
   "cell_type": "code",
   "execution_count": 32,
   "metadata": {},
   "outputs": [
    {
     "name": "stdout",
     "output_type": "stream",
     "text": [
      "Career strike rate: 87.56\n"
     ]
    }
   ],
   "source": [
    "career_sr = (total_runs / balls_faced) * 100 \n",
    "print('Career strike rate: {:.2f}'.format(career_sr))"
   ]
  },
  {
   "cell_type": "code",
   "execution_count": 33,
   "metadata": {},
   "outputs": [
    {
     "name": "stdout",
     "output_type": "stream",
     "text": [
      "Number of 50's:  73 \n",
      "Number of 100's: 10\n"
     ]
    }
   ],
   "source": [
    "hundreds = df1.loc[(df1['runs_scored']>= 100)].shape[0]\n",
    "fifties = df1.loc[(df1['runs_scored']>=50) & (df1['runs_scored']<100)].shape[0]\n",
    "print(f\"Number of 50's:  {fifties} \\nNumber of 100's: {hundreds}\")"
   ]
  },
  {
   "cell_type": "code",
   "execution_count": 34,
   "metadata": {},
   "outputs": [],
   "source": [
    "import matplotlib.pyplot as plt"
   ]
  },
  {
   "cell_type": "code",
   "execution_count": 39,
   "metadata": {},
   "outputs": [
    {
     "name": "stdout",
     "output_type": "stream",
     "text": [
      "              runs_scored\n",
      "opposition               \n",
      "Afghanistan            36\n",
      "Africa XI             174\n",
      "Australia            1660\n",
      "Bangladesh            569\n",
      "Bermuda                29\n",
      "England              1546\n",
      "Hong Kong             109\n",
      "Ireland                34\n",
      "Netherlands            19\n",
      "New Zealand           940\n",
      "Pakistan             1231\n",
      "South Africa          830\n",
      "Sri Lanka            2383\n",
      "West Indies          1005\n",
      "Zimbabwe              208\n"
     ]
    },
    {
     "data": {
      "image/png": "[encoded data removed]",
      "text/plain": [
       "<Figure size 800x500 with 1 Axes>"
      ]
     },
     "metadata": {},
     "output_type": "display_data"
    }
   ],
   "source": [
    "runs_scored_by_opposition = pd.DataFrame(df1.groupby('opposition')['runs_scored'].sum())\n",
    "print(runs_scored_by_opposition)\n",
    "runs_scored_by_opposition.plot(kind = 'bar', title = 'Runs scored against different opp',figsize=(8,5))\n",
    "plt.show()"
   ]
  },
  {
   "cell_type": "code",
   "execution_count": 40,
   "metadata": {},
   "outputs": [
    {
     "name": "stdout",
     "output_type": "stream",
     "text": [
      "              runs_scored\n",
      "opposition               \n",
      "Afghanistan            36\n",
      "Africa XI             174\n",
      "Australia            1660\n",
      "Bangladesh            569\n",
      "Bermuda                29\n",
      "England              1546\n",
      "Hong Kong             109\n",
      "Ireland                34\n",
      "Netherlands            19\n",
      "New Zealand           940\n",
      "Pakistan             1231\n",
      "South Africa          830\n",
      "Sri Lanka            2383\n",
      "West Indies          1005\n",
      "Zimbabwe              208\n"
     ]
    },
    {
     "data": {
      "image/png": "[encoded data removed]",
      "text/plain": [
       "<Figure size 800x500 with 1 Axes>"
      ]
     },
     "metadata": {},
     "output_type": "display_data"
    }
   ],
   "source": [
    "runs_scored_by_opposition = pd.DataFrame(df1.groupby('opposition')['runs_scored'].sum())\n",
    "print(runs_scored_by_opposition)\n",
    "runs_scored_by_opposition.plot(kind = 'bar', title = 'Runs scored against different opp',figsize=(8,5))\n",
    "plt.xlabel('opposition')\n",
    "plt.ylabel('Runs Scored')\n",
    "plt.xticks(rotation = 50)\n",
    "plt.legend()\n",
    "plt.show()"
   ]
  },
  {
   "cell_type": "code",
   "execution_count": 43,
   "metadata": {},
   "outputs": [
    {
     "name": "stdout",
     "output_type": "stream",
     "text": [
      "              runs_scored\n",
      "opposition               \n",
      "Afghanistan            36\n",
      "Africa XI             174\n",
      "Australia            1660\n",
      "Bangladesh            569\n",
      "Bermuda                29\n",
      "England              1546\n",
      "Hong Kong             109\n",
      "Ireland                34\n",
      "Netherlands            19\n",
      "New Zealand           940\n",
      "Pakistan             1231\n",
      "South Africa          830\n",
      "Sri Lanka            2383\n",
      "West Indies          1005\n",
      "Zimbabwe              208\n"
     ]
    },
    {
     "data": {
      "image/png": "[encoded data removed]",
      "text/plain": [
       "<Figure size 800x500 with 1 Axes>"
      ]
     },
     "metadata": {},
     "output_type": "display_data"
    }
   ],
   "source": [
    "runs_scored_by_opposition = pd.DataFrame(df1.groupby('opposition')['runs_scored'].sum())\n",
    "print(runs_scored_by_opposition)\n",
    "runs_scored_by_opposition.plot(kind = 'bar', title = 'Runs scored against different opp',figsize=(8,5))\n",
    "plt.xlabel('opposition')\n",
    "plt.ylabel('Runs Scored')\n",
    "plt.xticks(rotation = 50)\n",
    "plt.legend()\n",
    "plt.show()"
   ]
  },
  {
   "cell_type": "code",
   "execution_count": 45,
   "metadata": {},
   "outputs": [
    {
     "name": "stdout",
     "output_type": "stream",
     "text": [
      "              runs_scored\n",
      "opposition               \n",
      "Sri Lanka            2383\n",
      "Australia            1660\n",
      "England              1546\n",
      "Pakistan             1231\n",
      "West Indies          1005\n",
      "New Zealand           940\n",
      "South Africa          830\n",
      "Bangladesh            569\n",
      "Zimbabwe              208\n",
      "Africa XI             174\n",
      "Hong Kong             109\n",
      "Afghanistan            36\n",
      "Ireland                34\n",
      "Bermuda                29\n",
      "Netherlands            19\n"
     ]
    },
    {
     "data": {
      "image/png": "[encoded data removed]",
      "text/plain": [
       "<Figure size 800x500 with 1 Axes>"
      ]
     },
     "metadata": {},
     "output_type": "display_data"
    }
   ],
   "source": [
    "sorted = runs_scored_by_opposition.sort_values(by='runs_scored',ascending=False)\n",
    "print(sorted)\n",
    "sorted.plot(kind='bar',title=\"Runs scored against different opp\",figsize=(8,5))\n",
    "plt.xlabel(None)\n",
    "plt.show()"
   ]
  },
  {
   "cell_type": "code",
   "execution_count": null,
   "metadata": {},
   "outputs": [],
   "source": []
  }
 ],
 "metadata": {
  "kernelspec": {
   "display_name": "base",
   "language": "python",
   "name": "python3"
  },
  "language_info": {
   "codemirror_mode": {
    "name": "ipython",
    "version": 3
   },
   "file_extension": ".py",
   "mimetype": "text/x-python",
   "name": "python",
   "nbconvert_exporter": "python",
   "pygments_lexer": "ipython3",
   "version": "3.11.5"
  }
 },
 "nbformat": 4,
 "nbformat_minor": 2
}
