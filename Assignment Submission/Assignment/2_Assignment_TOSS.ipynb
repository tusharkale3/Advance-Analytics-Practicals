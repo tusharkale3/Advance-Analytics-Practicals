{
 "cells": [
  {
   "cell_type": "code",
   "execution_count": 1,
   "id": "initial_id",
   "metadata": {
    "ExecuteTime": {
     "end_time": "2023-12-14T07:18:28.698351200Z",
     "start_time": "2023-12-14T07:18:28.043734700Z"
    },
    "collapsed": true
   },
   "outputs": [],
   "source": [
    "import pandas as pd\n",
    "import numpy as np\n",
    "import matplotlib.pyplot as plt"
   ]
  },
  {
   "cell_type": "code",
   "execution_count": 2,
   "id": "c3f62bae724bf639",
   "metadata": {
    "ExecuteTime": {
     "end_time": "2023-12-14T07:18:28.705604800Z",
     "start_time": "2023-12-14T07:18:28.701613800Z"
    },
    "collapsed": false
   },
   "outputs": [],
   "source": [
    "Toss = np.array([\"Won\",\"Lost\"])\n",
    "Res = np.array([\"match_won\",\"match_lost\"])"
   ]
  },
  {
   "cell_type": "code",
   "execution_count": 3,
   "id": "2866a206d78eb44d",
   "metadata": {
    "ExecuteTime": {
     "end_time": "2023-12-14T07:18:28.724985700Z",
     "start_time": "2023-12-14T07:18:28.704646400Z"
    },
    "collapsed": false
   },
   "outputs": [
    {
     "data": {
      "text/html": [
       "<div>\n",
       "<style scoped>\n",
       "    .dataframe tbody tr th:only-of-type {\n",
       "        vertical-align: middle;\n",
       "    }\n",
       "\n",
       "    .dataframe tbody tr th {\n",
       "        vertical-align: top;\n",
       "    }\n",
       "\n",
       "    .dataframe thead th {\n",
       "        text-align: right;\n",
       "    }\n",
       "</style>\n",
       "<table border=\"1\" class=\"dataframe\">\n",
       "  <thead>\n",
       "    <tr style=\"text-align: right;\">\n",
       "      <th></th>\n",
       "      <th>Toss</th>\n",
       "      <th>Result</th>\n",
       "    </tr>\n",
       "  </thead>\n",
       "  <tbody>\n",
       "    <tr>\n",
       "      <th>0</th>\n",
       "      <td>Lost</td>\n",
       "      <td>match_won</td>\n",
       "    </tr>\n",
       "    <tr>\n",
       "      <th>1</th>\n",
       "      <td>Won</td>\n",
       "      <td>match_won</td>\n",
       "    </tr>\n",
       "    <tr>\n",
       "      <th>2</th>\n",
       "      <td>Lost</td>\n",
       "      <td>match_won</td>\n",
       "    </tr>\n",
       "    <tr>\n",
       "      <th>3</th>\n",
       "      <td>Won</td>\n",
       "      <td>match_lost</td>\n",
       "    </tr>\n",
       "    <tr>\n",
       "      <th>4</th>\n",
       "      <td>Lost</td>\n",
       "      <td>match_lost</td>\n",
       "    </tr>\n",
       "    <tr>\n",
       "      <th>...</th>\n",
       "      <td>...</td>\n",
       "      <td>...</td>\n",
       "    </tr>\n",
       "    <tr>\n",
       "      <th>995</th>\n",
       "      <td>Lost</td>\n",
       "      <td>match_lost</td>\n",
       "    </tr>\n",
       "    <tr>\n",
       "      <th>996</th>\n",
       "      <td>Won</td>\n",
       "      <td>match_won</td>\n",
       "    </tr>\n",
       "    <tr>\n",
       "      <th>997</th>\n",
       "      <td>Lost</td>\n",
       "      <td>match_lost</td>\n",
       "    </tr>\n",
       "    <tr>\n",
       "      <th>998</th>\n",
       "      <td>Lost</td>\n",
       "      <td>match_won</td>\n",
       "    </tr>\n",
       "    <tr>\n",
       "      <th>999</th>\n",
       "      <td>Lost</td>\n",
       "      <td>match_won</td>\n",
       "    </tr>\n",
       "  </tbody>\n",
       "</table>\n",
       "<p>1000 rows × 2 columns</p>\n",
       "</div>"
      ],
      "text/plain": [
       "     Toss      Result\n",
       "0    Lost   match_won\n",
       "1     Won   match_won\n",
       "2    Lost   match_won\n",
       "3     Won  match_lost\n",
       "4    Lost  match_lost\n",
       "..    ...         ...\n",
       "995  Lost  match_lost\n",
       "996   Won   match_won\n",
       "997  Lost  match_lost\n",
       "998  Lost   match_won\n",
       "999  Lost   match_won\n",
       "\n",
       "[1000 rows x 2 columns]"
      ]
     },
     "execution_count": 3,
     "metadata": {},
     "output_type": "execute_result"
    }
   ],
   "source": [
    "toss_indices = np.random.choice(range(len(Toss)), size=1000)\n",
    "#x = np.random.choice(Toss,1000)\n",
    "result = np.random.choice(range(len(Res)), size=1000)\n",
    "data = {\"Toss\": Toss[toss_indices],\"Result\": Res[result]}\n",
    "df = pd.DataFrame(data)\n",
    "df"
   ]
  },
  {
   "cell_type": "code",
   "execution_count": 4,
   "id": "6d1cd6abc2b25de",
   "metadata": {
    "ExecuteTime": {
     "end_time": "2023-12-14T07:18:28.745397700Z",
     "start_time": "2023-12-14T07:18:28.720055700Z"
    },
    "collapsed": false
   },
   "outputs": [
    {
     "name": "stdout",
     "output_type": "stream",
     "text": [
      "0.501\n"
     ]
    }
   ],
   "source": [
    "#P(winning the match when the toss was won)\n",
    "# p(A|B) = P(AnB)/P(B) \n",
    "p_b = len(df[df[\"Toss\"]==\"Won\"])/len(df)\n",
    "print(p_b)"
   ]
  },
  {
   "cell_type": "code",
   "execution_count": 5,
   "id": "8c82e3ae025a2eff",
   "metadata": {
    "ExecuteTime": {
     "end_time": "2023-12-14T07:18:28.745606900Z",
     "start_time": "2023-12-14T07:18:28.728974700Z"
    },
    "collapsed": false
   },
   "outputs": [
    {
     "name": "stdout",
     "output_type": "stream",
     "text": [
      "0.255\n"
     ]
    }
   ],
   "source": [
    "p_a_and_b = len(df.query(\"Toss == 'Won' and Result == 'match_won'\"))/len(df)\n",
    "print(p_a_and_b)"
   ]
  },
  {
   "cell_type": "code",
   "execution_count": 9,
   "id": "af893ef0687675ec",
   "metadata": {
    "ExecuteTime": {
     "end_time": "2023-12-14T07:19:29.660243900Z",
     "start_time": "2023-12-14T07:19:29.650559700Z"
    },
    "collapsed": false
   },
   "outputs": [
    {
     "name": "stdout",
     "output_type": "stream",
     "text": [
      "probability of winning the match when toss was won 0.5089820359281437\n"
     ]
    }
   ],
   "source": [
    "p_a_given_b = p_a_and_b/p_b\n",
    "print(f\"probability of winning the match when toss was won {p_a_given_b}\")"
   ]
  },
  {
   "cell_type": "code",
   "execution_count": 7,
   "id": "29a71f8b3159df14",
   "metadata": {
    "ExecuteTime": {
     "end_time": "2023-12-14T07:18:28.767566900Z",
     "start_time": "2023-12-14T07:18:28.739643700Z"
    },
    "collapsed": false
   },
   "outputs": [
    {
     "name": "stdout",
     "output_type": "stream",
     "text": [
      "0.506\n"
     ]
    }
   ],
   "source": [
    "p_a = len(df[df[\"Result\"] == \"match_won\"]) / len(df)\n",
    "print(p_a)\n"
   ]
  },
  {
   "cell_type": "code",
   "execution_count": 10,
   "id": "381e93c92f27a1d7",
   "metadata": {
    "ExecuteTime": {
     "end_time": "2023-12-14T07:20:19.240958200Z",
     "start_time": "2023-12-14T07:20:19.233462500Z"
    },
    "collapsed": false
   },
   "outputs": [
    {
     "name": "stdout",
     "output_type": "stream",
     "text": [
      "probability that the toss was won and match was also won 0.5039525691699605\n"
     ]
    }
   ],
   "source": [
    "p_b_given_a = p_a_and_b/p_a\n",
    "print(f\"probability that the toss was won and match was also won {p_b_given_a}\")"
   ]
  },
  {
   "cell_type": "code",
   "execution_count": null,
   "id": "64e4eff966419393",
   "metadata": {
    "collapsed": false
   },
   "outputs": [],
   "source": []
  }
 ],
 "metadata": {
  "kernelspec": {
   "display_name": "Python 3",
   "language": "python",
   "name": "python3"
  },
  "language_info": {
   "codemirror_mode": {
    "name": "ipython",
    "version": 2
   },
   "file_extension": ".py",
   "mimetype": "text/x-python",
   "name": "python",
   "nbconvert_exporter": "python",
   "pygments_lexer": "ipython2",
   "version": "2.7.6"
  }
 },
 "nbformat": 4,
 "nbformat_minor": 5
}
