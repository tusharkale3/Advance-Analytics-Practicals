{
 "cells": [
  {
   "cell_type": "code",
   "execution_count": 1,
   "id": "initial_id",
   "metadata": {
    "collapsed": true,
    "ExecuteTime": {
     "end_time": "2023-12-14T09:40:42.776122200Z",
     "start_time": "2023-12-14T09:40:42.444177Z"
    }
   },
   "outputs": [],
   "source": [
    "import pandas as pd\n",
    "import numpy as np"
   ]
  },
  {
   "cell_type": "code",
   "execution_count": 2,
   "outputs": [
    {
     "data": {
      "text/plain": "     Result     Margin                      Match Home/Away      Ground  \\\n0      Lost  5 wickets        Australia v England      Away   Melbourne   \n1       Won  6 wickets        England v Australia      Home  Manchester   \n2      Lost  5 wickets        England v Australia      Home      Lord's   \n3       Won  2 wickets        England v Australia      Home  Birmingham   \n4       Won  7 wickets      England v New Zealand      Home     Swansea   \n...     ...        ...                        ...       ...         ...   \n5165   Lost  3 wickets     Afghanistan v Pakistan      Home       Leeds   \n5166   Lost    23 runs  Afghanistan v West Indies      Home       Leeds   \n5167   Lost  7 wickets  Afghanistan v West Indies      Home     Lucknow   \n5168   Lost    47 runs  Afghanistan v West Indies      Home     Lucknow   \n5169   Lost  5 wickets  Afghanistan v West Indies      Home     Lucknow   \n\n      Match Date Match Month  Match Year Match Period  Matches      Country  \n0     1971/01/05         Jan        1971     Jan 1971        1      England  \n1     1972/08/24         Aug        1972     Aug 1972        1      England  \n2     1972/08/26         Aug        1972     Aug 1972        1      England  \n3     1972/08/28         Aug        1972     Aug 1972        1      England  \n4     1973/07/18         Jul        1973     Jul 1973        1      England  \n...          ...         ...         ...          ...      ...          ...  \n5165  2019/06/29         Jun        2019     Jun 2019        1  Afghanistan  \n5166  2019/07/04         Jul        2019     Jul 2019        1  Afghanistan  \n5167  2019/11/06         Nov        2019     Nov 2019        1  Afghanistan  \n5168  2019/11/09         Nov        2019     Nov 2019        1  Afghanistan  \n5169  2019/11/11         Nov        2019     Nov 2019        1  Afghanistan  \n\n[8541 rows x 11 columns]",
      "text/html": "<div>\n<style scoped>\n    .dataframe tbody tr th:only-of-type {\n        vertical-align: middle;\n    }\n\n    .dataframe tbody tr th {\n        vertical-align: top;\n    }\n\n    .dataframe thead th {\n        text-align: right;\n    }\n</style>\n<table border=\"1\" class=\"dataframe\">\n  <thead>\n    <tr style=\"text-align: right;\">\n      <th></th>\n      <th>Result</th>\n      <th>Margin</th>\n      <th>Match</th>\n      <th>Home/Away</th>\n      <th>Ground</th>\n      <th>Match Date</th>\n      <th>Match Month</th>\n      <th>Match Year</th>\n      <th>Match Period</th>\n      <th>Matches</th>\n      <th>Country</th>\n    </tr>\n  </thead>\n  <tbody>\n    <tr>\n      <th>0</th>\n      <td>Lost</td>\n      <td>5 wickets</td>\n      <td>Australia v England</td>\n      <td>Away</td>\n      <td>Melbourne</td>\n      <td>1971/01/05</td>\n      <td>Jan</td>\n      <td>1971</td>\n      <td>Jan 1971</td>\n      <td>1</td>\n      <td>England</td>\n    </tr>\n    <tr>\n      <th>1</th>\n      <td>Won</td>\n      <td>6 wickets</td>\n      <td>England v Australia</td>\n      <td>Home</td>\n      <td>Manchester</td>\n      <td>1972/08/24</td>\n      <td>Aug</td>\n      <td>1972</td>\n      <td>Aug 1972</td>\n      <td>1</td>\n      <td>England</td>\n    </tr>\n    <tr>\n      <th>2</th>\n      <td>Lost</td>\n      <td>5 wickets</td>\n      <td>England v Australia</td>\n      <td>Home</td>\n      <td>Lord's</td>\n      <td>1972/08/26</td>\n      <td>Aug</td>\n      <td>1972</td>\n      <td>Aug 1972</td>\n      <td>1</td>\n      <td>England</td>\n    </tr>\n    <tr>\n      <th>3</th>\n      <td>Won</td>\n      <td>2 wickets</td>\n      <td>England v Australia</td>\n      <td>Home</td>\n      <td>Birmingham</td>\n      <td>1972/08/28</td>\n      <td>Aug</td>\n      <td>1972</td>\n      <td>Aug 1972</td>\n      <td>1</td>\n      <td>England</td>\n    </tr>\n    <tr>\n      <th>4</th>\n      <td>Won</td>\n      <td>7 wickets</td>\n      <td>England v New Zealand</td>\n      <td>Home</td>\n      <td>Swansea</td>\n      <td>1973/07/18</td>\n      <td>Jul</td>\n      <td>1973</td>\n      <td>Jul 1973</td>\n      <td>1</td>\n      <td>England</td>\n    </tr>\n    <tr>\n      <th>...</th>\n      <td>...</td>\n      <td>...</td>\n      <td>...</td>\n      <td>...</td>\n      <td>...</td>\n      <td>...</td>\n      <td>...</td>\n      <td>...</td>\n      <td>...</td>\n      <td>...</td>\n      <td>...</td>\n    </tr>\n    <tr>\n      <th>5165</th>\n      <td>Lost</td>\n      <td>3 wickets</td>\n      <td>Afghanistan v Pakistan</td>\n      <td>Home</td>\n      <td>Leeds</td>\n      <td>2019/06/29</td>\n      <td>Jun</td>\n      <td>2019</td>\n      <td>Jun 2019</td>\n      <td>1</td>\n      <td>Afghanistan</td>\n    </tr>\n    <tr>\n      <th>5166</th>\n      <td>Lost</td>\n      <td>23 runs</td>\n      <td>Afghanistan v West Indies</td>\n      <td>Home</td>\n      <td>Leeds</td>\n      <td>2019/07/04</td>\n      <td>Jul</td>\n      <td>2019</td>\n      <td>Jul 2019</td>\n      <td>1</td>\n      <td>Afghanistan</td>\n    </tr>\n    <tr>\n      <th>5167</th>\n      <td>Lost</td>\n      <td>7 wickets</td>\n      <td>Afghanistan v West Indies</td>\n      <td>Home</td>\n      <td>Lucknow</td>\n      <td>2019/11/06</td>\n      <td>Nov</td>\n      <td>2019</td>\n      <td>Nov 2019</td>\n      <td>1</td>\n      <td>Afghanistan</td>\n    </tr>\n    <tr>\n      <th>5168</th>\n      <td>Lost</td>\n      <td>47 runs</td>\n      <td>Afghanistan v West Indies</td>\n      <td>Home</td>\n      <td>Lucknow</td>\n      <td>2019/11/09</td>\n      <td>Nov</td>\n      <td>2019</td>\n      <td>Nov 2019</td>\n      <td>1</td>\n      <td>Afghanistan</td>\n    </tr>\n    <tr>\n      <th>5169</th>\n      <td>Lost</td>\n      <td>5 wickets</td>\n      <td>Afghanistan v West Indies</td>\n      <td>Home</td>\n      <td>Lucknow</td>\n      <td>2019/11/11</td>\n      <td>Nov</td>\n      <td>2019</td>\n      <td>Nov 2019</td>\n      <td>1</td>\n      <td>Afghanistan</td>\n    </tr>\n  </tbody>\n</table>\n<p>8541 rows × 11 columns</p>\n</div>"
     },
     "execution_count": 2,
     "metadata": {},
     "output_type": "execute_result"
    }
   ],
   "source": [
    "odi_20 = pd.read_csv('G:\\\\gb\\\\Advance Analytics\\\\Theory\\\\Day_3\\\\Men ODI Team Match Results - 20th Century.csv')\n",
    "odi_21 = pd.read_csv('G:\\\\gb\\\\Advance Analytics\\\\Theory\\\\Day_3\\\\Men ODI Team Match Results - 21st Century.csv')\n",
    "\n",
    "df = pd.concat([odi_20,odi_21],axis=0)\n",
    "df"
   ],
   "metadata": {
    "collapsed": false,
    "ExecuteTime": {
     "end_time": "2023-12-14T09:40:42.821150100Z",
     "start_time": "2023-12-14T09:40:42.779115800Z"
    }
   },
   "id": "3396160675854cee"
  },
  {
   "cell_type": "code",
   "execution_count": 3,
   "outputs": [
    {
     "name": "stdout",
     "output_type": "stream",
     "text": [
      "<class 'pandas.core.frame.DataFrame'>\n",
      "Index: 8541 entries, 0 to 5169\n",
      "Data columns (total 11 columns):\n",
      " #   Column        Non-Null Count  Dtype \n",
      "---  ------        --------------  ----- \n",
      " 0   Result        8541 non-null   object\n",
      " 1   Margin        8522 non-null   object\n",
      " 2   Match         8541 non-null   object\n",
      " 3   Home/Away     8541 non-null   object\n",
      " 4   Ground        8541 non-null   object\n",
      " 5   Match Date    8541 non-null   object\n",
      " 6   Match Month   8541 non-null   object\n",
      " 7   Match Year    8541 non-null   int64 \n",
      " 8   Match Period  8541 non-null   object\n",
      " 9   Matches       8541 non-null   int64 \n",
      " 10  Country       8541 non-null   object\n",
      "dtypes: int64(2), object(9)\n",
      "memory usage: 800.7+ KB\n"
     ]
    },
    {
     "data": {
      "text/plain": "Result\nWon     3999\nLost    3908\nN/R      291\nAban     207\nTied      76\nCanc      60\nName: count, dtype: int64"
     },
     "execution_count": 3,
     "metadata": {},
     "output_type": "execute_result"
    }
   ],
   "source": [
    "df.info()\n",
    "df['Result'].value_counts()"
   ],
   "metadata": {
    "collapsed": false,
    "ExecuteTime": {
     "end_time": "2023-12-14T09:40:42.834196100Z",
     "start_time": "2023-12-14T09:40:42.816164Z"
    }
   },
   "id": "3a4200ed3c451ee5"
  },
  {
   "cell_type": "code",
   "execution_count": 4,
   "outputs": [
    {
     "name": "stdout",
     "output_type": "stream",
     "text": [
      "     Result      Margin                Match Home/Away           Ground  \\\n",
      "1806   Lost   4 wickets      England v India      Away            Leeds   \n",
      "1807   Lost   6 wickets      England v India      Away         The Oval   \n",
      "1808   Lost    202 runs      England v India      Away           Lord's   \n",
      "1809    Won  10 wickets  East Africa v India      Away            Leeds   \n",
      "1810   Lost   4 wickets  India v New Zealand      Home       Manchester   \n",
      "...     ...         ...                  ...       ...              ...   \n",
      "2763    Won     36 runs    India v Australia      Home           Rajkot   \n",
      "2764    Won   7 wickets    India v Australia      Home        Bengaluru   \n",
      "2765   Lost   4 wickets  New Zealand v India      Away         Hamilton   \n",
      "2766   Lost     22 runs  New Zealand v India      Away         Auckland   \n",
      "2767   Lost   5 wickets  New Zealand v India      Away  Mount Maunganui   \n",
      "\n",
      "      Match Date Match Month  Match Year Match Period  Matches Country  \n",
      "1806  1974/07/13         Jul        1974     Jul 1974        1   India  \n",
      "1807  1974/07/15         Jul        1974     Jul 1974        1   India  \n",
      "1808  1975/06/07         Jun        1975     Jun 1975        1   India  \n",
      "1809  1975/06/11         Jun        1975     Jun 1975        1   India  \n",
      "1810  1975/06/14         Jun        1975     Jun 1975        1   India  \n",
      "...          ...         ...         ...          ...      ...     ...  \n",
      "2763  2020/01/17         Jan        2020     Jan 2020        1   India  \n",
      "2764  2020/01/19         Jan        2020     Jan 2020        1   India  \n",
      "2765  2020/02/05         Feb        2020     Feb 2020        1   India  \n",
      "2766  2020/02/08         Feb        2020     Feb 2020        1   India  \n",
      "2767  2020/02/11         Feb        2020     Feb 2020        1   India  \n",
      "\n",
      "[937 rows x 11 columns]\n"
     ]
    },
    {
     "data": {
      "text/plain": "Result\nWon     513\nLost    424\nName: count, dtype: int64"
     },
     "execution_count": 4,
     "metadata": {},
     "output_type": "execute_result"
    }
   ],
   "source": [
    "df1 = df[(df['Result']!=\"N/R\") & (df['Result']!=\"Aban\") & (df['Result']!=\"Tied\") & (df['Result']!=\"Canc\") & (df['Country']==\"India\")]\n",
    "print(df1)\n",
    "df1['Result'].value_counts()\n"
   ],
   "metadata": {
    "collapsed": false,
    "ExecuteTime": {
     "end_time": "2023-12-14T09:40:42.873191600Z",
     "start_time": "2023-12-14T09:40:42.831192500Z"
    }
   },
   "id": "bb5d352a6a4c816"
  },
  {
   "cell_type": "code",
   "execution_count": 5,
   "outputs": [
    {
     "data": {
      "text/plain": "     Result      Margin                Match Home/Away           Ground  \\\n1806   Lost   4 wickets      England v India      Away            Leeds   \n1807   Lost   6 wickets      England v India      Away         The Oval   \n1808   Lost    202 runs      England v India      Away           Lord's   \n1809    Won  10 wickets  East Africa v India      Away            Leeds   \n1810   Lost   4 wickets  India v New Zealand      Home       Manchester   \n...     ...         ...                  ...       ...              ...   \n2763    Won     36 runs    India v Australia      Home           Rajkot   \n2764    Won   7 wickets    India v Australia      Home        Bengaluru   \n2765   Lost   4 wickets  New Zealand v India      Away         Hamilton   \n2766   Lost     22 runs  New Zealand v India      Away         Auckland   \n2767   Lost   5 wickets  New Zealand v India      Away  Mount Maunganui   \n\n      Match Date Match Month  Match Year Match Period  Matches Country  \n1806  1974/07/13         Jul        1974     Jul 1974        1   India  \n1807  1974/07/15         Jul        1974     Jul 1974        1   India  \n1808  1975/06/07         Jun        1975     Jun 1975        1   India  \n1809  1975/06/11         Jun        1975     Jun 1975        1   India  \n1810  1975/06/14         Jun        1975     Jun 1975        1   India  \n...          ...         ...         ...          ...      ...     ...  \n2763  2020/01/17         Jan        2020     Jan 2020        1   India  \n2764  2020/01/19         Jan        2020     Jan 2020        1   India  \n2765  2020/02/05         Feb        2020     Feb 2020        1   India  \n2766  2020/02/08         Feb        2020     Feb 2020        1   India  \n2767  2020/02/11         Feb        2020     Feb 2020        1   India  \n\n[937 rows x 11 columns]",
      "text/html": "<div>\n<style scoped>\n    .dataframe tbody tr th:only-of-type {\n        vertical-align: middle;\n    }\n\n    .dataframe tbody tr th {\n        vertical-align: top;\n    }\n\n    .dataframe thead th {\n        text-align: right;\n    }\n</style>\n<table border=\"1\" class=\"dataframe\">\n  <thead>\n    <tr style=\"text-align: right;\">\n      <th></th>\n      <th>Result</th>\n      <th>Margin</th>\n      <th>Match</th>\n      <th>Home/Away</th>\n      <th>Ground</th>\n      <th>Match Date</th>\n      <th>Match Month</th>\n      <th>Match Year</th>\n      <th>Match Period</th>\n      <th>Matches</th>\n      <th>Country</th>\n    </tr>\n  </thead>\n  <tbody>\n    <tr>\n      <th>1806</th>\n      <td>Lost</td>\n      <td>4 wickets</td>\n      <td>England v India</td>\n      <td>Away</td>\n      <td>Leeds</td>\n      <td>1974/07/13</td>\n      <td>Jul</td>\n      <td>1974</td>\n      <td>Jul 1974</td>\n      <td>1</td>\n      <td>India</td>\n    </tr>\n    <tr>\n      <th>1807</th>\n      <td>Lost</td>\n      <td>6 wickets</td>\n      <td>England v India</td>\n      <td>Away</td>\n      <td>The Oval</td>\n      <td>1974/07/15</td>\n      <td>Jul</td>\n      <td>1974</td>\n      <td>Jul 1974</td>\n      <td>1</td>\n      <td>India</td>\n    </tr>\n    <tr>\n      <th>1808</th>\n      <td>Lost</td>\n      <td>202 runs</td>\n      <td>England v India</td>\n      <td>Away</td>\n      <td>Lord's</td>\n      <td>1975/06/07</td>\n      <td>Jun</td>\n      <td>1975</td>\n      <td>Jun 1975</td>\n      <td>1</td>\n      <td>India</td>\n    </tr>\n    <tr>\n      <th>1809</th>\n      <td>Won</td>\n      <td>10 wickets</td>\n      <td>East Africa v India</td>\n      <td>Away</td>\n      <td>Leeds</td>\n      <td>1975/06/11</td>\n      <td>Jun</td>\n      <td>1975</td>\n      <td>Jun 1975</td>\n      <td>1</td>\n      <td>India</td>\n    </tr>\n    <tr>\n      <th>1810</th>\n      <td>Lost</td>\n      <td>4 wickets</td>\n      <td>India v New Zealand</td>\n      <td>Home</td>\n      <td>Manchester</td>\n      <td>1975/06/14</td>\n      <td>Jun</td>\n      <td>1975</td>\n      <td>Jun 1975</td>\n      <td>1</td>\n      <td>India</td>\n    </tr>\n    <tr>\n      <th>...</th>\n      <td>...</td>\n      <td>...</td>\n      <td>...</td>\n      <td>...</td>\n      <td>...</td>\n      <td>...</td>\n      <td>...</td>\n      <td>...</td>\n      <td>...</td>\n      <td>...</td>\n      <td>...</td>\n    </tr>\n    <tr>\n      <th>2763</th>\n      <td>Won</td>\n      <td>36 runs</td>\n      <td>India v Australia</td>\n      <td>Home</td>\n      <td>Rajkot</td>\n      <td>2020/01/17</td>\n      <td>Jan</td>\n      <td>2020</td>\n      <td>Jan 2020</td>\n      <td>1</td>\n      <td>India</td>\n    </tr>\n    <tr>\n      <th>2764</th>\n      <td>Won</td>\n      <td>7 wickets</td>\n      <td>India v Australia</td>\n      <td>Home</td>\n      <td>Bengaluru</td>\n      <td>2020/01/19</td>\n      <td>Jan</td>\n      <td>2020</td>\n      <td>Jan 2020</td>\n      <td>1</td>\n      <td>India</td>\n    </tr>\n    <tr>\n      <th>2765</th>\n      <td>Lost</td>\n      <td>4 wickets</td>\n      <td>New Zealand v India</td>\n      <td>Away</td>\n      <td>Hamilton</td>\n      <td>2020/02/05</td>\n      <td>Feb</td>\n      <td>2020</td>\n      <td>Feb 2020</td>\n      <td>1</td>\n      <td>India</td>\n    </tr>\n    <tr>\n      <th>2766</th>\n      <td>Lost</td>\n      <td>22 runs</td>\n      <td>New Zealand v India</td>\n      <td>Away</td>\n      <td>Auckland</td>\n      <td>2020/02/08</td>\n      <td>Feb</td>\n      <td>2020</td>\n      <td>Feb 2020</td>\n      <td>1</td>\n      <td>India</td>\n    </tr>\n    <tr>\n      <th>2767</th>\n      <td>Lost</td>\n      <td>5 wickets</td>\n      <td>New Zealand v India</td>\n      <td>Away</td>\n      <td>Mount Maunganui</td>\n      <td>2020/02/11</td>\n      <td>Feb</td>\n      <td>2020</td>\n      <td>Feb 2020</td>\n      <td>1</td>\n      <td>India</td>\n    </tr>\n  </tbody>\n</table>\n<p>937 rows × 11 columns</p>\n</div>"
     },
     "execution_count": 5,
     "metadata": {},
     "output_type": "execute_result"
    }
   ],
   "source": [
    "df1"
   ],
   "metadata": {
    "collapsed": false,
    "ExecuteTime": {
     "end_time": "2023-12-14T09:40:42.897133300Z",
     "start_time": "2023-12-14T09:40:42.852912100Z"
    }
   },
   "id": "98ce37064ff999ff"
  },
  {
   "cell_type": "code",
   "execution_count": 6,
   "outputs": [
    {
     "name": "stderr",
     "output_type": "stream",
     "text": [
      "C:\\Users\\dbda\\AppData\\Local\\Temp\\ipykernel_14740\\1034472193.py:2: SettingWithCopyWarning: \n",
      "A value is trying to be set on a copy of a slice from a DataFrame\n",
      "\n",
      "See the caveats in the documentation: https://pandas.pydata.org/pandas-docs/stable/user_guide/indexing.html#returning-a-view-versus-a-copy\n",
      "  df1.rename(columns={'Home/Away':'Home_Away'},inplace=True)\n"
     ]
    }
   ],
   "source": [
    "\n",
    "df1.isna().sum()\n",
    "df1.rename(columns={'Home/Away':'Home_Away'},inplace=True)"
   ],
   "metadata": {
    "collapsed": false,
    "ExecuteTime": {
     "end_time": "2023-12-14T09:40:42.897133300Z",
     "start_time": "2023-12-14T09:40:42.856822900Z"
    }
   },
   "id": "7ab1f33eb775457d"
  },
  {
   "cell_type": "code",
   "execution_count": 7,
   "outputs": [
    {
     "name": "stdout",
     "output_type": "stream",
     "text": [
      "Probability of playing at home 0.6029882604055496\n",
      "Probability of Winning 0.5474919957310566\n",
      "Probability of playing at home and winning 0.35432230522945574\n"
     ]
    }
   ],
   "source": [
    "# Baye's Theorem\n",
    "# A = Playing At Home\n",
    "# B = Winning\n",
    "# P(A/B) = P(B/A).P(A)/P(B)\n",
    "p_a = len(df1[df1['Home_Away']=='Home'])/len(df1)\n",
    "p_b = len(df1[df1['Result']=='Won'])/len(df1)\n",
    "p_a_b = len(df1.query(\"Result == 'Won' and Home_Away=='Home'\"))/len(df1)\n",
    "print(f\"Probability of playing at home {p_a}\")\n",
    "print(f\"Probability of Winning {p_b}\")\n",
    "print(f\"Probability of playing at home and winning {p_a_b}\")"
   ],
   "metadata": {
    "collapsed": false,
    "ExecuteTime": {
     "end_time": "2023-12-14T09:40:42.898133Z",
     "start_time": "2023-12-14T09:40:42.865204900Z"
    }
   },
   "id": "f3275ec742ed8280"
  },
  {
   "cell_type": "code",
   "execution_count": 8,
   "outputs": [
    {
     "name": "stdout",
     "output_type": "stream",
     "text": [
      "Probability of winning at home 0.5876106194690266\n"
     ]
    }
   ],
   "source": [
    "P_winning_given_home = p_a_b/p_a\n",
    "print(f\"Probability of winning at home {P_winning_given_home }\")"
   ],
   "metadata": {
    "collapsed": false,
    "ExecuteTime": {
     "end_time": "2023-12-14T09:40:42.953146Z",
     "start_time": "2023-12-14T09:40:42.872707500Z"
    }
   },
   "id": "7cb63b450d166fa8"
  },
  {
   "cell_type": "code",
   "execution_count": 9,
   "outputs": [
    {
     "name": "stdout",
     "output_type": "stream",
     "text": [
      "Probability of at home and winnig 0.6471734892787525\n"
     ]
    }
   ],
   "source": [
    "p_home_given_won = p_a_b/p_b\n",
    "print(f\"Probability of at home and winnig {p_home_given_won}\")"
   ],
   "metadata": {
    "collapsed": false,
    "ExecuteTime": {
     "end_time": "2023-12-14T09:40:42.973603200Z",
     "start_time": "2023-12-14T09:40:42.875723100Z"
    }
   },
   "id": "2aba59de9e062449"
  },
  {
   "cell_type": "code",
   "execution_count": 10,
   "outputs": [
    {
     "name": "stdout",
     "output_type": "stream",
     "text": [
      "Probability of playing at home and winning 0.6471734892787525\n",
      "Probability of winning at home 0.5876106194690266\n"
     ]
    }
   ],
   "source": [
    "#cal using bayes\n",
    "p_a_given_b_bayes = (P_winning_given_home  * p_a)/p_b\n",
    "print(f\"Probability of playing at home and winning {p_a_given_b_bayes}\")\n",
    "\n",
    "p_b_given_a_bayes= (p_home_given_won * p_b)/p_a\n",
    "print(f\"Probability of winning at home {p_b_given_a_bayes}\")"
   ],
   "metadata": {
    "collapsed": false,
    "ExecuteTime": {
     "end_time": "2023-12-14T09:40:42.974601Z",
     "start_time": "2023-12-14T09:40:42.882852400Z"
    }
   },
   "id": "ed2ee2d3a2cd420a"
  },
  {
   "cell_type": "code",
   "execution_count": 11,
   "outputs": [
    {
     "name": "stdout",
     "output_type": "stream",
     "text": [
      "Probability of playing at Away 0.39701173959445035\n",
      "Probability of Winning 0.5474919957310566\n",
      "Probability of playing at away and winning 0.19316969050160085\n"
     ]
    }
   ],
   "source": [
    "#------------------------------------------------------------------------------------------------------\n",
    "# A = away\n",
    "# B = Winning\n",
    "p_Away = len(df1[df1['Home_Away']=='Away'])/len(df1)\n",
    "p_Won = len(df1[df1['Result']=='Won'])/len(df1)\n",
    "p_Away_Won = len(df1.query(\"Result == 'Won' and Home_Away=='Away'\"))/len(df1)\n",
    "print(f\"Probability of playing at Away {p_Away}\")\n",
    "print(f\"Probability of Winning {p_Won}\")\n",
    "print(f\"Probability of playing at away and winning {p_Away_Won}\")"
   ],
   "metadata": {
    "collapsed": false,
    "ExecuteTime": {
     "end_time": "2023-12-14T09:40:42.993549900Z",
     "start_time": "2023-12-14T09:40:42.888344500Z"
    }
   },
   "id": "235657e4a161dc4a"
  },
  {
   "cell_type": "code",
   "execution_count": 12,
   "outputs": [
    {
     "name": "stdout",
     "output_type": "stream",
     "text": [
      "Probability of winning at away 0.48655913978494625\n"
     ]
    }
   ],
   "source": [
    "P_winning_given_away = p_Away_Won/p_Away\n",
    "print(f\"Probability of winning at away {P_winning_given_away }\")"
   ],
   "metadata": {
    "collapsed": false,
    "ExecuteTime": {
     "end_time": "2023-12-14T09:40:42.995544800Z",
     "start_time": "2023-12-14T09:40:42.895184600Z"
    }
   },
   "id": "e752ac76a04dc3f9"
  },
  {
   "cell_type": "code",
   "execution_count": 12,
   "outputs": [],
   "source": [],
   "metadata": {
    "collapsed": false,
    "ExecuteTime": {
     "end_time": "2023-12-14T09:40:42.996544300Z",
     "start_time": "2023-12-14T09:40:42.899445Z"
    }
   },
   "id": "b655dae36afa09ea"
  },
  {
   "cell_type": "code",
   "execution_count": 13,
   "outputs": [
    {
     "name": "stdout",
     "output_type": "stream",
     "text": [
      "Probability of playing away and winning 0.35282651072124754\n"
     ]
    }
   ],
   "source": [
    "p_Away_given_winning = p_Away_Won/p_Won\n",
    "print(f\"Probability of playing away and winning {p_Away_given_winning}\")"
   ],
   "metadata": {
    "collapsed": false,
    "ExecuteTime": {
     "end_time": "2023-12-14T09:40:42.997539100Z",
     "start_time": "2023-12-14T09:40:42.903829600Z"
    }
   },
   "id": "a1be7de6007477c2"
  },
  {
   "cell_type": "code",
   "execution_count": 14,
   "outputs": [
    {
     "name": "stdout",
     "output_type": "stream",
     "text": [
      "Probability of playing away and winning 0.35282651072124754\n",
      "Probability of winning at away 0.48655913978494625\n"
     ]
    }
   ],
   "source": [
    "#cal using bayes\n",
    "p_Away_given_winning_bayes = (P_winning_given_away * p_Away)/p_Won\n",
    "print(f\"Probability of playing away and winning {p_Away_given_winning_bayes}\")\n",
    "\n",
    "p_winning_given_away_bayes = (p_Away_given_winning * p_Won)/p_Away\n",
    "print(f\"Probability of winning at away {p_winning_given_away_bayes}\")"
   ],
   "metadata": {
    "collapsed": false,
    "ExecuteTime": {
     "end_time": "2023-12-14T09:40:42.997539100Z",
     "start_time": "2023-12-14T09:40:42.907328500Z"
    }
   },
   "id": "b44046f947190a91"
  },
  {
   "cell_type": "code",
   "execution_count": null,
   "outputs": [],
   "source": [],
   "metadata": {
    "collapsed": false
   },
   "id": "9ff3d3c65ea0422c"
  }
 ],
 "metadata": {
  "kernelspec": {
   "display_name": "Python 3",
   "language": "python",
   "name": "python3"
  },
  "language_info": {
   "codemirror_mode": {
    "name": "ipython",
    "version": 2
   },
   "file_extension": ".py",
   "mimetype": "text/x-python",
   "name": "python",
   "nbconvert_exporter": "python",
   "pygments_lexer": "ipython2",
   "version": "2.7.6"
  }
 },
 "nbformat": 4,
 "nbformat_minor": 5
}
