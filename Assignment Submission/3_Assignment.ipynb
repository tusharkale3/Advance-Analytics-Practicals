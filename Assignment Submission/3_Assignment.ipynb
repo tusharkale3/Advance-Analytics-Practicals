{
 "cells": [
  {
   "cell_type": "code",
   "execution_count": 1,
   "id": "initial_id",
   "metadata": {
    "collapsed": true,
    "ExecuteTime": {
     "end_time": "2023-12-14T07:18:28.698351200Z",
     "start_time": "2023-12-14T07:18:28.043734700Z"
    }
   },
   "outputs": [],
   "source": [
    "import pandas as pd\n",
    "import numpy as np\n",
    "import matplotlib.pyplot as plt"
   ]
  },
  {
   "cell_type": "code",
   "execution_count": 2,
   "outputs": [],
   "source": [
    "Toss = np.array([\"Won\",\"Lost\"])\n",
    "Res = np.array([\"match_won\",\"match_lost\"])"
   ],
   "metadata": {
    "collapsed": false,
    "ExecuteTime": {
     "end_time": "2023-12-14T07:18:28.705604800Z",
     "start_time": "2023-12-14T07:18:28.701613800Z"
    }
   },
   "id": "c3f62bae724bf639"
  },
  {
   "cell_type": "code",
   "execution_count": 3,
   "outputs": [
    {
     "data": {
      "text/plain": "     Toss      Result\n0    Lost   match_won\n1     Won   match_won\n2    Lost   match_won\n3     Won  match_lost\n4    Lost  match_lost\n..    ...         ...\n995  Lost  match_lost\n996   Won   match_won\n997  Lost  match_lost\n998  Lost   match_won\n999  Lost   match_won\n\n[1000 rows x 2 columns]",
      "text/html": "<div>\n<style scoped>\n    .dataframe tbody tr th:only-of-type {\n        vertical-align: middle;\n    }\n\n    .dataframe tbody tr th {\n        vertical-align: top;\n    }\n\n    .dataframe thead th {\n        text-align: right;\n    }\n</style>\n<table border=\"1\" class=\"dataframe\">\n  <thead>\n    <tr style=\"text-align: right;\">\n      <th></th>\n      <th>Toss</th>\n      <th>Result</th>\n    </tr>\n  </thead>\n  <tbody>\n    <tr>\n      <th>0</th>\n      <td>Lost</td>\n      <td>match_won</td>\n    </tr>\n    <tr>\n      <th>1</th>\n      <td>Won</td>\n      <td>match_won</td>\n    </tr>\n    <tr>\n      <th>2</th>\n      <td>Lost</td>\n      <td>match_won</td>\n    </tr>\n    <tr>\n      <th>3</th>\n      <td>Won</td>\n      <td>match_lost</td>\n    </tr>\n    <tr>\n      <th>4</th>\n      <td>Lost</td>\n      <td>match_lost</td>\n    </tr>\n    <tr>\n      <th>...</th>\n      <td>...</td>\n      <td>...</td>\n    </tr>\n    <tr>\n      <th>995</th>\n      <td>Lost</td>\n      <td>match_lost</td>\n    </tr>\n    <tr>\n      <th>996</th>\n      <td>Won</td>\n      <td>match_won</td>\n    </tr>\n    <tr>\n      <th>997</th>\n      <td>Lost</td>\n      <td>match_lost</td>\n    </tr>\n    <tr>\n      <th>998</th>\n      <td>Lost</td>\n      <td>match_won</td>\n    </tr>\n    <tr>\n      <th>999</th>\n      <td>Lost</td>\n      <td>match_won</td>\n    </tr>\n  </tbody>\n</table>\n<p>1000 rows × 2 columns</p>\n</div>"
     },
     "execution_count": 3,
     "metadata": {},
     "output_type": "execute_result"
    }
   ],
   "source": [
    "toss_indices = np.random.choice(range(len(Toss)), size=1000)\n",
    "#x = np.random.choice(Toss,1000)\n",
    "result = np.random.choice(range(len(Res)), size=1000)\n",
    "data = {\"Toss\": Toss[toss_indices],\"Result\": Res[result]}\n",
    "df = pd.DataFrame(data)\n",
    "df"
   ],
   "metadata": {
    "collapsed": false,
    "ExecuteTime": {
     "end_time": "2023-12-14T07:18:28.724985700Z",
     "start_time": "2023-12-14T07:18:28.704646400Z"
    }
   },
   "id": "2866a206d78eb44d"
  },
  {
   "cell_type": "code",
   "execution_count": 4,
   "outputs": [
    {
     "name": "stdout",
     "output_type": "stream",
     "text": [
      "0.501\n"
     ]
    }
   ],
   "source": [
    "#P(winning the match when the toss was won)\n",
    "# p(A|B) = P(AnB)/P(B) \n",
    "p_b = len(df[df[\"Toss\"]==\"Won\"])/len(df)\n",
    "print(p_b)"
   ],
   "metadata": {
    "collapsed": false,
    "ExecuteTime": {
     "end_time": "2023-12-14T07:18:28.745397700Z",
     "start_time": "2023-12-14T07:18:28.720055700Z"
    }
   },
   "id": "6d1cd6abc2b25de"
  },
  {
   "cell_type": "code",
   "execution_count": 5,
   "outputs": [
    {
     "name": "stdout",
     "output_type": "stream",
     "text": [
      "0.255\n"
     ]
    }
   ],
   "source": [
    "p_a_and_b = len(df.query(\"Toss == 'Won' and Result == 'match_won'\"))/len(df)\n",
    "print(p_a_and_b)"
   ],
   "metadata": {
    "collapsed": false,
    "ExecuteTime": {
     "end_time": "2023-12-14T07:18:28.745606900Z",
     "start_time": "2023-12-14T07:18:28.728974700Z"
    }
   },
   "id": "8c82e3ae025a2eff"
  },
  {
   "cell_type": "code",
   "execution_count": 9,
   "outputs": [
    {
     "name": "stdout",
     "output_type": "stream",
     "text": [
      "probability of winning the match when toss was won 0.5089820359281437\n"
     ]
    }
   ],
   "source": [
    "p_a_given_b = p_a_and_b/p_b\n",
    "print(f\"probability of winning the match when toss was won {p_a_given_b}\")"
   ],
   "metadata": {
    "collapsed": false,
    "ExecuteTime": {
     "end_time": "2023-12-14T07:19:29.660243900Z",
     "start_time": "2023-12-14T07:19:29.650559700Z"
    }
   },
   "id": "af893ef0687675ec"
  },
  {
   "cell_type": "code",
   "execution_count": 7,
   "outputs": [
    {
     "name": "stdout",
     "output_type": "stream",
     "text": [
      "0.506\n"
     ]
    }
   ],
   "source": [
    "p_a = len(df[df[\"Result\"] == \"match_won\"]) / len(df)\n",
    "print(p_a)\n"
   ],
   "metadata": {
    "collapsed": false,
    "ExecuteTime": {
     "end_time": "2023-12-14T07:18:28.767566900Z",
     "start_time": "2023-12-14T07:18:28.739643700Z"
    }
   },
   "id": "29a71f8b3159df14"
  },
  {
   "cell_type": "code",
   "execution_count": 10,
   "outputs": [
    {
     "name": "stdout",
     "output_type": "stream",
     "text": [
      "probability that the toss was won and match was also won 0.5039525691699605\n"
     ]
    }
   ],
   "source": [
    "p_b_given_a = p_a_and_b/p_a\n",
    "print(f\"probability that the toss was won and match was also won {p_b_given_a}\")"
   ],
   "metadata": {
    "collapsed": false,
    "ExecuteTime": {
     "end_time": "2023-12-14T07:20:19.240958200Z",
     "start_time": "2023-12-14T07:20:19.233462500Z"
    }
   },
   "id": "381e93c92f27a1d7"
  },
  {
   "cell_type": "code",
   "execution_count": 14,
   "outputs": [],
   "source": [
    "\n"
   ],
   "metadata": {
    "collapsed": false,
    "ExecuteTime": {
     "end_time": "2023-12-14T07:24:06.358468400Z",
     "start_time": "2023-12-14T07:24:06.352963700Z"
    }
   },
   "id": "726d90d4d4e875cc"
  },
  {
   "cell_type": "code",
   "execution_count": 15,
   "outputs": [
    {
     "data": {
      "text/plain": "array(['Lost', 'Won', 'Lost', 'Won', 'Lost', 'Won', 'Won', 'Lost', 'Won',\n       'Lost', 'Won', 'Lost', 'Lost', 'Won', 'Won', 'Lost', 'Lost', 'Won',\n       'Won', 'Lost', 'Lost', 'Won', 'Lost', 'Won', 'Won', 'Won', 'Won',\n       'Won', 'Won', 'Lost', 'Lost', 'Won', 'Won', 'Lost', 'Won', 'Lost',\n       'Won', 'Won', 'Lost', 'Lost', 'Lost', 'Lost', 'Lost', 'Lost',\n       'Lost', 'Lost', 'Won', 'Lost', 'Won', 'Won', 'Lost', 'Lost',\n       'Lost', 'Lost', 'Won', 'Lost', 'Lost', 'Won', 'Lost', 'Won', 'Won',\n       'Won', 'Won', 'Lost', 'Won', 'Lost', 'Lost', 'Lost', 'Lost',\n       'Lost', 'Won', 'Lost', 'Lost', 'Lost', 'Won', 'Lost', 'Won',\n       'Lost', 'Lost', 'Lost', 'Lost', 'Lost', 'Lost', 'Lost', 'Won',\n       'Lost', 'Won', 'Lost', 'Won', 'Won', 'Won', 'Won', 'Lost', 'Lost',\n       'Lost', 'Lost', 'Won', 'Lost', 'Lost', 'Lost', 'Lost', 'Lost',\n       'Lost', 'Lost', 'Lost', 'Lost', 'Lost', 'Lost', 'Won', 'Won',\n       'Lost', 'Lost', 'Won', 'Won', 'Lost', 'Lost', 'Won', 'Lost',\n       'Lost', 'Lost', 'Won', 'Lost', 'Won', 'Lost', 'Lost', 'Lost',\n       'Lost', 'Won', 'Won', 'Won', 'Won', 'Won', 'Lost', 'Lost', 'Lost',\n       'Won', 'Lost', 'Lost', 'Won', 'Won', 'Won', 'Won', 'Lost', 'Won',\n       'Lost', 'Won', 'Won', 'Won', 'Lost', 'Lost', 'Won', 'Lost', 'Lost',\n       'Won', 'Lost', 'Lost', 'Won', 'Won', 'Lost', 'Won', 'Lost', 'Won',\n       'Won', 'Won', 'Won', 'Won', 'Lost', 'Won', 'Lost', 'Won', 'Won',\n       'Lost', 'Lost', 'Lost', 'Won', 'Won', 'Won', 'Won', 'Lost', 'Won',\n       'Lost', 'Lost', 'Won', 'Lost', 'Won', 'Won', 'Lost', 'Lost', 'Won',\n       'Lost', 'Lost', 'Lost', 'Lost', 'Lost', 'Won', 'Lost', 'Lost',\n       'Won', 'Won', 'Lost', 'Lost', 'Won', 'Lost', 'Lost', 'Won', 'Won',\n       'Lost', 'Lost', 'Won', 'Won', 'Lost', 'Won', 'Lost', 'Lost',\n       'Lost', 'Won', 'Lost', 'Lost', 'Won', 'Won', 'Won', 'Won', 'Lost',\n       'Lost', 'Lost', 'Lost', 'Lost', 'Won', 'Lost', 'Won', 'Won', 'Won',\n       'Won', 'Lost', 'Lost', 'Lost', 'Won', 'Lost', 'Won', 'Lost', 'Won',\n       'Won', 'Won', 'Lost', 'Lost', 'Won', 'Won', 'Won', 'Won', 'Won',\n       'Lost', 'Lost', 'Lost', 'Won', 'Won', 'Lost', 'Lost', 'Lost',\n       'Lost', 'Won', 'Won', 'Won', 'Lost', 'Lost', 'Won', 'Lost', 'Lost',\n       'Won', 'Won', 'Won', 'Won', 'Lost', 'Won', 'Won', 'Won', 'Won',\n       'Won', 'Lost', 'Won', 'Won', 'Lost', 'Won', 'Won', 'Lost', 'Lost',\n       'Lost', 'Won', 'Lost', 'Lost', 'Won', 'Won', 'Won', 'Won', 'Won',\n       'Lost', 'Won', 'Lost', 'Lost', 'Lost', 'Lost', 'Lost', 'Lost',\n       'Lost', 'Won', 'Lost', 'Lost', 'Won', 'Won', 'Won', 'Won', 'Lost',\n       'Won', 'Won', 'Won', 'Lost', 'Won', 'Won', 'Won', 'Lost', 'Won',\n       'Lost', 'Won', 'Won', 'Lost', 'Lost', 'Won', 'Lost', 'Lost', 'Won',\n       'Won', 'Won', 'Won', 'Lost', 'Lost', 'Lost', 'Won', 'Won', 'Won',\n       'Won', 'Won', 'Won', 'Won', 'Won', 'Won', 'Won', 'Won', 'Won',\n       'Won', 'Lost', 'Won', 'Won', 'Lost', 'Won', 'Lost', 'Lost', 'Lost',\n       'Won', 'Won', 'Lost', 'Lost', 'Lost', 'Won', 'Won', 'Won', 'Won',\n       'Won', 'Lost', 'Won', 'Won', 'Won', 'Lost', 'Won', 'Lost', 'Lost',\n       'Won', 'Won', 'Won', 'Lost', 'Won', 'Won', 'Lost', 'Lost', 'Won',\n       'Won', 'Lost', 'Lost', 'Lost', 'Won', 'Won', 'Lost', 'Won', 'Won',\n       'Lost', 'Lost', 'Won', 'Lost', 'Lost', 'Lost', 'Won', 'Won',\n       'Lost', 'Won', 'Lost', 'Won', 'Won', 'Lost', 'Lost', 'Lost', 'Won',\n       'Lost', 'Lost', 'Won', 'Lost', 'Won', 'Won', 'Won', 'Lost', 'Won',\n       'Lost', 'Won', 'Lost', 'Won', 'Won', 'Won', 'Lost', 'Lost', 'Won',\n       'Won', 'Lost', 'Won', 'Won', 'Lost', 'Won', 'Won', 'Lost', 'Lost',\n       'Lost', 'Lost', 'Lost', 'Lost', 'Won', 'Lost', 'Lost', 'Won',\n       'Lost', 'Lost', 'Won', 'Won', 'Won', 'Lost', 'Lost', 'Lost',\n       'Lost', 'Lost', 'Lost', 'Lost', 'Won', 'Lost', 'Lost', 'Won',\n       'Won', 'Lost', 'Lost', 'Lost', 'Won', 'Lost', 'Lost', 'Won',\n       'Lost', 'Won', 'Lost', 'Lost', 'Won', 'Won', 'Won', 'Won', 'Lost',\n       'Lost', 'Lost', 'Won', 'Won', 'Lost', 'Lost', 'Lost', 'Won', 'Won',\n       'Won', 'Lost', 'Won', 'Lost', 'Won', 'Won', 'Won', 'Won', 'Won',\n       'Won', 'Won', 'Lost', 'Lost', 'Won', 'Won', 'Lost', 'Won', 'Lost',\n       'Lost', 'Lost', 'Lost', 'Lost', 'Won', 'Lost', 'Won', 'Lost',\n       'Lost', 'Lost', 'Won', 'Won', 'Won', 'Won', 'Won', 'Won', 'Lost',\n       'Won', 'Lost', 'Won', 'Won', 'Won', 'Won', 'Lost', 'Won', 'Lost',\n       'Won', 'Won', 'Lost', 'Won', 'Lost', 'Lost', 'Won', 'Won', 'Lost',\n       'Lost', 'Lost', 'Won', 'Won', 'Lost', 'Won', 'Won', 'Won', 'Lost',\n       'Lost', 'Lost', 'Won', 'Won', 'Lost', 'Won', 'Won', 'Lost', 'Won',\n       'Won', 'Won', 'Lost', 'Won', 'Won', 'Lost', 'Lost', 'Won', 'Won',\n       'Lost', 'Lost', 'Won', 'Lost', 'Lost', 'Lost', 'Won', 'Lost',\n       'Lost', 'Lost', 'Won', 'Lost', 'Lost', 'Lost', 'Lost', 'Lost',\n       'Lost', 'Lost', 'Lost', 'Won', 'Won', 'Lost', 'Lost', 'Lost',\n       'Won', 'Won', 'Lost', 'Lost', 'Lost', 'Lost', 'Lost', 'Lost',\n       'Lost', 'Lost', 'Won', 'Lost', 'Won', 'Lost', 'Won', 'Lost',\n       'Lost', 'Lost', 'Won', 'Won', 'Lost', 'Lost', 'Lost', 'Won', 'Won',\n       'Won', 'Lost', 'Lost', 'Won', 'Won', 'Lost', 'Won', 'Won', 'Won',\n       'Lost', 'Lost', 'Lost', 'Won', 'Won', 'Lost', 'Lost', 'Won',\n       'Lost', 'Won', 'Lost', 'Lost', 'Lost', 'Lost', 'Lost', 'Won',\n       'Lost', 'Lost', 'Won', 'Won', 'Lost', 'Lost', 'Lost', 'Won', 'Won',\n       'Won', 'Won', 'Won', 'Lost', 'Won', 'Lost', 'Won', 'Won', 'Lost',\n       'Won', 'Won', 'Won', 'Lost', 'Won', 'Lost', 'Lost', 'Lost', 'Lost',\n       'Won', 'Won', 'Lost', 'Won', 'Won', 'Won', 'Lost', 'Lost', 'Lost',\n       'Won', 'Lost', 'Lost', 'Lost', 'Lost', 'Lost', 'Lost', 'Lost',\n       'Won', 'Won', 'Lost', 'Lost', 'Lost', 'Lost', 'Lost', 'Lost',\n       'Lost', 'Won', 'Won', 'Lost', 'Won', 'Lost', 'Lost', 'Lost', 'Won',\n       'Won', 'Won', 'Lost', 'Lost', 'Lost', 'Won', 'Lost', 'Lost',\n       'Lost', 'Won', 'Lost', 'Lost', 'Lost', 'Lost', 'Won', 'Won',\n       'Lost', 'Lost', 'Won', 'Won', 'Won', 'Lost', 'Lost', 'Won', 'Lost',\n       'Won', 'Won', 'Won', 'Won', 'Won', 'Lost', 'Lost', 'Lost', 'Lost',\n       'Won', 'Won', 'Won', 'Won', 'Won', 'Lost', 'Won', 'Lost', 'Lost',\n       'Won', 'Lost', 'Won', 'Lost', 'Lost', 'Lost', 'Won', 'Won', 'Won',\n       'Lost', 'Lost', 'Won', 'Won', 'Won', 'Won', 'Won', 'Lost', 'Won',\n       'Won', 'Lost', 'Won', 'Won', 'Won', 'Lost', 'Won', 'Lost', 'Lost',\n       'Lost', 'Won', 'Won', 'Won', 'Won', 'Won', 'Won', 'Lost', 'Lost',\n       'Won', 'Won', 'Lost', 'Won', 'Won', 'Lost', 'Lost', 'Lost', 'Lost',\n       'Lost', 'Lost', 'Lost', 'Won', 'Lost', 'Lost', 'Won', 'Won', 'Won',\n       'Lost', 'Lost', 'Won', 'Lost', 'Won', 'Won', 'Lost', 'Lost',\n       'Lost', 'Won', 'Won', 'Lost', 'Won', 'Won', 'Lost', 'Won', 'Won',\n       'Won', 'Lost', 'Won', 'Won', 'Won', 'Lost', 'Lost', 'Lost', 'Lost',\n       'Lost', 'Won', 'Lost', 'Lost', 'Lost', 'Lost', 'Lost', 'Lost',\n       'Won', 'Lost', 'Lost', 'Won', 'Lost', 'Lost', 'Lost', 'Lost',\n       'Won', 'Won', 'Lost', 'Lost', 'Lost', 'Won', 'Won', 'Lost', 'Won',\n       'Won', 'Lost', 'Lost', 'Lost', 'Won', 'Won', 'Lost', 'Lost',\n       'Lost', 'Won', 'Lost', 'Lost', 'Lost', 'Won', 'Lost', 'Won',\n       'Lost', 'Lost', 'Lost', 'Lost', 'Lost', 'Lost', 'Won', 'Lost',\n       'Lost', 'Lost', 'Lost', 'Lost', 'Lost', 'Lost', 'Won', 'Won',\n       'Lost', 'Won', 'Won', 'Won', 'Won', 'Lost', 'Lost', 'Won', 'Lost',\n       'Won', 'Won', 'Won', 'Lost', 'Lost', 'Won', 'Lost', 'Won', 'Lost',\n       'Won', 'Lost', 'Lost', 'Won', 'Lost', 'Won', 'Won', 'Lost', 'Won',\n       'Lost', 'Won', 'Won', 'Lost', 'Won', 'Lost', 'Lost', 'Won', 'Lost',\n       'Won', 'Lost', 'Lost', 'Won', 'Won', 'Lost', 'Won', 'Lost', 'Won',\n       'Won', 'Lost', 'Lost', 'Won', 'Won', 'Lost', 'Lost', 'Lost',\n       'Lost', 'Won', 'Lost', 'Won', 'Won', 'Lost', 'Lost', 'Won', 'Won',\n       'Won', 'Won', 'Lost', 'Lost', 'Won', 'Won', 'Won', 'Lost', 'Won',\n       'Won', 'Lost', 'Lost', 'Lost', 'Lost', 'Won', 'Lost', 'Lost',\n       'Lost', 'Lost', 'Lost', 'Lost', 'Lost', 'Won', 'Won', 'Won', 'Won',\n       'Won', 'Won', 'Lost', 'Lost', 'Won', 'Lost', 'Won', 'Lost', 'Lost',\n       'Won', 'Lost', 'Won', 'Won', 'Won', 'Won', 'Won', 'Won', 'Won',\n       'Lost', 'Won', 'Won', 'Lost', 'Won', 'Won', 'Won', 'Won', 'Won',\n       'Won', 'Won', 'Lost', 'Lost'], dtype='<U4')"
     },
     "execution_count": 15,
     "metadata": {},
     "output_type": "execute_result"
    }
   ],
   "source": [],
   "metadata": {
    "collapsed": false,
    "ExecuteTime": {
     "end_time": "2023-12-14T07:24:08.767809700Z",
     "start_time": "2023-12-14T07:24:08.746258700Z"
    }
   },
   "id": "e8acfe6e7204f5d0"
  },
  {
   "cell_type": "code",
   "execution_count": null,
   "outputs": [],
   "source": [],
   "metadata": {
    "collapsed": false
   },
   "id": "64e4eff966419393"
  }
 ],
 "metadata": {
  "kernelspec": {
   "display_name": "Python 3",
   "language": "python",
   "name": "python3"
  },
  "language_info": {
   "codemirror_mode": {
    "name": "ipython",
    "version": 2
   },
   "file_extension": ".py",
   "mimetype": "text/x-python",
   "name": "python",
   "nbconvert_exporter": "python",
   "pygments_lexer": "ipython2",
   "version": "2.7.6"
  }
 },
 "nbformat": 4,
 "nbformat_minor": 5
}
