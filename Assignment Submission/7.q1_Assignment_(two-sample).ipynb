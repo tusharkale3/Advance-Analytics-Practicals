{
 "cells": [
  {
   "cell_type": "code",
   "execution_count": 1,
   "id": "initial_id",
   "metadata": {
    "collapsed": true,
    "ExecuteTime": {
     "end_time": "2023-12-19T06:02:06.626786600Z",
     "start_time": "2023-12-19T06:02:05.621583Z"
    }
   },
   "outputs": [],
   "source": [
    "import numpy as np\n",
    "import pandas as pd \n",
    "import matplotlib.pyplot as plt\n",
    "from scipy.stats import t\n",
    "import scipy.stats as stats"
   ]
  },
  {
   "cell_type": "code",
   "execution_count": 2,
   "outputs": [
    {
     "name": "stderr",
     "output_type": "stream",
     "text": [
      "C:\\Users\\dbda\\AppData\\Local\\Temp\\ipykernel_17792\\3237904691.py:1: DtypeWarning: Columns (13,16,18,22,24,32,33,40,41,47,51) have mixed types. Specify dtype option on import or set low_memory=False.\n",
      "  df = pd.read_csv(\"G:\\\\gb\\\\Advance Analytics\\\\Theory\\\\Day_7\\\\women_shoe_prices.csv\")\n"
     ]
    }
   ],
   "source": [
    "df = pd.read_csv(\"G:\\\\gb\\\\Advance Analytics\\\\Theory\\\\Day_7\\\\women_shoe_prices.csv\")"
   ],
   "metadata": {
    "collapsed": false,
    "ExecuteTime": {
     "end_time": "2023-12-19T06:02:07.549366200Z",
     "start_time": "2023-12-19T06:02:06.627784Z"
    }
   },
   "id": "73d54474e35ac581"
  },
  {
   "cell_type": "code",
   "execution_count": 3,
   "outputs": [
    {
     "data": {
      "text/plain": "                         id       asins            brand  \\\n0      AVpe__eOilAPnD_xSt-H         NaN           Novica   \n1      AVpe__eOilAPnD_xSt-H         NaN           Novica   \n2      AVpe__eOilAPnD_xSt-H         NaN           Novica   \n3      AVpe__eOilAPnD_xSt-H         NaN           Novica   \n4      AVpe__eOilAPnD_xSt-H         NaN           Novica   \n...                     ...         ...              ...   \n33796  AVsUxZClnnc1JgDc4Mev         NaN           Novica   \n33797  AVsUyEcaU2_QcyX9Pb4g         NaN           Novica   \n33798  AVsUyEcaU2_QcyX9Pb4g         NaN           Novica   \n33799  AVticmzVnnc1JgDc5Uym  B06XZJTJBT  City Classified   \n33800  AVtidDQ-nnc1JgDc5U4Q  B0188Y3WM2           Vionic   \n\n                                    categories  colors  count  \\\n0      Access.,Clothing,Shoes,Women's Clothing  Purple    NaN   \n1      Access.,Clothing,Shoes,Women's Clothing  Purple    NaN   \n2      Access.,Clothing,Shoes,Women's Clothing  Purple    NaN   \n3      Access.,Clothing,Shoes,Women's Clothing  Purple    NaN   \n4      Access.,Clothing,Shoes,Women's Clothing  Purple    NaN   \n...                                        ...     ...    ...   \n33796  Access.,Clothing,Shoes,Women's Clothing    Blue    NaN   \n33797  Access.,Clothing,Shoes,Women's Clothing     Red    NaN   \n33798  Access.,Clothing,Shoes,Women's Clothing     Red    NaN   \n33799              Clothing,,Women,Shoes,Pumps     NaN    NaN   \n33800            Women,Shoes,Sandals,Clothing,     NaN    NaN   \n\n                  dateAdded           dateUpdated  \\\n0      2017-02-03T22:06:24Z  2017-03-28T11:53:51Z   \n1      2017-02-03T22:06:24Z  2017-03-28T11:53:51Z   \n2      2017-02-03T22:06:24Z  2017-03-28T11:53:51Z   \n3      2017-02-03T22:06:24Z  2017-03-28T11:53:51Z   \n4      2017-02-03T22:06:24Z  2017-03-28T11:53:51Z   \n...                     ...                   ...   \n33796  2017-03-28T11:55:43Z  2017-03-28T11:55:43Z   \n33797  2017-03-28T11:58:41Z  2017-03-28T11:58:41Z   \n33798  2017-03-28T11:58:41Z  2017-03-28T11:58:41Z   \n33799  2017-04-12T13:55:17Z  2017-04-13T20:44:29Z   \n33800  2017-04-12T13:57:14Z  2017-04-13T20:41:27Z   \n\n                                            descriptions      dimension  ...  \\\n0      [{\"dateSeen\":[\"2017-03-26T05:04:46.539Z\",\"2017...            NaN  ...   \n1      [{\"dateSeen\":[\"2017-03-26T05:04:46.539Z\",\"2017...            NaN  ...   \n2      [{\"dateSeen\":[\"2017-03-26T05:04:46.539Z\",\"2017...            NaN  ...   \n3      [{\"dateSeen\":[\"2017-03-26T05:04:46.539Z\",\"2017...            NaN  ...   \n4      [{\"dateSeen\":[\"2017-03-26T05:04:46.539Z\",\"2017...            NaN  ...   \n...                                                  ...            ...  ...   \n33796  [{\"dateSeen\":[\"2017-03-26T10:04:21.331Z\"],\"sou...            NaN  ...   \n33797  [{\"dateSeen\":[\"2017-03-26T18:48:59.335Z\"],\"sou...  30 in x 31 in  ...   \n33798  [{\"dateSeen\":[\"2017-03-26T18:48:59.335Z\"],\"sou...  30 in x 31 in  ...   \n33799                                                NaN            NaN  ...   \n33800                                                NaN            NaN  ...   \n\n                                                    skus  \\\n0      [{\"sourceURLs\":[\"https://www.overstock.com/Wor...   \n1      [{\"sourceURLs\":[\"https://www.overstock.com/Wor...   \n2      [{\"sourceURLs\":[\"https://www.overstock.com/Wor...   \n3      [{\"sourceURLs\":[\"https://www.overstock.com/Wor...   \n4      [{\"sourceURLs\":[\"https://www.overstock.com/Wor...   \n...                                                  ...   \n33796  [{\"sourceURLs\":[\"https://www.overstock.com/Wor...   \n33797  [{\"sourceURLs\":[\"https://www.overstock.com/Wor...   \n33798  [{\"sourceURLs\":[\"https://www.overstock.com/Wor...   \n33799                                                NaN   \n33800                                                NaN   \n\n                                              sourceURLs  upc vin  websiteIDs  \\\n0      https://www.overstock.com/Worldstock-Fair-Trad...  NaN NaN         NaN   \n1      https://www.overstock.com/Worldstock-Fair-Trad...  NaN NaN         NaN   \n2      https://www.overstock.com/Worldstock-Fair-Trad...  NaN NaN         NaN   \n3      https://www.overstock.com/Worldstock-Fair-Trad...  NaN NaN         NaN   \n4      https://www.overstock.com/Worldstock-Fair-Trad...  NaN NaN         NaN   \n...                                                  ...  ...  ..         ...   \n33796  https://www.overstock.com/Worldstock-Fair-Trad...  NaN NaN         NaN   \n33797  https://www.overstock.com/Worldstock-Fair-Trad...  NaN NaN         NaN   \n33798  https://www.overstock.com/Worldstock-Fair-Trad...  NaN NaN         NaN   \n33799  https://www.amazon.com/City-Classified-Womens-...  NaN NaN         NaN   \n33800  https://www.amazon.com/Vionic-Orthaheel-Techno...  NaN NaN         NaN   \n\n      weight Unnamed: 48 Unnamed: 49 Unnamed: 50 Unnamed: 51  \n0        NaN         NaN         NaN         NaN         NaN  \n1        NaN         NaN         NaN         NaN         NaN  \n2        NaN         NaN         NaN         NaN         NaN  \n3        NaN         NaN         NaN         NaN         NaN  \n4        NaN         NaN         NaN         NaN         NaN  \n...      ...         ...         ...         ...         ...  \n33796    NaN         NaN         NaN         NaN         NaN  \n33797    NaN         NaN         NaN         NaN         NaN  \n33798    NaN         NaN         NaN         NaN         NaN  \n33799    NaN         NaN         NaN         NaN         NaN  \n33800    NaN         NaN         NaN         NaN         NaN  \n\n[33801 rows x 52 columns]",
      "text/html": "<div>\n<style scoped>\n    .dataframe tbody tr th:only-of-type {\n        vertical-align: middle;\n    }\n\n    .dataframe tbody tr th {\n        vertical-align: top;\n    }\n\n    .dataframe thead th {\n        text-align: right;\n    }\n</style>\n<table border=\"1\" class=\"dataframe\">\n  <thead>\n    <tr style=\"text-align: right;\">\n      <th></th>\n      <th>id</th>\n      <th>asins</th>\n      <th>brand</th>\n      <th>categories</th>\n      <th>colors</th>\n      <th>count</th>\n      <th>dateAdded</th>\n      <th>dateUpdated</th>\n      <th>descriptions</th>\n      <th>dimension</th>\n      <th>...</th>\n      <th>skus</th>\n      <th>sourceURLs</th>\n      <th>upc</th>\n      <th>vin</th>\n      <th>websiteIDs</th>\n      <th>weight</th>\n      <th>Unnamed: 48</th>\n      <th>Unnamed: 49</th>\n      <th>Unnamed: 50</th>\n      <th>Unnamed: 51</th>\n    </tr>\n  </thead>\n  <tbody>\n    <tr>\n      <th>0</th>\n      <td>AVpe__eOilAPnD_xSt-H</td>\n      <td>NaN</td>\n      <td>Novica</td>\n      <td>Access.,Clothing,Shoes,Women's Clothing</td>\n      <td>Purple</td>\n      <td>NaN</td>\n      <td>2017-02-03T22:06:24Z</td>\n      <td>2017-03-28T11:53:51Z</td>\n      <td>[{\"dateSeen\":[\"2017-03-26T05:04:46.539Z\",\"2017...</td>\n      <td>NaN</td>\n      <td>...</td>\n      <td>[{\"sourceURLs\":[\"https://www.overstock.com/Wor...</td>\n      <td>https://www.overstock.com/Worldstock-Fair-Trad...</td>\n      <td>NaN</td>\n      <td>NaN</td>\n      <td>NaN</td>\n      <td>NaN</td>\n      <td>NaN</td>\n      <td>NaN</td>\n      <td>NaN</td>\n      <td>NaN</td>\n    </tr>\n    <tr>\n      <th>1</th>\n      <td>AVpe__eOilAPnD_xSt-H</td>\n      <td>NaN</td>\n      <td>Novica</td>\n      <td>Access.,Clothing,Shoes,Women's Clothing</td>\n      <td>Purple</td>\n      <td>NaN</td>\n      <td>2017-02-03T22:06:24Z</td>\n      <td>2017-03-28T11:53:51Z</td>\n      <td>[{\"dateSeen\":[\"2017-03-26T05:04:46.539Z\",\"2017...</td>\n      <td>NaN</td>\n      <td>...</td>\n      <td>[{\"sourceURLs\":[\"https://www.overstock.com/Wor...</td>\n      <td>https://www.overstock.com/Worldstock-Fair-Trad...</td>\n      <td>NaN</td>\n      <td>NaN</td>\n      <td>NaN</td>\n      <td>NaN</td>\n      <td>NaN</td>\n      <td>NaN</td>\n      <td>NaN</td>\n      <td>NaN</td>\n    </tr>\n    <tr>\n      <th>2</th>\n      <td>AVpe__eOilAPnD_xSt-H</td>\n      <td>NaN</td>\n      <td>Novica</td>\n      <td>Access.,Clothing,Shoes,Women's Clothing</td>\n      <td>Purple</td>\n      <td>NaN</td>\n      <td>2017-02-03T22:06:24Z</td>\n      <td>2017-03-28T11:53:51Z</td>\n      <td>[{\"dateSeen\":[\"2017-03-26T05:04:46.539Z\",\"2017...</td>\n      <td>NaN</td>\n      <td>...</td>\n      <td>[{\"sourceURLs\":[\"https://www.overstock.com/Wor...</td>\n      <td>https://www.overstock.com/Worldstock-Fair-Trad...</td>\n      <td>NaN</td>\n      <td>NaN</td>\n      <td>NaN</td>\n      <td>NaN</td>\n      <td>NaN</td>\n      <td>NaN</td>\n      <td>NaN</td>\n      <td>NaN</td>\n    </tr>\n    <tr>\n      <th>3</th>\n      <td>AVpe__eOilAPnD_xSt-H</td>\n      <td>NaN</td>\n      <td>Novica</td>\n      <td>Access.,Clothing,Shoes,Women's Clothing</td>\n      <td>Purple</td>\n      <td>NaN</td>\n      <td>2017-02-03T22:06:24Z</td>\n      <td>2017-03-28T11:53:51Z</td>\n      <td>[{\"dateSeen\":[\"2017-03-26T05:04:46.539Z\",\"2017...</td>\n      <td>NaN</td>\n      <td>...</td>\n      <td>[{\"sourceURLs\":[\"https://www.overstock.com/Wor...</td>\n      <td>https://www.overstock.com/Worldstock-Fair-Trad...</td>\n      <td>NaN</td>\n      <td>NaN</td>\n      <td>NaN</td>\n      <td>NaN</td>\n      <td>NaN</td>\n      <td>NaN</td>\n      <td>NaN</td>\n      <td>NaN</td>\n    </tr>\n    <tr>\n      <th>4</th>\n      <td>AVpe__eOilAPnD_xSt-H</td>\n      <td>NaN</td>\n      <td>Novica</td>\n      <td>Access.,Clothing,Shoes,Women's Clothing</td>\n      <td>Purple</td>\n      <td>NaN</td>\n      <td>2017-02-03T22:06:24Z</td>\n      <td>2017-03-28T11:53:51Z</td>\n      <td>[{\"dateSeen\":[\"2017-03-26T05:04:46.539Z\",\"2017...</td>\n      <td>NaN</td>\n      <td>...</td>\n      <td>[{\"sourceURLs\":[\"https://www.overstock.com/Wor...</td>\n      <td>https://www.overstock.com/Worldstock-Fair-Trad...</td>\n      <td>NaN</td>\n      <td>NaN</td>\n      <td>NaN</td>\n      <td>NaN</td>\n      <td>NaN</td>\n      <td>NaN</td>\n      <td>NaN</td>\n      <td>NaN</td>\n    </tr>\n    <tr>\n      <th>...</th>\n      <td>...</td>\n      <td>...</td>\n      <td>...</td>\n      <td>...</td>\n      <td>...</td>\n      <td>...</td>\n      <td>...</td>\n      <td>...</td>\n      <td>...</td>\n      <td>...</td>\n      <td>...</td>\n      <td>...</td>\n      <td>...</td>\n      <td>...</td>\n      <td>...</td>\n      <td>...</td>\n      <td>...</td>\n      <td>...</td>\n      <td>...</td>\n      <td>...</td>\n      <td>...</td>\n    </tr>\n    <tr>\n      <th>33796</th>\n      <td>AVsUxZClnnc1JgDc4Mev</td>\n      <td>NaN</td>\n      <td>Novica</td>\n      <td>Access.,Clothing,Shoes,Women's Clothing</td>\n      <td>Blue</td>\n      <td>NaN</td>\n      <td>2017-03-28T11:55:43Z</td>\n      <td>2017-03-28T11:55:43Z</td>\n      <td>[{\"dateSeen\":[\"2017-03-26T10:04:21.331Z\"],\"sou...</td>\n      <td>NaN</td>\n      <td>...</td>\n      <td>[{\"sourceURLs\":[\"https://www.overstock.com/Wor...</td>\n      <td>https://www.overstock.com/Worldstock-Fair-Trad...</td>\n      <td>NaN</td>\n      <td>NaN</td>\n      <td>NaN</td>\n      <td>NaN</td>\n      <td>NaN</td>\n      <td>NaN</td>\n      <td>NaN</td>\n      <td>NaN</td>\n    </tr>\n    <tr>\n      <th>33797</th>\n      <td>AVsUyEcaU2_QcyX9Pb4g</td>\n      <td>NaN</td>\n      <td>Novica</td>\n      <td>Access.,Clothing,Shoes,Women's Clothing</td>\n      <td>Red</td>\n      <td>NaN</td>\n      <td>2017-03-28T11:58:41Z</td>\n      <td>2017-03-28T11:58:41Z</td>\n      <td>[{\"dateSeen\":[\"2017-03-26T18:48:59.335Z\"],\"sou...</td>\n      <td>30 in x 31 in</td>\n      <td>...</td>\n      <td>[{\"sourceURLs\":[\"https://www.overstock.com/Wor...</td>\n      <td>https://www.overstock.com/Worldstock-Fair-Trad...</td>\n      <td>NaN</td>\n      <td>NaN</td>\n      <td>NaN</td>\n      <td>NaN</td>\n      <td>NaN</td>\n      <td>NaN</td>\n      <td>NaN</td>\n      <td>NaN</td>\n    </tr>\n    <tr>\n      <th>33798</th>\n      <td>AVsUyEcaU2_QcyX9Pb4g</td>\n      <td>NaN</td>\n      <td>Novica</td>\n      <td>Access.,Clothing,Shoes,Women's Clothing</td>\n      <td>Red</td>\n      <td>NaN</td>\n      <td>2017-03-28T11:58:41Z</td>\n      <td>2017-03-28T11:58:41Z</td>\n      <td>[{\"dateSeen\":[\"2017-03-26T18:48:59.335Z\"],\"sou...</td>\n      <td>30 in x 31 in</td>\n      <td>...</td>\n      <td>[{\"sourceURLs\":[\"https://www.overstock.com/Wor...</td>\n      <td>https://www.overstock.com/Worldstock-Fair-Trad...</td>\n      <td>NaN</td>\n      <td>NaN</td>\n      <td>NaN</td>\n      <td>NaN</td>\n      <td>NaN</td>\n      <td>NaN</td>\n      <td>NaN</td>\n      <td>NaN</td>\n    </tr>\n    <tr>\n      <th>33799</th>\n      <td>AVticmzVnnc1JgDc5Uym</td>\n      <td>B06XZJTJBT</td>\n      <td>City Classified</td>\n      <td>Clothing,,Women,Shoes,Pumps</td>\n      <td>NaN</td>\n      <td>NaN</td>\n      <td>2017-04-12T13:55:17Z</td>\n      <td>2017-04-13T20:44:29Z</td>\n      <td>NaN</td>\n      <td>NaN</td>\n      <td>...</td>\n      <td>NaN</td>\n      <td>https://www.amazon.com/City-Classified-Womens-...</td>\n      <td>NaN</td>\n      <td>NaN</td>\n      <td>NaN</td>\n      <td>NaN</td>\n      <td>NaN</td>\n      <td>NaN</td>\n      <td>NaN</td>\n      <td>NaN</td>\n    </tr>\n    <tr>\n      <th>33800</th>\n      <td>AVtidDQ-nnc1JgDc5U4Q</td>\n      <td>B0188Y3WM2</td>\n      <td>Vionic</td>\n      <td>Women,Shoes,Sandals,Clothing,</td>\n      <td>NaN</td>\n      <td>NaN</td>\n      <td>2017-04-12T13:57:14Z</td>\n      <td>2017-04-13T20:41:27Z</td>\n      <td>NaN</td>\n      <td>NaN</td>\n      <td>...</td>\n      <td>NaN</td>\n      <td>https://www.amazon.com/Vionic-Orthaheel-Techno...</td>\n      <td>NaN</td>\n      <td>NaN</td>\n      <td>NaN</td>\n      <td>NaN</td>\n      <td>NaN</td>\n      <td>NaN</td>\n      <td>NaN</td>\n      <td>NaN</td>\n    </tr>\n  </tbody>\n</table>\n<p>33801 rows × 52 columns</p>\n</div>"
     },
     "execution_count": 3,
     "metadata": {},
     "output_type": "execute_result"
    }
   ],
   "source": [
    "df"
   ],
   "metadata": {
    "collapsed": false,
    "ExecuteTime": {
     "end_time": "2023-12-19T06:02:07.616316500Z",
     "start_time": "2023-12-19T06:02:07.546856600Z"
    }
   },
   "id": "7ca72084f42ebaf"
  },
  {
   "cell_type": "code",
   "execution_count": 4,
   "outputs": [
    {
     "name": "stdout",
     "output_type": "stream",
     "text": [
      "<class 'pandas.core.frame.DataFrame'>\n",
      "RangeIndex: 33801 entries, 0 to 33800\n",
      "Data columns (total 52 columns):\n",
      " #   Column               Non-Null Count  Dtype  \n",
      "---  ------               --------------  -----  \n",
      " 0   id                   33801 non-null  object \n",
      " 1   asins                2422 non-null   object \n",
      " 2   brand                32817 non-null  object \n",
      " 3   categories           33801 non-null  object \n",
      " 4   colors               19844 non-null  object \n",
      " 5   count                0 non-null      float64\n",
      " 6   dateAdded            33801 non-null  object \n",
      " 7   dateUpdated          33801 non-null  object \n",
      " 8   descriptions         28425 non-null  object \n",
      " 9   dimension            1177 non-null   object \n",
      " 10  ean                  9778 non-null   float64\n",
      " 11  features             27181 non-null  object \n",
      " 12  flavors              0 non-null      float64\n",
      " 13  imageURLs            22309 non-null  object \n",
      " 14  isbn                 0 non-null      float64\n",
      " 15  keys                 33801 non-null  object \n",
      " 16  manufacturer         9279 non-null   object \n",
      " 17  manufacturerNumber   31434 non-null  object \n",
      " 18  merchants            15382 non-null  object \n",
      " 19  name                 33801 non-null  object \n",
      " 20  prices.amountMin     33801 non-null  float64\n",
      " 21  prices.amountMax     33801 non-null  float64\n",
      " 22  prices.availability  307 non-null    object \n",
      " 23  prices.color         17421 non-null  object \n",
      " 24  prices.condition     12015 non-null  object \n",
      " 25  prices.count         0 non-null      float64\n",
      " 26  prices.currency      33801 non-null  object \n",
      " 27  prices.dateAdded     33801 non-null  object \n",
      " 28  prices.dateSeen      33801 non-null  object \n",
      " 29  prices.flavor        0 non-null      float64\n",
      " 30  prices.isSale        33801 non-null  bool   \n",
      " 31  prices.merchant      29926 non-null  object \n",
      " 32  prices.offer         6798 non-null   object \n",
      " 33  prices.returnPolicy  1374 non-null   object \n",
      " 34  prices.shipping      3948 non-null   object \n",
      " 35  prices.size          15391 non-null  object \n",
      " 36  prices.source        0 non-null      float64\n",
      " 37  prices.sourceURLs    33801 non-null  object \n",
      " 38  prices.warranty      0 non-null      float64\n",
      " 39  quantities           18490 non-null  object \n",
      " 40  reviews              4188 non-null   object \n",
      " 41  sizes                8602 non-null   object \n",
      " 42  skus                 22135 non-null  object \n",
      " 43  sourceURLs           33801 non-null  object \n",
      " 44  upc                  10724 non-null  float64\n",
      " 45  vin                  0 non-null      float64\n",
      " 46  websiteIDs           0 non-null      float64\n",
      " 47  weight               1263 non-null   object \n",
      " 48  Unnamed: 48          0 non-null      float64\n",
      " 49  Unnamed: 49          0 non-null      float64\n",
      " 50  Unnamed: 50          0 non-null      float64\n",
      " 51  Unnamed: 51          1 non-null      object \n",
      "dtypes: bool(1), float64(16), object(35)\n",
      "memory usage: 13.2+ MB\n"
     ]
    },
    {
     "data": {
      "text/plain": "                         id       asins            brand  \\\n0      AVpe__eOilAPnD_xSt-H         NaN           Novica   \n1      AVpe__eOilAPnD_xSt-H         NaN           Novica   \n2      AVpe__eOilAPnD_xSt-H         NaN           Novica   \n3      AVpe__eOilAPnD_xSt-H         NaN           Novica   \n4      AVpe__eOilAPnD_xSt-H         NaN           Novica   \n...                     ...         ...              ...   \n33796  AVsUxZClnnc1JgDc4Mev         NaN           Novica   \n33797  AVsUyEcaU2_QcyX9Pb4g         NaN           Novica   \n33798  AVsUyEcaU2_QcyX9Pb4g         NaN           Novica   \n33799  AVticmzVnnc1JgDc5Uym  B06XZJTJBT  City Classified   \n33800  AVtidDQ-nnc1JgDc5U4Q  B0188Y3WM2           Vionic   \n\n                                    categories  colors  count  \\\n0      Access.,Clothing,Shoes,Women's Clothing  Purple    NaN   \n1      Access.,Clothing,Shoes,Women's Clothing  Purple    NaN   \n2      Access.,Clothing,Shoes,Women's Clothing  Purple    NaN   \n3      Access.,Clothing,Shoes,Women's Clothing  Purple    NaN   \n4      Access.,Clothing,Shoes,Women's Clothing  Purple    NaN   \n...                                        ...     ...    ...   \n33796  Access.,Clothing,Shoes,Women's Clothing    Blue    NaN   \n33797  Access.,Clothing,Shoes,Women's Clothing     Red    NaN   \n33798  Access.,Clothing,Shoes,Women's Clothing     Red    NaN   \n33799              Clothing,,Women,Shoes,Pumps     NaN    NaN   \n33800            Women,Shoes,Sandals,Clothing,     NaN    NaN   \n\n                  dateAdded           dateUpdated  \\\n0      2017-02-03T22:06:24Z  2017-03-28T11:53:51Z   \n1      2017-02-03T22:06:24Z  2017-03-28T11:53:51Z   \n2      2017-02-03T22:06:24Z  2017-03-28T11:53:51Z   \n3      2017-02-03T22:06:24Z  2017-03-28T11:53:51Z   \n4      2017-02-03T22:06:24Z  2017-03-28T11:53:51Z   \n...                     ...                   ...   \n33796  2017-03-28T11:55:43Z  2017-03-28T11:55:43Z   \n33797  2017-03-28T11:58:41Z  2017-03-28T11:58:41Z   \n33798  2017-03-28T11:58:41Z  2017-03-28T11:58:41Z   \n33799  2017-04-12T13:55:17Z  2017-04-13T20:44:29Z   \n33800  2017-04-12T13:57:14Z  2017-04-13T20:41:27Z   \n\n                                            descriptions      dimension  ...  \\\n0      [{\"dateSeen\":[\"2017-03-26T05:04:46.539Z\",\"2017...            NaN  ...   \n1      [{\"dateSeen\":[\"2017-03-26T05:04:46.539Z\",\"2017...            NaN  ...   \n2      [{\"dateSeen\":[\"2017-03-26T05:04:46.539Z\",\"2017...            NaN  ...   \n3      [{\"dateSeen\":[\"2017-03-26T05:04:46.539Z\",\"2017...            NaN  ...   \n4      [{\"dateSeen\":[\"2017-03-26T05:04:46.539Z\",\"2017...            NaN  ...   \n...                                                  ...            ...  ...   \n33796  [{\"dateSeen\":[\"2017-03-26T10:04:21.331Z\"],\"sou...            NaN  ...   \n33797  [{\"dateSeen\":[\"2017-03-26T18:48:59.335Z\"],\"sou...  30 in x 31 in  ...   \n33798  [{\"dateSeen\":[\"2017-03-26T18:48:59.335Z\"],\"sou...  30 in x 31 in  ...   \n33799                                                NaN            NaN  ...   \n33800                                                NaN            NaN  ...   \n\n                                              sourceURLs upc  vin websiteIDs  \\\n0      https://www.overstock.com/Worldstock-Fair-Trad... NaN  NaN        NaN   \n1      https://www.overstock.com/Worldstock-Fair-Trad... NaN  NaN        NaN   \n2      https://www.overstock.com/Worldstock-Fair-Trad... NaN  NaN        NaN   \n3      https://www.overstock.com/Worldstock-Fair-Trad... NaN  NaN        NaN   \n4      https://www.overstock.com/Worldstock-Fair-Trad... NaN  NaN        NaN   \n...                                                  ...  ..  ...        ...   \n33796  https://www.overstock.com/Worldstock-Fair-Trad... NaN  NaN        NaN   \n33797  https://www.overstock.com/Worldstock-Fair-Trad... NaN  NaN        NaN   \n33798  https://www.overstock.com/Worldstock-Fair-Trad... NaN  NaN        NaN   \n33799  https://www.amazon.com/City-Classified-Womens-... NaN  NaN        NaN   \n33800  https://www.amazon.com/Vionic-Orthaheel-Techno... NaN  NaN        NaN   \n\n       weight Unnamed: 48 Unnamed: 49 Unnamed: 50 Unnamed: 51 Avg_price  \n0         NaN         NaN         NaN         NaN         NaN     62.99  \n1         NaN         NaN         NaN         NaN         NaN     62.99  \n2         NaN         NaN         NaN         NaN         NaN     62.99  \n3         NaN         NaN         NaN         NaN         NaN     62.99  \n4         NaN         NaN         NaN         NaN         NaN     62.99  \n...       ...         ...         ...         ...         ...       ...  \n33796     NaN         NaN         NaN         NaN         NaN     43.19  \n33797     NaN         NaN         NaN         NaN         NaN     39.99  \n33798     NaN         NaN         NaN         NaN         NaN     35.99  \n33799     NaN         NaN         NaN         NaN         NaN     25.64  \n33800     NaN         NaN         NaN         NaN         NaN     47.99  \n\n[33801 rows x 53 columns]",
      "text/html": "<div>\n<style scoped>\n    .dataframe tbody tr th:only-of-type {\n        vertical-align: middle;\n    }\n\n    .dataframe tbody tr th {\n        vertical-align: top;\n    }\n\n    .dataframe thead th {\n        text-align: right;\n    }\n</style>\n<table border=\"1\" class=\"dataframe\">\n  <thead>\n    <tr style=\"text-align: right;\">\n      <th></th>\n      <th>id</th>\n      <th>asins</th>\n      <th>brand</th>\n      <th>categories</th>\n      <th>colors</th>\n      <th>count</th>\n      <th>dateAdded</th>\n      <th>dateUpdated</th>\n      <th>descriptions</th>\n      <th>dimension</th>\n      <th>...</th>\n      <th>sourceURLs</th>\n      <th>upc</th>\n      <th>vin</th>\n      <th>websiteIDs</th>\n      <th>weight</th>\n      <th>Unnamed: 48</th>\n      <th>Unnamed: 49</th>\n      <th>Unnamed: 50</th>\n      <th>Unnamed: 51</th>\n      <th>Avg_price</th>\n    </tr>\n  </thead>\n  <tbody>\n    <tr>\n      <th>0</th>\n      <td>AVpe__eOilAPnD_xSt-H</td>\n      <td>NaN</td>\n      <td>Novica</td>\n      <td>Access.,Clothing,Shoes,Women's Clothing</td>\n      <td>Purple</td>\n      <td>NaN</td>\n      <td>2017-02-03T22:06:24Z</td>\n      <td>2017-03-28T11:53:51Z</td>\n      <td>[{\"dateSeen\":[\"2017-03-26T05:04:46.539Z\",\"2017...</td>\n      <td>NaN</td>\n      <td>...</td>\n      <td>https://www.overstock.com/Worldstock-Fair-Trad...</td>\n      <td>NaN</td>\n      <td>NaN</td>\n      <td>NaN</td>\n      <td>NaN</td>\n      <td>NaN</td>\n      <td>NaN</td>\n      <td>NaN</td>\n      <td>NaN</td>\n      <td>62.99</td>\n    </tr>\n    <tr>\n      <th>1</th>\n      <td>AVpe__eOilAPnD_xSt-H</td>\n      <td>NaN</td>\n      <td>Novica</td>\n      <td>Access.,Clothing,Shoes,Women's Clothing</td>\n      <td>Purple</td>\n      <td>NaN</td>\n      <td>2017-02-03T22:06:24Z</td>\n      <td>2017-03-28T11:53:51Z</td>\n      <td>[{\"dateSeen\":[\"2017-03-26T05:04:46.539Z\",\"2017...</td>\n      <td>NaN</td>\n      <td>...</td>\n      <td>https://www.overstock.com/Worldstock-Fair-Trad...</td>\n      <td>NaN</td>\n      <td>NaN</td>\n      <td>NaN</td>\n      <td>NaN</td>\n      <td>NaN</td>\n      <td>NaN</td>\n      <td>NaN</td>\n      <td>NaN</td>\n      <td>62.99</td>\n    </tr>\n    <tr>\n      <th>2</th>\n      <td>AVpe__eOilAPnD_xSt-H</td>\n      <td>NaN</td>\n      <td>Novica</td>\n      <td>Access.,Clothing,Shoes,Women's Clothing</td>\n      <td>Purple</td>\n      <td>NaN</td>\n      <td>2017-02-03T22:06:24Z</td>\n      <td>2017-03-28T11:53:51Z</td>\n      <td>[{\"dateSeen\":[\"2017-03-26T05:04:46.539Z\",\"2017...</td>\n      <td>NaN</td>\n      <td>...</td>\n      <td>https://www.overstock.com/Worldstock-Fair-Trad...</td>\n      <td>NaN</td>\n      <td>NaN</td>\n      <td>NaN</td>\n      <td>NaN</td>\n      <td>NaN</td>\n      <td>NaN</td>\n      <td>NaN</td>\n      <td>NaN</td>\n      <td>62.99</td>\n    </tr>\n    <tr>\n      <th>3</th>\n      <td>AVpe__eOilAPnD_xSt-H</td>\n      <td>NaN</td>\n      <td>Novica</td>\n      <td>Access.,Clothing,Shoes,Women's Clothing</td>\n      <td>Purple</td>\n      <td>NaN</td>\n      <td>2017-02-03T22:06:24Z</td>\n      <td>2017-03-28T11:53:51Z</td>\n      <td>[{\"dateSeen\":[\"2017-03-26T05:04:46.539Z\",\"2017...</td>\n      <td>NaN</td>\n      <td>...</td>\n      <td>https://www.overstock.com/Worldstock-Fair-Trad...</td>\n      <td>NaN</td>\n      <td>NaN</td>\n      <td>NaN</td>\n      <td>NaN</td>\n      <td>NaN</td>\n      <td>NaN</td>\n      <td>NaN</td>\n      <td>NaN</td>\n      <td>62.99</td>\n    </tr>\n    <tr>\n      <th>4</th>\n      <td>AVpe__eOilAPnD_xSt-H</td>\n      <td>NaN</td>\n      <td>Novica</td>\n      <td>Access.,Clothing,Shoes,Women's Clothing</td>\n      <td>Purple</td>\n      <td>NaN</td>\n      <td>2017-02-03T22:06:24Z</td>\n      <td>2017-03-28T11:53:51Z</td>\n      <td>[{\"dateSeen\":[\"2017-03-26T05:04:46.539Z\",\"2017...</td>\n      <td>NaN</td>\n      <td>...</td>\n      <td>https://www.overstock.com/Worldstock-Fair-Trad...</td>\n      <td>NaN</td>\n      <td>NaN</td>\n      <td>NaN</td>\n      <td>NaN</td>\n      <td>NaN</td>\n      <td>NaN</td>\n      <td>NaN</td>\n      <td>NaN</td>\n      <td>62.99</td>\n    </tr>\n    <tr>\n      <th>...</th>\n      <td>...</td>\n      <td>...</td>\n      <td>...</td>\n      <td>...</td>\n      <td>...</td>\n      <td>...</td>\n      <td>...</td>\n      <td>...</td>\n      <td>...</td>\n      <td>...</td>\n      <td>...</td>\n      <td>...</td>\n      <td>...</td>\n      <td>...</td>\n      <td>...</td>\n      <td>...</td>\n      <td>...</td>\n      <td>...</td>\n      <td>...</td>\n      <td>...</td>\n      <td>...</td>\n    </tr>\n    <tr>\n      <th>33796</th>\n      <td>AVsUxZClnnc1JgDc4Mev</td>\n      <td>NaN</td>\n      <td>Novica</td>\n      <td>Access.,Clothing,Shoes,Women's Clothing</td>\n      <td>Blue</td>\n      <td>NaN</td>\n      <td>2017-03-28T11:55:43Z</td>\n      <td>2017-03-28T11:55:43Z</td>\n      <td>[{\"dateSeen\":[\"2017-03-26T10:04:21.331Z\"],\"sou...</td>\n      <td>NaN</td>\n      <td>...</td>\n      <td>https://www.overstock.com/Worldstock-Fair-Trad...</td>\n      <td>NaN</td>\n      <td>NaN</td>\n      <td>NaN</td>\n      <td>NaN</td>\n      <td>NaN</td>\n      <td>NaN</td>\n      <td>NaN</td>\n      <td>NaN</td>\n      <td>43.19</td>\n    </tr>\n    <tr>\n      <th>33797</th>\n      <td>AVsUyEcaU2_QcyX9Pb4g</td>\n      <td>NaN</td>\n      <td>Novica</td>\n      <td>Access.,Clothing,Shoes,Women's Clothing</td>\n      <td>Red</td>\n      <td>NaN</td>\n      <td>2017-03-28T11:58:41Z</td>\n      <td>2017-03-28T11:58:41Z</td>\n      <td>[{\"dateSeen\":[\"2017-03-26T18:48:59.335Z\"],\"sou...</td>\n      <td>30 in x 31 in</td>\n      <td>...</td>\n      <td>https://www.overstock.com/Worldstock-Fair-Trad...</td>\n      <td>NaN</td>\n      <td>NaN</td>\n      <td>NaN</td>\n      <td>NaN</td>\n      <td>NaN</td>\n      <td>NaN</td>\n      <td>NaN</td>\n      <td>NaN</td>\n      <td>39.99</td>\n    </tr>\n    <tr>\n      <th>33798</th>\n      <td>AVsUyEcaU2_QcyX9Pb4g</td>\n      <td>NaN</td>\n      <td>Novica</td>\n      <td>Access.,Clothing,Shoes,Women's Clothing</td>\n      <td>Red</td>\n      <td>NaN</td>\n      <td>2017-03-28T11:58:41Z</td>\n      <td>2017-03-28T11:58:41Z</td>\n      <td>[{\"dateSeen\":[\"2017-03-26T18:48:59.335Z\"],\"sou...</td>\n      <td>30 in x 31 in</td>\n      <td>...</td>\n      <td>https://www.overstock.com/Worldstock-Fair-Trad...</td>\n      <td>NaN</td>\n      <td>NaN</td>\n      <td>NaN</td>\n      <td>NaN</td>\n      <td>NaN</td>\n      <td>NaN</td>\n      <td>NaN</td>\n      <td>NaN</td>\n      <td>35.99</td>\n    </tr>\n    <tr>\n      <th>33799</th>\n      <td>AVticmzVnnc1JgDc5Uym</td>\n      <td>B06XZJTJBT</td>\n      <td>City Classified</td>\n      <td>Clothing,,Women,Shoes,Pumps</td>\n      <td>NaN</td>\n      <td>NaN</td>\n      <td>2017-04-12T13:55:17Z</td>\n      <td>2017-04-13T20:44:29Z</td>\n      <td>NaN</td>\n      <td>NaN</td>\n      <td>...</td>\n      <td>https://www.amazon.com/City-Classified-Womens-...</td>\n      <td>NaN</td>\n      <td>NaN</td>\n      <td>NaN</td>\n      <td>NaN</td>\n      <td>NaN</td>\n      <td>NaN</td>\n      <td>NaN</td>\n      <td>NaN</td>\n      <td>25.64</td>\n    </tr>\n    <tr>\n      <th>33800</th>\n      <td>AVtidDQ-nnc1JgDc5U4Q</td>\n      <td>B0188Y3WM2</td>\n      <td>Vionic</td>\n      <td>Women,Shoes,Sandals,Clothing,</td>\n      <td>NaN</td>\n      <td>NaN</td>\n      <td>2017-04-12T13:57:14Z</td>\n      <td>2017-04-13T20:41:27Z</td>\n      <td>NaN</td>\n      <td>NaN</td>\n      <td>...</td>\n      <td>https://www.amazon.com/Vionic-Orthaheel-Techno...</td>\n      <td>NaN</td>\n      <td>NaN</td>\n      <td>NaN</td>\n      <td>NaN</td>\n      <td>NaN</td>\n      <td>NaN</td>\n      <td>NaN</td>\n      <td>NaN</td>\n      <td>47.99</td>\n    </tr>\n  </tbody>\n</table>\n<p>33801 rows × 53 columns</p>\n</div>"
     },
     "execution_count": 4,
     "metadata": {},
     "output_type": "execute_result"
    }
   ],
   "source": [
    "df.info()\n",
    "df['Avg_price']=(df['prices.amountMax']+df['prices.amountMin'])/2\n",
    "df"
   ],
   "metadata": {
    "collapsed": false,
    "ExecuteTime": {
     "end_time": "2023-12-19T06:02:07.706052600Z",
     "start_time": "2023-12-19T06:02:07.595374100Z"
    }
   },
   "id": "2169b2bf918435c2"
  },
  {
   "cell_type": "code",
   "execution_count": 5,
   "outputs": [
    {
     "name": "stdout",
     "output_type": "stream",
     "text": [
      "id                         0\n",
      "asins                  31379\n",
      "brand                    984\n",
      "categories                 0\n",
      "colors                 13957\n",
      "count                  33801\n",
      "dateAdded                  0\n",
      "dateUpdated                0\n",
      "descriptions            5376\n",
      "dimension              32624\n",
      "ean                    24023\n",
      "features                6620\n",
      "flavors                33801\n",
      "imageURLs              11492\n",
      "isbn                   33801\n",
      "keys                       0\n",
      "manufacturer           24522\n",
      "manufacturerNumber      2367\n",
      "merchants              18419\n",
      "name                       0\n",
      "prices.amountMin           0\n",
      "prices.amountMax           0\n",
      "prices.availability    33494\n",
      "prices.color           16380\n",
      "prices.condition       21786\n",
      "prices.count           33801\n",
      "prices.currency            0\n",
      "prices.dateAdded           0\n",
      "prices.dateSeen            0\n",
      "prices.flavor          33801\n",
      "prices.isSale              0\n",
      "prices.merchant         3875\n",
      "prices.offer           27003\n",
      "prices.returnPolicy    32427\n",
      "prices.shipping        29853\n",
      "prices.size            18410\n",
      "prices.source          33801\n",
      "prices.sourceURLs          0\n",
      "prices.warranty        33801\n",
      "quantities             15311\n",
      "reviews                29613\n",
      "sizes                  25199\n",
      "skus                   11666\n",
      "sourceURLs                 0\n",
      "upc                    23077\n",
      "vin                    33801\n",
      "websiteIDs             33801\n",
      "weight                 32538\n",
      "Unnamed: 48            33801\n",
      "Unnamed: 49            33801\n",
      "Unnamed: 50            33801\n",
      "Unnamed: 51            33800\n",
      "Avg_price                  0\n",
      "dtype: int64\n"
     ]
    }
   ],
   "source": [
    "print(df.isna().sum())"
   ],
   "metadata": {
    "collapsed": false,
    "ExecuteTime": {
     "end_time": "2023-12-19T06:02:07.754275100Z",
     "start_time": "2023-12-19T06:02:07.685117700Z"
    }
   },
   "id": "e41e6f936b4e2cdc"
  },
  {
   "cell_type": "code",
   "execution_count": 6,
   "outputs": [
    {
     "data": {
      "text/plain": "9760        0.01\n23900       0.99\n5499        0.99\n11202       0.99\n14112       0.99\n          ...   \n21221    3109.99\n21222    3109.99\n21219    4198.99\n21220    4198.99\n1030     4270.00\nName: Avg_price, Length: 33801, dtype: float64"
     },
     "execution_count": 6,
     "metadata": {},
     "output_type": "execute_result"
    }
   ],
   "source": [
    "df['Avg_price'].sort_values()"
   ],
   "metadata": {
    "collapsed": false,
    "ExecuteTime": {
     "end_time": "2023-12-19T06:02:07.780205100Z",
     "start_time": "2023-12-19T06:02:07.724251400Z"
    }
   },
   "id": "9b421ae3b7588e48"
  },
  {
   "cell_type": "code",
   "execution_count": 7,
   "outputs": [
    {
     "data": {
      "text/plain": "                         id       asins            brand  \\\n0      AVpe__eOilAPnD_xSt-H         NaN           Novica   \n1      AVpe__eOilAPnD_xSt-H         NaN           Novica   \n2      AVpe__eOilAPnD_xSt-H         NaN           Novica   \n3      AVpe__eOilAPnD_xSt-H         NaN           Novica   \n4      AVpe__eOilAPnD_xSt-H         NaN           Novica   \n...                     ...         ...              ...   \n33796  AVsUxZClnnc1JgDc4Mev         NaN           Novica   \n33797  AVsUyEcaU2_QcyX9Pb4g         NaN           Novica   \n33798  AVsUyEcaU2_QcyX9Pb4g         NaN           Novica   \n33799  AVticmzVnnc1JgDc5Uym  B06XZJTJBT  City Classified   \n33800  AVtidDQ-nnc1JgDc5U4Q  B0188Y3WM2           Vionic   \n\n                                    categories    colors  count  \\\n0      Access.,Clothing,Shoes,Women's Clothing    Purple    NaN   \n1      Access.,Clothing,Shoes,Women's Clothing    Purple    NaN   \n2      Access.,Clothing,Shoes,Women's Clothing    Purple    NaN   \n3      Access.,Clothing,Shoes,Women's Clothing    Purple    NaN   \n4      Access.,Clothing,Shoes,Women's Clothing    Purple    NaN   \n...                                        ...       ...    ...   \n33796  Access.,Clothing,Shoes,Women's Clothing      Blue    NaN   \n33797  Access.,Clothing,Shoes,Women's Clothing       Red    NaN   \n33798  Access.,Clothing,Shoes,Women's Clothing       Red    NaN   \n33799              Clothing,,Women,Shoes,Pumps  NoColors    NaN   \n33800            Women,Shoes,Sandals,Clothing,  NoColors    NaN   \n\n                  dateAdded           dateUpdated  \\\n0      2017-02-03T22:06:24Z  2017-03-28T11:53:51Z   \n1      2017-02-03T22:06:24Z  2017-03-28T11:53:51Z   \n2      2017-02-03T22:06:24Z  2017-03-28T11:53:51Z   \n3      2017-02-03T22:06:24Z  2017-03-28T11:53:51Z   \n4      2017-02-03T22:06:24Z  2017-03-28T11:53:51Z   \n...                     ...                   ...   \n33796  2017-03-28T11:55:43Z  2017-03-28T11:55:43Z   \n33797  2017-03-28T11:58:41Z  2017-03-28T11:58:41Z   \n33798  2017-03-28T11:58:41Z  2017-03-28T11:58:41Z   \n33799  2017-04-12T13:55:17Z  2017-04-13T20:44:29Z   \n33800  2017-04-12T13:57:14Z  2017-04-13T20:41:27Z   \n\n                                            descriptions      dimension  ...  \\\n0      [{\"dateSeen\":[\"2017-03-26T05:04:46.539Z\",\"2017...            NaN  ...   \n1      [{\"dateSeen\":[\"2017-03-26T05:04:46.539Z\",\"2017...            NaN  ...   \n2      [{\"dateSeen\":[\"2017-03-26T05:04:46.539Z\",\"2017...            NaN  ...   \n3      [{\"dateSeen\":[\"2017-03-26T05:04:46.539Z\",\"2017...            NaN  ...   \n4      [{\"dateSeen\":[\"2017-03-26T05:04:46.539Z\",\"2017...            NaN  ...   \n...                                                  ...            ...  ...   \n33796  [{\"dateSeen\":[\"2017-03-26T10:04:21.331Z\"],\"sou...            NaN  ...   \n33797  [{\"dateSeen\":[\"2017-03-26T18:48:59.335Z\"],\"sou...  30 in x 31 in  ...   \n33798  [{\"dateSeen\":[\"2017-03-26T18:48:59.335Z\"],\"sou...  30 in x 31 in  ...   \n33799                                                NaN            NaN  ...   \n33800                                                NaN            NaN  ...   \n\n                                              sourceURLs upc  vin websiteIDs  \\\n0      https://www.overstock.com/Worldstock-Fair-Trad... NaN  NaN        NaN   \n1      https://www.overstock.com/Worldstock-Fair-Trad... NaN  NaN        NaN   \n2      https://www.overstock.com/Worldstock-Fair-Trad... NaN  NaN        NaN   \n3      https://www.overstock.com/Worldstock-Fair-Trad... NaN  NaN        NaN   \n4      https://www.overstock.com/Worldstock-Fair-Trad... NaN  NaN        NaN   \n...                                                  ...  ..  ...        ...   \n33796  https://www.overstock.com/Worldstock-Fair-Trad... NaN  NaN        NaN   \n33797  https://www.overstock.com/Worldstock-Fair-Trad... NaN  NaN        NaN   \n33798  https://www.overstock.com/Worldstock-Fair-Trad... NaN  NaN        NaN   \n33799  https://www.amazon.com/City-Classified-Womens-... NaN  NaN        NaN   \n33800  https://www.amazon.com/Vionic-Orthaheel-Techno... NaN  NaN        NaN   \n\n       weight Unnamed: 48 Unnamed: 49 Unnamed: 50 Unnamed: 51 Avg_price  \n0         NaN         NaN         NaN         NaN         NaN     62.99  \n1         NaN         NaN         NaN         NaN         NaN     62.99  \n2         NaN         NaN         NaN         NaN         NaN     62.99  \n3         NaN         NaN         NaN         NaN         NaN     62.99  \n4         NaN         NaN         NaN         NaN         NaN     62.99  \n...       ...         ...         ...         ...         ...       ...  \n33796     NaN         NaN         NaN         NaN         NaN     43.19  \n33797     NaN         NaN         NaN         NaN         NaN     39.99  \n33798     NaN         NaN         NaN         NaN         NaN     35.99  \n33799     NaN         NaN         NaN         NaN         NaN     25.64  \n33800     NaN         NaN         NaN         NaN         NaN     47.99  \n\n[33801 rows x 53 columns]",
      "text/html": "<div>\n<style scoped>\n    .dataframe tbody tr th:only-of-type {\n        vertical-align: middle;\n    }\n\n    .dataframe tbody tr th {\n        vertical-align: top;\n    }\n\n    .dataframe thead th {\n        text-align: right;\n    }\n</style>\n<table border=\"1\" class=\"dataframe\">\n  <thead>\n    <tr style=\"text-align: right;\">\n      <th></th>\n      <th>id</th>\n      <th>asins</th>\n      <th>brand</th>\n      <th>categories</th>\n      <th>colors</th>\n      <th>count</th>\n      <th>dateAdded</th>\n      <th>dateUpdated</th>\n      <th>descriptions</th>\n      <th>dimension</th>\n      <th>...</th>\n      <th>sourceURLs</th>\n      <th>upc</th>\n      <th>vin</th>\n      <th>websiteIDs</th>\n      <th>weight</th>\n      <th>Unnamed: 48</th>\n      <th>Unnamed: 49</th>\n      <th>Unnamed: 50</th>\n      <th>Unnamed: 51</th>\n      <th>Avg_price</th>\n    </tr>\n  </thead>\n  <tbody>\n    <tr>\n      <th>0</th>\n      <td>AVpe__eOilAPnD_xSt-H</td>\n      <td>NaN</td>\n      <td>Novica</td>\n      <td>Access.,Clothing,Shoes,Women's Clothing</td>\n      <td>Purple</td>\n      <td>NaN</td>\n      <td>2017-02-03T22:06:24Z</td>\n      <td>2017-03-28T11:53:51Z</td>\n      <td>[{\"dateSeen\":[\"2017-03-26T05:04:46.539Z\",\"2017...</td>\n      <td>NaN</td>\n      <td>...</td>\n      <td>https://www.overstock.com/Worldstock-Fair-Trad...</td>\n      <td>NaN</td>\n      <td>NaN</td>\n      <td>NaN</td>\n      <td>NaN</td>\n      <td>NaN</td>\n      <td>NaN</td>\n      <td>NaN</td>\n      <td>NaN</td>\n      <td>62.99</td>\n    </tr>\n    <tr>\n      <th>1</th>\n      <td>AVpe__eOilAPnD_xSt-H</td>\n      <td>NaN</td>\n      <td>Novica</td>\n      <td>Access.,Clothing,Shoes,Women's Clothing</td>\n      <td>Purple</td>\n      <td>NaN</td>\n      <td>2017-02-03T22:06:24Z</td>\n      <td>2017-03-28T11:53:51Z</td>\n      <td>[{\"dateSeen\":[\"2017-03-26T05:04:46.539Z\",\"2017...</td>\n      <td>NaN</td>\n      <td>...</td>\n      <td>https://www.overstock.com/Worldstock-Fair-Trad...</td>\n      <td>NaN</td>\n      <td>NaN</td>\n      <td>NaN</td>\n      <td>NaN</td>\n      <td>NaN</td>\n      <td>NaN</td>\n      <td>NaN</td>\n      <td>NaN</td>\n      <td>62.99</td>\n    </tr>\n    <tr>\n      <th>2</th>\n      <td>AVpe__eOilAPnD_xSt-H</td>\n      <td>NaN</td>\n      <td>Novica</td>\n      <td>Access.,Clothing,Shoes,Women's Clothing</td>\n      <td>Purple</td>\n      <td>NaN</td>\n      <td>2017-02-03T22:06:24Z</td>\n      <td>2017-03-28T11:53:51Z</td>\n      <td>[{\"dateSeen\":[\"2017-03-26T05:04:46.539Z\",\"2017...</td>\n      <td>NaN</td>\n      <td>...</td>\n      <td>https://www.overstock.com/Worldstock-Fair-Trad...</td>\n      <td>NaN</td>\n      <td>NaN</td>\n      <td>NaN</td>\n      <td>NaN</td>\n      <td>NaN</td>\n      <td>NaN</td>\n      <td>NaN</td>\n      <td>NaN</td>\n      <td>62.99</td>\n    </tr>\n    <tr>\n      <th>3</th>\n      <td>AVpe__eOilAPnD_xSt-H</td>\n      <td>NaN</td>\n      <td>Novica</td>\n      <td>Access.,Clothing,Shoes,Women's Clothing</td>\n      <td>Purple</td>\n      <td>NaN</td>\n      <td>2017-02-03T22:06:24Z</td>\n      <td>2017-03-28T11:53:51Z</td>\n      <td>[{\"dateSeen\":[\"2017-03-26T05:04:46.539Z\",\"2017...</td>\n      <td>NaN</td>\n      <td>...</td>\n      <td>https://www.overstock.com/Worldstock-Fair-Trad...</td>\n      <td>NaN</td>\n      <td>NaN</td>\n      <td>NaN</td>\n      <td>NaN</td>\n      <td>NaN</td>\n      <td>NaN</td>\n      <td>NaN</td>\n      <td>NaN</td>\n      <td>62.99</td>\n    </tr>\n    <tr>\n      <th>4</th>\n      <td>AVpe__eOilAPnD_xSt-H</td>\n      <td>NaN</td>\n      <td>Novica</td>\n      <td>Access.,Clothing,Shoes,Women's Clothing</td>\n      <td>Purple</td>\n      <td>NaN</td>\n      <td>2017-02-03T22:06:24Z</td>\n      <td>2017-03-28T11:53:51Z</td>\n      <td>[{\"dateSeen\":[\"2017-03-26T05:04:46.539Z\",\"2017...</td>\n      <td>NaN</td>\n      <td>...</td>\n      <td>https://www.overstock.com/Worldstock-Fair-Trad...</td>\n      <td>NaN</td>\n      <td>NaN</td>\n      <td>NaN</td>\n      <td>NaN</td>\n      <td>NaN</td>\n      <td>NaN</td>\n      <td>NaN</td>\n      <td>NaN</td>\n      <td>62.99</td>\n    </tr>\n    <tr>\n      <th>...</th>\n      <td>...</td>\n      <td>...</td>\n      <td>...</td>\n      <td>...</td>\n      <td>...</td>\n      <td>...</td>\n      <td>...</td>\n      <td>...</td>\n      <td>...</td>\n      <td>...</td>\n      <td>...</td>\n      <td>...</td>\n      <td>...</td>\n      <td>...</td>\n      <td>...</td>\n      <td>...</td>\n      <td>...</td>\n      <td>...</td>\n      <td>...</td>\n      <td>...</td>\n      <td>...</td>\n    </tr>\n    <tr>\n      <th>33796</th>\n      <td>AVsUxZClnnc1JgDc4Mev</td>\n      <td>NaN</td>\n      <td>Novica</td>\n      <td>Access.,Clothing,Shoes,Women's Clothing</td>\n      <td>Blue</td>\n      <td>NaN</td>\n      <td>2017-03-28T11:55:43Z</td>\n      <td>2017-03-28T11:55:43Z</td>\n      <td>[{\"dateSeen\":[\"2017-03-26T10:04:21.331Z\"],\"sou...</td>\n      <td>NaN</td>\n      <td>...</td>\n      <td>https://www.overstock.com/Worldstock-Fair-Trad...</td>\n      <td>NaN</td>\n      <td>NaN</td>\n      <td>NaN</td>\n      <td>NaN</td>\n      <td>NaN</td>\n      <td>NaN</td>\n      <td>NaN</td>\n      <td>NaN</td>\n      <td>43.19</td>\n    </tr>\n    <tr>\n      <th>33797</th>\n      <td>AVsUyEcaU2_QcyX9Pb4g</td>\n      <td>NaN</td>\n      <td>Novica</td>\n      <td>Access.,Clothing,Shoes,Women's Clothing</td>\n      <td>Red</td>\n      <td>NaN</td>\n      <td>2017-03-28T11:58:41Z</td>\n      <td>2017-03-28T11:58:41Z</td>\n      <td>[{\"dateSeen\":[\"2017-03-26T18:48:59.335Z\"],\"sou...</td>\n      <td>30 in x 31 in</td>\n      <td>...</td>\n      <td>https://www.overstock.com/Worldstock-Fair-Trad...</td>\n      <td>NaN</td>\n      <td>NaN</td>\n      <td>NaN</td>\n      <td>NaN</td>\n      <td>NaN</td>\n      <td>NaN</td>\n      <td>NaN</td>\n      <td>NaN</td>\n      <td>39.99</td>\n    </tr>\n    <tr>\n      <th>33798</th>\n      <td>AVsUyEcaU2_QcyX9Pb4g</td>\n      <td>NaN</td>\n      <td>Novica</td>\n      <td>Access.,Clothing,Shoes,Women's Clothing</td>\n      <td>Red</td>\n      <td>NaN</td>\n      <td>2017-03-28T11:58:41Z</td>\n      <td>2017-03-28T11:58:41Z</td>\n      <td>[{\"dateSeen\":[\"2017-03-26T18:48:59.335Z\"],\"sou...</td>\n      <td>30 in x 31 in</td>\n      <td>...</td>\n      <td>https://www.overstock.com/Worldstock-Fair-Trad...</td>\n      <td>NaN</td>\n      <td>NaN</td>\n      <td>NaN</td>\n      <td>NaN</td>\n      <td>NaN</td>\n      <td>NaN</td>\n      <td>NaN</td>\n      <td>NaN</td>\n      <td>35.99</td>\n    </tr>\n    <tr>\n      <th>33799</th>\n      <td>AVticmzVnnc1JgDc5Uym</td>\n      <td>B06XZJTJBT</td>\n      <td>City Classified</td>\n      <td>Clothing,,Women,Shoes,Pumps</td>\n      <td>NoColors</td>\n      <td>NaN</td>\n      <td>2017-04-12T13:55:17Z</td>\n      <td>2017-04-13T20:44:29Z</td>\n      <td>NaN</td>\n      <td>NaN</td>\n      <td>...</td>\n      <td>https://www.amazon.com/City-Classified-Womens-...</td>\n      <td>NaN</td>\n      <td>NaN</td>\n      <td>NaN</td>\n      <td>NaN</td>\n      <td>NaN</td>\n      <td>NaN</td>\n      <td>NaN</td>\n      <td>NaN</td>\n      <td>25.64</td>\n    </tr>\n    <tr>\n      <th>33800</th>\n      <td>AVtidDQ-nnc1JgDc5U4Q</td>\n      <td>B0188Y3WM2</td>\n      <td>Vionic</td>\n      <td>Women,Shoes,Sandals,Clothing,</td>\n      <td>NoColors</td>\n      <td>NaN</td>\n      <td>2017-04-12T13:57:14Z</td>\n      <td>2017-04-13T20:41:27Z</td>\n      <td>NaN</td>\n      <td>NaN</td>\n      <td>...</td>\n      <td>https://www.amazon.com/Vionic-Orthaheel-Techno...</td>\n      <td>NaN</td>\n      <td>NaN</td>\n      <td>NaN</td>\n      <td>NaN</td>\n      <td>NaN</td>\n      <td>NaN</td>\n      <td>NaN</td>\n      <td>NaN</td>\n      <td>47.99</td>\n    </tr>\n  </tbody>\n</table>\n<p>33801 rows × 53 columns</p>\n</div>"
     },
     "execution_count": 7,
     "metadata": {},
     "output_type": "execute_result"
    }
   ],
   "source": [
    "df['colors'].fillna('NoColors',inplace=True)\n",
    "df\n"
   ],
   "metadata": {
    "collapsed": false,
    "ExecuteTime": {
     "end_time": "2023-12-19T06:02:07.866553500Z",
     "start_time": "2023-12-19T06:02:07.734811300Z"
    }
   },
   "id": "cd6d997e45020ad7"
  },
  {
   "cell_type": "code",
   "execution_count": 8,
   "outputs": [
    {
     "name": "stdout",
     "output_type": "stream",
     "text": [
      "id                         0\n",
      "asins                  31379\n",
      "brand                    984\n",
      "categories                 0\n",
      "colors                     0\n",
      "count                  33801\n",
      "dateAdded                  0\n",
      "dateUpdated                0\n",
      "descriptions            5376\n",
      "dimension              32624\n",
      "ean                    24023\n",
      "features                6620\n",
      "flavors                33801\n",
      "imageURLs              11492\n",
      "isbn                   33801\n",
      "keys                       0\n",
      "manufacturer           24522\n",
      "manufacturerNumber      2367\n",
      "merchants              18419\n",
      "name                       0\n",
      "prices.amountMin           0\n",
      "prices.amountMax           0\n",
      "prices.availability    33494\n",
      "prices.color           16380\n",
      "prices.condition       21786\n",
      "prices.count           33801\n",
      "prices.currency            0\n",
      "prices.dateAdded           0\n",
      "prices.dateSeen            0\n",
      "prices.flavor          33801\n",
      "prices.isSale              0\n",
      "prices.merchant         3875\n",
      "prices.offer           27003\n",
      "prices.returnPolicy    32427\n",
      "prices.shipping        29853\n",
      "prices.size            18410\n",
      "prices.source          33801\n",
      "prices.sourceURLs          0\n",
      "prices.warranty        33801\n",
      "quantities             15311\n",
      "reviews                29613\n",
      "sizes                  25199\n",
      "skus                   11666\n",
      "sourceURLs                 0\n",
      "upc                    23077\n",
      "vin                    33801\n",
      "websiteIDs             33801\n",
      "weight                 32538\n",
      "Unnamed: 48            33801\n",
      "Unnamed: 49            33801\n",
      "Unnamed: 50            33801\n",
      "Unnamed: 51            33800\n",
      "Avg_price                  0\n",
      "dtype: int64\n"
     ]
    }
   ],
   "source": [
    "print(df.isna().sum())"
   ],
   "metadata": {
    "collapsed": false,
    "ExecuteTime": {
     "end_time": "2023-12-19T06:02:07.881514200Z",
     "start_time": "2023-12-19T06:02:07.783621700Z"
    }
   },
   "id": "d51b8ea18a3a0bd4"
  },
  {
   "cell_type": "code",
   "execution_count": 9,
   "outputs": [
    {
     "data": {
      "text/plain": "                         id asins        brand  \\\n483    AVpe-3a21cnluZ0-bSGT   NaN  Thalia Sodi   \n484    AVpe-3a21cnluZ0-bSGT   NaN  Thalia Sodi   \n709    AVpe4RKw1cnluZ0-Y2hl   NaN  Marc Fisher   \n710    AVpe4RKw1cnluZ0-Y2hl   NaN  Marc Fisher   \n986    AVpe5TmELJeJML43xu61   NaN    Patagonia   \n...                     ...   ...          ...   \n31060  AVsUuORannc1JgDc4Lim   NaN     Muk Luks   \n31063  AVsUuOTEU2_QcyX9PayC   NaN     Muk Luks   \n31269  AVsUuRIknnc1JgDc4Lj7   NaN         Nike   \n31270  AVsUuRIknnc1JgDc4Lj7   NaN         Nike   \n31271  AVsUuRIknnc1JgDc4Lj7   NaN         Nike   \n\n                                           categories colors  count  \\\n483    Clothing,Shoes,Women's Shoes,All Women's Shoes   Pink    NaN   \n484    Clothing,Shoes,Women's Shoes,All Women's Shoes   Pink    NaN   \n709                               Shoes,Women's Shoes   Pink    NaN   \n710                               Shoes,Women's Shoes   Pink    NaN   \n986    Shoes,Clothing,Women's Shoes,All Women's Shoes   Pink    NaN   \n...                                               ...    ...    ...   \n31060            Shoes,Women's Shoes,Women's Slippers   Pink    NaN   \n31063            Shoes,Women's Shoes,Women's Slippers   Pink    NaN   \n31269      Shoes,Women's Shoes,Womens' Athletic Shoes   Pink    NaN   \n31270      Shoes,Women's Shoes,Womens' Athletic Shoes   Pink    NaN   \n31271      Shoes,Women's Shoes,Womens' Athletic Shoes   Pink    NaN   \n\n                  dateAdded           dateUpdated  \\\n483    2016-11-04T19:52:18Z  2016-11-04T19:52:18Z   \n484    2016-11-04T19:52:18Z  2016-11-04T19:52:18Z   \n709    2016-03-11T09:07:13Z  2016-03-16T03:08:49Z   \n710    2016-03-11T09:07:13Z  2016-03-16T03:08:49Z   \n986    2016-11-10T09:25:42Z  2016-11-10T09:25:42Z   \n...                     ...                   ...   \n31060  2017-03-28T11:41:53Z  2017-03-28T11:41:53Z   \n31063  2017-03-28T11:41:53Z  2017-03-28T11:41:53Z   \n31269  2017-03-28T11:42:04Z  2017-03-28T11:42:04Z   \n31270  2017-03-28T11:42:04Z  2017-03-28T11:42:04Z   \n31271  2017-03-28T11:42:04Z  2017-03-28T11:42:04Z   \n\n                                            descriptions dimension  ...  \\\n483    [{\"dateSeen\":[\"2016-11-04T19:52:18Z\"],\"sourceU...       NaN  ...   \n484    [{\"dateSeen\":[\"2016-11-04T19:52:18Z\"],\"sourceU...       NaN  ...   \n709                                                  NaN       NaN  ...   \n710                                                  NaN       NaN  ...   \n986    [{\"dateSeen\":[\"2016-11-10T09:25:42Z\"],\"sourceU...       NaN  ...   \n...                                                  ...       ...  ...   \n31060  [{\"dateSeen\":[\"2017-03-25T11:34:25.632Z\"],\"sou...       NaN  ...   \n31063  [{\"dateSeen\":[\"2017-03-25T11:34:28.881Z\"],\"sou...       NaN  ...   \n31269  [{\"dateSeen\":[\"2017-03-25T11:42:11.038Z\"],\"sou...       NaN  ...   \n31270  [{\"dateSeen\":[\"2017-03-25T11:42:11.038Z\"],\"sou...       NaN  ...   \n31271  [{\"dateSeen\":[\"2017-03-25T11:42:11.038Z\"],\"sou...       NaN  ...   \n\n                                              sourceURLs           upc  vin  \\\n483    https://www.walmart.com/ip/Thalia-Sodi-Fuerto-...  6.083560e+11  NaN   \n484    https://www.walmart.com/ip/Thalia-Sodi-Fuerto-...  6.083560e+11  NaN   \n709    http://www.sears.com/content/pdp/products/pric...           NaN  NaN   \n710    http://www.sears.com/content/pdp/products/pric...           NaN  NaN   \n986    https://www.walmart.com/ip/Patagonia-Reflip-Wo...  1.846682e+10  NaN   \n...                                                  ...           ...  ...   \n31060  https://www.overstock.com/Clothing-Shoes/MUK-L...           NaN  NaN   \n31063  https://www.overstock.com/Clothing-Shoes/Muk-L...           NaN  NaN   \n31269  https://www.overstock.com/Clothing-Shoes/Nike-...           NaN  NaN   \n31270  https://www.overstock.com/Clothing-Shoes/Nike-...           NaN  NaN   \n31271  https://www.overstock.com/Clothing-Shoes/Nike-...           NaN  NaN   \n\n      websiteIDs  weight Unnamed: 48 Unnamed: 49 Unnamed: 50 Unnamed: 51  \\\n483          NaN     NaN         NaN         NaN         NaN         NaN   \n484          NaN     NaN         NaN         NaN         NaN         NaN   \n709          NaN     NaN         NaN         NaN         NaN         NaN   \n710          NaN     NaN         NaN         NaN         NaN         NaN   \n986          NaN     NaN         NaN         NaN         NaN         NaN   \n...          ...     ...         ...         ...         ...         ...   \n31060        NaN     NaN         NaN         NaN         NaN         NaN   \n31063        NaN     NaN         NaN         NaN         NaN         NaN   \n31269        NaN     NaN         NaN         NaN         NaN         NaN   \n31270        NaN     NaN         NaN         NaN         NaN         NaN   \n31271        NaN     NaN         NaN         NaN         NaN         NaN   \n\n      Avg_price  \n483       59.00  \n484        9.99  \n709       79.00  \n710       13.99  \n986       50.00  \n...         ...  \n31060     16.99  \n31063     16.99  \n31269    124.90  \n31270    124.90  \n31271    124.90  \n\n[272 rows x 53 columns]",
      "text/html": "<div>\n<style scoped>\n    .dataframe tbody tr th:only-of-type {\n        vertical-align: middle;\n    }\n\n    .dataframe tbody tr th {\n        vertical-align: top;\n    }\n\n    .dataframe thead th {\n        text-align: right;\n    }\n</style>\n<table border=\"1\" class=\"dataframe\">\n  <thead>\n    <tr style=\"text-align: right;\">\n      <th></th>\n      <th>id</th>\n      <th>asins</th>\n      <th>brand</th>\n      <th>categories</th>\n      <th>colors</th>\n      <th>count</th>\n      <th>dateAdded</th>\n      <th>dateUpdated</th>\n      <th>descriptions</th>\n      <th>dimension</th>\n      <th>...</th>\n      <th>sourceURLs</th>\n      <th>upc</th>\n      <th>vin</th>\n      <th>websiteIDs</th>\n      <th>weight</th>\n      <th>Unnamed: 48</th>\n      <th>Unnamed: 49</th>\n      <th>Unnamed: 50</th>\n      <th>Unnamed: 51</th>\n      <th>Avg_price</th>\n    </tr>\n  </thead>\n  <tbody>\n    <tr>\n      <th>483</th>\n      <td>AVpe-3a21cnluZ0-bSGT</td>\n      <td>NaN</td>\n      <td>Thalia Sodi</td>\n      <td>Clothing,Shoes,Women's Shoes,All Women's Shoes</td>\n      <td>Pink</td>\n      <td>NaN</td>\n      <td>2016-11-04T19:52:18Z</td>\n      <td>2016-11-04T19:52:18Z</td>\n      <td>[{\"dateSeen\":[\"2016-11-04T19:52:18Z\"],\"sourceU...</td>\n      <td>NaN</td>\n      <td>...</td>\n      <td>https://www.walmart.com/ip/Thalia-Sodi-Fuerto-...</td>\n      <td>6.083560e+11</td>\n      <td>NaN</td>\n      <td>NaN</td>\n      <td>NaN</td>\n      <td>NaN</td>\n      <td>NaN</td>\n      <td>NaN</td>\n      <td>NaN</td>\n      <td>59.00</td>\n    </tr>\n    <tr>\n      <th>484</th>\n      <td>AVpe-3a21cnluZ0-bSGT</td>\n      <td>NaN</td>\n      <td>Thalia Sodi</td>\n      <td>Clothing,Shoes,Women's Shoes,All Women's Shoes</td>\n      <td>Pink</td>\n      <td>NaN</td>\n      <td>2016-11-04T19:52:18Z</td>\n      <td>2016-11-04T19:52:18Z</td>\n      <td>[{\"dateSeen\":[\"2016-11-04T19:52:18Z\"],\"sourceU...</td>\n      <td>NaN</td>\n      <td>...</td>\n      <td>https://www.walmart.com/ip/Thalia-Sodi-Fuerto-...</td>\n      <td>6.083560e+11</td>\n      <td>NaN</td>\n      <td>NaN</td>\n      <td>NaN</td>\n      <td>NaN</td>\n      <td>NaN</td>\n      <td>NaN</td>\n      <td>NaN</td>\n      <td>9.99</td>\n    </tr>\n    <tr>\n      <th>709</th>\n      <td>AVpe4RKw1cnluZ0-Y2hl</td>\n      <td>NaN</td>\n      <td>Marc Fisher</td>\n      <td>Shoes,Women's Shoes</td>\n      <td>Pink</td>\n      <td>NaN</td>\n      <td>2016-03-11T09:07:13Z</td>\n      <td>2016-03-16T03:08:49Z</td>\n      <td>NaN</td>\n      <td>NaN</td>\n      <td>...</td>\n      <td>http://www.sears.com/content/pdp/products/pric...</td>\n      <td>NaN</td>\n      <td>NaN</td>\n      <td>NaN</td>\n      <td>NaN</td>\n      <td>NaN</td>\n      <td>NaN</td>\n      <td>NaN</td>\n      <td>NaN</td>\n      <td>79.00</td>\n    </tr>\n    <tr>\n      <th>710</th>\n      <td>AVpe4RKw1cnluZ0-Y2hl</td>\n      <td>NaN</td>\n      <td>Marc Fisher</td>\n      <td>Shoes,Women's Shoes</td>\n      <td>Pink</td>\n      <td>NaN</td>\n      <td>2016-03-11T09:07:13Z</td>\n      <td>2016-03-16T03:08:49Z</td>\n      <td>NaN</td>\n      <td>NaN</td>\n      <td>...</td>\n      <td>http://www.sears.com/content/pdp/products/pric...</td>\n      <td>NaN</td>\n      <td>NaN</td>\n      <td>NaN</td>\n      <td>NaN</td>\n      <td>NaN</td>\n      <td>NaN</td>\n      <td>NaN</td>\n      <td>NaN</td>\n      <td>13.99</td>\n    </tr>\n    <tr>\n      <th>986</th>\n      <td>AVpe5TmELJeJML43xu61</td>\n      <td>NaN</td>\n      <td>Patagonia</td>\n      <td>Shoes,Clothing,Women's Shoes,All Women's Shoes</td>\n      <td>Pink</td>\n      <td>NaN</td>\n      <td>2016-11-10T09:25:42Z</td>\n      <td>2016-11-10T09:25:42Z</td>\n      <td>[{\"dateSeen\":[\"2016-11-10T09:25:42Z\"],\"sourceU...</td>\n      <td>NaN</td>\n      <td>...</td>\n      <td>https://www.walmart.com/ip/Patagonia-Reflip-Wo...</td>\n      <td>1.846682e+10</td>\n      <td>NaN</td>\n      <td>NaN</td>\n      <td>NaN</td>\n      <td>NaN</td>\n      <td>NaN</td>\n      <td>NaN</td>\n      <td>NaN</td>\n      <td>50.00</td>\n    </tr>\n    <tr>\n      <th>...</th>\n      <td>...</td>\n      <td>...</td>\n      <td>...</td>\n      <td>...</td>\n      <td>...</td>\n      <td>...</td>\n      <td>...</td>\n      <td>...</td>\n      <td>...</td>\n      <td>...</td>\n      <td>...</td>\n      <td>...</td>\n      <td>...</td>\n      <td>...</td>\n      <td>...</td>\n      <td>...</td>\n      <td>...</td>\n      <td>...</td>\n      <td>...</td>\n      <td>...</td>\n      <td>...</td>\n    </tr>\n    <tr>\n      <th>31060</th>\n      <td>AVsUuORannc1JgDc4Lim</td>\n      <td>NaN</td>\n      <td>Muk Luks</td>\n      <td>Shoes,Women's Shoes,Women's Slippers</td>\n      <td>Pink</td>\n      <td>NaN</td>\n      <td>2017-03-28T11:41:53Z</td>\n      <td>2017-03-28T11:41:53Z</td>\n      <td>[{\"dateSeen\":[\"2017-03-25T11:34:25.632Z\"],\"sou...</td>\n      <td>NaN</td>\n      <td>...</td>\n      <td>https://www.overstock.com/Clothing-Shoes/MUK-L...</td>\n      <td>NaN</td>\n      <td>NaN</td>\n      <td>NaN</td>\n      <td>NaN</td>\n      <td>NaN</td>\n      <td>NaN</td>\n      <td>NaN</td>\n      <td>NaN</td>\n      <td>16.99</td>\n    </tr>\n    <tr>\n      <th>31063</th>\n      <td>AVsUuOTEU2_QcyX9PayC</td>\n      <td>NaN</td>\n      <td>Muk Luks</td>\n      <td>Shoes,Women's Shoes,Women's Slippers</td>\n      <td>Pink</td>\n      <td>NaN</td>\n      <td>2017-03-28T11:41:53Z</td>\n      <td>2017-03-28T11:41:53Z</td>\n      <td>[{\"dateSeen\":[\"2017-03-25T11:34:28.881Z\"],\"sou...</td>\n      <td>NaN</td>\n      <td>...</td>\n      <td>https://www.overstock.com/Clothing-Shoes/Muk-L...</td>\n      <td>NaN</td>\n      <td>NaN</td>\n      <td>NaN</td>\n      <td>NaN</td>\n      <td>NaN</td>\n      <td>NaN</td>\n      <td>NaN</td>\n      <td>NaN</td>\n      <td>16.99</td>\n    </tr>\n    <tr>\n      <th>31269</th>\n      <td>AVsUuRIknnc1JgDc4Lj7</td>\n      <td>NaN</td>\n      <td>Nike</td>\n      <td>Shoes,Women's Shoes,Womens' Athletic Shoes</td>\n      <td>Pink</td>\n      <td>NaN</td>\n      <td>2017-03-28T11:42:04Z</td>\n      <td>2017-03-28T11:42:04Z</td>\n      <td>[{\"dateSeen\":[\"2017-03-25T11:42:11.038Z\"],\"sou...</td>\n      <td>NaN</td>\n      <td>...</td>\n      <td>https://www.overstock.com/Clothing-Shoes/Nike-...</td>\n      <td>NaN</td>\n      <td>NaN</td>\n      <td>NaN</td>\n      <td>NaN</td>\n      <td>NaN</td>\n      <td>NaN</td>\n      <td>NaN</td>\n      <td>NaN</td>\n      <td>124.90</td>\n    </tr>\n    <tr>\n      <th>31270</th>\n      <td>AVsUuRIknnc1JgDc4Lj7</td>\n      <td>NaN</td>\n      <td>Nike</td>\n      <td>Shoes,Women's Shoes,Womens' Athletic Shoes</td>\n      <td>Pink</td>\n      <td>NaN</td>\n      <td>2017-03-28T11:42:04Z</td>\n      <td>2017-03-28T11:42:04Z</td>\n      <td>[{\"dateSeen\":[\"2017-03-25T11:42:11.038Z\"],\"sou...</td>\n      <td>NaN</td>\n      <td>...</td>\n      <td>https://www.overstock.com/Clothing-Shoes/Nike-...</td>\n      <td>NaN</td>\n      <td>NaN</td>\n      <td>NaN</td>\n      <td>NaN</td>\n      <td>NaN</td>\n      <td>NaN</td>\n      <td>NaN</td>\n      <td>NaN</td>\n      <td>124.90</td>\n    </tr>\n    <tr>\n      <th>31271</th>\n      <td>AVsUuRIknnc1JgDc4Lj7</td>\n      <td>NaN</td>\n      <td>Nike</td>\n      <td>Shoes,Women's Shoes,Womens' Athletic Shoes</td>\n      <td>Pink</td>\n      <td>NaN</td>\n      <td>2017-03-28T11:42:04Z</td>\n      <td>2017-03-28T11:42:04Z</td>\n      <td>[{\"dateSeen\":[\"2017-03-25T11:42:11.038Z\"],\"sou...</td>\n      <td>NaN</td>\n      <td>...</td>\n      <td>https://www.overstock.com/Clothing-Shoes/Nike-...</td>\n      <td>NaN</td>\n      <td>NaN</td>\n      <td>NaN</td>\n      <td>NaN</td>\n      <td>NaN</td>\n      <td>NaN</td>\n      <td>NaN</td>\n      <td>NaN</td>\n      <td>124.90</td>\n    </tr>\n  </tbody>\n</table>\n<p>272 rows × 53 columns</p>\n</div>"
     },
     "execution_count": 9,
     "metadata": {},
     "output_type": "execute_result"
    }
   ],
   "source": [
    "df_pink = df[df['colors']=='Pink']\n",
    "df_pink"
   ],
   "metadata": {
    "collapsed": false,
    "ExecuteTime": {
     "end_time": "2023-12-19T06:02:07.883515200Z",
     "start_time": "2023-12-19T06:02:07.828231600Z"
    }
   },
   "id": "39a92748c14f2e27"
  },
  {
   "cell_type": "code",
   "execution_count": 10,
   "outputs": [
    {
     "data": {
      "text/plain": "                         id       asins            brand  \\\n0      AVpe__eOilAPnD_xSt-H         NaN           Novica   \n1      AVpe__eOilAPnD_xSt-H         NaN           Novica   \n2      AVpe__eOilAPnD_xSt-H         NaN           Novica   \n3      AVpe__eOilAPnD_xSt-H         NaN           Novica   \n4      AVpe__eOilAPnD_xSt-H         NaN           Novica   \n...                     ...         ...              ...   \n33796  AVsUxZClnnc1JgDc4Mev         NaN           Novica   \n33797  AVsUyEcaU2_QcyX9Pb4g         NaN           Novica   \n33798  AVsUyEcaU2_QcyX9Pb4g         NaN           Novica   \n33799  AVticmzVnnc1JgDc5Uym  B06XZJTJBT  City Classified   \n33800  AVtidDQ-nnc1JgDc5U4Q  B0188Y3WM2           Vionic   \n\n                                    categories    colors  count  \\\n0      Access.,Clothing,Shoes,Women's Clothing    Purple    NaN   \n1      Access.,Clothing,Shoes,Women's Clothing    Purple    NaN   \n2      Access.,Clothing,Shoes,Women's Clothing    Purple    NaN   \n3      Access.,Clothing,Shoes,Women's Clothing    Purple    NaN   \n4      Access.,Clothing,Shoes,Women's Clothing    Purple    NaN   \n...                                        ...       ...    ...   \n33796  Access.,Clothing,Shoes,Women's Clothing      Blue    NaN   \n33797  Access.,Clothing,Shoes,Women's Clothing       Red    NaN   \n33798  Access.,Clothing,Shoes,Women's Clothing       Red    NaN   \n33799              Clothing,,Women,Shoes,Pumps  NoColors    NaN   \n33800            Women,Shoes,Sandals,Clothing,  NoColors    NaN   \n\n                  dateAdded           dateUpdated  \\\n0      2017-02-03T22:06:24Z  2017-03-28T11:53:51Z   \n1      2017-02-03T22:06:24Z  2017-03-28T11:53:51Z   \n2      2017-02-03T22:06:24Z  2017-03-28T11:53:51Z   \n3      2017-02-03T22:06:24Z  2017-03-28T11:53:51Z   \n4      2017-02-03T22:06:24Z  2017-03-28T11:53:51Z   \n...                     ...                   ...   \n33796  2017-03-28T11:55:43Z  2017-03-28T11:55:43Z   \n33797  2017-03-28T11:58:41Z  2017-03-28T11:58:41Z   \n33798  2017-03-28T11:58:41Z  2017-03-28T11:58:41Z   \n33799  2017-04-12T13:55:17Z  2017-04-13T20:44:29Z   \n33800  2017-04-12T13:57:14Z  2017-04-13T20:41:27Z   \n\n                                            descriptions      dimension  ...  \\\n0      [{\"dateSeen\":[\"2017-03-26T05:04:46.539Z\",\"2017...            NaN  ...   \n1      [{\"dateSeen\":[\"2017-03-26T05:04:46.539Z\",\"2017...            NaN  ...   \n2      [{\"dateSeen\":[\"2017-03-26T05:04:46.539Z\",\"2017...            NaN  ...   \n3      [{\"dateSeen\":[\"2017-03-26T05:04:46.539Z\",\"2017...            NaN  ...   \n4      [{\"dateSeen\":[\"2017-03-26T05:04:46.539Z\",\"2017...            NaN  ...   \n...                                                  ...            ...  ...   \n33796  [{\"dateSeen\":[\"2017-03-26T10:04:21.331Z\"],\"sou...            NaN  ...   \n33797  [{\"dateSeen\":[\"2017-03-26T18:48:59.335Z\"],\"sou...  30 in x 31 in  ...   \n33798  [{\"dateSeen\":[\"2017-03-26T18:48:59.335Z\"],\"sou...  30 in x 31 in  ...   \n33799                                                NaN            NaN  ...   \n33800                                                NaN            NaN  ...   \n\n                                              sourceURLs upc  vin websiteIDs  \\\n0      https://www.overstock.com/Worldstock-Fair-Trad... NaN  NaN        NaN   \n1      https://www.overstock.com/Worldstock-Fair-Trad... NaN  NaN        NaN   \n2      https://www.overstock.com/Worldstock-Fair-Trad... NaN  NaN        NaN   \n3      https://www.overstock.com/Worldstock-Fair-Trad... NaN  NaN        NaN   \n4      https://www.overstock.com/Worldstock-Fair-Trad... NaN  NaN        NaN   \n...                                                  ...  ..  ...        ...   \n33796  https://www.overstock.com/Worldstock-Fair-Trad... NaN  NaN        NaN   \n33797  https://www.overstock.com/Worldstock-Fair-Trad... NaN  NaN        NaN   \n33798  https://www.overstock.com/Worldstock-Fair-Trad... NaN  NaN        NaN   \n33799  https://www.amazon.com/City-Classified-Womens-... NaN  NaN        NaN   \n33800  https://www.amazon.com/Vionic-Orthaheel-Techno... NaN  NaN        NaN   \n\n       weight Unnamed: 48 Unnamed: 49 Unnamed: 50 Unnamed: 51 Avg_price  \n0         NaN         NaN         NaN         NaN         NaN     62.99  \n1         NaN         NaN         NaN         NaN         NaN     62.99  \n2         NaN         NaN         NaN         NaN         NaN     62.99  \n3         NaN         NaN         NaN         NaN         NaN     62.99  \n4         NaN         NaN         NaN         NaN         NaN     62.99  \n...       ...         ...         ...         ...         ...       ...  \n33796     NaN         NaN         NaN         NaN         NaN     43.19  \n33797     NaN         NaN         NaN         NaN         NaN     39.99  \n33798     NaN         NaN         NaN         NaN         NaN     35.99  \n33799     NaN         NaN         NaN         NaN         NaN     25.64  \n33800     NaN         NaN         NaN         NaN         NaN     47.99  \n\n[33529 rows x 53 columns]",
      "text/html": "<div>\n<style scoped>\n    .dataframe tbody tr th:only-of-type {\n        vertical-align: middle;\n    }\n\n    .dataframe tbody tr th {\n        vertical-align: top;\n    }\n\n    .dataframe thead th {\n        text-align: right;\n    }\n</style>\n<table border=\"1\" class=\"dataframe\">\n  <thead>\n    <tr style=\"text-align: right;\">\n      <th></th>\n      <th>id</th>\n      <th>asins</th>\n      <th>brand</th>\n      <th>categories</th>\n      <th>colors</th>\n      <th>count</th>\n      <th>dateAdded</th>\n      <th>dateUpdated</th>\n      <th>descriptions</th>\n      <th>dimension</th>\n      <th>...</th>\n      <th>sourceURLs</th>\n      <th>upc</th>\n      <th>vin</th>\n      <th>websiteIDs</th>\n      <th>weight</th>\n      <th>Unnamed: 48</th>\n      <th>Unnamed: 49</th>\n      <th>Unnamed: 50</th>\n      <th>Unnamed: 51</th>\n      <th>Avg_price</th>\n    </tr>\n  </thead>\n  <tbody>\n    <tr>\n      <th>0</th>\n      <td>AVpe__eOilAPnD_xSt-H</td>\n      <td>NaN</td>\n      <td>Novica</td>\n      <td>Access.,Clothing,Shoes,Women's Clothing</td>\n      <td>Purple</td>\n      <td>NaN</td>\n      <td>2017-02-03T22:06:24Z</td>\n      <td>2017-03-28T11:53:51Z</td>\n      <td>[{\"dateSeen\":[\"2017-03-26T05:04:46.539Z\",\"2017...</td>\n      <td>NaN</td>\n      <td>...</td>\n      <td>https://www.overstock.com/Worldstock-Fair-Trad...</td>\n      <td>NaN</td>\n      <td>NaN</td>\n      <td>NaN</td>\n      <td>NaN</td>\n      <td>NaN</td>\n      <td>NaN</td>\n      <td>NaN</td>\n      <td>NaN</td>\n      <td>62.99</td>\n    </tr>\n    <tr>\n      <th>1</th>\n      <td>AVpe__eOilAPnD_xSt-H</td>\n      <td>NaN</td>\n      <td>Novica</td>\n      <td>Access.,Clothing,Shoes,Women's Clothing</td>\n      <td>Purple</td>\n      <td>NaN</td>\n      <td>2017-02-03T22:06:24Z</td>\n      <td>2017-03-28T11:53:51Z</td>\n      <td>[{\"dateSeen\":[\"2017-03-26T05:04:46.539Z\",\"2017...</td>\n      <td>NaN</td>\n      <td>...</td>\n      <td>https://www.overstock.com/Worldstock-Fair-Trad...</td>\n      <td>NaN</td>\n      <td>NaN</td>\n      <td>NaN</td>\n      <td>NaN</td>\n      <td>NaN</td>\n      <td>NaN</td>\n      <td>NaN</td>\n      <td>NaN</td>\n      <td>62.99</td>\n    </tr>\n    <tr>\n      <th>2</th>\n      <td>AVpe__eOilAPnD_xSt-H</td>\n      <td>NaN</td>\n      <td>Novica</td>\n      <td>Access.,Clothing,Shoes,Women's Clothing</td>\n      <td>Purple</td>\n      <td>NaN</td>\n      <td>2017-02-03T22:06:24Z</td>\n      <td>2017-03-28T11:53:51Z</td>\n      <td>[{\"dateSeen\":[\"2017-03-26T05:04:46.539Z\",\"2017...</td>\n      <td>NaN</td>\n      <td>...</td>\n      <td>https://www.overstock.com/Worldstock-Fair-Trad...</td>\n      <td>NaN</td>\n      <td>NaN</td>\n      <td>NaN</td>\n      <td>NaN</td>\n      <td>NaN</td>\n      <td>NaN</td>\n      <td>NaN</td>\n      <td>NaN</td>\n      <td>62.99</td>\n    </tr>\n    <tr>\n      <th>3</th>\n      <td>AVpe__eOilAPnD_xSt-H</td>\n      <td>NaN</td>\n      <td>Novica</td>\n      <td>Access.,Clothing,Shoes,Women's Clothing</td>\n      <td>Purple</td>\n      <td>NaN</td>\n      <td>2017-02-03T22:06:24Z</td>\n      <td>2017-03-28T11:53:51Z</td>\n      <td>[{\"dateSeen\":[\"2017-03-26T05:04:46.539Z\",\"2017...</td>\n      <td>NaN</td>\n      <td>...</td>\n      <td>https://www.overstock.com/Worldstock-Fair-Trad...</td>\n      <td>NaN</td>\n      <td>NaN</td>\n      <td>NaN</td>\n      <td>NaN</td>\n      <td>NaN</td>\n      <td>NaN</td>\n      <td>NaN</td>\n      <td>NaN</td>\n      <td>62.99</td>\n    </tr>\n    <tr>\n      <th>4</th>\n      <td>AVpe__eOilAPnD_xSt-H</td>\n      <td>NaN</td>\n      <td>Novica</td>\n      <td>Access.,Clothing,Shoes,Women's Clothing</td>\n      <td>Purple</td>\n      <td>NaN</td>\n      <td>2017-02-03T22:06:24Z</td>\n      <td>2017-03-28T11:53:51Z</td>\n      <td>[{\"dateSeen\":[\"2017-03-26T05:04:46.539Z\",\"2017...</td>\n      <td>NaN</td>\n      <td>...</td>\n      <td>https://www.overstock.com/Worldstock-Fair-Trad...</td>\n      <td>NaN</td>\n      <td>NaN</td>\n      <td>NaN</td>\n      <td>NaN</td>\n      <td>NaN</td>\n      <td>NaN</td>\n      <td>NaN</td>\n      <td>NaN</td>\n      <td>62.99</td>\n    </tr>\n    <tr>\n      <th>...</th>\n      <td>...</td>\n      <td>...</td>\n      <td>...</td>\n      <td>...</td>\n      <td>...</td>\n      <td>...</td>\n      <td>...</td>\n      <td>...</td>\n      <td>...</td>\n      <td>...</td>\n      <td>...</td>\n      <td>...</td>\n      <td>...</td>\n      <td>...</td>\n      <td>...</td>\n      <td>...</td>\n      <td>...</td>\n      <td>...</td>\n      <td>...</td>\n      <td>...</td>\n      <td>...</td>\n    </tr>\n    <tr>\n      <th>33796</th>\n      <td>AVsUxZClnnc1JgDc4Mev</td>\n      <td>NaN</td>\n      <td>Novica</td>\n      <td>Access.,Clothing,Shoes,Women's Clothing</td>\n      <td>Blue</td>\n      <td>NaN</td>\n      <td>2017-03-28T11:55:43Z</td>\n      <td>2017-03-28T11:55:43Z</td>\n      <td>[{\"dateSeen\":[\"2017-03-26T10:04:21.331Z\"],\"sou...</td>\n      <td>NaN</td>\n      <td>...</td>\n      <td>https://www.overstock.com/Worldstock-Fair-Trad...</td>\n      <td>NaN</td>\n      <td>NaN</td>\n      <td>NaN</td>\n      <td>NaN</td>\n      <td>NaN</td>\n      <td>NaN</td>\n      <td>NaN</td>\n      <td>NaN</td>\n      <td>43.19</td>\n    </tr>\n    <tr>\n      <th>33797</th>\n      <td>AVsUyEcaU2_QcyX9Pb4g</td>\n      <td>NaN</td>\n      <td>Novica</td>\n      <td>Access.,Clothing,Shoes,Women's Clothing</td>\n      <td>Red</td>\n      <td>NaN</td>\n      <td>2017-03-28T11:58:41Z</td>\n      <td>2017-03-28T11:58:41Z</td>\n      <td>[{\"dateSeen\":[\"2017-03-26T18:48:59.335Z\"],\"sou...</td>\n      <td>30 in x 31 in</td>\n      <td>...</td>\n      <td>https://www.overstock.com/Worldstock-Fair-Trad...</td>\n      <td>NaN</td>\n      <td>NaN</td>\n      <td>NaN</td>\n      <td>NaN</td>\n      <td>NaN</td>\n      <td>NaN</td>\n      <td>NaN</td>\n      <td>NaN</td>\n      <td>39.99</td>\n    </tr>\n    <tr>\n      <th>33798</th>\n      <td>AVsUyEcaU2_QcyX9Pb4g</td>\n      <td>NaN</td>\n      <td>Novica</td>\n      <td>Access.,Clothing,Shoes,Women's Clothing</td>\n      <td>Red</td>\n      <td>NaN</td>\n      <td>2017-03-28T11:58:41Z</td>\n      <td>2017-03-28T11:58:41Z</td>\n      <td>[{\"dateSeen\":[\"2017-03-26T18:48:59.335Z\"],\"sou...</td>\n      <td>30 in x 31 in</td>\n      <td>...</td>\n      <td>https://www.overstock.com/Worldstock-Fair-Trad...</td>\n      <td>NaN</td>\n      <td>NaN</td>\n      <td>NaN</td>\n      <td>NaN</td>\n      <td>NaN</td>\n      <td>NaN</td>\n      <td>NaN</td>\n      <td>NaN</td>\n      <td>35.99</td>\n    </tr>\n    <tr>\n      <th>33799</th>\n      <td>AVticmzVnnc1JgDc5Uym</td>\n      <td>B06XZJTJBT</td>\n      <td>City Classified</td>\n      <td>Clothing,,Women,Shoes,Pumps</td>\n      <td>NoColors</td>\n      <td>NaN</td>\n      <td>2017-04-12T13:55:17Z</td>\n      <td>2017-04-13T20:44:29Z</td>\n      <td>NaN</td>\n      <td>NaN</td>\n      <td>...</td>\n      <td>https://www.amazon.com/City-Classified-Womens-...</td>\n      <td>NaN</td>\n      <td>NaN</td>\n      <td>NaN</td>\n      <td>NaN</td>\n      <td>NaN</td>\n      <td>NaN</td>\n      <td>NaN</td>\n      <td>NaN</td>\n      <td>25.64</td>\n    </tr>\n    <tr>\n      <th>33800</th>\n      <td>AVtidDQ-nnc1JgDc5U4Q</td>\n      <td>B0188Y3WM2</td>\n      <td>Vionic</td>\n      <td>Women,Shoes,Sandals,Clothing,</td>\n      <td>NoColors</td>\n      <td>NaN</td>\n      <td>2017-04-12T13:57:14Z</td>\n      <td>2017-04-13T20:41:27Z</td>\n      <td>NaN</td>\n      <td>NaN</td>\n      <td>...</td>\n      <td>https://www.amazon.com/Vionic-Orthaheel-Techno...</td>\n      <td>NaN</td>\n      <td>NaN</td>\n      <td>NaN</td>\n      <td>NaN</td>\n      <td>NaN</td>\n      <td>NaN</td>\n      <td>NaN</td>\n      <td>NaN</td>\n      <td>47.99</td>\n    </tr>\n  </tbody>\n</table>\n<p>33529 rows × 53 columns</p>\n</div>"
     },
     "execution_count": 10,
     "metadata": {},
     "output_type": "execute_result"
    }
   ],
   "source": [
    "df_other = df[df['colors']!='Pink']\n",
    "df_other"
   ],
   "metadata": {
    "collapsed": false,
    "ExecuteTime": {
     "end_time": "2023-12-19T06:02:08.002195100Z",
     "start_time": "2023-12-19T06:02:07.849600900Z"
    }
   },
   "id": "d32c12a76bf78f1a"
  },
  {
   "cell_type": "code",
   "execution_count": 11,
   "outputs": [
    {
     "name": "stdout",
     "output_type": "stream",
     "text": [
      "-4.021702449186553 0.9999710477711565\n"
     ]
    }
   ],
   "source": [
    "t_statistic,p_value = stats.ttest_ind(df_pink.Avg_price,df_other.Avg_price,alternative='greater')\n",
    "print(t_statistic,p_value)"
   ],
   "metadata": {
    "collapsed": false,
    "ExecuteTime": {
     "end_time": "2023-12-19T06:02:08.004189Z",
     "start_time": "2023-12-19T06:02:07.912692900Z"
    }
   },
   "id": "548c75a8780b179c"
  },
  {
   "cell_type": "code",
   "execution_count": 17,
   "outputs": [
    {
     "name": "stdout",
     "output_type": "stream",
     "text": [
      "Conclusion:  (H0) pink colour cost less than other colour (p-value >= 0.05), so do not reject H0\n"
     ]
    }
   ],
   "source": [
    "#Conclusion\n",
    "if p_value < 0.05:\n",
    "    print(\"Conclusion: (H1) pink colour cost more than other colour  (p-value<0.05), so reject H0\")\n",
    "else:\n",
    "    print(\"Conclusion:  (H0) pink colour cost less than other colour (p-value >= 0.05), so do not reject H0\")"
   ],
   "metadata": {
    "collapsed": false,
    "ExecuteTime": {
     "end_time": "2023-12-19T06:26:19.405317700Z",
     "start_time": "2023-12-19T06:26:19.398075400Z"
    }
   },
   "id": "8848462eeec2ae69"
  },
  {
   "cell_type": "code",
   "execution_count": 18,
   "outputs": [
    {
     "name": "stdout",
     "output_type": "stream",
     "text": [
      "2.241502601373769\n"
     ]
    }
   ],
   "source": [
    "deg_free = len(df_pink)+len(df_other)-2\n",
    "alpha=0.05/2\n",
    "critical_value = t.ppf(1-alpha/2,deg_free)\n",
    "print(critical_value)"
   ],
   "metadata": {
    "collapsed": false,
    "ExecuteTime": {
     "end_time": "2023-12-19T06:26:19.895163600Z",
     "start_time": "2023-12-19T06:26:19.856938400Z"
    }
   },
   "id": "a7fdb034314cbc51"
  },
  {
   "cell_type": "code",
   "execution_count": 19,
   "outputs": [
    {
     "name": "stdout",
     "output_type": "stream",
     "text": [
      "Fail to Reject H0, because t-statistics Not greater than critical\n"
     ]
    }
   ],
   "source": [
    "if(t_statistic > critical_value):\n",
    "    print(\"Reject H0, because t-statistics greater than critical\")\n",
    "else:\n",
    "    print(\"Fail to Reject H0, because t-statistics Not greater than critical\")"
   ],
   "metadata": {
    "collapsed": false,
    "ExecuteTime": {
     "end_time": "2023-12-19T06:26:20.541957400Z",
     "start_time": "2023-12-19T06:26:20.535518300Z"
    }
   },
   "id": "cbbbdddc8cab8a92"
  },
  {
   "cell_type": "code",
   "execution_count": 21,
   "outputs": [
    {
     "name": "stdout",
     "output_type": "stream",
     "text": [
      "52.486985294117645 88.5935912195413\n"
     ]
    }
   ],
   "source": [
    "print(df_pink[\"Avg_price\"].mean(),df_other[\"Avg_price\"].mean())"
   ],
   "metadata": {
    "collapsed": false,
    "ExecuteTime": {
     "end_time": "2023-12-19T06:28:20.736204500Z",
     "start_time": "2023-12-19T06:28:20.723000200Z"
    }
   },
   "id": "ea4c52f54830fe4"
  },
  {
   "cell_type": "code",
   "execution_count": null,
   "outputs": [],
   "source": [],
   "metadata": {
    "collapsed": false
   },
   "id": "e0a0cce5daed29ee"
  }
 ],
 "metadata": {
  "kernelspec": {
   "display_name": "Python 3",
   "language": "python",
   "name": "python3"
  },
  "language_info": {
   "codemirror_mode": {
    "name": "ipython",
    "version": 2
   },
   "file_extension": ".py",
   "mimetype": "text/x-python",
   "name": "python",
   "nbconvert_exporter": "python",
   "pygments_lexer": "ipython2",
   "version": "2.7.6"
  }
 },
 "nbformat": 4,
 "nbformat_minor": 5
}
