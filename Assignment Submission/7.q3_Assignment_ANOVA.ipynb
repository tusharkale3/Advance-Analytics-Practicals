{
 "cells": [
  {
   "cell_type": "code",
   "execution_count": 1,
   "outputs": [],
   "source": [
    "from scipy.stats import f_oneway"
   ],
   "metadata": {
    "collapsed": false,
    "ExecuteTime": {
     "end_time": "2023-12-19T08:00:37.408742100Z",
     "start_time": "2023-12-19T08:00:36.962417600Z"
    }
   },
   "id": "82cc774c200378f0"
  },
  {
   "cell_type": "code",
   "execution_count": 2,
   "id": "initial_id",
   "metadata": {
    "collapsed": true,
    "ExecuteTime": {
     "end_time": "2023-12-19T08:00:39.021218700Z",
     "start_time": "2023-12-19T08:00:37.410737Z"
    }
   },
   "outputs": [
    {
     "name": "stderr",
     "output_type": "stream",
     "text": [
      "C:\\Users\\dbda\\AppData\\Local\\Temp\\ipykernel_9320\\3333642396.py:6: DtypeWarning: Columns (2,18,20,21,22,27) have mixed types. Specify dtype option on import or set low_memory=False.\n",
      "  test_20 = pd.read_csv('Men Test Player Innings Stats - 20th Century.csv')\n"
     ]
    },
    {
     "data": {
      "text/plain": "          Innings Player Innings Runs Scored Innings Runs Scored Num  \\\n0        KS Ranjitsinhji                 175                     175   \n1            AE Stoddart                 173                     173   \n2               WG Grace                 170                     170   \n3       A Shrewsbury snr                 164                     164   \n4        KS Ranjitsinhji                154*                     154   \n...                  ...                 ...                     ...   \n208773         GC Wilson                 NaN                     NaN   \n208774   WTS Porterfield                 NaN                     NaN   \n208775       A Balbirnie                 NaN                     NaN   \n208776       PR Stirling                 NaN                     NaN   \n208777       JA McCollum                 NaN                     NaN   \n\n       Innings Minutes Batted  Innings Batted Flag  Innings Not Out Flag  \\\n0                         223                  1.0                   0.0   \n1                         320                  1.0                   0.0   \n2                         270                  1.0                   0.0   \n3                         411                  1.0                   0.0   \n4                         185                  1.0                   1.0   \n...                       ...                  ...                   ...   \n208773                    NaN                  NaN                   NaN   \n208774                    NaN                  NaN                   NaN   \n208775                    NaN                  NaN                   NaN   \n208776                    NaN                  NaN                   NaN   \n208777                    NaN                  NaN                   NaN   \n\n       Innings Balls Faced Innings Boundary Fours Innings Boundary Sixes  \\\n0                        -                     26                      0   \n1                        -                     15                      1   \n2                        -                     24                      0   \n3                        -                     16                      0   \n4                        -                     23                      0   \n...                    ...                    ...                    ...   \n208773                 NaN                    NaN                    NaN   \n208774                 NaN                    NaN                    NaN   \n208775                 NaN                    NaN                    NaN   \n208776                 NaN                    NaN                    NaN   \n208777                 NaN                    NaN                    NaN   \n\n       Innings Batting Strike Rate  ... Innings Overs Bowled  \\\n0                                -  ...                  NaN   \n1                                -  ...                  NaN   \n2                                -  ...                  NaN   \n3                                -  ...                  NaN   \n4                                -  ...                  NaN   \n...                            ...  ...                  ...   \n208773                         NaN  ...                  DNB   \n208774                         NaN  ...                  DNB   \n208775                         NaN  ...                  DNB   \n208776                         NaN  ...                  DNB   \n208777                         NaN  ...                  DNB   \n\n       Innings Bowled Flag Innings Maidens Bowled Innings Runs Conceded  \\\n0                      NaN                    NaN                   NaN   \n1                      NaN                    NaN                   NaN   \n2                      NaN                    NaN                   NaN   \n3                      NaN                    NaN                   NaN   \n4                      NaN                    NaN                   NaN   \n...                    ...                    ...                   ...   \n208773                 0.0                      -                     -   \n208774                 0.0                      -                     -   \n208775                 0.0                      -                     -   \n208776                 0.0                      -                     -   \n208777                 0.0                      -                     -   \n\n       Innings Wickets Taken  4 Wickets  5 Wickets 10 Wickets  \\\n0                        NaN        NaN        NaN        NaN   \n1                        NaN        NaN        NaN        NaN   \n2                        NaN        NaN        NaN        NaN   \n3                        NaN        NaN        NaN        NaN   \n4                        NaN        NaN        NaN        NaN   \n...                      ...        ...        ...        ...   \n208773                     -        1.0        0.0        0.0   \n208774                     -        1.0        0.0        0.0   \n208775                     -        1.0        0.0        0.0   \n208776                     -        1.0        0.0        0.0   \n208777                     -        1.0        0.0        0.0   \n\n       Innings Wickets Taken Buckets  Innings Economy Rate  \n0                                NaN                   NaN  \n1                                NaN                   NaN  \n2                                NaN                   NaN  \n3                                NaN                   NaN  \n4                                NaN                   NaN  \n...                              ...                   ...  \n208773                             -                     -  \n208774                             -                     -  \n208775                             -                     -  \n208776                             -                     -  \n208777                             -                     -  \n\n[330108 rows x 28 columns]",
      "text/html": "<div>\n<style scoped>\n    .dataframe tbody tr th:only-of-type {\n        vertical-align: middle;\n    }\n\n    .dataframe tbody tr th {\n        vertical-align: top;\n    }\n\n    .dataframe thead th {\n        text-align: right;\n    }\n</style>\n<table border=\"1\" class=\"dataframe\">\n  <thead>\n    <tr style=\"text-align: right;\">\n      <th></th>\n      <th>Innings Player</th>\n      <th>Innings Runs Scored</th>\n      <th>Innings Runs Scored Num</th>\n      <th>Innings Minutes Batted</th>\n      <th>Innings Batted Flag</th>\n      <th>Innings Not Out Flag</th>\n      <th>Innings Balls Faced</th>\n      <th>Innings Boundary Fours</th>\n      <th>Innings Boundary Sixes</th>\n      <th>Innings Batting Strike Rate</th>\n      <th>...</th>\n      <th>Innings Overs Bowled</th>\n      <th>Innings Bowled Flag</th>\n      <th>Innings Maidens Bowled</th>\n      <th>Innings Runs Conceded</th>\n      <th>Innings Wickets Taken</th>\n      <th>4 Wickets</th>\n      <th>5 Wickets</th>\n      <th>10 Wickets</th>\n      <th>Innings Wickets Taken Buckets</th>\n      <th>Innings Economy Rate</th>\n    </tr>\n  </thead>\n  <tbody>\n    <tr>\n      <th>0</th>\n      <td>KS Ranjitsinhji</td>\n      <td>175</td>\n      <td>175</td>\n      <td>223</td>\n      <td>1.0</td>\n      <td>0.0</td>\n      <td>-</td>\n      <td>26</td>\n      <td>0</td>\n      <td>-</td>\n      <td>...</td>\n      <td>NaN</td>\n      <td>NaN</td>\n      <td>NaN</td>\n      <td>NaN</td>\n      <td>NaN</td>\n      <td>NaN</td>\n      <td>NaN</td>\n      <td>NaN</td>\n      <td>NaN</td>\n      <td>NaN</td>\n    </tr>\n    <tr>\n      <th>1</th>\n      <td>AE Stoddart</td>\n      <td>173</td>\n      <td>173</td>\n      <td>320</td>\n      <td>1.0</td>\n      <td>0.0</td>\n      <td>-</td>\n      <td>15</td>\n      <td>1</td>\n      <td>-</td>\n      <td>...</td>\n      <td>NaN</td>\n      <td>NaN</td>\n      <td>NaN</td>\n      <td>NaN</td>\n      <td>NaN</td>\n      <td>NaN</td>\n      <td>NaN</td>\n      <td>NaN</td>\n      <td>NaN</td>\n      <td>NaN</td>\n    </tr>\n    <tr>\n      <th>2</th>\n      <td>WG Grace</td>\n      <td>170</td>\n      <td>170</td>\n      <td>270</td>\n      <td>1.0</td>\n      <td>0.0</td>\n      <td>-</td>\n      <td>24</td>\n      <td>0</td>\n      <td>-</td>\n      <td>...</td>\n      <td>NaN</td>\n      <td>NaN</td>\n      <td>NaN</td>\n      <td>NaN</td>\n      <td>NaN</td>\n      <td>NaN</td>\n      <td>NaN</td>\n      <td>NaN</td>\n      <td>NaN</td>\n      <td>NaN</td>\n    </tr>\n    <tr>\n      <th>3</th>\n      <td>A Shrewsbury snr</td>\n      <td>164</td>\n      <td>164</td>\n      <td>411</td>\n      <td>1.0</td>\n      <td>0.0</td>\n      <td>-</td>\n      <td>16</td>\n      <td>0</td>\n      <td>-</td>\n      <td>...</td>\n      <td>NaN</td>\n      <td>NaN</td>\n      <td>NaN</td>\n      <td>NaN</td>\n      <td>NaN</td>\n      <td>NaN</td>\n      <td>NaN</td>\n      <td>NaN</td>\n      <td>NaN</td>\n      <td>NaN</td>\n    </tr>\n    <tr>\n      <th>4</th>\n      <td>KS Ranjitsinhji</td>\n      <td>154*</td>\n      <td>154</td>\n      <td>185</td>\n      <td>1.0</td>\n      <td>1.0</td>\n      <td>-</td>\n      <td>23</td>\n      <td>0</td>\n      <td>-</td>\n      <td>...</td>\n      <td>NaN</td>\n      <td>NaN</td>\n      <td>NaN</td>\n      <td>NaN</td>\n      <td>NaN</td>\n      <td>NaN</td>\n      <td>NaN</td>\n      <td>NaN</td>\n      <td>NaN</td>\n      <td>NaN</td>\n    </tr>\n    <tr>\n      <th>...</th>\n      <td>...</td>\n      <td>...</td>\n      <td>...</td>\n      <td>...</td>\n      <td>...</td>\n      <td>...</td>\n      <td>...</td>\n      <td>...</td>\n      <td>...</td>\n      <td>...</td>\n      <td>...</td>\n      <td>...</td>\n      <td>...</td>\n      <td>...</td>\n      <td>...</td>\n      <td>...</td>\n      <td>...</td>\n      <td>...</td>\n      <td>...</td>\n      <td>...</td>\n      <td>...</td>\n    </tr>\n    <tr>\n      <th>208773</th>\n      <td>GC Wilson</td>\n      <td>NaN</td>\n      <td>NaN</td>\n      <td>NaN</td>\n      <td>NaN</td>\n      <td>NaN</td>\n      <td>NaN</td>\n      <td>NaN</td>\n      <td>NaN</td>\n      <td>NaN</td>\n      <td>...</td>\n      <td>DNB</td>\n      <td>0.0</td>\n      <td>-</td>\n      <td>-</td>\n      <td>-</td>\n      <td>1.0</td>\n      <td>0.0</td>\n      <td>0.0</td>\n      <td>-</td>\n      <td>-</td>\n    </tr>\n    <tr>\n      <th>208774</th>\n      <td>WTS Porterfield</td>\n      <td>NaN</td>\n      <td>NaN</td>\n      <td>NaN</td>\n      <td>NaN</td>\n      <td>NaN</td>\n      <td>NaN</td>\n      <td>NaN</td>\n      <td>NaN</td>\n      <td>NaN</td>\n      <td>...</td>\n      <td>DNB</td>\n      <td>0.0</td>\n      <td>-</td>\n      <td>-</td>\n      <td>-</td>\n      <td>1.0</td>\n      <td>0.0</td>\n      <td>0.0</td>\n      <td>-</td>\n      <td>-</td>\n    </tr>\n    <tr>\n      <th>208775</th>\n      <td>A Balbirnie</td>\n      <td>NaN</td>\n      <td>NaN</td>\n      <td>NaN</td>\n      <td>NaN</td>\n      <td>NaN</td>\n      <td>NaN</td>\n      <td>NaN</td>\n      <td>NaN</td>\n      <td>NaN</td>\n      <td>...</td>\n      <td>DNB</td>\n      <td>0.0</td>\n      <td>-</td>\n      <td>-</td>\n      <td>-</td>\n      <td>1.0</td>\n      <td>0.0</td>\n      <td>0.0</td>\n      <td>-</td>\n      <td>-</td>\n    </tr>\n    <tr>\n      <th>208776</th>\n      <td>PR Stirling</td>\n      <td>NaN</td>\n      <td>NaN</td>\n      <td>NaN</td>\n      <td>NaN</td>\n      <td>NaN</td>\n      <td>NaN</td>\n      <td>NaN</td>\n      <td>NaN</td>\n      <td>NaN</td>\n      <td>...</td>\n      <td>DNB</td>\n      <td>0.0</td>\n      <td>-</td>\n      <td>-</td>\n      <td>-</td>\n      <td>1.0</td>\n      <td>0.0</td>\n      <td>0.0</td>\n      <td>-</td>\n      <td>-</td>\n    </tr>\n    <tr>\n      <th>208777</th>\n      <td>JA McCollum</td>\n      <td>NaN</td>\n      <td>NaN</td>\n      <td>NaN</td>\n      <td>NaN</td>\n      <td>NaN</td>\n      <td>NaN</td>\n      <td>NaN</td>\n      <td>NaN</td>\n      <td>NaN</td>\n      <td>...</td>\n      <td>DNB</td>\n      <td>0.0</td>\n      <td>-</td>\n      <td>-</td>\n      <td>-</td>\n      <td>1.0</td>\n      <td>0.0</td>\n      <td>0.0</td>\n      <td>-</td>\n      <td>-</td>\n    </tr>\n  </tbody>\n</table>\n<p>330108 rows × 28 columns</p>\n</div>"
     },
     "execution_count": 2,
     "metadata": {},
     "output_type": "execute_result"
    }
   ],
   "source": [
    "import pandas as pd\n",
    "import numpy as np\n",
    "import matplotlib.pyplot as plt\n",
    "\n",
    "test_19 = pd.read_csv('Men Test Player Innings Stats - 19th Century.csv')\n",
    "test_20 = pd.read_csv('Men Test Player Innings Stats - 20th Century.csv')\n",
    "test_21 = pd.read_csv('Men Test Player Innings Stats - 21st Century.csv')\n",
    "\n",
    "\n",
    "df = pd.concat([test_19,test_20,test_21], axis=0)\n",
    "df"
   ]
  },
  {
   "cell_type": "code",
   "execution_count": 3,
   "outputs": [],
   "source": [
    "# #There are duplicate records\n",
    "# df_no_duplicates = df.drop_duplicates(subset=['Innings Player', 'Innings Date'])\n",
    "# df = df_no_duplicates.copy()"
   ],
   "metadata": {
    "collapsed": false,
    "ExecuteTime": {
     "end_time": "2023-12-19T08:00:39.022215100Z",
     "start_time": "2023-12-19T08:00:39.020218400Z"
    }
   },
   "id": "7d04bb861acaa459"
  },
  {
   "cell_type": "code",
   "execution_count": 4,
   "outputs": [
    {
     "data": {
      "text/plain": "          Innings Player Innings Runs Scored Innings Runs Scored Num  \\\n0        KS Ranjitsinhji                 175                     175   \n1            AE Stoddart                 173                     173   \n2               WG Grace                 170                     170   \n3       A Shrewsbury snr                 164                     164   \n4        KS Ranjitsinhji                154*                     154   \n...                  ...                 ...                     ...   \n208773         GC Wilson                 NaN                     NaN   \n208774   WTS Porterfield                 NaN                     NaN   \n208775       A Balbirnie                 NaN                     NaN   \n208776       PR Stirling                 NaN                     NaN   \n208777       JA McCollum                 NaN                     NaN   \n\n       Innings Minutes Batted  Innings Batted Flag  Innings Not Out Flag  \\\n0                         223                  1.0                   0.0   \n1                         320                  1.0                   0.0   \n2                         270                  1.0                   0.0   \n3                         411                  1.0                   0.0   \n4                         185                  1.0                   1.0   \n...                       ...                  ...                   ...   \n208773                    NaN                  NaN                   NaN   \n208774                    NaN                  NaN                   NaN   \n208775                    NaN                  NaN                   NaN   \n208776                    NaN                  NaN                   NaN   \n208777                    NaN                  NaN                   NaN   \n\n       Innings Balls Faced Innings Boundary Fours Innings Boundary Sixes  \\\n0                        -                     26                      0   \n1                        -                     15                      1   \n2                        -                     24                      0   \n3                        -                     16                      0   \n4                        -                     23                      0   \n...                    ...                    ...                    ...   \n208773                 NaN                    NaN                    NaN   \n208774                 NaN                    NaN                    NaN   \n208775                 NaN                    NaN                    NaN   \n208776                 NaN                    NaN                    NaN   \n208777                 NaN                    NaN                    NaN   \n\n       Innings Batting Strike Rate  ... Innings Overs Bowled  \\\n0                                -  ...                  NaN   \n1                                -  ...                  NaN   \n2                                -  ...                  NaN   \n3                                -  ...                  NaN   \n4                                -  ...                  NaN   \n...                            ...  ...                  ...   \n208773                         NaN  ...                  DNB   \n208774                         NaN  ...                  DNB   \n208775                         NaN  ...                  DNB   \n208776                         NaN  ...                  DNB   \n208777                         NaN  ...                  DNB   \n\n       Innings Bowled Flag Innings Maidens Bowled Innings Runs Conceded  \\\n0                      NaN                    NaN                   NaN   \n1                      NaN                    NaN                   NaN   \n2                      NaN                    NaN                   NaN   \n3                      NaN                    NaN                   NaN   \n4                      NaN                    NaN                   NaN   \n...                    ...                    ...                   ...   \n208773                 0.0                      -                     -   \n208774                 0.0                      -                     -   \n208775                 0.0                      -                     -   \n208776                 0.0                      -                     -   \n208777                 0.0                      -                     -   \n\n       Innings Wickets Taken  4 Wickets  5 Wickets 10 Wickets  \\\n0                        NaN        NaN        NaN        NaN   \n1                        NaN        NaN        NaN        NaN   \n2                        NaN        NaN        NaN        NaN   \n3                        NaN        NaN        NaN        NaN   \n4                        NaN        NaN        NaN        NaN   \n...                      ...        ...        ...        ...   \n208773                     -        1.0        0.0        0.0   \n208774                     -        1.0        0.0        0.0   \n208775                     -        1.0        0.0        0.0   \n208776                     -        1.0        0.0        0.0   \n208777                     -        1.0        0.0        0.0   \n\n       Innings Wickets Taken Buckets  Innings Economy Rate  \n0                                NaN                   NaN  \n1                                NaN                   NaN  \n2                                NaN                   NaN  \n3                                NaN                   NaN  \n4                                NaN                   NaN  \n...                              ...                   ...  \n208773                             -                     -  \n208774                             -                     -  \n208775                             -                     -  \n208776                             -                     -  \n208777                             -                     -  \n\n[330108 rows x 28 columns]",
      "text/html": "<div>\n<style scoped>\n    .dataframe tbody tr th:only-of-type {\n        vertical-align: middle;\n    }\n\n    .dataframe tbody tr th {\n        vertical-align: top;\n    }\n\n    .dataframe thead th {\n        text-align: right;\n    }\n</style>\n<table border=\"1\" class=\"dataframe\">\n  <thead>\n    <tr style=\"text-align: right;\">\n      <th></th>\n      <th>Innings Player</th>\n      <th>Innings Runs Scored</th>\n      <th>Innings Runs Scored Num</th>\n      <th>Innings Minutes Batted</th>\n      <th>Innings Batted Flag</th>\n      <th>Innings Not Out Flag</th>\n      <th>Innings Balls Faced</th>\n      <th>Innings Boundary Fours</th>\n      <th>Innings Boundary Sixes</th>\n      <th>Innings Batting Strike Rate</th>\n      <th>...</th>\n      <th>Innings Overs Bowled</th>\n      <th>Innings Bowled Flag</th>\n      <th>Innings Maidens Bowled</th>\n      <th>Innings Runs Conceded</th>\n      <th>Innings Wickets Taken</th>\n      <th>4 Wickets</th>\n      <th>5 Wickets</th>\n      <th>10 Wickets</th>\n      <th>Innings Wickets Taken Buckets</th>\n      <th>Innings Economy Rate</th>\n    </tr>\n  </thead>\n  <tbody>\n    <tr>\n      <th>0</th>\n      <td>KS Ranjitsinhji</td>\n      <td>175</td>\n      <td>175</td>\n      <td>223</td>\n      <td>1.0</td>\n      <td>0.0</td>\n      <td>-</td>\n      <td>26</td>\n      <td>0</td>\n      <td>-</td>\n      <td>...</td>\n      <td>NaN</td>\n      <td>NaN</td>\n      <td>NaN</td>\n      <td>NaN</td>\n      <td>NaN</td>\n      <td>NaN</td>\n      <td>NaN</td>\n      <td>NaN</td>\n      <td>NaN</td>\n      <td>NaN</td>\n    </tr>\n    <tr>\n      <th>1</th>\n      <td>AE Stoddart</td>\n      <td>173</td>\n      <td>173</td>\n      <td>320</td>\n      <td>1.0</td>\n      <td>0.0</td>\n      <td>-</td>\n      <td>15</td>\n      <td>1</td>\n      <td>-</td>\n      <td>...</td>\n      <td>NaN</td>\n      <td>NaN</td>\n      <td>NaN</td>\n      <td>NaN</td>\n      <td>NaN</td>\n      <td>NaN</td>\n      <td>NaN</td>\n      <td>NaN</td>\n      <td>NaN</td>\n      <td>NaN</td>\n    </tr>\n    <tr>\n      <th>2</th>\n      <td>WG Grace</td>\n      <td>170</td>\n      <td>170</td>\n      <td>270</td>\n      <td>1.0</td>\n      <td>0.0</td>\n      <td>-</td>\n      <td>24</td>\n      <td>0</td>\n      <td>-</td>\n      <td>...</td>\n      <td>NaN</td>\n      <td>NaN</td>\n      <td>NaN</td>\n      <td>NaN</td>\n      <td>NaN</td>\n      <td>NaN</td>\n      <td>NaN</td>\n      <td>NaN</td>\n      <td>NaN</td>\n      <td>NaN</td>\n    </tr>\n    <tr>\n      <th>3</th>\n      <td>A Shrewsbury snr</td>\n      <td>164</td>\n      <td>164</td>\n      <td>411</td>\n      <td>1.0</td>\n      <td>0.0</td>\n      <td>-</td>\n      <td>16</td>\n      <td>0</td>\n      <td>-</td>\n      <td>...</td>\n      <td>NaN</td>\n      <td>NaN</td>\n      <td>NaN</td>\n      <td>NaN</td>\n      <td>NaN</td>\n      <td>NaN</td>\n      <td>NaN</td>\n      <td>NaN</td>\n      <td>NaN</td>\n      <td>NaN</td>\n    </tr>\n    <tr>\n      <th>4</th>\n      <td>KS Ranjitsinhji</td>\n      <td>154*</td>\n      <td>154</td>\n      <td>185</td>\n      <td>1.0</td>\n      <td>1.0</td>\n      <td>-</td>\n      <td>23</td>\n      <td>0</td>\n      <td>-</td>\n      <td>...</td>\n      <td>NaN</td>\n      <td>NaN</td>\n      <td>NaN</td>\n      <td>NaN</td>\n      <td>NaN</td>\n      <td>NaN</td>\n      <td>NaN</td>\n      <td>NaN</td>\n      <td>NaN</td>\n      <td>NaN</td>\n    </tr>\n    <tr>\n      <th>...</th>\n      <td>...</td>\n      <td>...</td>\n      <td>...</td>\n      <td>...</td>\n      <td>...</td>\n      <td>...</td>\n      <td>...</td>\n      <td>...</td>\n      <td>...</td>\n      <td>...</td>\n      <td>...</td>\n      <td>...</td>\n      <td>...</td>\n      <td>...</td>\n      <td>...</td>\n      <td>...</td>\n      <td>...</td>\n      <td>...</td>\n      <td>...</td>\n      <td>...</td>\n      <td>...</td>\n    </tr>\n    <tr>\n      <th>208773</th>\n      <td>GC Wilson</td>\n      <td>NaN</td>\n      <td>NaN</td>\n      <td>NaN</td>\n      <td>NaN</td>\n      <td>NaN</td>\n      <td>NaN</td>\n      <td>NaN</td>\n      <td>NaN</td>\n      <td>NaN</td>\n      <td>...</td>\n      <td>DNB</td>\n      <td>0.0</td>\n      <td>-</td>\n      <td>-</td>\n      <td>-</td>\n      <td>1.0</td>\n      <td>0.0</td>\n      <td>0.0</td>\n      <td>-</td>\n      <td>-</td>\n    </tr>\n    <tr>\n      <th>208774</th>\n      <td>WTS Porterfield</td>\n      <td>NaN</td>\n      <td>NaN</td>\n      <td>NaN</td>\n      <td>NaN</td>\n      <td>NaN</td>\n      <td>NaN</td>\n      <td>NaN</td>\n      <td>NaN</td>\n      <td>NaN</td>\n      <td>...</td>\n      <td>DNB</td>\n      <td>0.0</td>\n      <td>-</td>\n      <td>-</td>\n      <td>-</td>\n      <td>1.0</td>\n      <td>0.0</td>\n      <td>0.0</td>\n      <td>-</td>\n      <td>-</td>\n    </tr>\n    <tr>\n      <th>208775</th>\n      <td>A Balbirnie</td>\n      <td>NaN</td>\n      <td>NaN</td>\n      <td>NaN</td>\n      <td>NaN</td>\n      <td>NaN</td>\n      <td>NaN</td>\n      <td>NaN</td>\n      <td>NaN</td>\n      <td>NaN</td>\n      <td>...</td>\n      <td>DNB</td>\n      <td>0.0</td>\n      <td>-</td>\n      <td>-</td>\n      <td>-</td>\n      <td>1.0</td>\n      <td>0.0</td>\n      <td>0.0</td>\n      <td>-</td>\n      <td>-</td>\n    </tr>\n    <tr>\n      <th>208776</th>\n      <td>PR Stirling</td>\n      <td>NaN</td>\n      <td>NaN</td>\n      <td>NaN</td>\n      <td>NaN</td>\n      <td>NaN</td>\n      <td>NaN</td>\n      <td>NaN</td>\n      <td>NaN</td>\n      <td>NaN</td>\n      <td>...</td>\n      <td>DNB</td>\n      <td>0.0</td>\n      <td>-</td>\n      <td>-</td>\n      <td>-</td>\n      <td>1.0</td>\n      <td>0.0</td>\n      <td>0.0</td>\n      <td>-</td>\n      <td>-</td>\n    </tr>\n    <tr>\n      <th>208777</th>\n      <td>JA McCollum</td>\n      <td>NaN</td>\n      <td>NaN</td>\n      <td>NaN</td>\n      <td>NaN</td>\n      <td>NaN</td>\n      <td>NaN</td>\n      <td>NaN</td>\n      <td>NaN</td>\n      <td>NaN</td>\n      <td>...</td>\n      <td>DNB</td>\n      <td>0.0</td>\n      <td>-</td>\n      <td>-</td>\n      <td>-</td>\n      <td>1.0</td>\n      <td>0.0</td>\n      <td>0.0</td>\n      <td>-</td>\n      <td>-</td>\n    </tr>\n  </tbody>\n</table>\n<p>330108 rows × 28 columns</p>\n</div>"
     },
     "execution_count": 4,
     "metadata": {},
     "output_type": "execute_result"
    }
   ],
   "source": [
    "df"
   ],
   "metadata": {
    "collapsed": false,
    "ExecuteTime": {
     "end_time": "2023-12-19T08:00:39.322526300Z",
     "start_time": "2023-12-19T08:00:39.023212700Z"
    }
   },
   "id": "cbb0cfbaf71f1bad"
  },
  {
   "cell_type": "code",
   "execution_count": 5,
   "outputs": [],
   "source": [
    "team_ENG = df[df['Country'] == 'England']\n",
    "team_AUS = df[df['Country'] == 'Australia']\n",
    "team_IND = df[df['Country'] == 'India']\n",
    "team_PK = df[df['Country'] == 'Pakistan']"
   ],
   "metadata": {
    "collapsed": false,
    "ExecuteTime": {
     "end_time": "2023-12-19T08:00:39.432105100Z",
     "start_time": "2023-12-19T08:00:39.324521100Z"
    }
   },
   "id": "39385d02fd941c52"
  },
  {
   "cell_type": "code",
   "execution_count": 6,
   "outputs": [
    {
     "data": {
      "text/plain": "array([nan, '28', '7', '11', '35', '58', '94', '17', '31', '36', '37',\n       '38', '40', '42', '44', '68', '71', '74', '168', '23', '39', '41',\n       '45', '49', '50', '52', '54', '67', '76', '84', '85', '87', '98',\n       '101', '104', '18', '19', '24', '25', '29', '32', '34', '43', '46',\n       '51', '56', '57', '75', '107', '114', '134', '181', '8', '14',\n       '26', '27', '30', '33', '47', '53', '61', '65', '69', '70', '77',\n       '79', '81', '96', '99', '164', '13', '15', '20', '59', '60', '62',\n       '73', '78', '88', '89', '90', '91', '105', '108', '138', '4', '9',\n       '10', '12', '48', '64', '66', '72', '86', '100', '102', '110',\n       '121', '140', '0', '1', '2', '6', '16', '21', '22', '55', '82',\n       '93', '128', '3', '5', '-', 53.0, 37.0, 57.0, 103.0, 29.0, 31.0,\n       34.0, 43.0, 51.0, 56.0, 59.0, 68.0, 75.0, 81.0, 86.0, 107.0, 126.0,\n       17.0, 27.0, 32.0, 35.0, 36.0, 39.0, 40.0, 44.0, 46.0, 47.0, 48.0,\n       49.0, 50.0, 52.0, 55.0, 58.0, 60.0, 61.0, 66.0, 70.0, 71.0, 76.0,\n       78.0, 79.0, 80.0, 88.0, 105.0, 113.0, 115.0, 121.0, 7.0, 12.0,\n       20.0, 25.0, 28.0, 30.0, 33.0, 38.0, 41.0, 42.0, 45.0, 54.0, 63.0,\n       65.0, 67.0, 73.0, 77.0, 82.0, 84.0, 85.0, 87.0, 90.0, 91.0, 94.0,\n       95.0, 96.0, 99.0, 100.0, 101.0, 104.0, 111.0, 114.0, 118.0, 119.0,\n       124.0, 125.0, 130.0, 142.0, 154.0, 164.0, 204.0, 11.0, 14.0, 15.0,\n       16.0, 18.0, 19.0, 21.0, 24.0, 62.0, 64.0, 69.0, 72.0, 74.0, 83.0,\n       92.0, 93.0, 98.0, 102.0, 106.0, 108.0, 109.0, 110.0, 116.0, 122.0,\n       123.0, 127.0, 131.0, 133.0, 141.0, 146.0, 149.0, 156.0, 167.0,\n       168.0, 169.0, 5.0, 6.0, 10.0, 13.0, 22.0, 23.0, 26.0, 89.0, 97.0,\n       112.0, 117.0, 128.0, 132.0, 136.0, 138.0, 143.0, 150.0, 153.0,\n       155.0, 163.0, 170.0, 174.0, 4.0, 8.0, 9.0, 120.0, 129.0, 134.0,\n       135.0, 140.0, 145.0, 147.0, 148.0, 152.0, 158.0, 160.0, 161.0,\n       165.0, 176.0, 180.0, 183.0, 217.0, 1.0, 3.0, '112', '113', '115',\n       '116', '117', '118', '119', '120', '122', '123', '124', '125',\n       '126', '129', '130', '131', '133', '136', '137', '141', '142',\n       '144', '147', '148', '151', '153', '154', '155', '159', '161',\n       '172', '178', '63', '80', '83', '92', '95', '97', '103', '106',\n       '109', '111', '127', '132', '135', '139', '150', '160', '166',\n       '169', '143', '152', '165', '182', '192', '145', '146', '170',\n       '174', '185', '190', '157', '163', '193'], dtype=object)"
     },
     "execution_count": 6,
     "metadata": {},
     "output_type": "execute_result"
    }
   ],
   "source": [
    "team_ENG['Innings Runs Conceded'].unique()"
   ],
   "metadata": {
    "collapsed": false,
    "ExecuteTime": {
     "end_time": "2023-12-19T08:00:39.441622100Z",
     "start_time": "2023-12-19T08:00:39.430109600Z"
    }
   },
   "id": "79c404bd5daaf5a0"
  },
  {
   "cell_type": "code",
   "execution_count": 7,
   "outputs": [
    {
     "data": {
      "text/plain": "Innings Player                       0\nInnings Runs Scored              30800\nInnings Runs Scored Num          30800\nInnings Minutes Batted           30800\nInnings Batted Flag              30800\nInnings Not Out Flag             30800\nInnings Balls Faced              30800\nInnings Boundary Fours           30800\nInnings Boundary Sixes           30800\nInnings Batting Strike Rate      30800\nInnings Number                       0\nOpposition                           0\nGround                               0\nInnings Date                         0\nCountry                              0\n50's                             30800\n100's                            30800\nInnings Runs Scored Buckets      30800\nInnings Overs Bowled             30195\nInnings Bowled Flag              30195\nInnings Maidens Bowled           30195\nInnings Runs Conceded            30195\nInnings Wickets Taken            30195\n4 Wickets                        30195\n5 Wickets                        30195\n10 Wickets                       30195\nInnings Wickets Taken Buckets    30195\nInnings Economy Rate             30195\ndtype: int64"
     },
     "execution_count": 7,
     "metadata": {},
     "output_type": "execute_result"
    }
   ],
   "source": [
    "team_ENG.isna().sum()\n"
   ],
   "metadata": {
    "collapsed": false,
    "ExecuteTime": {
     "end_time": "2023-12-19T08:00:39.477582100Z",
     "start_time": "2023-12-19T08:00:39.441622100Z"
    }
   },
   "id": "e41703eddbf40526"
  },
  {
   "cell_type": "code",
   "execution_count": 8,
   "outputs": [
    {
     "name": "stderr",
     "output_type": "stream",
     "text": [
      "C:\\Users\\dbda\\AppData\\Local\\Temp\\ipykernel_9320\\3200714463.py:1: SettingWithCopyWarning: \n",
      "A value is trying to be set on a copy of a slice from a DataFrame\n",
      "\n",
      "See the caveats in the documentation: https://pandas.pydata.org/pandas-docs/stable/user_guide/indexing.html#returning-a-view-versus-a-copy\n",
      "  team_ENG.dropna(subset= [\"Innings Runs Conceded\",\"Innings Wickets Taken\"],inplace=True)\n"
     ]
    },
    {
     "data": {
      "text/plain": "       Innings Player Innings Runs Scored Innings Runs Scored Num  \\\n2585       GA Lohmann                 NaN                     NaN   \n2586       GA Lohmann                 NaN                     NaN   \n2587         J Briggs                 NaN                     NaN   \n2588       GA Lohmann                 NaN                     NaN   \n2589       GA Lohmann                 NaN                     NaN   \n...               ...                 ...                     ...   \n154813      SCJ Broad                 NaN                     NaN   \n154814     AR Caddick                 NaN                     NaN   \n154815       GP Swann                 NaN                     NaN   \n154816         MM Ali                 NaN                     NaN   \n154817      AU Rashid                 NaN                     NaN   \n\n       Innings Minutes Batted  Innings Batted Flag  Innings Not Out Flag  \\\n2585                      NaN                  NaN                   NaN   \n2586                      NaN                  NaN                   NaN   \n2587                      NaN                  NaN                   NaN   \n2588                      NaN                  NaN                   NaN   \n2589                      NaN                  NaN                   NaN   \n...                       ...                  ...                   ...   \n154813                    NaN                  NaN                   NaN   \n154814                    NaN                  NaN                   NaN   \n154815                    NaN                  NaN                   NaN   \n154816                    NaN                  NaN                   NaN   \n154817                    NaN                  NaN                   NaN   \n\n       Innings Balls Faced Innings Boundary Fours Innings Boundary Sixes  \\\n2585                   NaN                    NaN                    NaN   \n2586                   NaN                    NaN                    NaN   \n2587                   NaN                    NaN                    NaN   \n2588                   NaN                    NaN                    NaN   \n2589                   NaN                    NaN                    NaN   \n...                    ...                    ...                    ...   \n154813                 NaN                    NaN                    NaN   \n154814                 NaN                    NaN                    NaN   \n154815                 NaN                    NaN                    NaN   \n154816                 NaN                    NaN                    NaN   \n154817                 NaN                    NaN                    NaN   \n\n       Innings Batting Strike Rate  ... Innings Bowled Flag  \\\n2585                           NaN  ...                 1.0   \n2586                           NaN  ...                 1.0   \n2587                           NaN  ...                 1.0   \n2588                           NaN  ...                 1.0   \n2589                           NaN  ...                 1.0   \n...                            ...  ...                 ...   \n154813                         NaN  ...                 1.0   \n154814                         NaN  ...                 1.0   \n154815                         NaN  ...                 1.0   \n154816                         NaN  ...                 1.0   \n154817                         NaN  ...                 1.0   \n\n       Innings Maidens Bowled Innings Runs Conceded Innings Wickets Taken  \\\n2585                        6                    28                     9   \n2586                        5                     7                     8   \n2587                        5                    11                     8   \n2588                       12                    35                     8   \n2589                       18                    58                     8   \n...                       ...                   ...                   ...   \n154813                      3                   142                     0   \n154814                      9                   146                     0   \n154815                     10                   151                     0   \n154816                     14                   155                     0   \n154817                      0                   163                     0   \n\n       4 Wickets  5 Wickets  10 Wickets Innings Wickets Taken Buckets  \\\n2585         0.0        1.0         0.0                            5+   \n2586         0.0        1.0         0.0                            5+   \n2587         0.0        1.0         0.0                            5+   \n2588         0.0        1.0         0.0                            5+   \n2589         0.0        1.0         0.0                            5+   \n...          ...        ...         ...                           ...   \n154813       1.0        0.0         0.0                           0-4   \n154814       1.0        0.0         0.0                           0-4   \n154815       1.0        0.0         0.0                           0-4   \n154816       1.0        0.0         0.0                           0-4   \n154817       1.0        0.0         0.0                           0-4   \n\n       Innings Economy Rate  Ball_AVG  \n2585                   2.33  3.111111  \n2586                   0.85  0.875000  \n2587                   1.13  1.375000  \n2588                   1.92  4.375000  \n2589                   1.33  7.250000  \n...                     ...       ...  \n154813                 4.05       inf  \n154814                 4.05       inf  \n154815                 2.90       inf  \n154816                 2.98       inf  \n154817                 4.79       inf  \n\n[14596 rows x 29 columns]",
      "text/html": "<div>\n<style scoped>\n    .dataframe tbody tr th:only-of-type {\n        vertical-align: middle;\n    }\n\n    .dataframe tbody tr th {\n        vertical-align: top;\n    }\n\n    .dataframe thead th {\n        text-align: right;\n    }\n</style>\n<table border=\"1\" class=\"dataframe\">\n  <thead>\n    <tr style=\"text-align: right;\">\n      <th></th>\n      <th>Innings Player</th>\n      <th>Innings Runs Scored</th>\n      <th>Innings Runs Scored Num</th>\n      <th>Innings Minutes Batted</th>\n      <th>Innings Batted Flag</th>\n      <th>Innings Not Out Flag</th>\n      <th>Innings Balls Faced</th>\n      <th>Innings Boundary Fours</th>\n      <th>Innings Boundary Sixes</th>\n      <th>Innings Batting Strike Rate</th>\n      <th>...</th>\n      <th>Innings Bowled Flag</th>\n      <th>Innings Maidens Bowled</th>\n      <th>Innings Runs Conceded</th>\n      <th>Innings Wickets Taken</th>\n      <th>4 Wickets</th>\n      <th>5 Wickets</th>\n      <th>10 Wickets</th>\n      <th>Innings Wickets Taken Buckets</th>\n      <th>Innings Economy Rate</th>\n      <th>Ball_AVG</th>\n    </tr>\n  </thead>\n  <tbody>\n    <tr>\n      <th>2585</th>\n      <td>GA Lohmann</td>\n      <td>NaN</td>\n      <td>NaN</td>\n      <td>NaN</td>\n      <td>NaN</td>\n      <td>NaN</td>\n      <td>NaN</td>\n      <td>NaN</td>\n      <td>NaN</td>\n      <td>NaN</td>\n      <td>...</td>\n      <td>1.0</td>\n      <td>6</td>\n      <td>28</td>\n      <td>9</td>\n      <td>0.0</td>\n      <td>1.0</td>\n      <td>0.0</td>\n      <td>5+</td>\n      <td>2.33</td>\n      <td>3.111111</td>\n    </tr>\n    <tr>\n      <th>2586</th>\n      <td>GA Lohmann</td>\n      <td>NaN</td>\n      <td>NaN</td>\n      <td>NaN</td>\n      <td>NaN</td>\n      <td>NaN</td>\n      <td>NaN</td>\n      <td>NaN</td>\n      <td>NaN</td>\n      <td>NaN</td>\n      <td>...</td>\n      <td>1.0</td>\n      <td>5</td>\n      <td>7</td>\n      <td>8</td>\n      <td>0.0</td>\n      <td>1.0</td>\n      <td>0.0</td>\n      <td>5+</td>\n      <td>0.85</td>\n      <td>0.875000</td>\n    </tr>\n    <tr>\n      <th>2587</th>\n      <td>J Briggs</td>\n      <td>NaN</td>\n      <td>NaN</td>\n      <td>NaN</td>\n      <td>NaN</td>\n      <td>NaN</td>\n      <td>NaN</td>\n      <td>NaN</td>\n      <td>NaN</td>\n      <td>NaN</td>\n      <td>...</td>\n      <td>1.0</td>\n      <td>5</td>\n      <td>11</td>\n      <td>8</td>\n      <td>0.0</td>\n      <td>1.0</td>\n      <td>0.0</td>\n      <td>5+</td>\n      <td>1.13</td>\n      <td>1.375000</td>\n    </tr>\n    <tr>\n      <th>2588</th>\n      <td>GA Lohmann</td>\n      <td>NaN</td>\n      <td>NaN</td>\n      <td>NaN</td>\n      <td>NaN</td>\n      <td>NaN</td>\n      <td>NaN</td>\n      <td>NaN</td>\n      <td>NaN</td>\n      <td>NaN</td>\n      <td>...</td>\n      <td>1.0</td>\n      <td>12</td>\n      <td>35</td>\n      <td>8</td>\n      <td>0.0</td>\n      <td>1.0</td>\n      <td>0.0</td>\n      <td>5+</td>\n      <td>1.92</td>\n      <td>4.375000</td>\n    </tr>\n    <tr>\n      <th>2589</th>\n      <td>GA Lohmann</td>\n      <td>NaN</td>\n      <td>NaN</td>\n      <td>NaN</td>\n      <td>NaN</td>\n      <td>NaN</td>\n      <td>NaN</td>\n      <td>NaN</td>\n      <td>NaN</td>\n      <td>NaN</td>\n      <td>...</td>\n      <td>1.0</td>\n      <td>18</td>\n      <td>58</td>\n      <td>8</td>\n      <td>0.0</td>\n      <td>1.0</td>\n      <td>0.0</td>\n      <td>5+</td>\n      <td>1.33</td>\n      <td>7.250000</td>\n    </tr>\n    <tr>\n      <th>...</th>\n      <td>...</td>\n      <td>...</td>\n      <td>...</td>\n      <td>...</td>\n      <td>...</td>\n      <td>...</td>\n      <td>...</td>\n      <td>...</td>\n      <td>...</td>\n      <td>...</td>\n      <td>...</td>\n      <td>...</td>\n      <td>...</td>\n      <td>...</td>\n      <td>...</td>\n      <td>...</td>\n      <td>...</td>\n      <td>...</td>\n      <td>...</td>\n      <td>...</td>\n      <td>...</td>\n    </tr>\n    <tr>\n      <th>154813</th>\n      <td>SCJ Broad</td>\n      <td>NaN</td>\n      <td>NaN</td>\n      <td>NaN</td>\n      <td>NaN</td>\n      <td>NaN</td>\n      <td>NaN</td>\n      <td>NaN</td>\n      <td>NaN</td>\n      <td>NaN</td>\n      <td>...</td>\n      <td>1.0</td>\n      <td>3</td>\n      <td>142</td>\n      <td>0</td>\n      <td>1.0</td>\n      <td>0.0</td>\n      <td>0.0</td>\n      <td>0-4</td>\n      <td>4.05</td>\n      <td>inf</td>\n    </tr>\n    <tr>\n      <th>154814</th>\n      <td>AR Caddick</td>\n      <td>NaN</td>\n      <td>NaN</td>\n      <td>NaN</td>\n      <td>NaN</td>\n      <td>NaN</td>\n      <td>NaN</td>\n      <td>NaN</td>\n      <td>NaN</td>\n      <td>NaN</td>\n      <td>...</td>\n      <td>1.0</td>\n      <td>9</td>\n      <td>146</td>\n      <td>0</td>\n      <td>1.0</td>\n      <td>0.0</td>\n      <td>0.0</td>\n      <td>0-4</td>\n      <td>4.05</td>\n      <td>inf</td>\n    </tr>\n    <tr>\n      <th>154815</th>\n      <td>GP Swann</td>\n      <td>NaN</td>\n      <td>NaN</td>\n      <td>NaN</td>\n      <td>NaN</td>\n      <td>NaN</td>\n      <td>NaN</td>\n      <td>NaN</td>\n      <td>NaN</td>\n      <td>NaN</td>\n      <td>...</td>\n      <td>1.0</td>\n      <td>10</td>\n      <td>151</td>\n      <td>0</td>\n      <td>1.0</td>\n      <td>0.0</td>\n      <td>0.0</td>\n      <td>0-4</td>\n      <td>2.90</td>\n      <td>inf</td>\n    </tr>\n    <tr>\n      <th>154816</th>\n      <td>MM Ali</td>\n      <td>NaN</td>\n      <td>NaN</td>\n      <td>NaN</td>\n      <td>NaN</td>\n      <td>NaN</td>\n      <td>NaN</td>\n      <td>NaN</td>\n      <td>NaN</td>\n      <td>NaN</td>\n      <td>...</td>\n      <td>1.0</td>\n      <td>14</td>\n      <td>155</td>\n      <td>0</td>\n      <td>1.0</td>\n      <td>0.0</td>\n      <td>0.0</td>\n      <td>0-4</td>\n      <td>2.98</td>\n      <td>inf</td>\n    </tr>\n    <tr>\n      <th>154817</th>\n      <td>AU Rashid</td>\n      <td>NaN</td>\n      <td>NaN</td>\n      <td>NaN</td>\n      <td>NaN</td>\n      <td>NaN</td>\n      <td>NaN</td>\n      <td>NaN</td>\n      <td>NaN</td>\n      <td>NaN</td>\n      <td>...</td>\n      <td>1.0</td>\n      <td>0</td>\n      <td>163</td>\n      <td>0</td>\n      <td>1.0</td>\n      <td>0.0</td>\n      <td>0.0</td>\n      <td>0-4</td>\n      <td>4.79</td>\n      <td>inf</td>\n    </tr>\n  </tbody>\n</table>\n<p>14596 rows × 29 columns</p>\n</div>"
     },
     "execution_count": 8,
     "metadata": {},
     "output_type": "execute_result"
    }
   ],
   "source": [
    "team_ENG.dropna(subset= [\"Innings Runs Conceded\",\"Innings Wickets Taken\"],inplace=True)\n",
    "team_ENG.isna().sum()\n",
    "team_ENG = team_ENG[team_ENG['Innings Runs Conceded']!='-']\n",
    "team_ENG[\"Ball_AVG\"] = team_ENG[\"Innings Runs Conceded\"].astype(int)/team_ENG[\"Innings Wickets Taken\"].astype(int)\n",
    "team_ENG\n"
   ],
   "metadata": {
    "collapsed": false,
    "ExecuteTime": {
     "end_time": "2023-12-19T08:00:39.560923200Z",
     "start_time": "2023-12-19T08:00:39.479604600Z"
    }
   },
   "id": "1969c54f93bd5446"
  },
  {
   "cell_type": "code",
   "execution_count": 9,
   "outputs": [
    {
     "name": "stderr",
     "output_type": "stream",
     "text": [
      "C:\\Users\\dbda\\AppData\\Local\\Temp\\ipykernel_9320\\3001121746.py:1: SettingWithCopyWarning: \n",
      "A value is trying to be set on a copy of a slice from a DataFrame\n",
      "\n",
      "See the caveats in the documentation: https://pandas.pydata.org/pandas-docs/stable/user_guide/indexing.html#returning-a-view-versus-a-copy\n",
      "  team_AUS.dropna(subset= [\"Innings Runs Conceded\",\"Innings Wickets Taken\"],inplace=True)\n"
     ]
    },
    {
     "data": {
      "text/plain": "       Innings Player Innings Runs Scored Innings Runs Scored Num  \\\n3916         AE Trott                 NaN                     NaN   \n3917       CTB Turner                 NaN                     NaN   \n3918     FR Spofforth                 NaN                     NaN   \n3919     FR Spofforth                 NaN                     NaN   \n3920     FR Spofforth                 NaN                     NaN   \n...               ...                 ...                     ...   \n159707        NM Lyon                 NaN                     NaN   \n159708  MS Kasprowicz                 NaN                     NaN   \n159709    SCG MacGill                 NaN                     NaN   \n159710        NM Lyon                 NaN                     NaN   \n159711      BE McGain                 NaN                     NaN   \n\n       Innings Minutes Batted  Innings Batted Flag  Innings Not Out Flag  \\\n3916                      NaN                  NaN                   NaN   \n3917                      NaN                  NaN                   NaN   \n3918                      NaN                  NaN                   NaN   \n3919                      NaN                  NaN                   NaN   \n3920                      NaN                  NaN                   NaN   \n...                       ...                  ...                   ...   \n159707                    NaN                  NaN                   NaN   \n159708                    NaN                  NaN                   NaN   \n159709                    NaN                  NaN                   NaN   \n159710                    NaN                  NaN                   NaN   \n159711                    NaN                  NaN                   NaN   \n\n       Innings Balls Faced Innings Boundary Fours Innings Boundary Sixes  \\\n3916                   NaN                    NaN                    NaN   \n3917                   NaN                    NaN                    NaN   \n3918                   NaN                    NaN                    NaN   \n3919                   NaN                    NaN                    NaN   \n3920                   NaN                    NaN                    NaN   \n...                    ...                    ...                    ...   \n159707                 NaN                    NaN                    NaN   \n159708                 NaN                    NaN                    NaN   \n159709                 NaN                    NaN                    NaN   \n159710                 NaN                    NaN                    NaN   \n159711                 NaN                    NaN                    NaN   \n\n       Innings Batting Strike Rate  ... Innings Bowled Flag  \\\n3916                           NaN  ...                 1.0   \n3917                           NaN  ...                 1.0   \n3918                           NaN  ...                 1.0   \n3919                           NaN  ...                 1.0   \n3920                           NaN  ...                 1.0   \n...                            ...  ...                 ...   \n159707                         NaN  ...                 1.0   \n159708                         NaN  ...                 1.0   \n159709                         NaN  ...                 1.0   \n159710                         NaN  ...                 1.0   \n159711                         NaN  ...                 1.0   \n\n       Innings Maidens Bowled Innings Runs Conceded Innings Wickets Taken  \\\n3916                       10                    43                     8   \n3917                       23                    43                     7   \n3918                       15                    44                     7   \n3919                       23                    44                     7   \n3920                       18                    46                     7   \n...                       ...                   ...                   ...   \n159707                      2                   128                     0   \n159708                      6                   139                     0   \n159709                      5                   146                     0   \n159710                      3                   146                     0   \n159711                      2                   149                     0   \n\n       4 Wickets  5 Wickets  10 Wickets Innings Wickets Taken Buckets  \\\n3916         0.0        1.0         0.0                            5+   \n3917         0.0        1.0         0.0                            5+   \n3918         0.0        1.0         0.0                            5+   \n3919         0.0        1.0         0.0                            5+   \n3920         0.0        1.0         0.0                            5+   \n...          ...        ...         ...                           ...   \n159707       1.0        0.0         0.0                           0-4   \n159708       1.0        0.0         0.0                           0-4   \n159709       1.0        0.0         0.0                           0-4   \n159710       1.0        0.0         0.0                           0-4   \n159711       1.0        0.0         0.0                           0-4   \n\n       Innings Economy Rate  Ball_AVG  \n3916                   1.59  5.375000  \n3917                   1.69  6.142857  \n3918                   2.35  6.285714  \n3919                   1.60  6.285714  \n3920                   1.87  6.571429  \n...                     ...       ...  \n159707                 5.81       inf  \n159708                 3.97       inf  \n159709                 3.84       inf  \n159710                 4.29       inf  \n159711                 8.27       inf  \n\n[12740 rows x 29 columns]",
      "text/html": "<div>\n<style scoped>\n    .dataframe tbody tr th:only-of-type {\n        vertical-align: middle;\n    }\n\n    .dataframe tbody tr th {\n        vertical-align: top;\n    }\n\n    .dataframe thead th {\n        text-align: right;\n    }\n</style>\n<table border=\"1\" class=\"dataframe\">\n  <thead>\n    <tr style=\"text-align: right;\">\n      <th></th>\n      <th>Innings Player</th>\n      <th>Innings Runs Scored</th>\n      <th>Innings Runs Scored Num</th>\n      <th>Innings Minutes Batted</th>\n      <th>Innings Batted Flag</th>\n      <th>Innings Not Out Flag</th>\n      <th>Innings Balls Faced</th>\n      <th>Innings Boundary Fours</th>\n      <th>Innings Boundary Sixes</th>\n      <th>Innings Batting Strike Rate</th>\n      <th>...</th>\n      <th>Innings Bowled Flag</th>\n      <th>Innings Maidens Bowled</th>\n      <th>Innings Runs Conceded</th>\n      <th>Innings Wickets Taken</th>\n      <th>4 Wickets</th>\n      <th>5 Wickets</th>\n      <th>10 Wickets</th>\n      <th>Innings Wickets Taken Buckets</th>\n      <th>Innings Economy Rate</th>\n      <th>Ball_AVG</th>\n    </tr>\n  </thead>\n  <tbody>\n    <tr>\n      <th>3916</th>\n      <td>AE Trott</td>\n      <td>NaN</td>\n      <td>NaN</td>\n      <td>NaN</td>\n      <td>NaN</td>\n      <td>NaN</td>\n      <td>NaN</td>\n      <td>NaN</td>\n      <td>NaN</td>\n      <td>NaN</td>\n      <td>...</td>\n      <td>1.0</td>\n      <td>10</td>\n      <td>43</td>\n      <td>8</td>\n      <td>0.0</td>\n      <td>1.0</td>\n      <td>0.0</td>\n      <td>5+</td>\n      <td>1.59</td>\n      <td>5.375000</td>\n    </tr>\n    <tr>\n      <th>3917</th>\n      <td>CTB Turner</td>\n      <td>NaN</td>\n      <td>NaN</td>\n      <td>NaN</td>\n      <td>NaN</td>\n      <td>NaN</td>\n      <td>NaN</td>\n      <td>NaN</td>\n      <td>NaN</td>\n      <td>NaN</td>\n      <td>...</td>\n      <td>1.0</td>\n      <td>23</td>\n      <td>43</td>\n      <td>7</td>\n      <td>0.0</td>\n      <td>1.0</td>\n      <td>0.0</td>\n      <td>5+</td>\n      <td>1.69</td>\n      <td>6.142857</td>\n    </tr>\n    <tr>\n      <th>3918</th>\n      <td>FR Spofforth</td>\n      <td>NaN</td>\n      <td>NaN</td>\n      <td>NaN</td>\n      <td>NaN</td>\n      <td>NaN</td>\n      <td>NaN</td>\n      <td>NaN</td>\n      <td>NaN</td>\n      <td>NaN</td>\n      <td>...</td>\n      <td>1.0</td>\n      <td>15</td>\n      <td>44</td>\n      <td>7</td>\n      <td>0.0</td>\n      <td>1.0</td>\n      <td>0.0</td>\n      <td>5+</td>\n      <td>2.35</td>\n      <td>6.285714</td>\n    </tr>\n    <tr>\n      <th>3919</th>\n      <td>FR Spofforth</td>\n      <td>NaN</td>\n      <td>NaN</td>\n      <td>NaN</td>\n      <td>NaN</td>\n      <td>NaN</td>\n      <td>NaN</td>\n      <td>NaN</td>\n      <td>NaN</td>\n      <td>NaN</td>\n      <td>...</td>\n      <td>1.0</td>\n      <td>23</td>\n      <td>44</td>\n      <td>7</td>\n      <td>0.0</td>\n      <td>1.0</td>\n      <td>0.0</td>\n      <td>5+</td>\n      <td>1.60</td>\n      <td>6.285714</td>\n    </tr>\n    <tr>\n      <th>3920</th>\n      <td>FR Spofforth</td>\n      <td>NaN</td>\n      <td>NaN</td>\n      <td>NaN</td>\n      <td>NaN</td>\n      <td>NaN</td>\n      <td>NaN</td>\n      <td>NaN</td>\n      <td>NaN</td>\n      <td>NaN</td>\n      <td>...</td>\n      <td>1.0</td>\n      <td>18</td>\n      <td>46</td>\n      <td>7</td>\n      <td>0.0</td>\n      <td>1.0</td>\n      <td>0.0</td>\n      <td>5+</td>\n      <td>1.87</td>\n      <td>6.571429</td>\n    </tr>\n    <tr>\n      <th>...</th>\n      <td>...</td>\n      <td>...</td>\n      <td>...</td>\n      <td>...</td>\n      <td>...</td>\n      <td>...</td>\n      <td>...</td>\n      <td>...</td>\n      <td>...</td>\n      <td>...</td>\n      <td>...</td>\n      <td>...</td>\n      <td>...</td>\n      <td>...</td>\n      <td>...</td>\n      <td>...</td>\n      <td>...</td>\n      <td>...</td>\n      <td>...</td>\n      <td>...</td>\n      <td>...</td>\n    </tr>\n    <tr>\n      <th>159707</th>\n      <td>NM Lyon</td>\n      <td>NaN</td>\n      <td>NaN</td>\n      <td>NaN</td>\n      <td>NaN</td>\n      <td>NaN</td>\n      <td>NaN</td>\n      <td>NaN</td>\n      <td>NaN</td>\n      <td>NaN</td>\n      <td>...</td>\n      <td>1.0</td>\n      <td>2</td>\n      <td>128</td>\n      <td>0</td>\n      <td>1.0</td>\n      <td>0.0</td>\n      <td>0.0</td>\n      <td>0-4</td>\n      <td>5.81</td>\n      <td>inf</td>\n    </tr>\n    <tr>\n      <th>159708</th>\n      <td>MS Kasprowicz</td>\n      <td>NaN</td>\n      <td>NaN</td>\n      <td>NaN</td>\n      <td>NaN</td>\n      <td>NaN</td>\n      <td>NaN</td>\n      <td>NaN</td>\n      <td>NaN</td>\n      <td>NaN</td>\n      <td>...</td>\n      <td>1.0</td>\n      <td>6</td>\n      <td>139</td>\n      <td>0</td>\n      <td>1.0</td>\n      <td>0.0</td>\n      <td>0.0</td>\n      <td>0-4</td>\n      <td>3.97</td>\n      <td>inf</td>\n    </tr>\n    <tr>\n      <th>159709</th>\n      <td>SCG MacGill</td>\n      <td>NaN</td>\n      <td>NaN</td>\n      <td>NaN</td>\n      <td>NaN</td>\n      <td>NaN</td>\n      <td>NaN</td>\n      <td>NaN</td>\n      <td>NaN</td>\n      <td>NaN</td>\n      <td>...</td>\n      <td>1.0</td>\n      <td>5</td>\n      <td>146</td>\n      <td>0</td>\n      <td>1.0</td>\n      <td>0.0</td>\n      <td>0.0</td>\n      <td>0-4</td>\n      <td>3.84</td>\n      <td>inf</td>\n    </tr>\n    <tr>\n      <th>159710</th>\n      <td>NM Lyon</td>\n      <td>NaN</td>\n      <td>NaN</td>\n      <td>NaN</td>\n      <td>NaN</td>\n      <td>NaN</td>\n      <td>NaN</td>\n      <td>NaN</td>\n      <td>NaN</td>\n      <td>NaN</td>\n      <td>...</td>\n      <td>1.0</td>\n      <td>3</td>\n      <td>146</td>\n      <td>0</td>\n      <td>1.0</td>\n      <td>0.0</td>\n      <td>0.0</td>\n      <td>0-4</td>\n      <td>4.29</td>\n      <td>inf</td>\n    </tr>\n    <tr>\n      <th>159711</th>\n      <td>BE McGain</td>\n      <td>NaN</td>\n      <td>NaN</td>\n      <td>NaN</td>\n      <td>NaN</td>\n      <td>NaN</td>\n      <td>NaN</td>\n      <td>NaN</td>\n      <td>NaN</td>\n      <td>NaN</td>\n      <td>...</td>\n      <td>1.0</td>\n      <td>2</td>\n      <td>149</td>\n      <td>0</td>\n      <td>1.0</td>\n      <td>0.0</td>\n      <td>0.0</td>\n      <td>0-4</td>\n      <td>8.27</td>\n      <td>inf</td>\n    </tr>\n  </tbody>\n</table>\n<p>12740 rows × 29 columns</p>\n</div>"
     },
     "execution_count": 9,
     "metadata": {},
     "output_type": "execute_result"
    }
   ],
   "source": [
    "team_AUS.dropna(subset= [\"Innings Runs Conceded\",\"Innings Wickets Taken\"],inplace=True)\n",
    "team_AUS.isna().sum()\n",
    "team_AUS = team_AUS[team_AUS['Innings Runs Conceded']!='-']\n",
    "team_AUS[\"Ball_AVG\"] = team_AUS[\"Innings Runs Conceded\"].astype(int)/team_AUS[\"Innings Wickets Taken\"].astype(int)\n",
    "team_AUS"
   ],
   "metadata": {
    "collapsed": false,
    "ExecuteTime": {
     "end_time": "2023-12-19T08:00:39.651803600Z",
     "start_time": "2023-12-19T08:00:39.558928700Z"
    }
   },
   "id": "b6b68754f4165834"
  },
  {
   "cell_type": "code",
   "execution_count": 10,
   "outputs": [
    {
     "name": "stderr",
     "output_type": "stream",
     "text": [
      "C:\\Users\\dbda\\AppData\\Local\\Temp\\ipykernel_9320\\1399032288.py:1: SettingWithCopyWarning: \n",
      "A value is trying to be set on a copy of a slice from a DataFrame\n",
      "\n",
      "See the caveats in the documentation: https://pandas.pydata.org/pandas-docs/stable/user_guide/indexing.html#returning-a-view-versus-a-copy\n",
      "  team_IND.dropna(subset= [\"Innings Runs Conceded\",\"Innings Wickets Taken\"],inplace=True)\n"
     ]
    },
    {
     "data": {
      "text/plain": "         Innings Player Innings Runs Scored Innings Runs Scored Num  \\\n93104          A Kumble                 NaN                     NaN   \n93105          JM Patel                 NaN                     NaN   \n93106       N Kapil Dev                 NaN                     NaN   \n93107          SP Gupte                 NaN                     NaN   \n93108         MH Mankad                 NaN                     NaN   \n...                 ...                 ...                     ...   \n185503      S Sreesanth                 NaN                     NaN   \n185504         A Kumble                 NaN                     NaN   \n185505         I Sharma                 NaN                     NaN   \n185506         A Mishra                 NaN                     NaN   \n185507  Harbhajan Singh                 NaN                     NaN   \n\n       Innings Minutes Batted  Innings Batted Flag  Innings Not Out Flag  \\\n93104                     NaN                  NaN                   NaN   \n93105                     NaN                  NaN                   NaN   \n93106                     NaN                  NaN                   NaN   \n93107                     NaN                  NaN                   NaN   \n93108                     NaN                  NaN                   NaN   \n...                       ...                  ...                   ...   \n185503                    NaN                  NaN                   NaN   \n185504                    NaN                  NaN                   NaN   \n185505                    NaN                  NaN                   NaN   \n185506                    NaN                  NaN                   NaN   \n185507                    NaN                  NaN                   NaN   \n\n       Innings Balls Faced Innings Boundary Fours Innings Boundary Sixes  \\\n93104                  NaN                    NaN                    NaN   \n93105                  NaN                    NaN                    NaN   \n93106                  NaN                    NaN                    NaN   \n93107                  NaN                    NaN                    NaN   \n93108                  NaN                    NaN                    NaN   \n...                    ...                    ...                    ...   \n185503                 NaN                    NaN                    NaN   \n185504                 NaN                    NaN                    NaN   \n185505                 NaN                    NaN                    NaN   \n185506                 NaN                    NaN                    NaN   \n185507                 NaN                    NaN                    NaN   \n\n       Innings Batting Strike Rate  ... Innings Bowled Flag  \\\n93104                          NaN  ...                 1.0   \n93105                          NaN  ...                 1.0   \n93106                          NaN  ...                 1.0   \n93107                          NaN  ...                 1.0   \n93108                          NaN  ...                 1.0   \n...                            ...  ...                 ...   \n185503                         NaN  ...                 1.0   \n185504                         NaN  ...                 1.0   \n185505                         NaN  ...                 1.0   \n185506                         NaN  ...                 1.0   \n185507                         NaN  ...                 1.0   \n\n       Innings Maidens Bowled Innings Runs Conceded Innings Wickets Taken  \\\n93104                       9                    74                    10   \n93105                      16                    69                     9   \n93106                       6                    83                     9   \n93107                      11                   102                     9   \n93108                      27                    52                     8   \n...                       ...                   ...                   ...   \n185503                      4                   158                     0   \n185504                      8                   159                     0   \n185505                      4                   164                     0   \n185506                      3                   170                     0   \n185507                      5                   176                     0   \n\n       4 Wickets  5 Wickets  10 Wickets Innings Wickets Taken Buckets  \\\n93104        0.0        0.0         1.0                            5+   \n93105        0.0        1.0         0.0                            5+   \n93106        0.0        1.0         0.0                            5+   \n93107        0.0        1.0         0.0                            5+   \n93108        0.0        1.0         0.0                            5+   \n...          ...        ...         ...                           ...   \n185503       1.0        0.0         0.0                           0-4   \n185504       1.0        0.0         0.0                           0-4   \n185505       1.0        0.0         0.0                           0-4   \n185506       1.0        0.0         0.0                           0-4   \n185507       1.0        0.0         0.0                           0-4   \n\n       Innings Economy Rate   Ball_AVG  \n93104                  2.79   7.400000  \n93105                  1.92   7.666667  \n93106                  2.72   9.222222  \n93107                  2.95  11.333333  \n93108                  1.10   6.500000  \n...                     ...        ...  \n185503                 4.38        inf  \n185504                 3.45        inf  \n185505                 3.64        inf  \n185506                 4.47        inf  \n185507                 5.17        inf  \n\n[9210 rows x 29 columns]",
      "text/html": "<div>\n<style scoped>\n    .dataframe tbody tr th:only-of-type {\n        vertical-align: middle;\n    }\n\n    .dataframe tbody tr th {\n        vertical-align: top;\n    }\n\n    .dataframe thead th {\n        text-align: right;\n    }\n</style>\n<table border=\"1\" class=\"dataframe\">\n  <thead>\n    <tr style=\"text-align: right;\">\n      <th></th>\n      <th>Innings Player</th>\n      <th>Innings Runs Scored</th>\n      <th>Innings Runs Scored Num</th>\n      <th>Innings Minutes Batted</th>\n      <th>Innings Batted Flag</th>\n      <th>Innings Not Out Flag</th>\n      <th>Innings Balls Faced</th>\n      <th>Innings Boundary Fours</th>\n      <th>Innings Boundary Sixes</th>\n      <th>Innings Batting Strike Rate</th>\n      <th>...</th>\n      <th>Innings Bowled Flag</th>\n      <th>Innings Maidens Bowled</th>\n      <th>Innings Runs Conceded</th>\n      <th>Innings Wickets Taken</th>\n      <th>4 Wickets</th>\n      <th>5 Wickets</th>\n      <th>10 Wickets</th>\n      <th>Innings Wickets Taken Buckets</th>\n      <th>Innings Economy Rate</th>\n      <th>Ball_AVG</th>\n    </tr>\n  </thead>\n  <tbody>\n    <tr>\n      <th>93104</th>\n      <td>A Kumble</td>\n      <td>NaN</td>\n      <td>NaN</td>\n      <td>NaN</td>\n      <td>NaN</td>\n      <td>NaN</td>\n      <td>NaN</td>\n      <td>NaN</td>\n      <td>NaN</td>\n      <td>NaN</td>\n      <td>...</td>\n      <td>1.0</td>\n      <td>9</td>\n      <td>74</td>\n      <td>10</td>\n      <td>0.0</td>\n      <td>0.0</td>\n      <td>1.0</td>\n      <td>5+</td>\n      <td>2.79</td>\n      <td>7.400000</td>\n    </tr>\n    <tr>\n      <th>93105</th>\n      <td>JM Patel</td>\n      <td>NaN</td>\n      <td>NaN</td>\n      <td>NaN</td>\n      <td>NaN</td>\n      <td>NaN</td>\n      <td>NaN</td>\n      <td>NaN</td>\n      <td>NaN</td>\n      <td>NaN</td>\n      <td>...</td>\n      <td>1.0</td>\n      <td>16</td>\n      <td>69</td>\n      <td>9</td>\n      <td>0.0</td>\n      <td>1.0</td>\n      <td>0.0</td>\n      <td>5+</td>\n      <td>1.92</td>\n      <td>7.666667</td>\n    </tr>\n    <tr>\n      <th>93106</th>\n      <td>N Kapil Dev</td>\n      <td>NaN</td>\n      <td>NaN</td>\n      <td>NaN</td>\n      <td>NaN</td>\n      <td>NaN</td>\n      <td>NaN</td>\n      <td>NaN</td>\n      <td>NaN</td>\n      <td>NaN</td>\n      <td>...</td>\n      <td>1.0</td>\n      <td>6</td>\n      <td>83</td>\n      <td>9</td>\n      <td>0.0</td>\n      <td>1.0</td>\n      <td>0.0</td>\n      <td>5+</td>\n      <td>2.72</td>\n      <td>9.222222</td>\n    </tr>\n    <tr>\n      <th>93107</th>\n      <td>SP Gupte</td>\n      <td>NaN</td>\n      <td>NaN</td>\n      <td>NaN</td>\n      <td>NaN</td>\n      <td>NaN</td>\n      <td>NaN</td>\n      <td>NaN</td>\n      <td>NaN</td>\n      <td>NaN</td>\n      <td>...</td>\n      <td>1.0</td>\n      <td>11</td>\n      <td>102</td>\n      <td>9</td>\n      <td>0.0</td>\n      <td>1.0</td>\n      <td>0.0</td>\n      <td>5+</td>\n      <td>2.95</td>\n      <td>11.333333</td>\n    </tr>\n    <tr>\n      <th>93108</th>\n      <td>MH Mankad</td>\n      <td>NaN</td>\n      <td>NaN</td>\n      <td>NaN</td>\n      <td>NaN</td>\n      <td>NaN</td>\n      <td>NaN</td>\n      <td>NaN</td>\n      <td>NaN</td>\n      <td>NaN</td>\n      <td>...</td>\n      <td>1.0</td>\n      <td>27</td>\n      <td>52</td>\n      <td>8</td>\n      <td>0.0</td>\n      <td>1.0</td>\n      <td>0.0</td>\n      <td>5+</td>\n      <td>1.10</td>\n      <td>6.500000</td>\n    </tr>\n    <tr>\n      <th>...</th>\n      <td>...</td>\n      <td>...</td>\n      <td>...</td>\n      <td>...</td>\n      <td>...</td>\n      <td>...</td>\n      <td>...</td>\n      <td>...</td>\n      <td>...</td>\n      <td>...</td>\n      <td>...</td>\n      <td>...</td>\n      <td>...</td>\n      <td>...</td>\n      <td>...</td>\n      <td>...</td>\n      <td>...</td>\n      <td>...</td>\n      <td>...</td>\n      <td>...</td>\n      <td>...</td>\n    </tr>\n    <tr>\n      <th>185503</th>\n      <td>S Sreesanth</td>\n      <td>NaN</td>\n      <td>NaN</td>\n      <td>NaN</td>\n      <td>NaN</td>\n      <td>NaN</td>\n      <td>NaN</td>\n      <td>NaN</td>\n      <td>NaN</td>\n      <td>NaN</td>\n      <td>...</td>\n      <td>1.0</td>\n      <td>4</td>\n      <td>158</td>\n      <td>0</td>\n      <td>1.0</td>\n      <td>0.0</td>\n      <td>0.0</td>\n      <td>0-4</td>\n      <td>4.38</td>\n      <td>inf</td>\n    </tr>\n    <tr>\n      <th>185504</th>\n      <td>A Kumble</td>\n      <td>NaN</td>\n      <td>NaN</td>\n      <td>NaN</td>\n      <td>NaN</td>\n      <td>NaN</td>\n      <td>NaN</td>\n      <td>NaN</td>\n      <td>NaN</td>\n      <td>NaN</td>\n      <td>...</td>\n      <td>1.0</td>\n      <td>8</td>\n      <td>159</td>\n      <td>0</td>\n      <td>1.0</td>\n      <td>0.0</td>\n      <td>0.0</td>\n      <td>0-4</td>\n      <td>3.45</td>\n      <td>inf</td>\n    </tr>\n    <tr>\n      <th>185505</th>\n      <td>I Sharma</td>\n      <td>NaN</td>\n      <td>NaN</td>\n      <td>NaN</td>\n      <td>NaN</td>\n      <td>NaN</td>\n      <td>NaN</td>\n      <td>NaN</td>\n      <td>NaN</td>\n      <td>NaN</td>\n      <td>...</td>\n      <td>1.0</td>\n      <td>4</td>\n      <td>164</td>\n      <td>0</td>\n      <td>1.0</td>\n      <td>0.0</td>\n      <td>0.0</td>\n      <td>0-4</td>\n      <td>3.64</td>\n      <td>inf</td>\n    </tr>\n    <tr>\n      <th>185506</th>\n      <td>A Mishra</td>\n      <td>NaN</td>\n      <td>NaN</td>\n      <td>NaN</td>\n      <td>NaN</td>\n      <td>NaN</td>\n      <td>NaN</td>\n      <td>NaN</td>\n      <td>NaN</td>\n      <td>NaN</td>\n      <td>...</td>\n      <td>1.0</td>\n      <td>3</td>\n      <td>170</td>\n      <td>0</td>\n      <td>1.0</td>\n      <td>0.0</td>\n      <td>0.0</td>\n      <td>0-4</td>\n      <td>4.47</td>\n      <td>inf</td>\n    </tr>\n    <tr>\n      <th>185507</th>\n      <td>Harbhajan Singh</td>\n      <td>NaN</td>\n      <td>NaN</td>\n      <td>NaN</td>\n      <td>NaN</td>\n      <td>NaN</td>\n      <td>NaN</td>\n      <td>NaN</td>\n      <td>NaN</td>\n      <td>NaN</td>\n      <td>...</td>\n      <td>1.0</td>\n      <td>5</td>\n      <td>176</td>\n      <td>0</td>\n      <td>1.0</td>\n      <td>0.0</td>\n      <td>0.0</td>\n      <td>0-4</td>\n      <td>5.17</td>\n      <td>inf</td>\n    </tr>\n  </tbody>\n</table>\n<p>9210 rows × 29 columns</p>\n</div>"
     },
     "execution_count": 10,
     "metadata": {},
     "output_type": "execute_result"
    }
   ],
   "source": [
    "team_IND.dropna(subset= [\"Innings Runs Conceded\",\"Innings Wickets Taken\"],inplace=True)\n",
    "team_IND.isna().sum()\n",
    "team_IND = team_IND[team_IND['Innings Runs Conceded']!='-']\n",
    "team_IND[\"Ball_AVG\"] = team_IND[\"Innings Runs Conceded\"].astype(int)/team_IND[\"Innings Wickets Taken\"].astype(int)\n",
    "team_IND"
   ],
   "metadata": {
    "collapsed": false,
    "ExecuteTime": {
     "end_time": "2023-12-19T08:00:39.706199300Z",
     "start_time": "2023-12-19T08:00:39.628865600Z"
    }
   },
   "id": "8133fa93d50cb196"
  },
  {
   "cell_type": "code",
   "execution_count": 11,
   "outputs": [
    {
     "name": "stderr",
     "output_type": "stream",
     "text": [
      "C:\\Users\\dbda\\AppData\\Local\\Temp\\ipykernel_9320\\634179472.py:1: SettingWithCopyWarning: \n",
      "A value is trying to be set on a copy of a slice from a DataFrame\n",
      "\n",
      "See the caveats in the documentation: https://pandas.pydata.org/pandas-docs/stable/user_guide/indexing.html#returning-a-view-versus-a-copy\n",
      "  team_PK.dropna(subset=[\"Innings Runs Conceded\", \"Innings Wickets Taken\"], inplace=True)\n"
     ]
    },
    {
     "data": {
      "text/plain": "        Innings Player Innings Runs Scored Innings Runs Scored Num  \\\n107954     Abdul Qadir                 NaN                     NaN   \n107955   Sarfraz Nawaz                 NaN                     NaN   \n107956      Imran Khan                 NaN                     NaN   \n107957      Imran Khan                 NaN                     NaN   \n107958  Sikander Bakht                 NaN                     NaN   \n...                ...                 ...                     ...   \n197503  Zulfiqar Babar                 NaN                     NaN   \n197504  Mohammad Talha                 NaN                     NaN   \n197505        Umar Gul                 NaN                     NaN   \n197506  Danish Kaneria                 NaN                     NaN   \n197507      Yasir Shah                 NaN                     NaN   \n\n       Innings Minutes Batted  Innings Batted Flag  Innings Not Out Flag  \\\n107954                    NaN                  NaN                   NaN   \n107955                    NaN                  NaN                   NaN   \n107956                    NaN                  NaN                   NaN   \n107957                    NaN                  NaN                   NaN   \n107958                    NaN                  NaN                   NaN   \n...                       ...                  ...                   ...   \n197503                    NaN                  NaN                   NaN   \n197504                    NaN                  NaN                   NaN   \n197505                    NaN                  NaN                   NaN   \n197506                    NaN                  NaN                   NaN   \n197507                    NaN                  NaN                   NaN   \n\n       Innings Balls Faced Innings Boundary Fours Innings Boundary Sixes  \\\n107954                 NaN                    NaN                    NaN   \n107955                 NaN                    NaN                    NaN   \n107956                 NaN                    NaN                    NaN   \n107957                 NaN                    NaN                    NaN   \n107958                 NaN                    NaN                    NaN   \n...                    ...                    ...                    ...   \n197503                 NaN                    NaN                    NaN   \n197504                 NaN                    NaN                    NaN   \n197505                 NaN                    NaN                    NaN   \n197506                 NaN                    NaN                    NaN   \n197507                 NaN                    NaN                    NaN   \n\n       Innings Batting Strike Rate  ... Innings Bowled Flag  \\\n107954                         NaN  ...                 1.0   \n107955                         NaN  ...                 1.0   \n107956                         NaN  ...                 1.0   \n107957                         NaN  ...                 1.0   \n107958                         NaN  ...                 1.0   \n...                            ...  ...                 ...   \n197503                         NaN  ...                 1.0   \n197504                         NaN  ...                 1.0   \n197505                         NaN  ...                 1.0   \n197506                         NaN  ...                 1.0   \n197507                         NaN  ...                 1.0   \n\n       Innings Maidens Bowled Innings Runs Conceded Innings Wickets Taken  \\\n107954                     13                    56                     9   \n107955                      7                    86                     9   \n107956                      8                    58                     8   \n107957                      4                    60                     8   \n107958                      3                    69                     8   \n...                       ...                   ...                   ...   \n197503                      1                   135                     0   \n197504                      2                   136                     0   \n197505                      6                   137                     0   \n197506                      5                   183                     0   \n197507                      1                   197                     0   \n\n       4 Wickets  5 Wickets  10 Wickets Innings Wickets Taken Buckets  \\\n107954       0.0        1.0         0.0                            5+   \n107955       0.0        1.0         0.0                            5+   \n107956       0.0        1.0         0.0                            5+   \n107957       0.0        1.0         0.0                            5+   \n107958       0.0        1.0         0.0                            5+   \n...          ...        ...         ...                           ...   \n197503       1.0        0.0         0.0                           0-4   \n197504       1.0        0.0         0.0                           0-4   \n197505       1.0        0.0         0.0                           0-4   \n197506       1.0        0.0         0.0                           0-4   \n197507       1.0        0.0         0.0                           0-4   \n\n       Innings Economy Rate  Ball_AVG  \n107954                 1.51  6.222222  \n107955                 1.81  9.555556  \n107956                 1.96  7.250000  \n107957                 2.97  7.500000  \n107958                 3.28  8.625000  \n...                     ...       ...  \n197503                 5.86       inf  \n197504                 6.18       inf  \n197505                 3.80       inf  \n197506                 3.89       inf  \n197507                 6.15       inf  \n\n[6944 rows x 29 columns]",
      "text/html": "<div>\n<style scoped>\n    .dataframe tbody tr th:only-of-type {\n        vertical-align: middle;\n    }\n\n    .dataframe tbody tr th {\n        vertical-align: top;\n    }\n\n    .dataframe thead th {\n        text-align: right;\n    }\n</style>\n<table border=\"1\" class=\"dataframe\">\n  <thead>\n    <tr style=\"text-align: right;\">\n      <th></th>\n      <th>Innings Player</th>\n      <th>Innings Runs Scored</th>\n      <th>Innings Runs Scored Num</th>\n      <th>Innings Minutes Batted</th>\n      <th>Innings Batted Flag</th>\n      <th>Innings Not Out Flag</th>\n      <th>Innings Balls Faced</th>\n      <th>Innings Boundary Fours</th>\n      <th>Innings Boundary Sixes</th>\n      <th>Innings Batting Strike Rate</th>\n      <th>...</th>\n      <th>Innings Bowled Flag</th>\n      <th>Innings Maidens Bowled</th>\n      <th>Innings Runs Conceded</th>\n      <th>Innings Wickets Taken</th>\n      <th>4 Wickets</th>\n      <th>5 Wickets</th>\n      <th>10 Wickets</th>\n      <th>Innings Wickets Taken Buckets</th>\n      <th>Innings Economy Rate</th>\n      <th>Ball_AVG</th>\n    </tr>\n  </thead>\n  <tbody>\n    <tr>\n      <th>107954</th>\n      <td>Abdul Qadir</td>\n      <td>NaN</td>\n      <td>NaN</td>\n      <td>NaN</td>\n      <td>NaN</td>\n      <td>NaN</td>\n      <td>NaN</td>\n      <td>NaN</td>\n      <td>NaN</td>\n      <td>NaN</td>\n      <td>...</td>\n      <td>1.0</td>\n      <td>13</td>\n      <td>56</td>\n      <td>9</td>\n      <td>0.0</td>\n      <td>1.0</td>\n      <td>0.0</td>\n      <td>5+</td>\n      <td>1.51</td>\n      <td>6.222222</td>\n    </tr>\n    <tr>\n      <th>107955</th>\n      <td>Sarfraz Nawaz</td>\n      <td>NaN</td>\n      <td>NaN</td>\n      <td>NaN</td>\n      <td>NaN</td>\n      <td>NaN</td>\n      <td>NaN</td>\n      <td>NaN</td>\n      <td>NaN</td>\n      <td>NaN</td>\n      <td>...</td>\n      <td>1.0</td>\n      <td>7</td>\n      <td>86</td>\n      <td>9</td>\n      <td>0.0</td>\n      <td>1.0</td>\n      <td>0.0</td>\n      <td>5+</td>\n      <td>1.81</td>\n      <td>9.555556</td>\n    </tr>\n    <tr>\n      <th>107956</th>\n      <td>Imran Khan</td>\n      <td>NaN</td>\n      <td>NaN</td>\n      <td>NaN</td>\n      <td>NaN</td>\n      <td>NaN</td>\n      <td>NaN</td>\n      <td>NaN</td>\n      <td>NaN</td>\n      <td>NaN</td>\n      <td>...</td>\n      <td>1.0</td>\n      <td>8</td>\n      <td>58</td>\n      <td>8</td>\n      <td>0.0</td>\n      <td>1.0</td>\n      <td>0.0</td>\n      <td>5+</td>\n      <td>1.96</td>\n      <td>7.250000</td>\n    </tr>\n    <tr>\n      <th>107957</th>\n      <td>Imran Khan</td>\n      <td>NaN</td>\n      <td>NaN</td>\n      <td>NaN</td>\n      <td>NaN</td>\n      <td>NaN</td>\n      <td>NaN</td>\n      <td>NaN</td>\n      <td>NaN</td>\n      <td>NaN</td>\n      <td>...</td>\n      <td>1.0</td>\n      <td>4</td>\n      <td>60</td>\n      <td>8</td>\n      <td>0.0</td>\n      <td>1.0</td>\n      <td>0.0</td>\n      <td>5+</td>\n      <td>2.97</td>\n      <td>7.500000</td>\n    </tr>\n    <tr>\n      <th>107958</th>\n      <td>Sikander Bakht</td>\n      <td>NaN</td>\n      <td>NaN</td>\n      <td>NaN</td>\n      <td>NaN</td>\n      <td>NaN</td>\n      <td>NaN</td>\n      <td>NaN</td>\n      <td>NaN</td>\n      <td>NaN</td>\n      <td>...</td>\n      <td>1.0</td>\n      <td>3</td>\n      <td>69</td>\n      <td>8</td>\n      <td>0.0</td>\n      <td>1.0</td>\n      <td>0.0</td>\n      <td>5+</td>\n      <td>3.28</td>\n      <td>8.625000</td>\n    </tr>\n    <tr>\n      <th>...</th>\n      <td>...</td>\n      <td>...</td>\n      <td>...</td>\n      <td>...</td>\n      <td>...</td>\n      <td>...</td>\n      <td>...</td>\n      <td>...</td>\n      <td>...</td>\n      <td>...</td>\n      <td>...</td>\n      <td>...</td>\n      <td>...</td>\n      <td>...</td>\n      <td>...</td>\n      <td>...</td>\n      <td>...</td>\n      <td>...</td>\n      <td>...</td>\n      <td>...</td>\n      <td>...</td>\n    </tr>\n    <tr>\n      <th>197503</th>\n      <td>Zulfiqar Babar</td>\n      <td>NaN</td>\n      <td>NaN</td>\n      <td>NaN</td>\n      <td>NaN</td>\n      <td>NaN</td>\n      <td>NaN</td>\n      <td>NaN</td>\n      <td>NaN</td>\n      <td>NaN</td>\n      <td>...</td>\n      <td>1.0</td>\n      <td>1</td>\n      <td>135</td>\n      <td>0</td>\n      <td>1.0</td>\n      <td>0.0</td>\n      <td>0.0</td>\n      <td>0-4</td>\n      <td>5.86</td>\n      <td>inf</td>\n    </tr>\n    <tr>\n      <th>197504</th>\n      <td>Mohammad Talha</td>\n      <td>NaN</td>\n      <td>NaN</td>\n      <td>NaN</td>\n      <td>NaN</td>\n      <td>NaN</td>\n      <td>NaN</td>\n      <td>NaN</td>\n      <td>NaN</td>\n      <td>NaN</td>\n      <td>...</td>\n      <td>1.0</td>\n      <td>2</td>\n      <td>136</td>\n      <td>0</td>\n      <td>1.0</td>\n      <td>0.0</td>\n      <td>0.0</td>\n      <td>0-4</td>\n      <td>6.18</td>\n      <td>inf</td>\n    </tr>\n    <tr>\n      <th>197505</th>\n      <td>Umar Gul</td>\n      <td>NaN</td>\n      <td>NaN</td>\n      <td>NaN</td>\n      <td>NaN</td>\n      <td>NaN</td>\n      <td>NaN</td>\n      <td>NaN</td>\n      <td>NaN</td>\n      <td>NaN</td>\n      <td>...</td>\n      <td>1.0</td>\n      <td>6</td>\n      <td>137</td>\n      <td>0</td>\n      <td>1.0</td>\n      <td>0.0</td>\n      <td>0.0</td>\n      <td>0-4</td>\n      <td>3.80</td>\n      <td>inf</td>\n    </tr>\n    <tr>\n      <th>197506</th>\n      <td>Danish Kaneria</td>\n      <td>NaN</td>\n      <td>NaN</td>\n      <td>NaN</td>\n      <td>NaN</td>\n      <td>NaN</td>\n      <td>NaN</td>\n      <td>NaN</td>\n      <td>NaN</td>\n      <td>NaN</td>\n      <td>...</td>\n      <td>1.0</td>\n      <td>5</td>\n      <td>183</td>\n      <td>0</td>\n      <td>1.0</td>\n      <td>0.0</td>\n      <td>0.0</td>\n      <td>0-4</td>\n      <td>3.89</td>\n      <td>inf</td>\n    </tr>\n    <tr>\n      <th>197507</th>\n      <td>Yasir Shah</td>\n      <td>NaN</td>\n      <td>NaN</td>\n      <td>NaN</td>\n      <td>NaN</td>\n      <td>NaN</td>\n      <td>NaN</td>\n      <td>NaN</td>\n      <td>NaN</td>\n      <td>NaN</td>\n      <td>...</td>\n      <td>1.0</td>\n      <td>1</td>\n      <td>197</td>\n      <td>0</td>\n      <td>1.0</td>\n      <td>0.0</td>\n      <td>0.0</td>\n      <td>0-4</td>\n      <td>6.15</td>\n      <td>inf</td>\n    </tr>\n  </tbody>\n</table>\n<p>6944 rows × 29 columns</p>\n</div>"
     },
     "execution_count": 11,
     "metadata": {},
     "output_type": "execute_result"
    }
   ],
   "source": [
    "team_PK.dropna(subset=[\"Innings Runs Conceded\", \"Innings Wickets Taken\"], inplace=True)\n",
    "team_PK.isna().sum()\n",
    "team_PK = team_PK[team_PK['Innings Runs Conceded'] != '-']\n",
    "team_PK[\"Ball_AVG\"] = team_PK[\"Innings Runs Conceded\"].astype(int) / team_PK[\"Innings Wickets Taken\"].astype(int)\n",
    "team_PK\n"
   ],
   "metadata": {
    "collapsed": false,
    "ExecuteTime": {
     "end_time": "2023-12-19T08:00:39.768777Z",
     "start_time": "2023-12-19T08:00:39.685255900Z"
    }
   },
   "id": "f425575f68eb5c4"
  },
  {
   "cell_type": "code",
   "execution_count": 12,
   "outputs": [
    {
     "name": "stdout",
     "output_type": "stream",
     "text": [
      "F-statistic =  nan\n",
      "p-value =  nan\n"
     ]
    }
   ],
   "source": [
    "# performance one-way ANOVA\n",
    "f_statistic, p_value = f_oneway(team_IND[\"Ball_AVG\"],team_AUS[\"Ball_AVG\"],team_ENG[\"Ball_AVG\"],team_PK[\"Ball_AVG\"])\n",
    "print(\"F-statistic = \",f_statistic)\n",
    "print(\"p-value = \",p_value)"
   ],
   "metadata": {
    "collapsed": false,
    "ExecuteTime": {
     "end_time": "2023-12-19T08:00:39.769774600Z",
     "start_time": "2023-12-19T08:00:39.729235200Z"
    }
   },
   "id": "f8584490dee43a26"
  },
  {
   "cell_type": "code",
   "execution_count": 17,
   "outputs": [
    {
     "data": {
      "text/plain": "73"
     },
     "execution_count": 17,
     "metadata": {},
     "output_type": "execute_result"
    }
   ],
   "source": [
    "team_IND.Ball_AVG.isna().sum()"
   ],
   "metadata": {
    "collapsed": false,
    "ExecuteTime": {
     "end_time": "2023-12-19T08:04:10.707985500Z",
     "start_time": "2023-12-19T08:04:10.695108500Z"
    }
   },
   "id": "acd07068488ff566"
  },
  {
   "cell_type": "code",
   "execution_count": 14,
   "outputs": [
    {
     "data": {
      "text/plain": "93104      7.400000\n93105      7.666667\n93106      9.222222\n93107     11.333333\n93108      6.500000\n            ...    \n185503          inf\n185504          inf\n185505          inf\n185506          inf\n185507          inf\nName: Ball_AVG, Length: 9210, dtype: float64"
     },
     "execution_count": 14,
     "metadata": {},
     "output_type": "execute_result"
    }
   ],
   "source": [
    "team_IND[\"Ball_AVG\"]"
   ],
   "metadata": {
    "collapsed": false,
    "ExecuteTime": {
     "end_time": "2023-12-19T08:01:21.409940400Z",
     "start_time": "2023-12-19T08:01:21.405417300Z"
    }
   },
   "id": "4a2e342c1890255a"
  },
  {
   "cell_type": "code",
   "execution_count": 13,
   "outputs": [],
   "source": [],
   "metadata": {
    "collapsed": false,
    "ExecuteTime": {
     "end_time": "2023-12-19T08:00:39.770771700Z",
     "start_time": "2023-12-19T08:00:39.750823Z"
    }
   },
   "id": "883fd983e2b9a4f8"
  }
 ],
 "metadata": {
  "kernelspec": {
   "display_name": "Python 3",
   "language": "python",
   "name": "python3"
  },
  "language_info": {
   "codemirror_mode": {
    "name": "ipython",
    "version": 2
   },
   "file_extension": ".py",
   "mimetype": "text/x-python",
   "name": "python",
   "nbconvert_exporter": "python",
   "pygments_lexer": "ipython2",
   "version": "2.7.6"
  }
 },
 "nbformat": 4,
 "nbformat_minor": 5
}
