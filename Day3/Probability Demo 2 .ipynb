{
 "cells": [
  {
   "cell_type": "code",
   "execution_count": 7,
   "metadata": {},
   "outputs": [
    {
     "name": "stdout",
     "output_type": "stream",
     "text": [
      "Totals {20: 16576, 30: 16619, 40: 16632, 50: 16805, 60: 16664, 70: 16704}\n",
      "purchases {20: 3392, 30: 4974, 40: 6670, 50: 8319, 60: 9944, 70: 11713}\n",
      "totalPurchases 45012\n",
      "(purchase | 30s): 0.29929598652145134\n",
      "p(purchase):0.16619\n"
     ]
    }
   ],
   "source": [
    "from numpy import random\n",
    "\n",
    "random.seed(0)\n",
    "# dict for storing total number of people in each group\n",
    "totals = {20:0,30:0,40:0,50:0,60:0,70:0}\n",
    "\n",
    "purchases = {20:0,30:0,40:0,50:0,60:0,70:0}\n",
    "\n",
    "totalPurchases = 0\n",
    "for _ in range(100000):\n",
    "    ageDecade = random.choice([20,30,40,50,60,70])\n",
    "    totals[ageDecade]+=1\n",
    "    purchaseProbability =float(ageDecade)/100.0\n",
    "    if (random.random() < purchaseProbability):\n",
    "        totalPurchases+=1\n",
    "        purchases[ageDecade]+=1\n",
    "\n",
    "print(\"Totals\",totals)\n",
    "print(\"purchases\",purchases)\n",
    "print(\"totalPurchases\",totalPurchases)\n",
    "\n",
    "PEF =float(purchases[30]) /float(totals[30])\n",
    "print(\"(purchase | 30s): \"+str(PEF))\n",
    "\n",
    "PE =float(totals[30])/ 100000.0\n",
    "print(\"p(purchase):\"+str(PE))"
   ]
  }
 ],
 "metadata": {
  "kernelspec": {
   "display_name": "Python 3",
   "language": "python",
   "name": "python3"
  },
  "language_info": {
   "codemirror_mode": {
    "name": "ipython",
    "version": 3
   },
   "file_extension": ".py",
   "mimetype": "text/x-python",
   "name": "python",
   "nbconvert_exporter": "python",
   "pygments_lexer": "ipython3",
   "version": "3.12.0"
  }
 },
 "nbformat": 4,
 "nbformat_minor": 2
}
