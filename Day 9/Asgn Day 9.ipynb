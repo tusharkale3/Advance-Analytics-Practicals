{
 "cells": [
  {
   "cell_type": "code",
   "execution_count": 4,
   "metadata": {},
   "outputs": [
    {
     "name": "stdout",
     "output_type": "stream",
     "text": [
      "17\n"
     ]
    }
   ],
   "source": [
    "#part 1\n",
    "import numpy as np\n",
    "# Part 1\n",
    "import numpy as np\n",
    "\n",
    "def random_num():\n",
    "    \"\"\"Generates a random integer between 1 and 100, then calculates and returns the sum of its digits.\"\"\"\n",
    "\n",
    "    num = np.random.randint(1, 101)  # Generate random integer (no need for shape argument)\n",
    "    sum_of_digits = 0\n",
    "\n",
    "    while num > 0:  # Continue as long as num is positive\n",
    "        digit = num % 10  # Extract the last digit\n",
    "        sum_of_digits += digit  # Add the digit to the sum\n",
    "        num //= 10  # Remove the last digit from num\n",
    "\n",
    "    return sum_of_digits\n",
    "\n",
    "print(random_num())"
   ]
  },
  {
   "cell_type": "code",
   "execution_count": 5,
   "metadata": {},
   "outputs": [
    {
     "name": "stdout",
     "output_type": "stream",
     "text": [
      "[205. 795.]\n",
      "[219. 781.]\n",
      "[212. 788.]\n"
     ]
    }
   ],
   "source": [
    "# Part 2\n",
    "\n",
    "# someone approaches you saying i will give you 5$ if you get 7 and take 1 $ if you get a number other that 7\n",
    "# How do we know what will happen? Our own \"Monte Cralo Simulation\" like function \n",
    "\n",
    "def monte_carlo  (runs=1000):\n",
    "    results = np.zeros(2) # Array results[0] and results[1] inittialized to two zeroes\n",
    "    for _ in range(runs):\n",
    "        if random_num() > 12:\n",
    "            results[0] += 1\n",
    "        else:\n",
    "            results[1] += 1\n",
    "    return results\n",
    "\n",
    "print(monte_carlo())\n",
    "print(monte_carlo())\n",
    "print(monte_carlo())\n",
    "\n",
    "# Results may be favourable to us, but was that by luck?"
   ]
  },
  {
   "cell_type": "code",
   "execution_count": 6,
   "metadata": {},
   "outputs": [
    {
     "name": "stdout",
     "output_type": "stream",
     "text": [
      "[199. 196. 213. 205. 212. 201. 197. 208. 205. 213. 254. 217. 200. 220.\n",
      " 208. 230. 216. 229. 201. 213. 203. 210. 197. 202. 219. 204. 189. 202.\n",
      " 203. 202. 215. 217. 221. 209. 190. 206. 203. 218. 205. 189. 222. 212.\n",
      " 202. 211. 205. 208. 208. 214. 212. 191. 207. 222. 212. 219. 200. 219.\n",
      " 201. 202. 214. 216. 207. 224. 200. 201. 210. 196. 194. 215. 192. 204.\n",
      " 195. 203. 191. 207. 200. 221. 213. 212. 215. 211. 226. 236. 213. 190.\n",
      " 211. 182. 242. 227. 214. 211. 212. 193. 217. 195. 244. 217. 209. 214.\n",
      " 200. 235. 216. 219. 206. 218. 208. 230. 203. 206. 197. 209. 210. 230.\n",
      " 200. 215. 212. 191. 205. 214. 207. 188. 222. 215. 219. 211. 204. 206.\n",
      " 225. 214. 203. 200. 227. 192. 209. 207. 212. 212. 209. 216. 228. 205.\n",
      " 214. 219. 215. 195. 200. 207. 213. 223. 206. 215. 207. 224. 208. 216.\n",
      " 204. 193. 210. 213. 211. 219. 183. 198. 205. 231. 208. 217. 228. 207.\n",
      " 213. 206. 221. 195. 228. 213. 220. 212. 204. 219. 200. 211. 189. 198.\n",
      " 211. 200. 197. 211. 222. 212. 182. 204. 210. 194. 208. 211. 216. 210.\n",
      " 209. 191. 212. 221. 214. 213. 224. 203. 212. 224. 215. 216. 207. 195.\n",
      " 211. 208. 216. 215. 212. 211. 189. 183. 206. 212. 209. 228. 206. 201.\n",
      " 208. 204. 197. 237. 208. 224. 185. 199. 197. 214. 214. 209. 219. 213.\n",
      " 200. 215. 217. 212. 212. 209. 223. 208. 202. 215. 213. 197. 196. 212.\n",
      " 230. 219. 195. 222. 225. 228. 194. 199. 209. 217. 205. 209. 211. 217.\n",
      " 219. 202. 208. 195. 207. 201. 215. 207. 203. 228. 209. 182. 231. 205.\n",
      " 213. 206. 203. 213. 203. 197. 209. 227. 218. 213. 218. 198. 225. 189.\n",
      " 216. 217. 221. 206. 216. 199. 210. 223. 200. 195. 202. 194. 206. 219.\n",
      " 225. 196. 204. 214. 233. 197. 213. 198. 218. 215. 203. 234. 226. 189.\n",
      " 233. 225. 189. 212. 243. 197. 216. 200. 194. 183. 210. 209. 199. 204.\n",
      " 206. 226. 208. 228. 205. 220. 181. 208. 212. 202. 209. 224. 213. 216.\n",
      " 213. 192. 187. 216. 203. 193. 192. 222. 195. 205. 216. 215. 198. 228.\n",
      " 193. 206. 208. 203. 202. 223. 207. 225. 213. 188. 215. 219. 204. 211.\n",
      " 238. 220. 188. 216. 217. 197. 234. 202. 210. 199. 208. 197. 217. 208.\n",
      " 233. 202. 188. 224. 205. 213. 217. 216. 207. 206. 209. 217. 217. 229.\n",
      " 217. 185. 223. 228. 203. 214. 204. 206. 219. 207. 206. 213. 224. 211.\n",
      " 224. 195. 221. 197. 210. 222. 207. 197. 197. 209. 233. 205. 199. 213.\n",
      " 216. 216. 228. 204. 222. 194. 196. 202. 216. 232. 205. 219. 226. 208.\n",
      " 212. 220. 185. 201. 204. 214. 219. 228. 220. 212. 197. 210. 228. 216.\n",
      " 213. 225. 223. 235. 209. 201. 209. 219. 228. 213. 194. 212. 209. 219.\n",
      " 223. 197. 208. 189. 196. 210. 227. 212. 213. 200. 215. 215. 216. 216.\n",
      " 217. 208. 218. 206. 205. 206. 212. 211. 202. 197. 231. 216. 221. 206.\n",
      " 200. 216. 220. 246. 218. 200. 209. 220. 222. 212. 209. 225. 200. 213.\n",
      " 209. 224. 194. 249. 229. 215. 221. 228. 213. 191. 192. 207. 214. 219.\n",
      " 200. 192. 208. 214. 212. 201. 187. 221. 222. 244. 202. 196. 197. 225.\n",
      " 209. 188. 217. 215. 208. 202. 210. 209. 212. 233. 199. 209. 187. 224.\n",
      " 212. 203. 228. 219. 200. 208. 209. 207. 202. 225. 199. 200. 188. 202.\n",
      " 203. 223. 192. 216. 204. 213. 217. 205. 234. 217. 212. 202. 193. 207.\n",
      " 211. 210. 222. 202. 213. 204. 222. 231. 217. 210. 216. 216. 198. 188.\n",
      " 217. 219. 207. 209. 209. 206. 206. 207. 195. 189. 213. 207. 211. 209.\n",
      " 212. 215. 205. 190. 212. 210. 211. 207. 198. 219. 206. 216. 213. 221.\n",
      " 210. 216. 206. 223. 206. 207. 190. 208. 202. 195. 198. 198. 225. 224.\n",
      " 215. 221. 199. 225. 219. 196. 203. 209. 207. 194. 200. 215. 213. 202.\n",
      " 207. 206. 224. 216. 213. 205. 222. 203. 222. 206. 217. 209. 229. 228.\n",
      " 185. 230. 194. 205. 241. 212. 205. 203. 214. 215. 220. 205. 199. 230.\n",
      " 217. 226. 213. 219. 206. 210. 191. 203. 227. 198. 191. 213. 209. 202.\n",
      " 215. 203. 208. 191. 207. 218. 215. 223. 195. 210. 201. 230. 213. 190.\n",
      " 188. 189. 188. 208. 197. 215. 198. 219. 219. 206. 203. 193. 220. 212.\n",
      " 205. 197. 241. 226. 227. 229. 205. 200. 226. 206. 193. 212. 209. 204.\n",
      " 199. 203. 199. 197. 225. 230. 181. 227. 226. 217. 220. 186. 228. 213.\n",
      " 218. 211. 227. 230. 212. 211. 224. 219. 225. 196. 188. 199. 206. 206.\n",
      " 205. 242. 210. 202. 220. 203. 179. 247. 229. 216. 195. 176. 206. 233.\n",
      " 220. 209. 213. 207. 231. 206. 209. 225. 226. 212. 203. 228. 219. 212.\n",
      " 204. 207. 197. 209. 208. 227. 232. 197. 207. 197. 209. 231. 195. 188.\n",
      " 225. 214. 220. 216. 219. 191. 223. 211. 199. 224. 201. 209. 205. 197.\n",
      " 199. 222. 198. 218. 210. 203. 208. 217. 213. 212. 228. 209. 202. 216.\n",
      " 196. 210. 212. 234. 210. 227. 200. 219. 196. 231. 205. 227. 201. 221.\n",
      " 214. 195. 202. 205. 212. 191. 218. 213. 210. 211. 194. 213. 218. 206.\n",
      " 214. 214. 208. 210. 210. 219. 206. 215. 204. 207. 215. 213. 225. 210.\n",
      " 217. 183. 210. 184. 219. 216. 234. 187. 209. 191. 193. 210. 215. 215.\n",
      " 206. 218. 229. 210. 223. 192. 203. 203. 202. 198. 193. 199. 194. 212.\n",
      " 203. 221. 209. 197. 203. 226. 236. 208. 205. 202. 213. 205. 208. 241.\n",
      " 216. 211. 200. 199. 229. 205. 226. 213. 192. 216. 216. 225. 204. 207.\n",
      " 208. 227. 214. 201. 179. 229. 193. 212. 193. 218. 218. 203. 199. 200.\n",
      " 222. 225. 223. 214. 215. 206. 223. 203. 212. 212. 197. 227. 218. 240.\n",
      " 208. 203. 185. 239. 215. 229. 196. 216. 214. 228. 187. 201. 210. 208.\n",
      " 226. 220. 212. 199. 189. 216. 215. 230. 235. 209. 205. 219. 196. 217.\n",
      " 208. 227. 211. 212. 211. 218.]\n"
     ]
    },
    {
     "data": {
      "image/png": "[encoded data removed]",
      "text/plain": [
       "<Figure size 640x480 with 1 Axes>"
      ]
     },
     "metadata": {},
     "output_type": "display_data"
    },
    {
     "name": "stdout",
     "output_type": "stream",
     "text": [
      "210.234\n",
      "630.702\n",
      "789.766\n",
      "0.210234\n"
     ]
    }
   ],
   "source": [
    "#Part 3\n",
    "\n",
    "# Now do it for 1000 times\n",
    "results = np.zeros(1000)\n",
    "\n",
    "for i in range(1000):\n",
    "    results[i] = monte_carlo()[0]\n",
    "print(results)\n",
    "\n",
    "import matplotlib.pyplot as plt \n",
    "fig, ax = plt.subplots()\n",
    "ax.hist(results, bins=15)\n",
    "plt.show()\n",
    "\n",
    "print(results.mean())           # General mean\n",
    "print(results.mean()*3)         # What we will get as win on an average\n",
    "print(1000 - results.mean())    # What we will pay on an average\n",
    "print(results.mean()/1000)      # Probability of the 'we will pay' result\n",
    "\n",
    "# The last probability should be close to the theouretical probability of getting a >12 sum when we choose a number\n"
   ]
  }
 ],
 "metadata": {
  "kernelspec": {
   "display_name": "Python 3",
   "language": "python",
   "name": "python3"
  },
  "language_info": {
   "codemirror_mode": {
    "name": "ipython",
    "version": 3
   },
   "file_extension": ".py",
   "mimetype": "text/x-python",
   "name": "python",
   "nbconvert_exporter": "python",
   "pygments_lexer": "ipython3",
   "version": "3.12.0"
  }
 },
 "nbformat": 4,
 "nbformat_minor": 2
}
