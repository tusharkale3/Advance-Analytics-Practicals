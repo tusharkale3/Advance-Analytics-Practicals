{
 "cells": [
  {
   "cell_type": "code",
   "execution_count": 2,
   "metadata": {},
   "outputs": [
    {
     "name": "stdout",
     "output_type": "stream",
     "text": [
      "['2023-11-03' '2023-11-04' '2023-11-05']\n",
      "['1968' '1969' '1970' '1971' '1972' '1973' '1974' '1975']\n",
      "DatetimeIndex(['2023-11-02', '2023-11-03', '2023-11-04', '2023-11-05',\n",
      "               '2023-11-06', '2023-11-07', '2023-11-08'],\n",
      "              dtype='datetime64[ns]', freq='D')\n",
      "DatetimeIndex(['2023-11-02', '2023-12-19'], dtype='datetime64[ns]', freq=None)\n",
      "DatetimeIndex(['2023-02-11', '2023-03-15'], dtype='datetime64[ns]', freq=None)\n"
     ]
    }
   ],
   "source": [
    "from datetime import datetime\n",
    "import numpy as np \n",
    "d = np.array(['2023-11-03', '2023-11-04', '2023-11-05'], dtype='datetime64[D]')\n",
    "print(d)\n",
    "\n",
    "# Create an array of years between 1968 and 1975\n",
    "d = np.arange('1968', '1976', dtype='datetime64[Y]')\n",
    "print(d)\n",
    "\n",
    "# Create a series of 7 cibsecytuve days from a starting date\n",
    "import pandas as pd \n",
    "d = pd.date_range('2023-11-02', periods=7, freq='D')\n",
    "print(d)\n",
    "\n",
    "# Using datetime\n",
    "import pandas as pd \n",
    "from datetime import datetime\n",
    "d = pd.to_datetime(['11/02/2023', '12/19/2023']) # mm/dd/yyyy\n",
    "print(d)\n",
    "d = pd.to_datetime(['11/02/2023', '15/03/2023'], format='%d/%m/%Y') # dd/mm/yyyy\n",
    "print(d)"
   ]
  }
 ],
 "metadata": {
  "kernelspec": {
   "display_name": "Python 3",
   "language": "python",
   "name": "python3"
  },
  "language_info": {
   "codemirror_mode": {
    "name": "ipython",
    "version": 3
   },
   "file_extension": ".py",
   "mimetype": "text/x-python",
   "name": "python",
   "nbconvert_exporter": "python",
   "pygments_lexer": "ipython3",
   "version": "3.12.0"
  }
 },
 "nbformat": 4,
 "nbformat_minor": 2
}
