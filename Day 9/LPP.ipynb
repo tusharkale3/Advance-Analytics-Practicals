{
 "cells": [
  {
   "cell_type": "code",
   "execution_count": 21,
   "metadata": {},
   "outputs": [],
   "source": [
    "# R1: labor : 2*x1+1*x2+2.5*x3< =60 hours\n",
    "# R2 : machine : 0.8*x1+0.6*x2+1.0*x3<=16 hours\n",
    "# R3 : wood: 30*x1+20*x2+30*x3<=400 board feet\n",
    "\n",
    "#products : chairs ($30 ro profits),tables:(40 $) ,bookcases :(45$)\n",
    "\n",
    "\n",
    "# import all classes of Pulp module\n",
    "\n",
    "from pulp import *"
   ]
  },
  {
   "cell_type": "code",
   "execution_count": 22,
   "metadata": {},
   "outputs": [],
   "source": [
    "# Create the problem variable to contain the problem data \n",
    "model = LpProblem(\"FurnitureProblem\", LpMaximize)\n",
    "\n",
    "# Create 3 variables tables, chaird, and bookcases\n",
    "# Parameters: Name, Lower limit, Upper limit, Data type\n",
    "\n",
    "x1 = LpVariable(\"tables\", 0, None, LpInteger)\n",
    "x2 = LpVariable(\"chairs\", 0, None, LpInteger)\n",
    "x3 = LpVariable(\"bookcases\", 0, None, LpInteger)\n",
    "\n",
    "# Create maximize objective function \n",
    "model += 40 * x1 + 30 * x2 + 45 * x3\n",
    "\n",
    "# Create three constraints\n",
    "\n",
    "model += 2*x1+1*x2+2.5*x3<=60, \"Labour\" \n",
    "model += 0.8*x1+0.6*x2+1.0*x3<=16, \"Machine\"\n",
    "model += 30*x1+20*x2+30*x3<=400, \"wood\""
   ]
  },
  {
   "cell_type": "code",
   "execution_count": 23,
   "metadata": {},
   "outputs": [],
   "source": [
    "# Try commenting the statement below and see the difference\n",
    "model += x1 >=3, \"tables\"\n",
    "model += x3 >=1, \"bookcases\"\n",
    "\n",
    " "
   ]
  },
  {
   "cell_type": "code",
   "execution_count": 24,
   "metadata": {},
   "outputs": [
    {
     "name": "stdout",
     "output_type": "stream",
     "text": [
      "bookcases = 1.0\n",
      "chairs = 14.0\n",
      "tables = 3.0\n"
     ]
    }
   ],
   "source": [
    "# The problem is solved using Pulp's choice of solver\n",
    "\n",
    "model.solve()\n",
    "\n",
    "# Each of the variables is printed with it's resolved optimum value\n",
    "for v in model.variables():\n",
    "    print(v.name, \"=\", v.varValue)\n",
    "\n",
    "\n",
    "    "
   ]
  },
  {
   "cell_type": "code",
   "execution_count": null,
   "metadata": {},
   "outputs": [],
   "source": []
  }
 ],
 "metadata": {
  "kernelspec": {
   "display_name": "Python 3",
   "language": "python",
   "name": "python3"
  },
  "language_info": {
   "codemirror_mode": {
    "name": "ipython",
    "version": 3
   },
   "file_extension": ".py",
   "mimetype": "text/x-python",
   "name": "python",
   "nbconvert_exporter": "python",
   "pygments_lexer": "ipython3",
   "version": "3.12.0"
  }
 },
 "nbformat": 4,
 "nbformat_minor": 2
}
