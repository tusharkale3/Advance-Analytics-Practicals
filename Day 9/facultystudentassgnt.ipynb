{
 "cells": [
  {
   "cell_type": "code",
   "execution_count": 2,
   "metadata": {},
   "outputs": [
    {
     "name": "stdout",
     "output_type": "stream",
     "text": [
      "Optimum teaching hours per week: 5160000.0\n",
      "Optimum number of students enrolled: 600.0\n"
     ]
    }
   ],
   "source": [
    "from pulp import *\n",
    "\n",
    "# Define variables\n",
    "x = pulp.LpVariable('x', lowBound=0, cat='Integer')\n",
    "\n",
    "# Define the model\n",
    "model = pulp.LpProblem('C-DAC_ACTS_Optimization', LpMaximize)\n",
    "\n",
    "# Constraints\n",
    "model += 2 * x <= 100 * 40\n",
    "model += x <= 12 * 50\n",
    "model += 0.5 * x <= 500\n",
    "model += x <= 12 * 70\n",
    "model += x >= 0\n",
    "\n",
    "# Objective function\n",
    "model += 2 * 100 * 40 * x + 12 * 50 * x\n",
    "\n",
    "# Solve the model\n",
    "model.solve()\n",
    "\n",
    "# Print results\n",
    "print(\"Optimum teaching hours per week:\", pulp.value(model.objective))\n",
    "print(\"Optimum number of students enrolled:\", pulp.value(x))\n"
   ]
  },
  {
   "cell_type": "code",
   "execution_count": 10,
   "metadata": {},
   "outputs": [
    {
     "name": "stdout",
     "output_type": "stream",
     "text": [
      "Optimum teaching hours per week: 5160000.0\n",
      "Optimum number of students enrolled: 600.0\n"
     ]
    }
   ],
   "source": [
    "import pulp\n",
    "\n",
    "# Define variables\n",
    "x = pulp.LpVariable('x', lowBound=0, cat='Integer')  # Ensure integer number of students\n",
    "\n",
    "# Define the model\n",
    "model = pulp.LpProblem('C-DAC_ACTS_Optimization', pulp.LpMaximize)\n",
    "\n",
    "# Constraints\n",
    "model += 2 * x <= 100 * 40  # Faculty hours\n",
    "model += x <= 12 * 50  # Classroom hours\n",
    "model += 0.5 * x <= 500  # Machines\n",
    "model += x <= 12 * 70  # Classroom capacity\n",
    "model += x >= 0  # Non-negativity\n",
    "\n",
    "# Corrected objective function (accounting for faculty and classroom hours)\n",
    "model += 2 * x * 100 * 40 + x * 12 * 50\n",
    "\n",
    "# Additional constraint to address faculty workload concerns\n",
    "model += 2 * x / 100 <= 40  # Average faculty hours per faculty member\n",
    "\n",
    "# Solve the model\n",
    "model.solve()\n",
    "\n",
    "# Print results\n",
    "print(\"Optimum teaching hours per week:\", pulp.value(model.objective))\n",
    "print(\"Optimum number of students enrolled:\", pulp.value(x))\n"
   ]
  },
  {
   "cell_type": "code",
   "execution_count": 11,
   "metadata": {},
   "outputs": [
    {
     "name": "stdout",
     "output_type": "stream",
     "text": [
      "Optimum teaching hours per week: 103200.0\n",
      "Optimum number of students enrolled: 12.0\n"
     ]
    }
   ],
   "source": [
    "import pulp\n",
    "\n",
    "# Create the model\n",
    "model = pulp.LpProblem(\"C-DAC_ACTS_Optimization\", pulp.LpMaximize)\n",
    "\n",
    "# Define variables\n",
    "x = pulp.LpVariable('x', lowBound=0, cat=pulp.LpInteger)  # Number of students\n",
    "\n",
    "# Define constraints\n",
    "model += 2 * x * 40 <= 100 * 40  # Faculty hours (using 40 for maximum faculty hours)\n",
    "model += x * 50 <= 12 * 50  # Classroom hours\n",
    "model += 0.5 * x <= 500  # Machines\n",
    "model += x <= 12 * 70  # Classroom capacity\n",
    "model += x >= 0  # Non-negativity\n",
    "model += 2 * x / 100 <= 40  # Average faculty hours per faculty member\n",
    "\n",
    "# Define objective function\n",
    "model += 2 * x * 40 * 100 + x * 50 * 12  # Corrected calculation for total teaching hours\n",
    "\n",
    "# Solve the model\n",
    "model.solve()\n",
    "\n",
    "# Print results\n",
    "print(\"Optimum teaching hours per week:\", pulp.value(model.objective))\n",
    "print(\"Optimum number of students enrolled:\", pulp.value(x))\n"
   ]
  },
  {
   "cell_type": "code",
   "execution_count": 12,
   "metadata": {},
   "outputs": [
    {
     "name": "stdout",
     "output_type": "stream",
     "text": [
      "Optimal teaching hours per week: 4000.0\n",
      "Optimal number of students enrolled: 840.0\n"
     ]
    }
   ],
   "source": [
    "from pulp import LpMaximize, LpProblem, LpVariable\n",
    "\n",
    "# Create the LP problem\n",
    "model = LpProblem(name=\"Teaching_Hours_Optimization\", sense=LpMaximize)\n",
    "\n",
    "# Define decision variables\n",
    "fhx = LpVariable(name=\"fhx\", lowBound=0)\n",
    "x = LpVariable(name=\"x\", lowBound=0, cat=\"Integer\")\n",
    "\n",
    "# Define objective function\n",
    "model += 2 * fhx + 50 * x, \"Objective\"\n",
    "\n",
    "# Define constraints\n",
    "model += fhx <= 40 * 100 # Maximum teaching hours per faculty member\n",
    "model += fhx <= 50 * 12 * x # Maximum teaching hours per classroom\n",
    "model += 0.5 * x <= 500 # Minimum laptops required per student\n",
    "model += x <= 12 * 70 # Student capacity per classroom\n",
    "\n",
    "# Solve the problem\n",
    "model.solve()\n",
    "\n",
    "# Display the results\n",
    "print(f\"Optimal teaching hours per week: {fhx.varValue}\")\n",
    "print(f\"Optimal number of students enrolled: {x.varValue}\")"
   ]
  }
 ],
 "metadata": {
  "kernelspec": {
   "display_name": "Python 3",
   "language": "python",
   "name": "python3"
  },
  "language_info": {
   "codemirror_mode": {
    "name": "ipython",
    "version": 3
   },
   "file_extension": ".py",
   "mimetype": "text/x-python",
   "name": "python",
   "nbconvert_exporter": "python",
   "pygments_lexer": "ipython3",
   "version": "3.12.0"
  }
 },
 "nbformat": 4,
 "nbformat_minor": 2
}
