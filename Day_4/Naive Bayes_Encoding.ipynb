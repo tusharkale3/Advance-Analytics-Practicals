{
 "cells": [
  {
   "cell_type": "code",
   "execution_count": 34,
   "metadata": {},
   "outputs": [],
   "source": [
    "# importing libraries\n",
    "import numpy as np \n",
    "import pandas as pd \n",
    "import matplotlib.pyplot as plt \n"
   ]
  },
  {
   "cell_type": "code",
   "execution_count": 35,
   "metadata": {},
   "outputs": [],
   "source": [
    "# imorting the dataset\n",
    "dataset =pd.read_csv(\"D:/DBDA/Adavance Stats/pandas/Social_Network_Ads.csv\")\n",
    "\n"
   ]
  },
  {
   "cell_type": "code",
   "execution_count": 36,
   "metadata": {},
   "outputs": [],
   "source": [
    "#extract the feature variable from dataframe. It uses the .iloc method  to select all rows (denoted by :) and columns with indices 2 and 3 (python uses 0 bases index ,so these are 3\n",
    "# 4 column: age and salary )... values converts the selected data into numpy array , which is a common format for feature variables in ml\n",
    "\n",
    "X =dataset.iloc[:,[2,3]].values\n"
   ]
  },
  {
   "cell_type": "code",
   "execution_count": null,
   "metadata": {},
   "outputs": [],
   "source": [
    "###############################Add gender to show the labels using Label Encoder##################################\n",
    "# labelencoder will use 0 and 1 instaed of male and female\n",
    "# import label encoder\n",
    "from sklearn.preprocessing import LabelEncoder\n",
    "\n",
    "# create label encoder object\n",
    "encoder = LabelEncoder()\n",
    "\n",
    "# get encoded featrures for the gender column\n",
    "\n",
    "gender_encoded = encoder.fit_transform(dataset['Gender'].values.reshape(-1,1))\n",
    "\n",
    "# add encoded features to the existing features set \n",
    "\n",
    "X=np.concatenate((X,gender_encoded.reshape(-1,1)),axis=1)\n",
    "print(X)"
   ]
  },
  {
   "cell_type": "code",
   "execution_count": null,
   "metadata": {},
   "outputs": [],
   "source": [
    "##############################################onehot encoding ###########################\n",
    "\n",
    "# This method creates new binary column for each unique values in the gender column. For example, if the only values are \"Male\" and \"Female\" \n",
    "#you will get the two new columns: \"Male\" and \"Female\".\n",
    "# Each row in the new column will have a value of 1 if the corresponding gender is presenst and 0 otherwise.\n",
    "\n",
    "# Import one-hot encoder\n",
    "from sklearn.preprocessing import OneHotEncoder\n",
    "\n",
    "# Create one-hot encoder object\n",
    "encoder = OneHotEncoder(sparse_output=False, drop='first')\n",
    "\n",
    "# Get one-hot encoded features for gender column\n",
    "gender_encoded = encoder.fit_transform(dataset['Gender'].values.reshape(-1,1))\n",
    "\n",
    "# Add encoded features to the existing featuere set\n",
    "X=np.concatenate((X,gender_encoded.reshape(-1,1)),axis=1)\n",
    "print(X)\n"
   ]
  },
  {
   "cell_type": "code",
   "execution_count": 37,
   "metadata": {},
   "outputs": [
    {
     "name": "stdout",
     "output_type": "stream",
     "text": [
      "Counter({'Female': 204, 'Male': 196})\n",
      "[[4.9e-01 1.9e+01 1.9e+04]\n",
      " [4.9e-01 3.5e+01 2.0e+04]\n",
      " [5.1e-01 2.6e+01 4.3e+04]\n",
      " ...\n",
      " [5.1e-01 5.0e+01 2.0e+04]\n",
      " [4.9e-01 3.6e+01 3.3e+04]\n",
      " [5.1e-01 4.9e+01 3.6e+04]]\n"
     ]
    }
   ],
   "source": [
    "########################################## FREQUENCY based encoding #######################################################\n",
    "# This method replace each unique value in the \"Gender\" columns with its frequency in the \n",
    "# entire dataset .Ex ,if there are 100 Male values and 200 Female values ,then Male will be \n",
    "# replaced with 0.33 abd Female will be replaced by 0.67\n",
    "\n",
    "from collections import Counter\n",
    "\n",
    "#get Gender frequencies\n",
    "\n",
    "gender_counts = Counter(dataset['Gender'])\n",
    "print(gender_counts)\n",
    "#Define a function encode_gender values\n",
    "def encode_gender(gender):\n",
    "    return gender_counts[gender]/len(dataset)\n",
    "\n",
    "\n",
    "# apply the encoding function to the gender column\n",
    "\n",
    "dataset['Gender']= dataset['Gender'].apply(encode_gender)\n",
    "\n",
    "#update the feature set wiuth encoded gender column\n",
    "X = dataset.iloc[:,[1,2,3,]].values\n",
    "print(X)\n"
   ]
  },
  {
   "cell_type": "code",
   "execution_count": 38,
   "metadata": {},
   "outputs": [],
   "source": [
    "#extracts the target variable (purchases) from the dataframe .It selects all rows and the last column(denoted by -1) of the dataframe and converts intp Numpy array.The\n",
    "#target varibale typically contains the labels or outcomes you want to predict in a machine learing model\n",
    "\n",
    "y =dataset.iloc[:,-1].values"
   ]
  },
  {
   "cell_type": "code",
   "execution_count": 39,
   "metadata": {},
   "outputs": [],
   "source": [
    "# splitting the dataset into the training set(80%) and testing set(20%) \n",
    "# random state =0 sets a random seed to ensure reproducibilty. Setting this parameter to a specific values(eg .0) ensures that every time you run the code , \n",
    "#the same split will be generated .This is helpful for reproducibilty in Ml exp.\n",
    "\n",
    "from sklearn.model_selection import train_test_split\n",
    "\n",
    "X_train,X_test,y_train,y_test = train_test_split(X,y,test_size=0.20,random_state=0)"
   ]
  },
  {
   "cell_type": "code",
   "execution_count": 40,
   "metadata": {},
   "outputs": [],
   "source": [
    "#feature scaling\n",
    "# to ensure that all the features are on asimilar scale (eg age has a scale 1-100,but salary will be in thousands )\n",
    "\n",
    "from sklearn.preprocessing import StandardScaler\n",
    "sc = StandardScaler()"
   ]
  },
  {
   "cell_type": "code",
   "execution_count": 41,
   "metadata": {},
   "outputs": [],
   "source": [
    "# the fit_transform method computes the mean ,standard deviation of each feature in the training set and then scales the features based on these stats.\n",
    "#After scaling , the feature variable in X_train will have a mean 0 and SD of 1\n",
    "\n",
    "X_train=sc.fit_transform(X_train)\n",
    "\n",
    "#print(X_train)"
   ]
  },
  {
   "cell_type": "code",
   "execution_count": 42,
   "metadata": {},
   "outputs": [],
   "source": [
    "#this line scales te features variables in testing set (X_test). however, it doesnot recompute the mean and SD : instead ,it uses the mean and Sd that were computed\n",
    "# from the training set durung the fit_transform step . This ensures thatthe same scaling transformation is applied consistently to hboth the training and testing sets\n",
    "\n",
    "X_test =sc.transform(X_test)\n",
    "\n"
   ]
  },
  {
   "cell_type": "code",
   "execution_count": 43,
   "metadata": {},
   "outputs": [
    {
     "data": {
      "text/html": [
       "<style>#sk-container-id-2 {color: black;}#sk-container-id-2 pre{padding: 0;}#sk-container-id-2 div.sk-toggleable {background-color: white;}#sk-container-id-2 label.sk-toggleable__label {cursor: pointer;display: block;width: 100%;margin-bottom: 0;padding: 0.3em;box-sizing: border-box;text-align: center;}#sk-container-id-2 label.sk-toggleable__label-arrow:before {content: \"▸\";float: left;margin-right: 0.25em;color: #696969;}#sk-container-id-2 label.sk-toggleable__label-arrow:hover:before {color: black;}#sk-container-id-2 div.sk-estimator:hover label.sk-toggleable__label-arrow:before {color: black;}#sk-container-id-2 div.sk-toggleable__content {max-height: 0;max-width: 0;overflow: hidden;text-align: left;background-color: #f0f8ff;}#sk-container-id-2 div.sk-toggleable__content pre {margin: 0.2em;color: black;border-radius: 0.25em;background-color: #f0f8ff;}#sk-container-id-2 input.sk-toggleable__control:checked~div.sk-toggleable__content {max-height: 200px;max-width: 100%;overflow: auto;}#sk-container-id-2 input.sk-toggleable__control:checked~label.sk-toggleable__label-arrow:before {content: \"▾\";}#sk-container-id-2 div.sk-estimator input.sk-toggleable__control:checked~label.sk-toggleable__label {background-color: #d4ebff;}#sk-container-id-2 div.sk-label input.sk-toggleable__control:checked~label.sk-toggleable__label {background-color: #d4ebff;}#sk-container-id-2 input.sk-hidden--visually {border: 0;clip: rect(1px 1px 1px 1px);clip: rect(1px, 1px, 1px, 1px);height: 1px;margin: -1px;overflow: hidden;padding: 0;position: absolute;width: 1px;}#sk-container-id-2 div.sk-estimator {font-family: monospace;background-color: #f0f8ff;border: 1px dotted black;border-radius: 0.25em;box-sizing: border-box;margin-bottom: 0.5em;}#sk-container-id-2 div.sk-estimator:hover {background-color: #d4ebff;}#sk-container-id-2 div.sk-parallel-item::after {content: \"\";width: 100%;border-bottom: 1px solid gray;flex-grow: 1;}#sk-container-id-2 div.sk-label:hover label.sk-toggleable__label {background-color: #d4ebff;}#sk-container-id-2 div.sk-serial::before {content: \"\";position: absolute;border-left: 1px solid gray;box-sizing: border-box;top: 0;bottom: 0;left: 50%;z-index: 0;}#sk-container-id-2 div.sk-serial {display: flex;flex-direction: column;align-items: center;background-color: white;padding-right: 0.2em;padding-left: 0.2em;position: relative;}#sk-container-id-2 div.sk-item {position: relative;z-index: 1;}#sk-container-id-2 div.sk-parallel {display: flex;align-items: stretch;justify-content: center;background-color: white;position: relative;}#sk-container-id-2 div.sk-item::before, #sk-container-id-2 div.sk-parallel-item::before {content: \"\";position: absolute;border-left: 1px solid gray;box-sizing: border-box;top: 0;bottom: 0;left: 50%;z-index: -1;}#sk-container-id-2 div.sk-parallel-item {display: flex;flex-direction: column;z-index: 1;position: relative;background-color: white;}#sk-container-id-2 div.sk-parallel-item:first-child::after {align-self: flex-end;width: 50%;}#sk-container-id-2 div.sk-parallel-item:last-child::after {align-self: flex-start;width: 50%;}#sk-container-id-2 div.sk-parallel-item:only-child::after {width: 0;}#sk-container-id-2 div.sk-dashed-wrapped {border: 1px dashed gray;margin: 0 0.4em 0.5em 0.4em;box-sizing: border-box;padding-bottom: 0.4em;background-color: white;}#sk-container-id-2 div.sk-label label {font-family: monospace;font-weight: bold;display: inline-block;line-height: 1.2em;}#sk-container-id-2 div.sk-label-container {text-align: center;}#sk-container-id-2 div.sk-container {/* jupyter's `normalize.less` sets `[hidden] { display: none; }` but bootstrap.min.css set `[hidden] { display: none !important; }` so we also need the `!important` here to be able to override the default hidden behavior on the sphinx rendered scikit-learn.org. See: https://github.com/scikit-learn/scikit-learn/issues/21755 */display: inline-block !important;position: relative;}#sk-container-id-2 div.sk-text-repr-fallback {display: none;}</style><div id=\"sk-container-id-2\" class=\"sk-top-container\"><div class=\"sk-text-repr-fallback\"><pre>GaussianNB()</pre><b>In a Jupyter environment, please rerun this cell to show the HTML representation or trust the notebook. <br />On GitHub, the HTML representation is unable to render, please try loading this page with nbviewer.org.</b></div><div class=\"sk-container\" hidden><div class=\"sk-item\"><div class=\"sk-estimator sk-toggleable\"><input class=\"sk-toggleable__control sk-hidden--visually\" id=\"sk-estimator-id-2\" type=\"checkbox\" checked><label for=\"sk-estimator-id-2\" class=\"sk-toggleable__label sk-toggleable__label-arrow\">GaussianNB</label><div class=\"sk-toggleable__content\"><pre>GaussianNB()</pre></div></div></div></div></div>"
      ],
      "text/plain": [
       "GaussianNB()"
      ]
     },
     "execution_count": 43,
     "metadata": {},
     "output_type": "execute_result"
    }
   ],
   "source": [
    "# training the naive bayes model on training set\n",
    "\n",
    "from sklearn.naive_bayes import GaussianNB\n",
    "classifier =GaussianNB()\n",
    "classifier.fit(X_train,y_train)\n",
    "\n",
    "\n"
   ]
  },
  {
   "cell_type": "code",
   "execution_count": 44,
   "metadata": {},
   "outputs": [
    {
     "name": "stdout",
     "output_type": "stream",
     "text": [
      "[0 0 0 0 0 0 0 1 0 0 0 0 0 0 0 1 0 0 1 0 0 1 0 1 0 1 0 0 0 0 0 0 1 0 0 0 0\n",
      " 0 0 1 0 0 0 0 1 0 0 1 0 1 1 0 0 1 1 0 0 0 1 0 0 1 0 0 0 1 0 0 0 0 1 0 0 0\n",
      " 0 0 0 0 1 1]\n",
      "[0 0 0 0 0 0 0 1 0 0 0 0 0 0 0 0 0 0 1 0 0 1 0 1 0 1 0 0 0 0 0 1 1 0 0 0 0\n",
      " 0 0 1 0 0 0 0 1 0 0 1 0 1 1 0 0 0 1 1 0 0 1 0 0 1 0 1 0 1 0 0 0 0 1 0 0 1\n",
      " 0 0 0 0 1 1]\n"
     ]
    }
   ],
   "source": [
    "#predicting the test set values/results\n",
    "\n",
    "y_pred=classifier.predict(X_test)\n",
    "print(y_pred)  #our predicted values\n",
    "print(y_test) # actual values\n"
   ]
  },
  {
   "cell_type": "code",
   "execution_count": 45,
   "metadata": {},
   "outputs": [],
   "source": [
    "#after executing these lines, the classifier object will have learned the relationships\n",
    "#between the features and target variables based on the GaussinNB model. You \n",
    "# how did we perform\n",
    "# in this code snippet you are using sklearn cinfusion matrix and accuracy_score\n",
    "##functions to evaluate the performance of ypour GaussianNB classifier on the test data\n"
   ]
  },
  {
   "cell_type": "code",
   "execution_count": 47,
   "metadata": {},
   "outputs": [],
   "source": [
    "from sklearn.metrics import confusion_matrix,accuracy_score\n",
    "#ac =accuracy_score(y_test,y_pred) : This line calculates the accuracy of score of your classifier predictions Here how is works:\n",
    "\n",
    "#y_test contains the actual target values (ground truth ) for the test set.\n",
    "# y_pred contains the predicted target values made by GaussianNb classifier in the test set\n",
    "#the accuracy_score  function compares y_test and y_pred , and it calculates the ratio  of correctly predicted instances to the total no. of instances\n",
    "\n",
    "#This ratio is the accuracy of your classifier on the test data\n"
   ]
  },
  {
   "cell_type": "code",
   "execution_count": 48,
   "metadata": {},
   "outputs": [],
   "source": [
    "ac =accuracy_score(y_test,y_pred)\n",
    "\n",
    "#cm =confusion_matrix(y_test,y_pred): This line calculates matrix for your classifiers predictions. Here is what it does :\n",
    "#y_test contains the actual target values (ground truth ) for the test set.\n",
    "# y_pred contains the predicted target values made by GaussianNb classifier in the test set\n",
    "# the confusion matrix function takes y_test and y_pred as input and computes matrix that shows the TP,TN,FP,FN values\n",
    "\n",
    "cm =confusion_matrix(y_test,y_pred)\n"
   ]
  },
  {
   "cell_type": "code",
   "execution_count": 49,
   "metadata": {},
   "outputs": [
    {
     "name": "stdout",
     "output_type": "stream",
     "text": [
      "0.925\n",
      "[[56  2]\n",
      " [ 4 18]]\n"
     ]
    }
   ],
   "source": [
    "#ac : This variable contains the accuracy_score ,which quantifies the overall correctness of your classifiers predictions on the test data set\n",
    "#cm : This variable contains the confusuion matrix which provides the detailed breakdown of how your classifiers predictions compare to actual truth values, allowing \n",
    "#you to assses\n",
    "\n",
    "print(ac)\n",
    "print(cm)"
   ]
  },
  {
   "cell_type": "code",
   "execution_count": null,
   "metadata": {},
   "outputs": [],
   "source": []
  },
  {
   "cell_type": "code",
   "execution_count": null,
   "metadata": {},
   "outputs": [],
   "source": []
  }
 ],
 "metadata": {
  "kernelspec": {
   "display_name": "Python 3",
   "language": "python",
   "name": "python3"
  },
  "language_info": {
   "codemirror_mode": {
    "name": "ipython",
    "version": 3
   },
   "file_extension": ".py",
   "mimetype": "text/x-python",
   "name": "python",
   "nbconvert_exporter": "python",
   "pygments_lexer": "ipython3",
   "version": "3.12.0"
  }
 },
 "nbformat": 4,
 "nbformat_minor": 2
}
