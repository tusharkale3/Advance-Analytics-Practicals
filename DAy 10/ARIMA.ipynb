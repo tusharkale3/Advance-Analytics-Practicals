{
 "cells": [
  {
   "cell_type": "code",
   "execution_count": 1,
   "metadata": {},
   "outputs": [],
   "source": [
    "# ARIMA\n",
    "\n",
    "from  statsmodels.tsa.arima.model import ARIMA\n",
    "from statsmodels.graphics.tsaplots import plot_acf,plot_pacf\n",
    "\n",
    "# create columns for one month and one year lagged data \n",
    "airP = df[['passengers']]"
   ]
  },
  {
   "cell_type": "code",
   "execution_count": null,
   "metadata": {},
   "outputs": [],
   "source": [
    "plot_pacf(airP['firstDiff'].dropna(),lags=20)\n",
    "pl.show()\n",
    "\n",
    "# shaded area is insignificant area\n",
    "#PACF gives 2 auto regressive values (i.e. p )\n",
    "#First 'p' is 1 (x axix coordinate), whose value is ~0.31 (the y axis coordinate)"
   ]
  }
 ],
 "metadata": {
  "kernelspec": {
   "display_name": "Python 3",
   "language": "python",
   "name": "python3"
  },
  "language_info": {
   "codemirror_mode": {
    "name": "ipython",
    "version": 3
   },
   "file_extension": ".py",
   "mimetype": "text/x-python",
   "name": "python",
   "nbconvert_exporter": "python",
   "pygments_lexer": "ipython3",
   "version": "3.12.0"
  }
 },
 "nbformat": 4,
 "nbformat_minor": 2
}
