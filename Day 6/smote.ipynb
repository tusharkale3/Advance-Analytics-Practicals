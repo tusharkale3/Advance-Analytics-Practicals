{
 "cells": [
  {
   "cell_type": "code",
   "execution_count": 24,
   "metadata": {},
   "outputs": [],
   "source": [
    "import pandas as pd \n",
    "import matplotlib.pyplot as plt \n",
    "import numpy as np \n"
   ]
  },
  {
   "cell_type": "code",
   "execution_count": 25,
   "metadata": {},
   "outputs": [
    {
     "name": "stdout",
     "output_type": "stream",
     "text": [
      "   Time        V1        V2        V3        V4        V5        V6        V7  \\\n",
      "0   0.0 -1.359807 -0.072781  2.536347  1.378155 -0.338321  0.462388  0.239599   \n",
      "1   0.0  1.191857  0.266151  0.166480  0.448154  0.060018 -0.082361 -0.078803   \n",
      "2   1.0 -1.358354 -1.340163  1.773209  0.379780 -0.503198  1.800499  0.791461   \n",
      "\n",
      "         V8        V9  ...       V21       V22       V23       V24       V25  \\\n",
      "0  0.098698  0.363787  ... -0.018307  0.277838 -0.110474  0.066928  0.128539   \n",
      "1  0.085102 -0.255425  ... -0.225775 -0.638672  0.101288 -0.339846  0.167170   \n",
      "2  0.247676 -1.514654  ...  0.247998  0.771679  0.909412 -0.689281 -0.327642   \n",
      "\n",
      "        V26       V27       V28  Amount  Class  \n",
      "0 -0.189115  0.133558 -0.021053  149.62      0  \n",
      "1  0.125895 -0.008983  0.014724    2.69      0  \n",
      "2 -0.139097 -0.055353 -0.059752  378.66      0  \n",
      "\n",
      "[3 rows x 31 columns]\n"
     ]
    }
   ],
   "source": [
    "data = pd.read_csv(r\"D:\\DBDA\\Adavance Stats\\Day 6\\creditcard.csv\")\n",
    "print(data.head(3))       "
   ]
  },
  {
   "cell_type": "code",
   "execution_count": 26,
   "metadata": {},
   "outputs": [
    {
     "name": "stderr",
     "output_type": "stream",
     "text": [
      "C:\\Users\\dbda\\AppData\\Local\\Temp\\ipykernel_21732\\3809637430.py:3: FutureWarning: pandas.value_counts is deprecated and will be removed in a future version. Use pd.Series(obj).value_counts() instead.\n",
      "  pd.value_counts(data['Class']).plot.bar()\n"
     ]
    },
    {
     "data": {
      "image/png": "[encoded data removed]",
      "text/plain": [
       "<Figure size 640x480 with 1 Axes>"
      ]
     },
     "metadata": {},
     "output_type": "display_data"
    }
   ],
   "source": [
    "# note that column v1 to v28 are encoded columns , original content suppressed because of confidentiality\n",
    "# plot thr histogram of 'Class' variable \n",
    "pd.value_counts(data['Class']).plot.bar()\n",
    "plt.title(\"Fraud class histogram\")\n",
    "plt.xlabel(\"Class\")\n",
    "plt.ylabel('Frequency')\n",
    "data['Class'].value_counts()\n",
    "plt.show()"
   ]
  },
  {
   "cell_type": "code",
   "execution_count": null,
   "metadata": {},
   "outputs": [],
   "source": []
  },
  {
   "cell_type": "code",
   "execution_count": 27,
   "metadata": {},
   "outputs": [],
   "source": [
    "# we see that almost all the records are in non fraud category data is imbalanced\n"
   ]
  },
  {
   "cell_type": "code",
   "execution_count": 28,
   "metadata": {},
   "outputs": [],
   "source": [
    "# Standardize the 'Amount' column and drop the 'Time' and 'Amount' columns \n",
    "from sklearn.preprocessing import StandardScaler\n",
    "data['normAmount']= StandardScaler().fit_transform(data['Amount'].values.reshape(-1,1))\n"
   ]
  },
  {
   "cell_type": "code",
   "execution_count": 29,
   "metadata": {},
   "outputs": [
    {
     "name": "stdout",
     "output_type": "stream",
     "text": [
      "         V1        V2        V3        V4        V5        V6        V7  \\\n",
      "0 -1.359807 -0.072781  2.536347  1.378155 -0.338321  0.462388  0.239599   \n",
      "1  1.191857  0.266151  0.166480  0.448154  0.060018 -0.082361 -0.078803   \n",
      "2 -1.358354 -1.340163  1.773209  0.379780 -0.503198  1.800499  0.791461   \n",
      "3 -0.966272 -0.185226  1.792993 -0.863291 -0.010309  1.247203  0.237609   \n",
      "4 -1.158233  0.877737  1.548718  0.403034 -0.407193  0.095921  0.592941   \n",
      "\n",
      "         V8        V9       V10  ...       V21       V22       V23       V24  \\\n",
      "0  0.098698  0.363787  0.090794  ... -0.018307  0.277838 -0.110474  0.066928   \n",
      "1  0.085102 -0.255425 -0.166974  ... -0.225775 -0.638672  0.101288 -0.339846   \n",
      "2  0.247676 -1.514654  0.207643  ...  0.247998  0.771679  0.909412 -0.689281   \n",
      "3  0.377436 -1.387024 -0.054952  ... -0.108300  0.005274 -0.190321 -1.175575   \n",
      "4 -0.270533  0.817739  0.753074  ... -0.009431  0.798278 -0.137458  0.141267   \n",
      "\n",
      "        V25       V26       V27       V28  Class  normAmount  \n",
      "0  0.128539 -0.189115  0.133558 -0.021053      0    0.244964  \n",
      "1  0.167170  0.125895 -0.008983  0.014724      0   -0.342475  \n",
      "2 -0.327642 -0.139097 -0.055353 -0.059752      0    1.160686  \n",
      "3  0.647376 -0.221929  0.062723  0.061458      0    0.140534  \n",
      "4 -0.206010  0.502292  0.219422  0.215153      0   -0.073403  \n",
      "\n",
      "[5 rows x 30 columns]\n"
     ]
    }
   ],
   "source": [
    "# now that column has been scaled to a normal distribution of -1 to `, remove the original amount of the column and also the time column\n",
    "\n",
    "data = data.drop(['Time','Amount'], axis=1)\n",
    "print(data.head())"
   ]
  },
  {
   "cell_type": "code",
   "execution_count": 30,
   "metadata": {},
   "outputs": [
    {
     "name": "stdout",
     "output_type": "stream",
     "text": [
      "Shape of X :(284807, 29)\n",
      "shape of y :(284807, 1)\n"
     ]
    }
   ],
   "source": [
    "#separate  features (X) and target variable (y)\n",
    "\n",
    "X =np.array(data.iloc[:,data.columns != 'Class'])\n",
    "y =np.array(data.iloc[:,data.columns == 'Class'])\n",
    "\n",
    "print(\"Shape of X :{}\".format(X.shape))\n",
    "print(\"shape of y :{}\".format(y.shape))"
   ]
  },
  {
   "cell_type": "code",
   "execution_count": 31,
   "metadata": {},
   "outputs": [],
   "source": [
    "#split the dataset into the training and test dataset\n",
    "from imblearn.over_sampling import SMOTE\n",
    "from sklearn.model_selection import train_test_split\n",
    "X_train,X_test,y_train ,y_test =train_test_split(X,y,test_size=0.3,random_state=0)\n"
   ]
  },
  {
   "cell_type": "code",
   "execution_count": 32,
   "metadata": {},
   "outputs": [
    {
     "name": "stdout",
     "output_type": "stream",
     "text": [
      "No of transactions X_train Dataset :  (199364, 29)\n",
      "No of transactions X_test Dataset :  (85443, 29)\n",
      "No of transactions y_train Dataset :  (199364, 1)\n",
      "No of transactions y_test Dataset :  (85443, 1)\n"
     ]
    }
   ],
   "source": [
    "#print information about the shapes of the training and testing sets\n",
    "\n",
    "print(\"No of transactions X_train Dataset : \",X_train.shape)\n",
    "print(\"No of transactions X_test Dataset : \",X_test.shape)\n",
    "print(\"No of transactions y_train Dataset : \",y_train.shape)\n",
    "print(\"No of transactions y_test Dataset : \",y_test.shape)"
   ]
  },
  {
   "cell_type": "code",
   "execution_count": 33,
   "metadata": {},
   "outputs": [
    {
     "name": "stdout",
     "output_type": "stream",
     "text": [
      "Before oversampling , counts of label '1' : [345]\n",
      "Before oversampling , count of label '0' : [199019] \n",
      "\n"
     ]
    }
   ],
   "source": [
    "# print the class distribiution before and after oversampling with SMOTE\n",
    "\n",
    "print(\"Before oversampling , counts of label '1' : {}\".format(sum(y_train==1)))\n",
    "\n",
    "print(\"Before oversampling , count of label '0' : {} \\n\".format(sum(y_train==0)))"
   ]
  },
  {
   "cell_type": "code",
   "execution_count": 34,
   "metadata": {},
   "outputs": [
    {
     "name": "stdout",
     "output_type": "stream",
     "text": [
      "After oversampling the shape of X_train : (398038, 29)\n",
      "After oversampling the shape of y_train : (398038,)\n",
      "After oversampling , counts of label '1' : 199019\n",
      "After oversampling , count of label '0' : 199019 \n",
      "\n"
     ]
    }
   ],
   "source": [
    "sm = SMOTE(random_state=2) #Put a fixed seed for reproducibility\n",
    "X_train_res , y_train_res =sm.fit_resample(X_train,y_train.ravel())\n",
    "\n",
    "print(\"After oversampling the shape of X_train : {}\".format(X_train_res.shape))\n",
    "print(\"After oversampling the shape of y_train : {}\".format(y_train_res.shape))\n",
    "\n",
    "\n",
    "print(\"After oversampling , counts of label '1' : {}\".format(sum(y_train_res==1)))\n",
    "\n",
    "print(\"After oversampling , count of label '0' : {} \\n\".format(sum(y_train_res==0)))\n"
   ]
  },
  {
   "cell_type": "code",
   "execution_count": 35,
   "metadata": {},
   "outputs": [],
   "source": [
    "#use GridSearchCV to find the best hyperparameter for logistic regression\n",
    "\n",
    "from sklearn.model_selection import GridSearchCV\n",
    "from sklearn.linear_model import LogisticRegression\n"
   ]
  },
  {
   "cell_type": "code",
   "execution_count": 36,
   "metadata": {},
   "outputs": [],
   "source": [
    "# defines a dictionary parameters where the key is 'C' ,representing the regularization parameter in Log reg , and the associated values are generated using \n",
    "#np.linspace(1,10,10).\n",
    "\n",
    "parameters ={'C':np.linspace(1,10,10)}\n",
    "lr=LogisticRegression()"
   ]
  },
  {
   "cell_type": "code",
   "execution_count": 37,
   "metadata": {},
   "outputs": [],
   "source": [
    "# lr : The base estimator (LR in this case).\n",
    "#parameters : The dictionary of hyperparameter value t search over\n",
    "\n",
    "#cv :5 The number of folds for the cross-validation .It performs 5-fold-cross validation ,dividing the dataset into \n",
    "#5 subsets and training the model 5 times each usning a different subset as the test set\n",
    "\n",
    "#verbose =5 Controls the verbosity during the grid search .A higher value(5 in this case) means more info will be printed during the search.\n",
    "\n",
    "#n_jobs =3 Number od CPU cores to use for the parallel compuattion . setting into the 3 means using 3 CPu cores for faster compuatation \n",
    "\n",
    "\n",
    "clf =GridSearchCV(lr,parameters,cv=5,verbose=5,n_jobs=3)"
   ]
  },
  {
   "cell_type": "code",
   "execution_count": 38,
   "metadata": {},
   "outputs": [
    {
     "name": "stdout",
     "output_type": "stream",
     "text": [
      "Fitting 5 folds for each of 10 candidates, totalling 50 fits\n",
      "{'C': 9.0}\n"
     ]
    }
   ],
   "source": [
    "#the fit method is called on GridDearchCV object ,and it performs an exhaustive search over the specified parameters valyes. It find the best hyperparameter\n",
    "#that maximize the performance metric(default is accuracy) based on cross validation . The training data(X_train_res, oversampled using smote ,and y_train_res)\n",
    "# is used for this process.\n",
    "\n",
    "#the ravel() function in NumPy is used to flatten or reshape arrays .   When applied to an array , it returns a contiguous flattened array , i.e. 1D array\n",
    "#containing all the elements  of original array\n",
    "\n",
    "\n",
    "clf.fit(X_train_res,y_train_res.ravel())\n",
    "print(clf.best_params_)\n",
    "\n",
    "# Traing Logistic Regression with the best hyperparameter\n",
    "\n"
   ]
  },
  {
   "cell_type": "code",
   "execution_count": 39,
   "metadata": {},
   "outputs": [
    {
     "name": "stdout",
     "output_type": "stream",
     "text": [
      "[LibLinear]"
     ]
    },
    {
     "data": {
      "text/html": [
       "<style>#sk-container-id-2 {color: black;}#sk-container-id-2 pre{padding: 0;}#sk-container-id-2 div.sk-toggleable {background-color: white;}#sk-container-id-2 label.sk-toggleable__label {cursor: pointer;display: block;width: 100%;margin-bottom: 0;padding: 0.3em;box-sizing: border-box;text-align: center;}#sk-container-id-2 label.sk-toggleable__label-arrow:before {content: \"▸\";float: left;margin-right: 0.25em;color: #696969;}#sk-container-id-2 label.sk-toggleable__label-arrow:hover:before {color: black;}#sk-container-id-2 div.sk-estimator:hover label.sk-toggleable__label-arrow:before {color: black;}#sk-container-id-2 div.sk-toggleable__content {max-height: 0;max-width: 0;overflow: hidden;text-align: left;background-color: #f0f8ff;}#sk-container-id-2 div.sk-toggleable__content pre {margin: 0.2em;color: black;border-radius: 0.25em;background-color: #f0f8ff;}#sk-container-id-2 input.sk-toggleable__control:checked~div.sk-toggleable__content {max-height: 200px;max-width: 100%;overflow: auto;}#sk-container-id-2 input.sk-toggleable__control:checked~label.sk-toggleable__label-arrow:before {content: \"▾\";}#sk-container-id-2 div.sk-estimator input.sk-toggleable__control:checked~label.sk-toggleable__label {background-color: #d4ebff;}#sk-container-id-2 div.sk-label input.sk-toggleable__control:checked~label.sk-toggleable__label {background-color: #d4ebff;}#sk-container-id-2 input.sk-hidden--visually {border: 0;clip: rect(1px 1px 1px 1px);clip: rect(1px, 1px, 1px, 1px);height: 1px;margin: -1px;overflow: hidden;padding: 0;position: absolute;width: 1px;}#sk-container-id-2 div.sk-estimator {font-family: monospace;background-color: #f0f8ff;border: 1px dotted black;border-radius: 0.25em;box-sizing: border-box;margin-bottom: 0.5em;}#sk-container-id-2 div.sk-estimator:hover {background-color: #d4ebff;}#sk-container-id-2 div.sk-parallel-item::after {content: \"\";width: 100%;border-bottom: 1px solid gray;flex-grow: 1;}#sk-container-id-2 div.sk-label:hover label.sk-toggleable__label {background-color: #d4ebff;}#sk-container-id-2 div.sk-serial::before {content: \"\";position: absolute;border-left: 1px solid gray;box-sizing: border-box;top: 0;bottom: 0;left: 50%;z-index: 0;}#sk-container-id-2 div.sk-serial {display: flex;flex-direction: column;align-items: center;background-color: white;padding-right: 0.2em;padding-left: 0.2em;position: relative;}#sk-container-id-2 div.sk-item {position: relative;z-index: 1;}#sk-container-id-2 div.sk-parallel {display: flex;align-items: stretch;justify-content: center;background-color: white;position: relative;}#sk-container-id-2 div.sk-item::before, #sk-container-id-2 div.sk-parallel-item::before {content: \"\";position: absolute;border-left: 1px solid gray;box-sizing: border-box;top: 0;bottom: 0;left: 50%;z-index: -1;}#sk-container-id-2 div.sk-parallel-item {display: flex;flex-direction: column;z-index: 1;position: relative;background-color: white;}#sk-container-id-2 div.sk-parallel-item:first-child::after {align-self: flex-end;width: 50%;}#sk-container-id-2 div.sk-parallel-item:last-child::after {align-self: flex-start;width: 50%;}#sk-container-id-2 div.sk-parallel-item:only-child::after {width: 0;}#sk-container-id-2 div.sk-dashed-wrapped {border: 1px dashed gray;margin: 0 0.4em 0.5em 0.4em;box-sizing: border-box;padding-bottom: 0.4em;background-color: white;}#sk-container-id-2 div.sk-label label {font-family: monospace;font-weight: bold;display: inline-block;line-height: 1.2em;}#sk-container-id-2 div.sk-label-container {text-align: center;}#sk-container-id-2 div.sk-container {/* jupyter's `normalize.less` sets `[hidden] { display: none; }` but bootstrap.min.css set `[hidden] { display: none !important; }` so we also need the `!important` here to be able to override the default hidden behavior on the sphinx rendered scikit-learn.org. See: https://github.com/scikit-learn/scikit-learn/issues/21755 */display: inline-block !important;position: relative;}#sk-container-id-2 div.sk-text-repr-fallback {display: none;}</style><div id=\"sk-container-id-2\" class=\"sk-top-container\"><div class=\"sk-text-repr-fallback\"><pre>LogisticRegression(C=4, penalty=&#x27;l1&#x27;, solver=&#x27;liblinear&#x27;, verbose=5)</pre><b>In a Jupyter environment, please rerun this cell to show the HTML representation or trust the notebook. <br />On GitHub, the HTML representation is unable to render, please try loading this page with nbviewer.org.</b></div><div class=\"sk-container\" hidden><div class=\"sk-item\"><div class=\"sk-estimator sk-toggleable\"><input class=\"sk-toggleable__control sk-hidden--visually\" id=\"sk-estimator-id-2\" type=\"checkbox\" checked><label for=\"sk-estimator-id-2\" class=\"sk-toggleable__label sk-toggleable__label-arrow\">LogisticRegression</label><div class=\"sk-toggleable__content\"><pre>LogisticRegression(C=4, penalty=&#x27;l1&#x27;, solver=&#x27;liblinear&#x27;, verbose=5)</pre></div></div></div></div></div>"
      ],
      "text/plain": [
       "LogisticRegression(C=4, penalty='l1', solver='liblinear', verbose=5)"
      ]
     },
     "execution_count": 39,
     "metadata": {},
     "output_type": "execute_result"
    }
   ],
   "source": [
    "lr1 =LogisticRegression(C=4,penalty='l1',solver='liblinear',verbose=5)\n",
    "lr1.fit(X_train_res,y_train_res.ravel())"
   ]
  },
  {
   "cell_type": "code",
   "execution_count": 40,
   "metadata": {},
   "outputs": [],
   "source": [
    "#function to plot the confusuion materix \n",
    "import itertools \n",
    "from sklearn.metrics import confusion_matrix,roc_curve,auc\n",
    "\n",
    "\n",
    "def plot_confusion_matrix(cm,classes,normalize=False,title='Confusion Matrix ',cmap=plt.cm.Blues):\n",
    "\n",
    "\n",
    "    #this function prints and plots the Conf MAtrix\n",
    "    #normalization can be applied by setting normalization=True\n",
    "    \n",
    "    plt.imshow(cm,interpolation='nearest',cmap=cmap)\n",
    "    plt.title(title)\n",
    "    plt.colorbar()\n",
    "    tick_marks=np.arange(len(classes))\n",
    "    plt.xticks(tick_marks,classes,rotation=0)\n",
    "    plt.yticks(tick_marks,classes)\n",
    "\n",
    "    if normalize:\n",
    "        cm=cm.astype('float')/cm.sum(axis=1)[:,np.newaxis]\n",
    "\n",
    "        thresh =cm.max()/2\n",
    "\n",
    "        for i, j in itertools.product(range(cm.shape[0]),range(cm.shape[1])):\n",
    "            plt.text(j,i,cm[i,j],horizontalalignment=\"centre\",color='white ' if cm[i,j] > thresh else \"black\")\n",
    "\n",
    "    plt.tight_layout()\n",
    "    plt.ylabel(\"True Label\")\n",
    "    plt.xlabel(\"Predicted label \")\n",
    "    "
   ]
  },
  {
   "cell_type": "code",
   "execution_count": 41,
   "metadata": {},
   "outputs": [],
   "source": [
    "# evaluate the model on training dataset\n",
    "y_train_pre =lr1.predict(X_train)\n",
    "cnf_matrix_tra =confusion_matrix(y_train,y_train_pre)"
   ]
  },
  {
   "cell_type": "code",
   "execution_count": 42,
   "metadata": {},
   "outputs": [
    {
     "name": "stdout",
     "output_type": "stream",
     "text": [
      "Recall metric on training dataset: 92.17391304347827%\n"
     ]
    },
    {
     "data": {
      "image/png": "[encoded data removed]",
      "text/plain": [
       "<Figure size 640x480 with 2 Axes>"
      ]
     },
     "metadata": {},
     "output_type": "display_data"
    }
   ],
   "source": [
    "# print recall metric on the training dataset\n",
    "print(\"Recall metric on training dataset: {}%\".format(100* cnf_matrix_tra[1,1]/(cnf_matrix_tra[1,0]+ cnf_matrix_tra[1,1])))\n",
    "\n",
    "\n",
    "#Plot conf matrix for the training dataset\n",
    "\n",
    "class_names =[0,1]\n",
    "plt.figure()\n",
    "\n",
    "plot_confusion_matrix(cnf_matrix_tra,classes=class_names,title=\"Confusion matrix- Training set\")\n",
    "plt.show()"
   ]
  },
  {
   "cell_type": "code",
   "execution_count": 43,
   "metadata": {},
   "outputs": [
    {
     "name": "stdout",
     "output_type": "stream",
     "text": [
      "Recall metric on testing dataset: 92.17391304347827%\n"
     ]
    }
   ],
   "source": [
    "#Evaluate the model on Testing set \n",
    "\n",
    "y_pre = lr1.predict(X_test)\n",
    "cnf_matrix = confusion_matrix(y_test,y_pre)\n",
    "\n",
    "#print recall metric on the testing dataset\n",
    "print(\"Recall metric on testing dataset: {}%\".format(100* cnf_matrix_tra[1,1]/(cnf_matrix_tra[1,0]+ cnf_matrix_tra[1,1])))\n",
    "\n"
   ]
  },
  {
   "cell_type": "code",
   "execution_count": 44,
   "metadata": {},
   "outputs": [
    {
     "data": {
      "image/png": "[encoded data removed]",
      "text/plain": [
       "<Figure size 640x480 with 2 Axes>"
      ]
     },
     "metadata": {},
     "output_type": "display_data"
    }
   ],
   "source": [
    "#Plot conf matrix for the training dataset\n",
    "\n",
    "class_names =[0,1]\n",
    "plt.figure()\n",
    "\n",
    "plot_confusion_matrix(cnf_matrix_tra,classes=class_names,title=\"Confusion matrix- Testing set\")\n",
    "plt.show()"
   ]
  }
 ],
 "metadata": {
  "kernelspec": {
   "display_name": "Python 3",
   "language": "python",
   "name": "python3"
  },
  "language_info": {
   "codemirror_mode": {
    "name": "ipython",
    "version": 3
   },
   "file_extension": ".py",
   "mimetype": "text/x-python",
   "name": "python",
   "nbconvert_exporter": "python",
   "pygments_lexer": "ipython3",
   "version": "3.12.0"
  }
 },
 "nbformat": 4,
 "nbformat_minor": 2
}
