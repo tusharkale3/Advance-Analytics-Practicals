{
 "cells": [
  {
   "cell_type": "code",
   "execution_count": 1,
   "metadata": {},
   "outputs": [],
   "source": [
    "import numpy as np\n",
    "import pandas as pd\n",
    "import matplotlib.pyplot as plt\n",
    "import seaborn as sns"
   ]
  },
  {
   "cell_type": "code",
   "execution_count": 2,
   "metadata": {},
   "outputs": [],
   "source": [
    "#create a sample dataset\n",
    "my_dict={\n",
    "    'gender':np.random.choice(['male','female'],300),\n",
    "    'education_level':np.random.choice(['high school','college','graduate'],300),\n",
    "    'score':np.random.randint(60,100,300)\n",
    "}"
   ]
  },
  {
   "cell_type": "code",
   "execution_count": 3,
   "metadata": {},
   "outputs": [
    {
     "data": {
      "text/html": [
       "<div>\n",
       "<style scoped>\n",
       "    .dataframe tbody tr th:only-of-type {\n",
       "        vertical-align: middle;\n",
       "    }\n",
       "\n",
       "    .dataframe tbody tr th {\n",
       "        vertical-align: top;\n",
       "    }\n",
       "\n",
       "    .dataframe thead th {\n",
       "        text-align: right;\n",
       "    }\n",
       "</style>\n",
       "<table border=\"1\" class=\"dataframe\">\n",
       "  <thead>\n",
       "    <tr style=\"text-align: right;\">\n",
       "      <th></th>\n",
       "      <th>gender</th>\n",
       "      <th>education_level</th>\n",
       "      <th>score</th>\n",
       "    </tr>\n",
       "  </thead>\n",
       "  <tbody>\n",
       "    <tr>\n",
       "      <th>0</th>\n",
       "      <td>female</td>\n",
       "      <td>high school</td>\n",
       "      <td>80</td>\n",
       "    </tr>\n",
       "    <tr>\n",
       "      <th>1</th>\n",
       "      <td>female</td>\n",
       "      <td>high school</td>\n",
       "      <td>77</td>\n",
       "    </tr>\n",
       "    <tr>\n",
       "      <th>2</th>\n",
       "      <td>male</td>\n",
       "      <td>college</td>\n",
       "      <td>84</td>\n",
       "    </tr>\n",
       "    <tr>\n",
       "      <th>3</th>\n",
       "      <td>female</td>\n",
       "      <td>high school</td>\n",
       "      <td>96</td>\n",
       "    </tr>\n",
       "    <tr>\n",
       "      <th>4</th>\n",
       "      <td>male</td>\n",
       "      <td>high school</td>\n",
       "      <td>80</td>\n",
       "    </tr>\n",
       "    <tr>\n",
       "      <th>...</th>\n",
       "      <td>...</td>\n",
       "      <td>...</td>\n",
       "      <td>...</td>\n",
       "    </tr>\n",
       "    <tr>\n",
       "      <th>295</th>\n",
       "      <td>male</td>\n",
       "      <td>college</td>\n",
       "      <td>68</td>\n",
       "    </tr>\n",
       "    <tr>\n",
       "      <th>296</th>\n",
       "      <td>female</td>\n",
       "      <td>college</td>\n",
       "      <td>74</td>\n",
       "    </tr>\n",
       "    <tr>\n",
       "      <th>297</th>\n",
       "      <td>female</td>\n",
       "      <td>college</td>\n",
       "      <td>80</td>\n",
       "    </tr>\n",
       "    <tr>\n",
       "      <th>298</th>\n",
       "      <td>male</td>\n",
       "      <td>high school</td>\n",
       "      <td>70</td>\n",
       "    </tr>\n",
       "    <tr>\n",
       "      <th>299</th>\n",
       "      <td>male</td>\n",
       "      <td>high school</td>\n",
       "      <td>75</td>\n",
       "    </tr>\n",
       "  </tbody>\n",
       "</table>\n",
       "<p>300 rows × 3 columns</p>\n",
       "</div>"
      ],
      "text/plain": [
       "     gender education_level  score\n",
       "0    female     high school     80\n",
       "1    female     high school     77\n",
       "2      male         college     84\n",
       "3    female     high school     96\n",
       "4      male     high school     80\n",
       "..      ...             ...    ...\n",
       "295    male         college     68\n",
       "296  female         college     74\n",
       "297  female         college     80\n",
       "298    male     high school     70\n",
       "299    male     high school     75\n",
       "\n",
       "[300 rows x 3 columns]"
      ]
     },
     "execution_count": 3,
     "metadata": {},
     "output_type": "execute_result"
    }
   ],
   "source": [
    "df=pd.DataFrame(my_dict)\n",
    "df"
   ]
  },
  {
   "cell_type": "code",
   "execution_count": 4,
   "metadata": {},
   "outputs": [
    {
     "name": "stdout",
     "output_type": "stream",
     "text": [
      "education_level  college  graduate  high school\n",
      "gender                                         \n",
      "female                43        47           52\n",
      "male                  55        56           47\n"
     ]
    }
   ],
   "source": [
    "#create a crosstab table of gender and education level\n",
    "\n",
    "ct =pd.crosstab(df['gender'],df['education_level'])\n",
    "print(ct)"
   ]
  },
  {
   "cell_type": "code",
   "execution_count": 5,
   "metadata": {},
   "outputs": [
    {
     "name": "stdout",
     "output_type": "stream",
     "text": [
      "education_level    college   graduate  high school\n",
      "gender                                            \n",
      "female           80.674419  79.000000    81.365385\n",
      "male             77.727273  80.553571    81.382979\n"
     ]
    }
   ],
   "source": [
    "#create a crosstab table of gender and education level with mean score\n",
    "\n",
    "ct_mean =pd.crosstab(df['gender'],df['education_level'],values=df['score'],aggfunc='mean')\n",
    "print(ct_mean)"
   ]
  },
  {
   "cell_type": "code",
   "execution_count": 6,
   "metadata": {},
   "outputs": [
    {
     "data": {
      "image/png": "[encoded data removed]",
      "text/plain": [
       "<Figure size 640x480 with 2 Axes>"
      ]
     },
     "metadata": {},
     "output_type": "display_data"
    },
    {
     "name": "stdout",
     "output_type": "stream",
     "text": [
      "education_level  college  graduate  high school  All\n",
      "gender                                              \n",
      "female                43        47           52  142\n",
      "male                  55        56           47  158\n",
      "All                   98       103           99  300\n"
     ]
    }
   ],
   "source": [
    "#create a crosstab table of gender and education level with row and column margins \n",
    "\n",
    "\n",
    "ct_margins =pd.crosstab(df['gender'],df['education_level'],margins=True)\n",
    "sns.heatmap(ct_margins,cmap='coolwarm',annot=True,fmt='d')\n",
    "plt.show()\n",
    "print(ct_margins)"
   ]
  },
  {
   "cell_type": "code",
   "execution_count": 8,
   "metadata": {},
   "outputs": [
    {
     "name": "stdout",
     "output_type": "stream",
     "text": [
      "education_level   college  graduate  high school       All\n",
      "gender                                                    \n",
      "female           0.143333  0.156667     0.173333  0.473333\n",
      "male             0.183333  0.186667     0.156667  0.526667\n",
      "All              0.326667  0.343333     0.330000  1.000000\n"
     ]
    }
   ],
   "source": [
    "#create a crosstab table of gender and education level with normalization\n",
    "#normalize = divide all the values by the sum of the values\n",
    "\n",
    "ct_norm =pd.crosstab(df['gender'],df['education_level'],normalize=True,margins=True)\n",
    "print(ct_norm)"
   ]
  },
  {
   "cell_type": "code",
   "execution_count": 9,
   "metadata": {},
   "outputs": [
    {
     "data": {
      "image/png": "[encoded data removed]",
      "text/plain": [
       "<Figure size 640x480 with 1 Axes>"
      ]
     },
     "metadata": {},
     "output_type": "display_data"
    },
    {
     "name": "stdout",
     "output_type": "stream",
     "text": [
      "education_level  college  graduate  high school\n",
      "gender                                         \n",
      "female                43        47           52\n",
      "male                  55        56           47\n"
     ]
    }
   ],
   "source": [
    "ct_viz =pd.crosstab(df['gender'],df['education_level'])\n",
    "\n",
    "ct_viz.plot(kind='bar',stacked=True)\n",
    "plt.show()\n",
    "print(ct_viz)"
   ]
  }
 ],
 "metadata": {
  "kernelspec": {
   "display_name": "Python 3",
   "language": "python",
   "name": "python3"
  },
  "language_info": {
   "codemirror_mode": {
    "name": "ipython",
    "version": 3
   },
   "file_extension": ".py",
   "mimetype": "text/x-python",
   "name": "python",
   "nbconvert_exporter": "python",
   "pygments_lexer": "ipython3",
   "version": "3.12.0"
  }
 },
 "nbformat": 4,
 "nbformat_minor": 2
}
