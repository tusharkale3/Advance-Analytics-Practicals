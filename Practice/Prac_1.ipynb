{
 "cells": [
  {
   "cell_type": "code",
   "execution_count": 3,
   "metadata": {},
   "outputs": [],
   "source": [
    "import numpy as np"
   ]
  },
  {
   "cell_type": "code",
   "execution_count": 5,
   "metadata": {},
   "outputs": [
    {
     "name": "stdout",
     "output_type": "stream",
     "text": [
      "[19.99 29.99 14.99  9.99 24.99]\n",
      "[10  5  8 12  3]\n",
      "664.62\n"
     ]
    }
   ],
   "source": [
    "# Example 1 Calculating Total Rvenue\n",
    "\n",
    "prices =np.array([19.99,29.99,14.99,9.99,24.99])\n",
    "print(prices)\n",
    "\n",
    "quantities = np.array([10,5,8,12,3])\n",
    "print(quantities)\n",
    "\n",
    "revenue_per_product = prices *quantities\n",
    "revenue_per_product\n",
    "\n",
    "total_revenue = np.sum(revenue_per_product)\n",
    "print(total_revenue)\n",
    "\n"
   ]
  },
  {
   "cell_type": "code",
   "execution_count": 10,
   "metadata": {},
   "outputs": [
    {
     "name": "stdout",
     "output_type": "stream",
     "text": [
      "[1000  500  800 1200  300  600]\n",
      "1200\n",
      "300\n",
      "733.3333333333334\n",
      "4400\n"
     ]
    }
   ],
   "source": [
    "#Example 2  analysing blog post stats\n",
    "\n",
    "views = np.array([1000,500,800,1200,300,600])\n",
    "print(views)\n",
    "\n",
    "max_views =np.max(views)\n",
    "print(max_views)\n",
    "\n",
    "min_views =np.min(views)\n",
    "print(min_views)\n",
    "\n",
    "average_views =np.average(views)\n",
    "print(average_views)\n",
    "\n",
    "total_views =np.sum(views)\n",
    "print(total_views)\n",
    "\n"
   ]
  },
  {
   "cell_type": "code",
   "execution_count": 14,
   "metadata": {},
   "outputs": [
    {
     "name": "stdout",
     "output_type": "stream",
     "text": [
      "[1001 1002 1003 1004 1005 1006 1007 1008]\n",
      "[array([1001, 1002]), array([1003, 1004]), array([1005, 1006]), array([1007, 1008])]\n",
      "[1001 1002]\n",
      "[1003 1004]\n",
      "[1005 1006]\n",
      "[1007 1008]\n"
     ]
    }
   ],
   "source": [
    "# Example 3 Splitting order into batches\n",
    "\n",
    "order_ids =np.array([1001,1002,1003,1004,1005,1006,1007,1008])\n",
    "print(order_ids)\n",
    "\n",
    "batches=np.split(order_ids,4)\n",
    "print(batches)\n",
    "\n",
    "for batch in batches:\n",
    "    print(batch)\n",
    "\n"
   ]
  },
  {
   "cell_type": "code",
   "execution_count": 17,
   "metadata": {},
   "outputs": [
    {
     "name": "stdout",
     "output_type": "stream",
     "text": [
      "[4.5 3.5 4.2 2.9 4.8 2.9 4.1 4.4]\n",
      "[4.5 4.2 4.8 4.1 4.4]\n",
      "[3.5 2.9 2.9]\n"
     ]
    }
   ],
   "source": [
    "#Example 4 categorizing product rating \n",
    "\n",
    "ratings =np.array([4.5,3.5,4.2,2.9,4.8,2.9,4.1,4.4])\n",
    "print(ratings)\n",
    "\n",
    "positive_rating =ratings[ratings >4]\n",
    "print(positive_rating)\n",
    "\n",
    "negative_rating =ratings[ratings <4]\n",
    "print(negative_rating)\n",
    "\n"
   ]
  },
  {
   "cell_type": "code",
   "execution_count": 20,
   "metadata": {},
   "outputs": [
    {
     "name": "stdout",
     "output_type": "stream",
     "text": [
      "[[ 5  3  2  7]\n",
      " [10  6  3  9]]\n",
      "[17 28]\n",
      "[7.5 4.5 2.5 8. ]\n"
     ]
    }
   ],
   "source": [
    "#Example 5  calculaye average and total quantities sold\n",
    "\n",
    "order_quantities =np.array([[5,3,2,7],[10,6,3,9]])\n",
    "print(order_quantities)\n",
    "\n",
    "total_product_per_oreder=np.sum(order_quantities,axis=1)\n",
    "print(total_product_per_oreder)\n",
    "\n",
    "average_quantities_sold =np.mean(order_quantities,axis=0)\n",
    "print(average_quantities_sold)\n",
    "\n"
   ]
  },
  {
   "cell_type": "code",
   "execution_count": 4,
   "metadata": {},
   "outputs": [
    {
     "name": "stdout",
     "output_type": "stream",
     "text": [
      "[[4.5 3.2 2.5 5. ]\n",
      " [4.3 3.8 1.  4.8]\n",
      " [2.  3.6 4.7 0.5]]\n",
      "[3.8   3.475 2.7  ]\n",
      "[4.5 3.8 4.7 5. ]\n"
     ]
    }
   ],
   "source": [
    "#Example 6 calculate average p[roduct rating and maximum rating per category\n",
    "\n",
    "pro_reviews =np.array([[4.5,3.2,2.5,5.0],[4.3,3.8,1.0,4.8],[2.0,3.6,4.7,0.5]])\n",
    "print(pro_reviews)\n",
    "\n",
    "average_rating = np.mean(pro_reviews,axis=1)\n",
    "print(average_rating)\n",
    "\n",
    "max_rating =np.max(pro_reviews,axis=0)\n",
    "print(max_rating)"
   ]
  },
  {
   "cell_type": "code",
   "execution_count": 10,
   "metadata": {},
   "outputs": [
    {
     "name": "stdout",
     "output_type": "stream",
     "text": [
      "[ 1  2  3  4  5  6  7  8  9 10]\n",
      "[20 24 28 32 36 40 44 48]\n",
      "[0. 0. 0.]\n",
      "[[0. 0. 0.]\n",
      " [0. 0. 0.]\n",
      " [0. 0. 0.]]\n",
      "[[1. 1. 1. 1.]\n",
      " [1. 1. 1. 1.]]\n",
      "[1. 1. 1. 1. 1.]\n"
     ]
    }
   ],
   "source": [
    "# Pre building arrays witth 0s and 1s\n",
    "\n",
    "print(np.arange(1,11))\n",
    "\n",
    "print(np.arange(20,50,4))\n",
    "\n",
    "print(np.zeros(3))\n",
    "print(np.zeros((3,3)))\n",
    "\n",
    "print(np.ones((2,4)))\n",
    "print(np.ones(5))"
   ]
  },
  {
   "cell_type": "code",
   "execution_count": 20,
   "metadata": {},
   "outputs": [
    {
     "name": "stdout",
     "output_type": "stream",
     "text": [
      "[0.45805495 0.30834961]\n",
      "[[0.23148705 0.27742455 0.81723481 0.11134664 0.62643723]\n",
      " [0.27678789 0.68217467 0.67897078 0.79671742 0.04580216]\n",
      " [0.91259827 0.21381599 0.3036373  0.98906362 0.1858815 ]\n",
      " [0.98872484 0.75008423 0.22238605 0.14790391 0.51579028]\n",
      " [0.39425832 0.06988013 0.33822577 0.01103722 0.76752786]]\n"
     ]
    }
   ],
   "source": [
    "#random number generation\n",
    "np.random.seed(35)\n",
    "print(np.random.rand(2))\n",
    "\n",
    "print(np.random.rand(5,5))\n"
   ]
  },
  {
   "cell_type": "code",
   "execution_count": 32,
   "metadata": {},
   "outputs": [
    {
     "name": "stdout",
     "output_type": "stream",
     "text": [
      "[92 91 91 97 91 97 92 96 93 96 98 90 99 91 99 90 98 97 97 99 94 91 94 92\n",
      " 91]\n"
     ]
    }
   ],
   "source": [
    "#np.random.seed(5)\n",
    "print(np.random.randint(90,100,25))"
   ]
  },
  {
   "cell_type": "code",
   "execution_count": 52,
   "metadata": {},
   "outputs": [
    {
     "name": "stdout",
     "output_type": "stream",
     "text": [
      "original array [31 70 55 47 86 11 59 98 83 43 39 35 19 44 57 77  8 48 63 94]\n",
      "Resulted array  [70 55 86 59 98 83 57 77 63 94]\n"
     ]
    }
   ],
   "source": [
    "#Example 7 random array generation and opertsions on it\n",
    "\n",
    "array1 = np.random.randint(1,100,20)\n",
    "print(\"original array\",array1)\n",
    "\n",
    "result =np.where(array1 >50)\n",
    "print(\"Resulted array \",array1[result])\n",
    "\n"
   ]
  },
  {
   "cell_type": "code",
   "execution_count": 53,
   "metadata": {},
   "outputs": [
    {
     "name": "stdout",
     "output_type": "stream",
     "text": [
      "[52 25 37 16 65 50  1  7 27  5]\n",
      "[2 2 8 5 3 3 4 3 1 4]\n"
     ]
    },
    {
     "data": {
      "text/plain": [
       "array([52, 25, 37, 16, 65, 50,  4,  7, 27,  4])"
      ]
     },
     "execution_count": 53,
     "metadata": {},
     "output_type": "execute_result"
    }
   ],
   "source": [
    "arr1 =np.random.randint(1,100,10)\n",
    "print(arr1)\n",
    "arr2=np.random.randint(1,10,10)\n",
    "print(arr2)\n",
    "condition = arr1 > 5\n",
    "\n",
    "result = np.where(condition,arr1,arr2)\n",
    "result"
   ]
  }
 ],
 "metadata": {
  "kernelspec": {
   "display_name": "Python 3",
   "language": "python",
   "name": "python3"
  },
  "language_info": {
   "codemirror_mode": {
    "name": "ipython",
    "version": 3
   },
   "file_extension": ".py",
   "mimetype": "text/x-python",
   "name": "python",
   "nbconvert_exporter": "python",
   "pygments_lexer": "ipython3",
   "version": "3.12.0"
  }
 },
 "nbformat": 4,
 "nbformat_minor": 2
}
