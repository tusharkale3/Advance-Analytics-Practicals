{
 "cells": [
  {
   "cell_type": "code",
   "execution_count": 2,
   "metadata": {},
   "outputs": [],
   "source": [
    "#Assignment   1"
   ]
  },
  {
   "cell_type": "markdown",
   "metadata": {},
   "source": [
    "Assignment 1 - 12 December 2023 - NumPy\n",
    "\n",
    "Q 1) Store marks of 10 students in a numpy array (or generate them randomly). Display maximum, minimum, average marks.\n",
    "\n",
    "Q 2) Modify the same example to also store student names in another array and display names along with the maximum and minimum marks.\n",
    "To generate a string randomly:\n",
    "import random\n",
    "import string\n",
    "print(''.join(random.choices(string.ascii_lowercase, k=5)))\n",
    "\n",
    "Q 3) Modify the above example to display names and marks of students who have scored above average marks.\n"
   ]
  },
  {
   "cell_type": "code",
   "execution_count": 3,
   "metadata": {},
   "outputs": [],
   "source": [
    "import numpy as np"
   ]
  },
  {
   "cell_type": "code",
   "execution_count": 4,
   "metadata": {},
   "outputs": [
    {
     "name": "stdout",
     "output_type": "stream",
     "text": [
      "[84 87 93 83 81 96 92 90 97 89]\n",
      "maximum marks 97\n",
      "minimum marks 81\n",
      "Average marks are 89.2\n"
     ]
    }
   ],
   "source": [
    "#Question 1\n",
    "marks = np.random.randint(80,100,10)\n",
    "print(marks)\n",
    "\n",
    "max_marks =np.max(marks)\n",
    "print(\"maximum marks\",max_marks)\n",
    "\n",
    "min_marks =np.min(marks)\n",
    "print(\"minimum marks\",min_marks)\n",
    "\n",
    "avg_marks =np.mean(marks)\n",
    "print(\"Average marks are\",avg_marks)"
   ]
  },
  {
   "cell_type": "code",
   "execution_count": 18,
   "metadata": {},
   "outputs": [
    {
     "name": "stdout",
     "output_type": "stream",
     "text": [
      "names ['A' 'B' 'C' 'D' 'E' 'F' 'G' 'H' 'I' 'J']\n",
      "[['84' '87' '93' '83' '81' '96' '92' '90' '97' '89']\n",
      " ['A' 'B' 'C' 'D' 'E' 'F' 'G' 'H' 'I' 'J']]\n",
      "Maximum marks with name ['I'] [97]\n",
      "Minimum marks with name ['E'] [97]\n"
     ]
    }
   ],
   "source": [
    "#question 2\n",
    "\n",
    "names = np.array(['A','B','C','D','E','F','G','H','I','J'])\n",
    "print(\"names\",names)\n",
    "\n",
    "names_and_amrks =np.vstack((marks, names))\n",
    "print(names_and_amrks)\n",
    "\n",
    "condition = np.array(marks==max_marks)\n",
    "print(\"Maximum marks with name\",names[condition],marks[condition])\n",
    "\n",
    "condition1 = np.array(marks==min_marks)\n",
    "print(\"Minimum marks with name\",names[condition1],marks[condition])\n",
    "\n",
    "\n"
   ]
  },
  {
   "cell_type": "code",
   "execution_count": 7,
   "metadata": {},
   "outputs": [
    {
     "name": "stdout",
     "output_type": "stream",
     "text": [
      "Students ahving marks greater than avg marks name ['C' 'F' 'G' 'H' 'I']  Marks  [93 96 92 90 97]\n"
     ]
    }
   ],
   "source": [
    "#Question 3\n",
    "\n",
    "condition3 = np.array(marks >avg_marks)\n",
    "\n",
    "print(\"Students  having marks greater than avg marks name\",names[condition3],\" Marks \",marks[condition3])"
   ]
  },
  {
   "cell_type": "code",
   "execution_count": 20,
   "metadata": {},
   "outputs": [
    {
     "name": "stdout",
     "output_type": "stream",
     "text": [
      "{'A': 84, 'B': 87, 'C': 93, 'D': 83, 'E': 81, 'F': 96, 'G': 92, 'H': 90, 'I': 97, 'J': 89}\n"
     ]
    }
   ],
   "source": [
    "dict = {}\n",
    "for A, B in zip(names, marks):\n",
    "    dict[A] = B\n",
    "\n",
    "print(dict)"
   ]
  },
  {
   "cell_type": "code",
   "execution_count": null,
   "metadata": {},
   "outputs": [],
   "source": [
    "\n"
   ]
  }
 ],
 "metadata": {
  "kernelspec": {
   "display_name": "Python 3",
   "language": "python",
   "name": "python3"
  },
  "language_info": {
   "codemirror_mode": {
    "name": "ipython",
    "version": 3
   },
   "file_extension": ".py",
   "mimetype": "text/x-python",
   "name": "python",
   "nbconvert_exporter": "python",
   "pygments_lexer": "ipython3",
   "version": "3.12.0"
  }
 },
 "nbformat": 4,
 "nbformat_minor": 2
}
