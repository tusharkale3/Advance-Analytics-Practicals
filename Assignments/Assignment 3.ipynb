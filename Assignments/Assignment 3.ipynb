{
 "cells": [
  {
   "cell_type": "markdown",
   "metadata": {},
   "source": [
    "Assignment 3\n",
    "\n",
    "Assignment 3 - 14 December 2023 - Conditional Probability and Bayes Theorem\n",
    "\n",
    "Write code to generate a dataframe using numpy random function. It should contain data about 1000 cricket matches in which toss was won or lost and the match was one or lost. \n",
    "\n",
    "Use Bayes theorem to find the probability of winning the match when the toss was won, i.e. P(A|B). \n",
    "\n",
    "Consider event A = winning the match, event B = winning the toss. Use randomly generated values for P(A), P(B) and P(B|A).\n",
    "\n",
    "Then modify the code to do this on a real data set of cricket matches.\n"
   ]
  },
  {
   "cell_type": "code",
   "execution_count": 1,
   "metadata": {},
   "outputs": [],
   "source": [
    "import pandas as pd \n",
    "import numpy as np\n",
    "import matplotlib.pyplot as plt"
   ]
  },
  {
   "cell_type": "code",
   "execution_count": 2,
   "metadata": {},
   "outputs": [],
   "source": [
    "#results\n",
    "results =np.array([\"Won\",\"Lost\"])\n",
    "\n",
    "#result indices\n",
    "result_indices =np.random.choice(range(len(results)),size=1000)"
   ]
  },
  {
   "cell_type": "code",
   "execution_count": 3,
   "metadata": {},
   "outputs": [],
   "source": [
    "#toss\n",
    "toss =np.array([\"Won\",\"Lost\"])\n",
    "\n",
    "#result indices\n",
    "toss_indices =np.random.choice(range(len(toss)),size=1000)\n",
    "\n",
    "data = {\"Result\":results[result_indices],\"Toss\":toss[toss_indices]}\n",
    "\n",
    "df =pd.DataFrame(data)"
   ]
  },
  {
   "cell_type": "code",
   "execution_count": 4,
   "metadata": {},
   "outputs": [
    {
     "data": {
      "text/html": [
       "<div>\n",
       "<style scoped>\n",
       "    .dataframe tbody tr th:only-of-type {\n",
       "        vertical-align: middle;\n",
       "    }\n",
       "\n",
       "    .dataframe tbody tr th {\n",
       "        vertical-align: top;\n",
       "    }\n",
       "\n",
       "    .dataframe thead th {\n",
       "        text-align: right;\n",
       "    }\n",
       "</style>\n",
       "<table border=\"1\" class=\"dataframe\">\n",
       "  <thead>\n",
       "    <tr style=\"text-align: right;\">\n",
       "      <th></th>\n",
       "      <th>Result</th>\n",
       "      <th>Toss</th>\n",
       "    </tr>\n",
       "  </thead>\n",
       "  <tbody>\n",
       "    <tr>\n",
       "      <th>0</th>\n",
       "      <td>Lost</td>\n",
       "      <td>Won</td>\n",
       "    </tr>\n",
       "    <tr>\n",
       "      <th>1</th>\n",
       "      <td>Lost</td>\n",
       "      <td>Lost</td>\n",
       "    </tr>\n",
       "    <tr>\n",
       "      <th>2</th>\n",
       "      <td>Won</td>\n",
       "      <td>Won</td>\n",
       "    </tr>\n",
       "    <tr>\n",
       "      <th>3</th>\n",
       "      <td>Lost</td>\n",
       "      <td>Lost</td>\n",
       "    </tr>\n",
       "    <tr>\n",
       "      <th>4</th>\n",
       "      <td>Lost</td>\n",
       "      <td>Won</td>\n",
       "    </tr>\n",
       "    <tr>\n",
       "      <th>...</th>\n",
       "      <td>...</td>\n",
       "      <td>...</td>\n",
       "    </tr>\n",
       "    <tr>\n",
       "      <th>995</th>\n",
       "      <td>Won</td>\n",
       "      <td>Won</td>\n",
       "    </tr>\n",
       "    <tr>\n",
       "      <th>996</th>\n",
       "      <td>Won</td>\n",
       "      <td>Won</td>\n",
       "    </tr>\n",
       "    <tr>\n",
       "      <th>997</th>\n",
       "      <td>Won</td>\n",
       "      <td>Lost</td>\n",
       "    </tr>\n",
       "    <tr>\n",
       "      <th>998</th>\n",
       "      <td>Lost</td>\n",
       "      <td>Won</td>\n",
       "    </tr>\n",
       "    <tr>\n",
       "      <th>999</th>\n",
       "      <td>Lost</td>\n",
       "      <td>Lost</td>\n",
       "    </tr>\n",
       "  </tbody>\n",
       "</table>\n",
       "<p>1000 rows × 2 columns</p>\n",
       "</div>"
      ],
      "text/plain": [
       "    Result  Toss\n",
       "0     Lost   Won\n",
       "1     Lost  Lost\n",
       "2      Won   Won\n",
       "3     Lost  Lost\n",
       "4     Lost   Won\n",
       "..     ...   ...\n",
       "995    Won   Won\n",
       "996    Won   Won\n",
       "997    Won  Lost\n",
       "998   Lost   Won\n",
       "999   Lost  Lost\n",
       "\n",
       "[1000 rows x 2 columns]"
      ]
     },
     "execution_count": 4,
     "metadata": {},
     "output_type": "execute_result"
    }
   ],
   "source": [
    "df"
   ]
  },
  {
   "cell_type": "code",
   "execution_count": 5,
   "metadata": {},
   "outputs": [
    {
     "name": "stdout",
     "output_type": "stream",
     "text": [
      " Probability of winning match and  toss was  won 0.262\n"
     ]
    }
   ],
   "source": [
    "p_a_and_b =len(df.query(\"Result == 'Won' and Toss =='Won'\"))/len(df)\n",
    "print(\" Probability of winning match and  toss was  won\",p_a_and_b)"
   ]
  },
  {
   "cell_type": "code",
   "execution_count": 6,
   "metadata": {},
   "outputs": [
    {
     "name": "stdout",
     "output_type": "stream",
     "text": [
      " Probability of winning match  0.539\n"
     ]
    }
   ],
   "source": [
    "p_a =len(df.query(\"Result=='Won'\"))/len(df)\n",
    "print(\" Probability of winning match \",p_a)"
   ]
  },
  {
   "cell_type": "code",
   "execution_count": 7,
   "metadata": {},
   "outputs": [
    {
     "name": "stdout",
     "output_type": "stream",
     "text": [
      " Probability of winning toss  0.499\n"
     ]
    }
   ],
   "source": [
    "p_b=len(df.query(\"Toss =='Won'\"))/len(df)\n",
    "print(\" Probability of winning toss \",p_b)"
   ]
  },
  {
   "cell_type": "code",
   "execution_count": 8,
   "metadata": {},
   "outputs": [
    {
     "name": "stdout",
     "output_type": "stream",
     "text": [
      " Probability of winning match when toss was also won 0.5250501002004008\n"
     ]
    }
   ],
   "source": [
    "\n",
    "\n",
    "p_a_given_b =(p_a_and_b )/p_b\n",
    "\n",
    "print(\" Probability of winning match when toss was also won\",p_a_given_b)"
   ]
  },
  {
   "cell_type": "code",
   "execution_count": 9,
   "metadata": {},
   "outputs": [
    {
     "name": "stdout",
     "output_type": "stream",
     "text": [
      " Probability of toss won when winning match 0.48608534322820035\n"
     ]
    }
   ],
   "source": [
    "\n",
    "p_b_given_a =(p_a_and_b )/p_a\n",
    "\n",
    "print(\" Probability of toss won when winning match\",p_b_given_a)"
   ]
  },
  {
   "cell_type": "code",
   "execution_count": 10,
   "metadata": {},
   "outputs": [
    {
     "data": {
      "text/plain": [
       "0.5250501002004008"
      ]
     },
     "execution_count": 10,
     "metadata": {},
     "output_type": "execute_result"
    }
   ],
   "source": [
    "_#Question \n",
    "# Use bayes theorem to find probability of winning match when toss was also won  i.e P(A|B)\n",
    "\n",
    "p_a_bayes_b =(p_b_given_a *p_a)/p_b\n",
    "\n",
    "p_a_bayes_b"
   ]
  }
 ],
 "metadata": {
  "kernelspec": {
   "display_name": "Python 3",
   "language": "python",
   "name": "python3"
  },
  "language_info": {
   "codemirror_mode": {
    "name": "ipython",
    "version": 3
   },
   "file_extension": ".py",
   "mimetype": "text/x-python",
   "name": "python",
   "nbconvert_exporter": "python",
   "pygments_lexer": "ipython3",
   "version": "3.12.0"
  }
 },
 "nbformat": 4,
 "nbformat_minor": 2
}
